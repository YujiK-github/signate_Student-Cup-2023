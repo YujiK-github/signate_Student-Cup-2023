{
 "cells": [
  {
   "cell_type": "code",
   "execution_count": 1,
   "metadata": {},
   "outputs": [],
   "source": [
    "# ===================================================================\n",
    "#  Library\n",
    "# ===================================================================\n",
    "import polars as pl\n",
    "import pandas as pd\n",
    "from sklearn.metrics import mean_absolute_percentage_error\n",
    "\n",
    "import warnings\n",
    "warnings.simplefilter(\"ignore\")\n",
    "\n",
    "import optuna\n",
    "import numpy as np"
   ]
  },
  {
   "cell_type": "code",
   "execution_count": 2,
   "metadata": {},
   "outputs": [],
   "source": [
    "# ===================================================================\n",
    "#  CFG\n",
    "# ===================================================================\n",
    "class CFG:\n",
    "    seed = 42\n",
    "    save_dir = \"G:/マイドライブ/signate_StudentCup2023/exp/\"\n",
    "    data_dir = \"G:/マイドライブ/signate_StudentCup2023/data/\"\n",
    "    filename = \"exp084\"\n",
    "    n_trials = 2000\n",
    "    n_seeds = 3"
   ]
  },
  {
   "cell_type": "code",
   "execution_count": 3,
   "metadata": {},
   "outputs": [],
   "source": [
    "# ===================================================================\n",
    "#  Utils\n",
    "# ===================================================================\n",
    "def get_score(y_true, y_pred):\n",
    "    \"\"\"get MAPE score\"\"\"\n",
    "    score = mean_absolute_percentage_error(y_true, y_pred)\n",
    "    return score * 100"
   ]
  },
  {
   "cell_type": "code",
   "execution_count": 4,
   "metadata": {},
   "outputs": [
    {
     "name": "stdout",
     "output_type": "stream",
     "text": [
      "\n",
      "\n",
      "\n",
      "\n"
     ]
    },
    {
     "data": {
      "text/html": [
       "<div><style>\n",
       ".dataframe > thead > tr > th,\n",
       ".dataframe > tbody > tr > td {\n",
       "  text-align: right;\n",
       "}\n",
       "</style>\n",
       "<small>shape: (5, 9)</small><table border=\"1\" class=\"dataframe\"><thead><tr><th>id</th><th>pred_0</th><th>pred_1</th><th>pred_2</th><th>pred_3</th><th>pred_4</th><th>pred_5</th><th>pred_6</th><th>price</th></tr><tr><td>i64</td><td>f64</td><td>f64</td><td>f64</td><td>f64</td><td>f64</td><td>f64</td><td>f64</td><td>i64</td></tr></thead><tbody><tr><td>0</td><td>8349.927994</td><td>8347.671992</td><td>8374.812648</td><td>8384.157015</td><td>8368.7128</td><td>8365.577188</td><td>8227.171</td><td>27587</td></tr><tr><td>1</td><td>3985.761719</td><td>4009.450083</td><td>3988.691655</td><td>3988.850911</td><td>3991.109782</td><td>4005.751997</td><td>3704.7322</td><td>4724</td></tr><tr><td>2</td><td>2918.185395</td><td>2933.057596</td><td>2921.001787</td><td>2921.707668</td><td>2917.474388</td><td>2941.156625</td><td>2834.8005</td><td>10931</td></tr><tr><td>3</td><td>8048.014373</td><td>8064.602372</td><td>8060.942061</td><td>8061.291081</td><td>8059.011798</td><td>8067.291115</td><td>8023.76</td><td>16553</td></tr><tr><td>4</td><td>4406.907983</td><td>4421.068587</td><td>4408.700347</td><td>4412.51081</td><td>4412.382296</td><td>4383.119601</td><td>4103.224</td><td>5158</td></tr></tbody></table></div>"
      ],
      "text/plain": [
       "shape: (5, 9)\n",
       "┌─────┬─────────────┬─────────────┬─────────────┬───┬─────────────┬────────────┬───────────┬───────┐\n",
       "│ id  ┆ pred_0      ┆ pred_1      ┆ pred_2      ┆ … ┆ pred_4      ┆ pred_5     ┆ pred_6    ┆ price │\n",
       "│ --- ┆ ---         ┆ ---         ┆ ---         ┆   ┆ ---         ┆ ---        ┆ ---       ┆ ---   │\n",
       "│ i64 ┆ f64         ┆ f64         ┆ f64         ┆   ┆ f64         ┆ f64        ┆ f64       ┆ i64   │\n",
       "╞═════╪═════════════╪═════════════╪═════════════╪═══╪═════════════╪════════════╪═══════════╪═══════╡\n",
       "│ 0   ┆ 8349.927994 ┆ 8347.671992 ┆ 8374.812648 ┆ … ┆ 8368.7128   ┆ 8365.57718 ┆ 8227.171  ┆ 27587 │\n",
       "│     ┆             ┆             ┆             ┆   ┆             ┆ 8          ┆           ┆       │\n",
       "│ 1   ┆ 3985.761719 ┆ 4009.450083 ┆ 3988.691655 ┆ … ┆ 3991.109782 ┆ 4005.75199 ┆ 3704.7322 ┆ 4724  │\n",
       "│     ┆             ┆             ┆             ┆   ┆             ┆ 7          ┆           ┆       │\n",
       "│ 2   ┆ 2918.185395 ┆ 2933.057596 ┆ 2921.001787 ┆ … ┆ 2917.474388 ┆ 2941.15662 ┆ 2834.8005 ┆ 10931 │\n",
       "│     ┆             ┆             ┆             ┆   ┆             ┆ 5          ┆           ┆       │\n",
       "│ 3   ┆ 8048.014373 ┆ 8064.602372 ┆ 8060.942061 ┆ … ┆ 8059.011798 ┆ 8067.29111 ┆ 8023.76   ┆ 16553 │\n",
       "│     ┆             ┆             ┆             ┆   ┆             ┆ 5          ┆           ┆       │\n",
       "│ 4   ┆ 4406.907983 ┆ 4421.068587 ┆ 4408.700347 ┆ … ┆ 4412.382296 ┆ 4383.11960 ┆ 4103.224  ┆ 5158  │\n",
       "│     ┆             ┆             ┆             ┆   ┆             ┆ 1          ┆           ┆       │\n",
       "└─────┴─────────────┴─────────────┴─────────────┴───┴─────────────┴────────────┴───────────┴───────┘"
      ]
     },
     "execution_count": 4,
     "metadata": {},
     "output_type": "execute_result"
    }
   ],
   "source": [
    "# ===================================================================\n",
    "#  DataLoading\n",
    "# ===================================================================\n",
    "train = pl.read_csv(CFG.data_dir+\"train.csv\", columns=[\"id\", \"price\"])\n",
    "\n",
    "df = pl.read_csv(CFG.save_dir+\"oof_df_exp072.csv\", columns=[\"id\", \"pred\"]).rename({\"pred\":f\"pred_{0}\"})\n",
    "files = [\"exp073\", \"exp074\", \"exp075\", \"exp076\", ]\n",
    "for i, f in enumerate(files, start=1):\n",
    "    print()\n",
    "    df = df.join(\n",
    "        pl.read_csv(CFG.save_dir+f\"oof_df_{f}.csv\", columns=[\"id\", \"pred\"]).rename({\"pred\":f\"pred_{i}\"}),\n",
    "        on=\"id\", how=\"left\"\n",
    "    )\n",
    "    \n",
    "df = df.join(\n",
    "    pl.read_csv(CFG.save_dir+\"kun_exp00061_oof_pred.csv\").rename({'oof_pred':f'pred_{len(files)+1}'}),\n",
    "    on=\"id\", how=\"left\",\n",
    ")\n",
    "df = df.join(\n",
    "    pl.read_csv(CFG.save_dir+\"kun_exp00062_oof_pred.csv\").rename({'oof_pred':f'pred_{len(files)+2}'}),\n",
    "    on=\"id\", how=\"left\",\n",
    ")\n",
    "\n",
    "df = df.join(\n",
    "    train, on=\"id\", how=\"left\"\n",
    ")\n",
    "\n",
    "df.head()"
   ]
  },
  {
   "cell_type": "code",
   "execution_count": 5,
   "metadata": {},
   "outputs": [
    {
     "name": "stdout",
     "output_type": "stream",
     "text": [
      "[0] baseline pred_5 43.496076310831896\n",
      "[1] add pred_6: 43.47783056328021 0.36000000000000076\n",
      "[2] add pred_2: 43.477814076406915 0.03000000000000047\n",
      "[3] add pred_0: 43.47779857218461 -0.029999999999999583\n",
      "[4] add pred_4: 43.477784298044014 0.03000000000000047\n",
      "[5] add pred_1: 43.47778313918253 -0.009999999999999565\n",
      "[6] add pred_3: 43.47778313918253 0\n"
     ]
    }
   ],
   "source": [
    "# ===================================================================\n",
    "#  Hill Climbing\n",
    "# ===================================================================\n",
    "# https://www.kaggle.com/competitions/feedback-prize-english-language-learning/discussion/369609\n",
    "\n",
    "\n",
    "def evaluate(current_best_preds, k: int, best_score: float):\n",
    "    \"\"\"\n",
    "    評価関数\n",
    "    \n",
    "    preds = current_best_preds*(1-w) + df[models[k]]*w\n",
    "    において最もスコアが良くなるようにwを探す.\n",
    "    もしその最も良いスコアがbest_scoreよりも良ければそのスコアと重みを返し、その最も良いスコアがbest_scoreよりも良くなければ元々のbest_scoreと重み0を返す\n",
    "    \"\"\"\n",
    "    best_weight = 0\n",
    "    for w in np.arange(-0.5, 0.5, 0.01):\n",
    "        preds = current_best_preds*(1-w) + df[models[k]]*w\n",
    "        score = get_score(y_true=df[\"price\"], y_pred=preds)\n",
    "        if score < best_score:\n",
    "            best_score = score\n",
    "            best_weight = w\n",
    "    return best_score, best_weight\n",
    "\n",
    "\n",
    "\n",
    "stores = dict() # Hill Climbingで得た重りを保存する\n",
    "orders = []     # Hill Climbingで選ばれたモデルの順番を保存する\n",
    "scores = dict() # Hill Climbingするときのスコアを保存する\n",
    "\n",
    "# single modelで最もCVが良いモデルを選択する\n",
    "for col in df.columns:\n",
    "    if col not in [\"id\", \"price\"]:\n",
    "        scores[col] = get_score(y_true=df[\"price\"], y_pred=df[col])        \n",
    "selected_model = min(scores, key=scores.get)\n",
    "current_best_preds = df[selected_model]\n",
    "orders.append(selected_model) # 順番を保存\n",
    "stores[selected_model] = 1    # 重みを保存\n",
    "models = [col for col in df.columns if col not in [\"id\", \"price\"]]\n",
    "\n",
    "# Start Hill Climbing\n",
    "i = 0\n",
    "print(f\"[{i}] baseline {selected_model} {min(scores.values())}\")\n",
    "\n",
    "while True:\n",
    "    \n",
    "    # 前段階のベストスコア\n",
    "    best_score = min(scores.values())\n",
    "    \n",
    "    # 前段階で選ばれたモデル\n",
    "    selected_model = min(scores, key=scores.get)\n",
    "    \n",
    "    # 重複しないように削除\n",
    "    models.remove(selected_model)\n",
    "    \n",
    "    \n",
    "    # 残ったモデルの数が0になれば終了\n",
    "    if len(models) == 0:\n",
    "        break\n",
    "    \n",
    "    # \n",
    "    scores, weights = dict(), dict()\n",
    "    for k in range(len(models)):\n",
    "        score, weight = evaluate(current_best_preds, k, best_score)\n",
    "        scores[models[k]] = score\n",
    "        weights[models[k]] = weight\n",
    "        \n",
    "    i += 1\n",
    "    selected_model = min(scores, key=scores.get)\n",
    "    print(f\"[{i}] add {selected_model}: {min(scores.values())} {weights[selected_model]}\")\n",
    "    best_weight = weights[selected_model]\n",
    "    stores[selected_model] = best_weight\n",
    "    orders.append(selected_model)\n",
    "    current_best_preds = current_best_preds*(1-best_weight) + df[selected_model]*best_weight"
   ]
  },
  {
   "cell_type": "code",
   "execution_count": 6,
   "metadata": {},
   "outputs": [
    {
     "name": "stdout",
     "output_type": "stream",
     "text": [
      "43.47778313918253\n"
     ]
    },
    {
     "data": {
      "text/html": [
       "<div><style>\n",
       ".dataframe > thead > tr > th,\n",
       ".dataframe > tbody > tr > td {\n",
       "  text-align: right;\n",
       "}\n",
       "</style>\n",
       "<small>shape: (5, 10)</small><table border=\"1\" class=\"dataframe\"><thead><tr><th>id</th><th>pred_0</th><th>pred_1</th><th>pred_2</th><th>pred_3</th><th>pred_4</th><th>pred_5</th><th>pred_6</th><th>price</th><th>pred</th></tr><tr><td>i64</td><td>f64</td><td>f64</td><td>f64</td><td>f64</td><td>f64</td><td>f64</td><td>f64</td><td>i64</td><td>f64</td></tr></thead><tbody><tr><td>0</td><td>8349.927994</td><td>8347.671992</td><td>8374.812648</td><td>8384.157015</td><td>8368.7128</td><td>8365.577188</td><td>8227.171</td><td>27587</td><td>8317.819955</td></tr><tr><td>1</td><td>3985.761719</td><td>4009.450083</td><td>3988.691655</td><td>3988.850911</td><td>3991.109782</td><td>4005.751997</td><td>3704.7322</td><td>4724</td><td>3899.270705</td></tr><tr><td>2</td><td>2918.185395</td><td>2933.057596</td><td>2921.001787</td><td>2921.707668</td><td>2917.474388</td><td>2941.156625</td><td>2834.8005</td><td>10931</td><td>2903.107855</td></tr><tr><td>3</td><td>8048.014373</td><td>8064.602372</td><td>8060.942061</td><td>8061.291081</td><td>8059.011798</td><td>8067.291115</td><td>8023.76</td><td>16553</td><td>8052.10224</td></tr><tr><td>4</td><td>4406.907983</td><td>4421.068587</td><td>4408.700347</td><td>4412.51081</td><td>4412.382296</td><td>4383.119601</td><td>4103.224</td><td>5158</td><td>4285.073911</td></tr></tbody></table></div>"
      ],
      "text/plain": [
       "shape: (5, 10)\n",
       "┌─────┬─────────────┬─────────────┬─────────────┬───┬─────────────┬───────────┬───────┬────────────┐\n",
       "│ id  ┆ pred_0      ┆ pred_1      ┆ pred_2      ┆ … ┆ pred_5      ┆ pred_6    ┆ price ┆ pred       │\n",
       "│ --- ┆ ---         ┆ ---         ┆ ---         ┆   ┆ ---         ┆ ---       ┆ ---   ┆ ---        │\n",
       "│ i64 ┆ f64         ┆ f64         ┆ f64         ┆   ┆ f64         ┆ f64       ┆ i64   ┆ f64        │\n",
       "╞═════╪═════════════╪═════════════╪═════════════╪═══╪═════════════╪═══════════╪═══════╪════════════╡\n",
       "│ 0   ┆ 8349.927994 ┆ 8347.671992 ┆ 8374.812648 ┆ … ┆ 8365.577188 ┆ 8227.171  ┆ 27587 ┆ 8317.81995 │\n",
       "│     ┆             ┆             ┆             ┆   ┆             ┆           ┆       ┆ 5          │\n",
       "│ 1   ┆ 3985.761719 ┆ 4009.450083 ┆ 3988.691655 ┆ … ┆ 4005.751997 ┆ 3704.7322 ┆ 4724  ┆ 3899.27070 │\n",
       "│     ┆             ┆             ┆             ┆   ┆             ┆           ┆       ┆ 5          │\n",
       "│ 2   ┆ 2918.185395 ┆ 2933.057596 ┆ 2921.001787 ┆ … ┆ 2941.156625 ┆ 2834.8005 ┆ 10931 ┆ 2903.10785 │\n",
       "│     ┆             ┆             ┆             ┆   ┆             ┆           ┆       ┆ 5          │\n",
       "│ 3   ┆ 8048.014373 ┆ 8064.602372 ┆ 8060.942061 ┆ … ┆ 8067.291115 ┆ 8023.76   ┆ 16553 ┆ 8052.10224 │\n",
       "│ 4   ┆ 4406.907983 ┆ 4421.068587 ┆ 4408.700347 ┆ … ┆ 4383.119601 ┆ 4103.224  ┆ 5158  ┆ 4285.07391 │\n",
       "│     ┆             ┆             ┆             ┆   ┆             ┆           ┆       ┆ 1          │\n",
       "└─────┴─────────────┴─────────────┴─────────────┴───┴─────────────┴───────────┴───────┴────────────┘"
      ]
     },
     "metadata": {},
     "output_type": "display_data"
    }
   ],
   "source": [
    "# ===================================================================\n",
    "#  Check\n",
    "# ===================================================================\n",
    "def get_preds(df: pl.DataFrame):\n",
    "    best_preds = 0\n",
    "    for exp in orders:\n",
    "        w = stores[exp]\n",
    "        best_preds  = best_preds * (1-w) + df[exp] * w\n",
    "    return best_preds\n",
    "    \n",
    "print(get_score(y_true=df[\"price\"], y_pred=get_preds(df)))\n",
    "\n",
    "df = df.with_columns(\n",
    "    pl.Series(get_preds(df)).alias(\"pred\")\n",
    ")\n",
    "df.write_csv(CFG.save_dir+f\"oof_df_{CFG.filename}.csv\", has_header=True)\n",
    "display(df.head())"
   ]
  },
  {
   "cell_type": "code",
   "execution_count": 7,
   "metadata": {},
   "outputs": [
    {
     "data": {
      "text/html": [
       "<div><style>\n",
       ".dataframe > thead > tr > th,\n",
       ".dataframe > tbody > tr > td {\n",
       "  text-align: right;\n",
       "}\n",
       "</style>\n",
       "<small>shape: (5, 8)</small><table border=\"1\" class=\"dataframe\"><thead><tr><th>id</th><th>pred_0</th><th>pred_1</th><th>pred_2</th><th>pred_3</th><th>pred_4</th><th>pred_5</th><th>pred_6</th></tr><tr><td>i64</td><td>f64</td><td>f64</td><td>f64</td><td>f64</td><td>f64</td><td>f64</td><td>f64</td></tr></thead><tbody><tr><td>27532</td><td>9219.200678</td><td>9262.398861</td><td>9209.845453</td><td>9211.657631</td><td>9201.403646</td><td>9222.758846</td><td>8606.683365</td></tr><tr><td>27533</td><td>5555.610927</td><td>5570.955783</td><td>5546.121886</td><td>5550.776992</td><td>5544.537385</td><td>5569.564552</td><td>5412.844072</td></tr><tr><td>27534</td><td>5653.424701</td><td>5681.220795</td><td>5667.925276</td><td>5667.435425</td><td>5669.104669</td><td>5680.045525</td><td>5585.359034</td></tr><tr><td>27535</td><td>18752.937246</td><td>18712.89727</td><td>18594.4331</td><td>18620.599651</td><td>18594.588899</td><td>18570.819391</td><td>19174.202965</td></tr><tr><td>27536</td><td>4234.809532</td><td>4254.344876</td><td>4254.846798</td><td>4256.454343</td><td>4253.998513</td><td>4246.374616</td><td>4395.118442</td></tr></tbody></table></div>"
      ],
      "text/plain": [
       "shape: (5, 8)\n",
       "┌───────┬────────────┬────────────┬────────────┬────────────┬────────────┬────────────┬────────────┐\n",
       "│ id    ┆ pred_0     ┆ pred_1     ┆ pred_2     ┆ pred_3     ┆ pred_4     ┆ pred_5     ┆ pred_6     │\n",
       "│ ---   ┆ ---        ┆ ---        ┆ ---        ┆ ---        ┆ ---        ┆ ---        ┆ ---        │\n",
       "│ i64   ┆ f64        ┆ f64        ┆ f64        ┆ f64        ┆ f64        ┆ f64        ┆ f64        │\n",
       "╞═══════╪════════════╪════════════╪════════════╪════════════╪════════════╪════════════╪════════════╡\n",
       "│ 27532 ┆ 9219.20067 ┆ 9262.39886 ┆ 9209.84545 ┆ 9211.65763 ┆ 9201.40364 ┆ 9222.75884 ┆ 8606.68336 │\n",
       "│       ┆ 8          ┆ 1          ┆ 3          ┆ 1          ┆ 6          ┆ 6          ┆ 5          │\n",
       "│ 27533 ┆ 5555.61092 ┆ 5570.95578 ┆ 5546.12188 ┆ 5550.77699 ┆ 5544.53738 ┆ 5569.56455 ┆ 5412.84407 │\n",
       "│       ┆ 7          ┆ 3          ┆ 6          ┆ 2          ┆ 5          ┆ 2          ┆ 2          │\n",
       "│ 27534 ┆ 5653.42470 ┆ 5681.22079 ┆ 5667.92527 ┆ 5667.43542 ┆ 5669.10466 ┆ 5680.04552 ┆ 5585.35903 │\n",
       "│       ┆ 1          ┆ 5          ┆ 6          ┆ 5          ┆ 9          ┆ 5          ┆ 4          │\n",
       "│ 27535 ┆ 18752.9372 ┆ 18712.8972 ┆ 18594.4331 ┆ 18620.5996 ┆ 18594.5888 ┆ 18570.8193 ┆ 19174.2029 │\n",
       "│       ┆ 46         ┆ 7          ┆            ┆ 51         ┆ 99         ┆ 91         ┆ 65         │\n",
       "│ 27536 ┆ 4234.80953 ┆ 4254.34487 ┆ 4254.84679 ┆ 4256.45434 ┆ 4253.99851 ┆ 4246.37461 ┆ 4395.11844 │\n",
       "│       ┆ 2          ┆ 6          ┆ 8          ┆ 3          ┆ 3          ┆ 6          ┆ 2          │\n",
       "└───────┴────────────┴────────────┴────────────┴────────────┴────────────┴────────────┴────────────┘"
      ]
     },
     "metadata": {},
     "output_type": "display_data"
    },
    {
     "data": {
      "text/html": [
       "<div><style>\n",
       ".dataframe > thead > tr > th,\n",
       ".dataframe > tbody > tr > td {\n",
       "  text-align: right;\n",
       "}\n",
       "</style>\n",
       "<small>shape: (5, 9)</small><table border=\"1\" class=\"dataframe\"><thead><tr><th>id</th><th>pred_0</th><th>pred_1</th><th>pred_2</th><th>pred_3</th><th>pred_4</th><th>pred_5</th><th>pred_6</th><th>pred</th></tr><tr><td>i64</td><td>f64</td><td>f64</td><td>f64</td><td>f64</td><td>f64</td><td>f64</td><td>f64</td><td>f64</td></tr></thead><tbody><tr><td>27532</td><td>9219.200678</td><td>9262.398861</td><td>9209.845453</td><td>9211.657631</td><td>9201.403646</td><td>9222.758846</td><td>8606.683365</td><td>9004.339701</td></tr><tr><td>27533</td><td>5555.610927</td><td>5570.955783</td><td>5546.121886</td><td>5550.776992</td><td>5544.537385</td><td>5569.564552</td><td>5412.844072</td><td>5513.268441</td></tr><tr><td>27534</td><td>5653.424701</td><td>5681.220795</td><td>5667.925276</td><td>5667.435425</td><td>5669.104669</td><td>5680.045525</td><td>5585.359034</td><td>5646.752652</td></tr><tr><td>27535</td><td>18752.937246</td><td>18712.89727</td><td>18594.4331</td><td>18620.599651</td><td>18594.588899</td><td>18570.819391</td><td>19174.202965</td><td>18778.098086</td></tr><tr><td>27536</td><td>4234.809532</td><td>4254.344876</td><td>4254.846798</td><td>4256.454343</td><td>4253.998513</td><td>4246.374616</td><td>4395.118442</td><td>4299.535846</td></tr></tbody></table></div>"
      ],
      "text/plain": [
       "shape: (5, 9)\n",
       "┌───────┬────────────┬────────────┬────────────┬───┬───────────┬───────────┬───────────┬───────────┐\n",
       "│ id    ┆ pred_0     ┆ pred_1     ┆ pred_2     ┆ … ┆ pred_4    ┆ pred_5    ┆ pred_6    ┆ pred      │\n",
       "│ ---   ┆ ---        ┆ ---        ┆ ---        ┆   ┆ ---       ┆ ---       ┆ ---       ┆ ---       │\n",
       "│ i64   ┆ f64        ┆ f64        ┆ f64        ┆   ┆ f64       ┆ f64       ┆ f64       ┆ f64       │\n",
       "╞═══════╪════════════╪════════════╪════════════╪═══╪═══════════╪═══════════╪═══════════╪═══════════╡\n",
       "│ 27532 ┆ 9219.20067 ┆ 9262.39886 ┆ 9209.84545 ┆ … ┆ 9201.4036 ┆ 9222.7588 ┆ 8606.6833 ┆ 9004.3397 │\n",
       "│       ┆ 8          ┆ 1          ┆ 3          ┆   ┆ 46        ┆ 46        ┆ 65        ┆ 01        │\n",
       "│ 27533 ┆ 5555.61092 ┆ 5570.95578 ┆ 5546.12188 ┆ … ┆ 5544.5373 ┆ 5569.5645 ┆ 5412.8440 ┆ 5513.2684 │\n",
       "│       ┆ 7          ┆ 3          ┆ 6          ┆   ┆ 85        ┆ 52        ┆ 72        ┆ 41        │\n",
       "│ 27534 ┆ 5653.42470 ┆ 5681.22079 ┆ 5667.92527 ┆ … ┆ 5669.1046 ┆ 5680.0455 ┆ 5585.3590 ┆ 5646.7526 │\n",
       "│       ┆ 1          ┆ 5          ┆ 6          ┆   ┆ 69        ┆ 25        ┆ 34        ┆ 52        │\n",
       "│ 27535 ┆ 18752.9372 ┆ 18712.8972 ┆ 18594.4331 ┆ … ┆ 18594.588 ┆ 18570.819 ┆ 19174.202 ┆ 18778.098 │\n",
       "│       ┆ 46         ┆ 7          ┆            ┆   ┆ 899       ┆ 391       ┆ 965       ┆ 086       │\n",
       "│ 27536 ┆ 4234.80953 ┆ 4254.34487 ┆ 4254.84679 ┆ … ┆ 4253.9985 ┆ 4246.3746 ┆ 4395.1184 ┆ 4299.5358 │\n",
       "│       ┆ 2          ┆ 6          ┆ 8          ┆   ┆ 13        ┆ 16        ┆ 42        ┆ 46        │\n",
       "└───────┴────────────┴────────────┴────────────┴───┴───────────┴───────────┴───────────┴───────────┘"
      ]
     },
     "metadata": {},
     "output_type": "display_data"
    }
   ],
   "source": [
    "# ===================================================================\n",
    "#  test\n",
    "# ===================================================================\n",
    "test = pl.read_csv(CFG.save_dir+f\"exp072.csv\", has_header=False).rename({\"column_1\":\"id\", \"column_2\":\"pred\"}).sort(\"id\").rename({\"pred\":f\"pred_{0}\"})\n",
    "files = [\"exp073.csv\", \"exp074.csv\", \"exp075.csv\", \"exp076.csv\", \"kun_exp00061.csv\", \"kun_exp00062.csv\"]\n",
    "for i, f in enumerate(files, start=1):\n",
    "    test = test.join(\n",
    "        pl.read_csv(CFG.save_dir+f, has_header=False).rename({\"column_1\":\"id\", \"column_2\":\"pred\"}).rename({\"pred\":f\"pred_{i}\"}),\n",
    "        on=\"id\", how=\"left\"\n",
    "    )\n",
    "display(test.head())\n",
    "\n",
    "test = test.with_columns(\n",
    "    pl.Series(get_preds(test)).alias(\"pred\")\n",
    ")\n",
    "display(test.head())\n",
    "\n",
    "\n",
    "test[[\"id\", \"pred\"]].write_csv(CFG.save_dir+f\"{CFG.filename}.csv\", has_header=False)"
   ]
  }
 ],
 "metadata": {
  "kernelspec": {
   "display_name": "Python 3",
   "language": "python",
   "name": "python3"
  },
  "language_info": {
   "codemirror_mode": {
    "name": "ipython",
    "version": 3
   },
   "file_extension": ".py",
   "mimetype": "text/x-python",
   "name": "python",
   "nbconvert_exporter": "python",
   "pygments_lexer": "ipython3",
   "version": "3.11.4"
  },
  "orig_nbformat": 4
 },
 "nbformat": 4,
 "nbformat_minor": 2
}
