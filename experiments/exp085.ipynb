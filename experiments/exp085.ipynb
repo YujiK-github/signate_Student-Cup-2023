{
 "cells": [
  {
   "cell_type": "code",
   "execution_count": 1,
   "metadata": {},
   "outputs": [],
   "source": [
    "# ===================================================================\n",
    "#  Library\n",
    "# ===================================================================\n",
    "import polars as pl\n",
    "import pandas as pd\n",
    "from sklearn.metrics import mean_absolute_percentage_error\n",
    "\n",
    "import warnings\n",
    "warnings.simplefilter(\"ignore\")\n",
    "\n",
    "import optuna\n",
    "import numpy as np"
   ]
  },
  {
   "cell_type": "code",
   "execution_count": 2,
   "metadata": {},
   "outputs": [],
   "source": [
    "# ===================================================================\n",
    "#  CFG\n",
    "# ===================================================================\n",
    "class CFG:\n",
    "    seed = 42\n",
    "    save_dir = \"G:/マイドライブ/signate_StudentCup2023/exp/\"\n",
    "    data_dir = \"G:/マイドライブ/signate_StudentCup2023/data/\"\n",
    "    filename = \"exp085\"\n",
    "    n_trials = 2000\n",
    "    n_seeds = 3"
   ]
  },
  {
   "cell_type": "code",
   "execution_count": 3,
   "metadata": {},
   "outputs": [],
   "source": [
    "# ===================================================================\n",
    "#  Utils\n",
    "# ===================================================================\n",
    "def get_score(y_true, y_pred):\n",
    "    \"\"\"get MAPE score\"\"\"\n",
    "    score = mean_absolute_percentage_error(y_true, y_pred)\n",
    "    return score * 100"
   ]
  },
  {
   "cell_type": "code",
   "execution_count": 4,
   "metadata": {},
   "outputs": [
    {
     "name": "stdout",
     "output_type": "stream",
     "text": [
      "\n",
      "\n",
      "\n",
      "\n"
     ]
    },
    {
     "data": {
      "text/html": [
       "<div><style>\n",
       ".dataframe > thead > tr > th,\n",
       ".dataframe > tbody > tr > td {\n",
       "  text-align: right;\n",
       "}\n",
       "</style>\n",
       "<small>shape: (5, 9)</small><table border=\"1\" class=\"dataframe\"><thead><tr><th>id</th><th>pred_0</th><th>pred_1</th><th>pred_2</th><th>pred_3</th><th>pred_4</th><th>pred_5</th><th>pred_6</th><th>price</th></tr><tr><td>i64</td><td>f64</td><td>f64</td><td>f64</td><td>f64</td><td>f64</td><td>f64</td><td>f64</td><td>i64</td></tr></thead><tbody><tr><td>0</td><td>8349.927994</td><td>8347.671992</td><td>8374.812648</td><td>8384.157015</td><td>8368.7128</td><td>8365.577188</td><td>8227.171</td><td>27587</td></tr><tr><td>1</td><td>3985.761719</td><td>4009.450083</td><td>3988.691655</td><td>3988.850911</td><td>3991.109782</td><td>4005.751997</td><td>3704.7322</td><td>4724</td></tr><tr><td>2</td><td>2918.185395</td><td>2933.057596</td><td>2921.001787</td><td>2921.707668</td><td>2917.474388</td><td>2941.156625</td><td>2834.8005</td><td>10931</td></tr><tr><td>3</td><td>8048.014373</td><td>8064.602372</td><td>8060.942061</td><td>8061.291081</td><td>8059.011798</td><td>8067.291115</td><td>8023.76</td><td>16553</td></tr><tr><td>4</td><td>4406.907983</td><td>4421.068587</td><td>4408.700347</td><td>4412.51081</td><td>4412.382296</td><td>4383.119601</td><td>4103.224</td><td>5158</td></tr></tbody></table></div>"
      ],
      "text/plain": [
       "shape: (5, 9)\n",
       "┌─────┬─────────────┬─────────────┬─────────────┬───┬─────────────┬────────────┬───────────┬───────┐\n",
       "│ id  ┆ pred_0      ┆ pred_1      ┆ pred_2      ┆ … ┆ pred_4      ┆ pred_5     ┆ pred_6    ┆ price │\n",
       "│ --- ┆ ---         ┆ ---         ┆ ---         ┆   ┆ ---         ┆ ---        ┆ ---       ┆ ---   │\n",
       "│ i64 ┆ f64         ┆ f64         ┆ f64         ┆   ┆ f64         ┆ f64        ┆ f64       ┆ i64   │\n",
       "╞═════╪═════════════╪═════════════╪═════════════╪═══╪═════════════╪════════════╪═══════════╪═══════╡\n",
       "│ 0   ┆ 8349.927994 ┆ 8347.671992 ┆ 8374.812648 ┆ … ┆ 8368.7128   ┆ 8365.57718 ┆ 8227.171  ┆ 27587 │\n",
       "│     ┆             ┆             ┆             ┆   ┆             ┆ 8          ┆           ┆       │\n",
       "│ 1   ┆ 3985.761719 ┆ 4009.450083 ┆ 3988.691655 ┆ … ┆ 3991.109782 ┆ 4005.75199 ┆ 3704.7322 ┆ 4724  │\n",
       "│     ┆             ┆             ┆             ┆   ┆             ┆ 7          ┆           ┆       │\n",
       "│ 2   ┆ 2918.185395 ┆ 2933.057596 ┆ 2921.001787 ┆ … ┆ 2917.474388 ┆ 2941.15662 ┆ 2834.8005 ┆ 10931 │\n",
       "│     ┆             ┆             ┆             ┆   ┆             ┆ 5          ┆           ┆       │\n",
       "│ 3   ┆ 8048.014373 ┆ 8064.602372 ┆ 8060.942061 ┆ … ┆ 8059.011798 ┆ 8067.29111 ┆ 8023.76   ┆ 16553 │\n",
       "│     ┆             ┆             ┆             ┆   ┆             ┆ 5          ┆           ┆       │\n",
       "│ 4   ┆ 4406.907983 ┆ 4421.068587 ┆ 4408.700347 ┆ … ┆ 4412.382296 ┆ 4383.11960 ┆ 4103.224  ┆ 5158  │\n",
       "│     ┆             ┆             ┆             ┆   ┆             ┆ 1          ┆           ┆       │\n",
       "└─────┴─────────────┴─────────────┴─────────────┴───┴─────────────┴────────────┴───────────┴───────┘"
      ]
     },
     "execution_count": 4,
     "metadata": {},
     "output_type": "execute_result"
    }
   ],
   "source": [
    "# ===================================================================\n",
    "#  DataLoading\n",
    "# ===================================================================\n",
    "train = pl.read_csv(CFG.data_dir+\"train.csv\", columns=[\"id\", \"price\"])\n",
    "\n",
    "df = pl.read_csv(CFG.save_dir+\"oof_df_exp072.csv\", columns=[\"id\", \"pred\"]).rename({\"pred\":f\"pred_{0}\"})\n",
    "files = [\"exp073\", \"exp074\", \"exp075\", \"exp076\", ]\n",
    "for i, f in enumerate(files, start=1):\n",
    "    print()\n",
    "    df = df.join(\n",
    "        pl.read_csv(CFG.save_dir+f\"oof_df_{f}.csv\", columns=[\"id\", \"pred\"]).rename({\"pred\":f\"pred_{i}\"}),\n",
    "        on=\"id\", how=\"left\"\n",
    "    )\n",
    "    \n",
    "df = df.join(\n",
    "    pl.read_csv(CFG.save_dir+\"kun_exp00061_oof_pred.csv\").rename({'oof_pred':f'pred_{len(files)+1}'}),\n",
    "    on=\"id\", how=\"left\",\n",
    ")\n",
    "df = df.join(\n",
    "    pl.read_csv(CFG.save_dir+\"kun_exp00062_oof_pred.csv\").rename({'oof_pred':f'pred_{len(files)+2}'}),\n",
    "    on=\"id\", how=\"left\",\n",
    ")\n",
    "\n",
    "df = df.join(\n",
    "    train, on=\"id\", how=\"left\"\n",
    ")\n",
    "\n",
    "df.head()"
   ]
  },
  {
   "cell_type": "code",
   "execution_count": 5,
   "metadata": {},
   "outputs": [
    {
     "name": "stdout",
     "output_type": "stream",
     "text": [
      "0 43.477784380190556\n",
      "1 43.47779475700654\n",
      "2 43.477813219957824\n",
      "3 43.477774917616244\n",
      "4 43.47776380559784\n",
      "5 43.47778789717585\n",
      "6 43.47777659224575\n",
      "7 43.47779281747571\n",
      "8 43.47780666668102\n",
      "9 43.477779900688866\n",
      "10 43.47779542567535\n",
      "11 43.47777844087348\n",
      "12 43.47780895850274\n",
      "13 43.47777570652932\n",
      "14 43.47778606501944\n",
      "15 43.47779022278763\n",
      "16 43.47779331458548\n",
      "17 43.47778560827878\n",
      "18 43.47778747685847\n",
      "19 43.47781422894833\n"
     ]
    }
   ],
   "source": [
    "# ===================================================================\n",
    "#  simple greedy forward selection\n",
    "# ===================================================================\n",
    "# single modelで最もCVが良いモデルを選択する\n",
    "scores = dict()\n",
    "for col in df.columns:\n",
    "    if col not in [\"id\", \"price\"]:\n",
    "        scores[col] = get_score(y_true=df[\"price\"], y_pred=df[col])    \n",
    "        \n",
    "BEST_SCORE = np.inf\n",
    "for seed in range(20):    \n",
    "    selected_model = min(scores, key=scores.get)\n",
    "    best_preds = df[selected_model]\n",
    "    best_score = min(scores.values())\n",
    "    \n",
    "    stores = dict()\n",
    "    orders = [selected_model]\n",
    "    stores[selected_model] = 1    # 重みを保存\n",
    "    \n",
    "\n",
    "    filenames = [col for col in df.columns if col not in [\"id\", \"price\", selected_model]]\n",
    "    filenames = np.random.RandomState(seed).permutation(filenames)\n",
    "\n",
    "    for exp in filenames:\n",
    "        best_weight = 0\n",
    "        for w in np.arange(-0.5, 0.5, 0.01):\n",
    "            preds = best_preds * (1-w) + df[exp] * w\n",
    "            score = get_score(y_true=df[\"price\"], y_pred=preds)\n",
    "            if best_score > score:\n",
    "                best_score = score\n",
    "                best_weight = w\n",
    "        stores[exp] = best_weight\n",
    "        orders.append(exp)\n",
    "        best_preds = best_preds * (1-best_weight) + df[exp] * best_weight\n",
    "    print(seed, best_score)\n",
    "    \n",
    "    if BEST_SCORE > best_score:\n",
    "        BEST_SCORE = best_score\n",
    "        BEST_STORE = stores.copy()\n",
    "        BEST_ORDER = orders.copy()"
   ]
  },
  {
   "cell_type": "code",
   "execution_count": 6,
   "metadata": {},
   "outputs": [
    {
     "name": "stdout",
     "output_type": "stream",
     "text": [
      "43.47776380559784\n"
     ]
    },
    {
     "data": {
      "text/html": [
       "<div><style>\n",
       ".dataframe > thead > tr > th,\n",
       ".dataframe > tbody > tr > td {\n",
       "  text-align: right;\n",
       "}\n",
       "</style>\n",
       "<small>shape: (5, 10)</small><table border=\"1\" class=\"dataframe\"><thead><tr><th>id</th><th>pred_0</th><th>pred_1</th><th>pred_2</th><th>pred_3</th><th>pred_4</th><th>pred_5</th><th>pred_6</th><th>price</th><th>pred</th></tr><tr><td>i64</td><td>f64</td><td>f64</td><td>f64</td><td>f64</td><td>f64</td><td>f64</td><td>f64</td><td>i64</td><td>f64</td></tr></thead><tbody><tr><td>0</td><td>8349.927994</td><td>8347.671992</td><td>8374.812648</td><td>8384.157015</td><td>8368.7128</td><td>8365.577188</td><td>8227.171</td><td>27587</td><td>8318.123566</td></tr><tr><td>1</td><td>3985.761719</td><td>4009.450083</td><td>3988.691655</td><td>3988.850911</td><td>3991.109782</td><td>4005.751997</td><td>3704.7322</td><td>4724</td><td>3900.518082</td></tr><tr><td>2</td><td>2918.185395</td><td>2933.057596</td><td>2921.001787</td><td>2921.707668</td><td>2917.474388</td><td>2941.156625</td><td>2834.8005</td><td>10931</td><td>2903.188316</td></tr><tr><td>3</td><td>8048.014373</td><td>8064.602372</td><td>8060.942061</td><td>8061.291081</td><td>8059.011798</td><td>8067.291115</td><td>8023.76</td><td>16553</td><td>8052.270313</td></tr><tr><td>4</td><td>4406.907983</td><td>4421.068587</td><td>4408.700347</td><td>4412.51081</td><td>4412.382296</td><td>4383.119601</td><td>4103.224</td><td>5158</td><td>4287.762823</td></tr></tbody></table></div>"
      ],
      "text/plain": [
       "shape: (5, 10)\n",
       "┌─────┬─────────────┬─────────────┬─────────────┬───┬─────────────┬───────────┬───────┬────────────┐\n",
       "│ id  ┆ pred_0      ┆ pred_1      ┆ pred_2      ┆ … ┆ pred_5      ┆ pred_6    ┆ price ┆ pred       │\n",
       "│ --- ┆ ---         ┆ ---         ┆ ---         ┆   ┆ ---         ┆ ---       ┆ ---   ┆ ---        │\n",
       "│ i64 ┆ f64         ┆ f64         ┆ f64         ┆   ┆ f64         ┆ f64       ┆ i64   ┆ f64        │\n",
       "╞═════╪═════════════╪═════════════╪═════════════╪═══╪═════════════╪═══════════╪═══════╪════════════╡\n",
       "│ 0   ┆ 8349.927994 ┆ 8347.671992 ┆ 8374.812648 ┆ … ┆ 8365.577188 ┆ 8227.171  ┆ 27587 ┆ 8318.12356 │\n",
       "│     ┆             ┆             ┆             ┆   ┆             ┆           ┆       ┆ 6          │\n",
       "│ 1   ┆ 3985.761719 ┆ 4009.450083 ┆ 3988.691655 ┆ … ┆ 4005.751997 ┆ 3704.7322 ┆ 4724  ┆ 3900.51808 │\n",
       "│     ┆             ┆             ┆             ┆   ┆             ┆           ┆       ┆ 2          │\n",
       "│ 2   ┆ 2918.185395 ┆ 2933.057596 ┆ 2921.001787 ┆ … ┆ 2941.156625 ┆ 2834.8005 ┆ 10931 ┆ 2903.18831 │\n",
       "│     ┆             ┆             ┆             ┆   ┆             ┆           ┆       ┆ 6          │\n",
       "│ 3   ┆ 8048.014373 ┆ 8064.602372 ┆ 8060.942061 ┆ … ┆ 8067.291115 ┆ 8023.76   ┆ 16553 ┆ 8052.27031 │\n",
       "│     ┆             ┆             ┆             ┆   ┆             ┆           ┆       ┆ 3          │\n",
       "│ 4   ┆ 4406.907983 ┆ 4421.068587 ┆ 4408.700347 ┆ … ┆ 4383.119601 ┆ 4103.224  ┆ 5158  ┆ 4287.76282 │\n",
       "│     ┆             ┆             ┆             ┆   ┆             ┆           ┆       ┆ 3          │\n",
       "└─────┴─────────────┴─────────────┴─────────────┴───┴─────────────┴───────────┴───────┴────────────┘"
      ]
     },
     "metadata": {},
     "output_type": "display_data"
    }
   ],
   "source": [
    "# ===================================================================\n",
    "#  Check\n",
    "# ===================================================================\n",
    "def get_preds(df: pl.DataFrame):\n",
    "    best_preds = 0\n",
    "    for exp in BEST_ORDER:\n",
    "        w = BEST_STORE[exp]\n",
    "        best_preds  = best_preds * (1-w) + df[exp] * w\n",
    "    return best_preds\n",
    "    \n",
    "print(get_score(y_true=df[\"price\"], y_pred=get_preds(df)))\n",
    "\n",
    "df = df.with_columns(\n",
    "    pl.Series(get_preds(df)).alias(\"pred\")\n",
    ")\n",
    "display(df.head())\n",
    "df.write_csv(CFG.save_dir+f\"oof_df_{CFG.filename}.csv\", has_header=True)"
   ]
  },
  {
   "cell_type": "code",
   "execution_count": 7,
   "metadata": {},
   "outputs": [
    {
     "data": {
      "text/html": [
       "<div><style>\n",
       ".dataframe > thead > tr > th,\n",
       ".dataframe > tbody > tr > td {\n",
       "  text-align: right;\n",
       "}\n",
       "</style>\n",
       "<small>shape: (5, 8)</small><table border=\"1\" class=\"dataframe\"><thead><tr><th>id</th><th>pred_0</th><th>pred_1</th><th>pred_2</th><th>pred_3</th><th>pred_4</th><th>pred_5</th><th>pred_6</th></tr><tr><td>i64</td><td>f64</td><td>f64</td><td>f64</td><td>f64</td><td>f64</td><td>f64</td><td>f64</td></tr></thead><tbody><tr><td>27532</td><td>9219.200678</td><td>9262.398861</td><td>9209.845453</td><td>9211.657631</td><td>9201.403646</td><td>9222.758846</td><td>8606.683365</td></tr><tr><td>27533</td><td>5555.610927</td><td>5570.955783</td><td>5546.121886</td><td>5550.776992</td><td>5544.537385</td><td>5569.564552</td><td>5412.844072</td></tr><tr><td>27534</td><td>5653.424701</td><td>5681.220795</td><td>5667.925276</td><td>5667.435425</td><td>5669.104669</td><td>5680.045525</td><td>5585.359034</td></tr><tr><td>27535</td><td>18752.937246</td><td>18712.89727</td><td>18594.4331</td><td>18620.599651</td><td>18594.588899</td><td>18570.819391</td><td>19174.202965</td></tr><tr><td>27536</td><td>4234.809532</td><td>4254.344876</td><td>4254.846798</td><td>4256.454343</td><td>4253.998513</td><td>4246.374616</td><td>4395.118442</td></tr></tbody></table></div>"
      ],
      "text/plain": [
       "shape: (5, 8)\n",
       "┌───────┬────────────┬────────────┬────────────┬────────────┬────────────┬────────────┬────────────┐\n",
       "│ id    ┆ pred_0     ┆ pred_1     ┆ pred_2     ┆ pred_3     ┆ pred_4     ┆ pred_5     ┆ pred_6     │\n",
       "│ ---   ┆ ---        ┆ ---        ┆ ---        ┆ ---        ┆ ---        ┆ ---        ┆ ---        │\n",
       "│ i64   ┆ f64        ┆ f64        ┆ f64        ┆ f64        ┆ f64        ┆ f64        ┆ f64        │\n",
       "╞═══════╪════════════╪════════════╪════════════╪════════════╪════════════╪════════════╪════════════╡\n",
       "│ 27532 ┆ 9219.20067 ┆ 9262.39886 ┆ 9209.84545 ┆ 9211.65763 ┆ 9201.40364 ┆ 9222.75884 ┆ 8606.68336 │\n",
       "│       ┆ 8          ┆ 1          ┆ 3          ┆ 1          ┆ 6          ┆ 6          ┆ 5          │\n",
       "│ 27533 ┆ 5555.61092 ┆ 5570.95578 ┆ 5546.12188 ┆ 5550.77699 ┆ 5544.53738 ┆ 5569.56455 ┆ 5412.84407 │\n",
       "│       ┆ 7          ┆ 3          ┆ 6          ┆ 2          ┆ 5          ┆ 2          ┆ 2          │\n",
       "│ 27534 ┆ 5653.42470 ┆ 5681.22079 ┆ 5667.92527 ┆ 5667.43542 ┆ 5669.10466 ┆ 5680.04552 ┆ 5585.35903 │\n",
       "│       ┆ 1          ┆ 5          ┆ 6          ┆ 5          ┆ 9          ┆ 5          ┆ 4          │\n",
       "│ 27535 ┆ 18752.9372 ┆ 18712.8972 ┆ 18594.4331 ┆ 18620.5996 ┆ 18594.5888 ┆ 18570.8193 ┆ 19174.2029 │\n",
       "│       ┆ 46         ┆ 7          ┆            ┆ 51         ┆ 99         ┆ 91         ┆ 65         │\n",
       "│ 27536 ┆ 4234.80953 ┆ 4254.34487 ┆ 4254.84679 ┆ 4256.45434 ┆ 4253.99851 ┆ 4246.37461 ┆ 4395.11844 │\n",
       "│       ┆ 2          ┆ 6          ┆ 8          ┆ 3          ┆ 3          ┆ 6          ┆ 2          │\n",
       "└───────┴────────────┴────────────┴────────────┴────────────┴────────────┴────────────┴────────────┘"
      ]
     },
     "metadata": {},
     "output_type": "display_data"
    },
    {
     "data": {
      "text/html": [
       "<div><style>\n",
       ".dataframe > thead > tr > th,\n",
       ".dataframe > tbody > tr > td {\n",
       "  text-align: right;\n",
       "}\n",
       "</style>\n",
       "<small>shape: (5, 9)</small><table border=\"1\" class=\"dataframe\"><thead><tr><th>id</th><th>pred_0</th><th>pred_1</th><th>pred_2</th><th>pred_3</th><th>pred_4</th><th>pred_5</th><th>pred_6</th><th>pred</th></tr><tr><td>i64</td><td>f64</td><td>f64</td><td>f64</td><td>f64</td><td>f64</td><td>f64</td><td>f64</td><td>f64</td></tr></thead><tbody><tr><td>27532</td><td>9219.200678</td><td>9262.398861</td><td>9209.845453</td><td>9211.657631</td><td>9201.403646</td><td>9222.758846</td><td>8606.683365</td><td>9008.092612</td></tr><tr><td>27533</td><td>5555.610927</td><td>5570.955783</td><td>5546.121886</td><td>5550.776992</td><td>5544.537385</td><td>5569.564552</td><td>5412.844072</td><td>5513.912384</td></tr><tr><td>27534</td><td>5653.424701</td><td>5681.220795</td><td>5667.925276</td><td>5667.435425</td><td>5669.104669</td><td>5680.045525</td><td>5585.359034</td><td>5647.242869</td></tr><tr><td>27535</td><td>18752.937246</td><td>18712.89727</td><td>18594.4331</td><td>18620.599651</td><td>18594.588899</td><td>18570.819391</td><td>19174.202965</td><td>18780.93823</td></tr><tr><td>27536</td><td>4234.809532</td><td>4254.344876</td><td>4254.846798</td><td>4256.454343</td><td>4253.998513</td><td>4246.374616</td><td>4395.118442</td><td>4299.55308</td></tr></tbody></table></div>"
      ],
      "text/plain": [
       "shape: (5, 9)\n",
       "┌───────┬────────────┬────────────┬────────────┬───┬───────────┬───────────┬───────────┬───────────┐\n",
       "│ id    ┆ pred_0     ┆ pred_1     ┆ pred_2     ┆ … ┆ pred_4    ┆ pred_5    ┆ pred_6    ┆ pred      │\n",
       "│ ---   ┆ ---        ┆ ---        ┆ ---        ┆   ┆ ---       ┆ ---       ┆ ---       ┆ ---       │\n",
       "│ i64   ┆ f64        ┆ f64        ┆ f64        ┆   ┆ f64       ┆ f64       ┆ f64       ┆ f64       │\n",
       "╞═══════╪════════════╪════════════╪════════════╪═══╪═══════════╪═══════════╪═══════════╪═══════════╡\n",
       "│ 27532 ┆ 9219.20067 ┆ 9262.39886 ┆ 9209.84545 ┆ … ┆ 9201.4036 ┆ 9222.7588 ┆ 8606.6833 ┆ 9008.0926 │\n",
       "│       ┆ 8          ┆ 1          ┆ 3          ┆   ┆ 46        ┆ 46        ┆ 65        ┆ 12        │\n",
       "│ 27533 ┆ 5555.61092 ┆ 5570.95578 ┆ 5546.12188 ┆ … ┆ 5544.5373 ┆ 5569.5645 ┆ 5412.8440 ┆ 5513.9123 │\n",
       "│       ┆ 7          ┆ 3          ┆ 6          ┆   ┆ 85        ┆ 52        ┆ 72        ┆ 84        │\n",
       "│ 27534 ┆ 5653.42470 ┆ 5681.22079 ┆ 5667.92527 ┆ … ┆ 5669.1046 ┆ 5680.0455 ┆ 5585.3590 ┆ 5647.2428 │\n",
       "│       ┆ 1          ┆ 5          ┆ 6          ┆   ┆ 69        ┆ 25        ┆ 34        ┆ 69        │\n",
       "│ 27535 ┆ 18752.9372 ┆ 18712.8972 ┆ 18594.4331 ┆ … ┆ 18594.588 ┆ 18570.819 ┆ 19174.202 ┆ 18780.938 │\n",
       "│       ┆ 46         ┆ 7          ┆            ┆   ┆ 899       ┆ 391       ┆ 965       ┆ 23        │\n",
       "│ 27536 ┆ 4234.80953 ┆ 4254.34487 ┆ 4254.84679 ┆ … ┆ 4253.9985 ┆ 4246.3746 ┆ 4395.1184 ┆ 4299.5530 │\n",
       "│       ┆ 2          ┆ 6          ┆ 8          ┆   ┆ 13        ┆ 16        ┆ 42        ┆ 8         │\n",
       "└───────┴────────────┴────────────┴────────────┴───┴───────────┴───────────┴───────────┴───────────┘"
      ]
     },
     "metadata": {},
     "output_type": "display_data"
    }
   ],
   "source": [
    "# ===================================================================\n",
    "#  test\n",
    "# ===================================================================\n",
    "test = pl.read_csv(CFG.save_dir+f\"exp072.csv\", has_header=False).rename({\"column_1\":\"id\", \"column_2\":\"pred\"}).sort(\"id\").rename({\"pred\":f\"pred_{0}\"})\n",
    "files = [\"exp073.csv\", \"exp074.csv\", \"exp075.csv\", \"exp076.csv\", \"kun_exp00061.csv\", \"kun_exp00062.csv\"]\n",
    "for i, f in enumerate(files, start=1):\n",
    "    test = test.join(\n",
    "        pl.read_csv(CFG.save_dir+f, has_header=False).rename({\"column_1\":\"id\", \"column_2\":\"pred\"}).rename({\"pred\":f\"pred_{i}\"}),\n",
    "        on=\"id\", how=\"left\"\n",
    "    )\n",
    "display(test.head())\n",
    "\n",
    "test = test.with_columns(\n",
    "    pl.Series(get_preds(test)).alias(\"pred\")\n",
    ")\n",
    "display(test.head())\n",
    "\n",
    "\n",
    "test[[\"id\", \"pred\"]].write_csv(CFG.save_dir+f\"{CFG.filename}.csv\", has_header=False)"
   ]
  }
 ],
 "metadata": {
  "kernelspec": {
   "display_name": "Python 3",
   "language": "python",
   "name": "python3"
  },
  "language_info": {
   "codemirror_mode": {
    "name": "ipython",
    "version": 3
   },
   "file_extension": ".py",
   "mimetype": "text/x-python",
   "name": "python",
   "nbconvert_exporter": "python",
   "pygments_lexer": "ipython3",
   "version": "3.11.4"
  },
  "orig_nbformat": 4
 },
 "nbformat": 4,
 "nbformat_minor": 2
}
