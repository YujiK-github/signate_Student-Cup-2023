{
 "cells": [
  {
   "cell_type": "code",
   "execution_count": 1,
   "metadata": {},
   "outputs": [],
   "source": [
    "# ===================================================================\n",
    "#  Library\n",
    "# ===================================================================\n",
    "import pandas as pd\n",
    "from sklearn.metrics import mean_absolute_percentage_error\n",
    "\n",
    "import warnings\n",
    "warnings.simplefilter(\"ignore\")\n",
    "\n",
    "import optuna\n",
    "import numpy as np"
   ]
  },
  {
   "cell_type": "code",
   "execution_count": 2,
   "metadata": {},
   "outputs": [],
   "source": [
    "# ===================================================================\n",
    "#  CFG\n",
    "# ===================================================================\n",
    "class CFG:\n",
    "    seed = 42\n",
    "    n_seeds = 3\n",
    "    n_trials = 2000\n",
    "    save_dir = \"G:/マイドライブ/signate_StudentCup2023/exp/\"\n",
    "    data_dir = \"G:/マイドライブ/signate_StudentCup2023/data/\"\n",
    "    filename = \"exp036\""
   ]
  },
  {
   "cell_type": "code",
   "execution_count": 3,
   "metadata": {},
   "outputs": [],
   "source": [
    "# ===================================================================\n",
    "#  Utils\n",
    "# ===================================================================\n",
    "def get_score(y_true, y_pred):\n",
    "    \"\"\"get MAPE score\"\"\"\n",
    "    score = mean_absolute_percentage_error(y_true, y_pred)\n",
    "    return score * 100"
   ]
  },
  {
   "cell_type": "code",
   "execution_count": 4,
   "metadata": {},
   "outputs": [],
   "source": [
    "# ===================================================================\n",
    "#  DataLoading\n",
    "# ===================================================================\n",
    "df_1 = pd.read_csv(CFG.save_dir+\"oof_df_exp026.csv\", names=['id', 'pred']).rename(columns={\"pred\":\"pred_1\"})\n",
    "df_2 = pd.read_csv(CFG.save_dir+\"oof_df_exp027.csv\", names=['id', 'pred']).rename(columns={\"pred\":\"pred_2\"})\n",
    "df_3 = pd.read_csv(CFG.save_dir+\"oof_df_exp028.csv\", names=['id', 'pred']).rename(columns={\"pred\":\"pred_3\"})\n",
    "df_4 = pd.read_csv(CFG.save_dir+\"oof_df_exp029.csv\", names=['id', 'pred']).rename(columns={\"pred\":\"pred_4\"})\n",
    "df_5 = pd.read_csv(CFG.save_dir+\"oof_df_exp030.csv\", names=['id', 'pred']).rename(columns={\"pred\":\"pred_5\"})\n",
    "df_6 = pd.read_csv(CFG.save_dir+\"oof_df_exp031.csv\", names=['id', 'pred']).rename(columns={\"pred\":\"pred_6\"})\n",
    "df_7 = pd.read_csv(CFG.save_dir+\"oof_df_exp032.csv\", names=['id', 'pred']).rename(columns={\"pred\":\"pred_7\"})\n",
    "df_8 = pd.read_csv(CFG.save_dir+\"oof_df_exp033.csv\", names=['id', 'pred']).rename(columns={\"pred\":\"pred_8\"})\n",
    "df_9 = pd.read_csv(CFG.save_dir+\"oof_df_exp034.csv\", names=['id', 'pred']).rename(columns={\"pred\":\"pred_9\"})\n",
    "df_10 = pd.read_csv(CFG.save_dir+\"oof_df_exp035.csv\", names=['id', 'pred']).rename(columns={\"pred\":\"pred_10\"})\n",
    "\n",
    "train = pd.read_csv(CFG.data_dir+\"train.csv\")\n",
    "\n",
    "df = pd.merge(train, df_1[[\"id\", \"pred_1\"]], on=\"id\", how=\"left\")\n",
    "df = pd.merge(df, df_2[[\"id\",\"pred_2\"]], on=\"id\", how=\"left\")\n",
    "df = pd.merge(df, df_3[[\"id\", \"pred_3\"]], on=\"id\", how=\"left\")\n",
    "df = pd.merge(df, df_4[[\"id\", \"pred_4\"]], on=\"id\", how=\"left\")\n",
    "df = pd.merge(df, df_5[[\"id\", \"pred_5\"]], on=\"id\", how=\"left\")\n",
    "df = pd.merge(df, df_6[[\"id\", \"pred_6\"]], on=\"id\", how=\"left\")\n",
    "df = pd.merge(df, df_7[[\"id\", \"pred_7\"]], on=\"id\", how=\"left\")\n",
    "df = pd.merge(df, df_8[[\"id\", \"pred_8\"]], on=\"id\", how=\"left\")\n",
    "df = pd.merge(df, df_9[[\"id\", \"pred_9\"]], on=\"id\", how=\"left\")\n",
    "df = pd.merge(df, df_10[[\"id\", \"pred_10\"]], on=\"id\", how=\"left\")\n",
    "\n",
    "df.to_csv(CFG.save_dir+f\"{CFG.filename}_preds.csv\", index=False)"
   ]
  },
  {
   "cell_type": "code",
   "execution_count": 5,
   "metadata": {},
   "outputs": [
    {
     "data": {
      "application/vnd.jupyter.widget-view+json": {
       "model_id": "63069d45f7ef4b6680399bd4fd5eccfd",
       "version_major": 2,
       "version_minor": 0
      },
      "text/plain": [
       "  0%|          | 0/2000 [00:00<?, ?it/s]"
      ]
     },
     "metadata": {},
     "output_type": "display_data"
    },
    {
     "name": "stdout",
     "output_type": "stream",
     "text": [
      "Seed: 42, Best Value: 43.707553358225496, Best Params: {'a': 0.23147138031811676, 'b': 0.2003429298902201, 'c': 0.35532820950423033, 'd': 1.2581853879415452e-06, 'e': 2.9455074203515366e-07, 'f': 0.08115461525210717, 'g': 0.049773913343711756, 'h': 2.3911911808025817e-05, 'i': 7.579468295712435e-05, 'j': 0.06595832247915578}\n"
     ]
    },
    {
     "data": {
      "application/vnd.jupyter.widget-view+json": {
       "model_id": "1dd4338502c64e178782fddeec36ddd1",
       "version_major": 2,
       "version_minor": 0
      },
      "text/plain": [
       "  0%|          | 0/2000 [00:00<?, ?it/s]"
      ]
     },
     "metadata": {},
     "output_type": "display_data"
    },
    {
     "name": "stdout",
     "output_type": "stream",
     "text": [
      "Seed: 43, Best Value: 43.71498987687226, Best Params: {'a': 0.2552148897561773, 'b': 0.35442648476796984, 'c': 0.36512930771918906, 'd': 0.0002792725165921919, 'e': 5.275953844555717e-07, 'f': 0.00043478222726604305, 'g': 7.854085356040762e-06, 'h': 0.0011155720806430537, 'i': 0.01754364072331455, 'j': 0.0025348223232377998}\n"
     ]
    },
    {
     "data": {
      "application/vnd.jupyter.widget-view+json": {
       "model_id": "5244d1aa23b04e8a90d51b30378ff23b",
       "version_major": 2,
       "version_minor": 0
      },
      "text/plain": [
       "  0%|          | 0/2000 [00:00<?, ?it/s]"
      ]
     },
     "metadata": {},
     "output_type": "display_data"
    },
    {
     "name": "stdout",
     "output_type": "stream",
     "text": [
      "Seed: 44, Best Value: 43.723440087378485, Best Params: {'a': 0.3667100173787758, 'b': 7.87427305447562e-05, 'c': 0.006650116182569862, 'd': 3.122886804877526e-05, 'e': 0.40750127222586857, 'f': 1.9467424034801975e-07, 'g': 1.1372434941004865e-07, 'h': 0.18639409583999111, 'i': 2.516948046827255e-07, 'j': 0.03533809202824453}\n",
      "Final Best Value: 43.707553358225496\n",
      "Final Best Params: {'a': 0.23147138031811676, 'b': 0.2003429298902201, 'c': 0.35532820950423033, 'd': 1.2581853879415452e-06, 'e': 2.9455074203515366e-07, 'f': 0.08115461525210717, 'g': 0.049773913343711756, 'h': 2.3911911808025817e-05, 'i': 7.579468295712435e-05, 'j': 0.06595832247915578}\n"
     ]
    }
   ],
   "source": [
    "# ===================================================================\n",
    "#  optuna\n",
    "# ===================================================================\n",
    "def objective(trial):\n",
    "    a = trial.suggest_float(\"a\", 1e-8, 1, log=True)\n",
    "    b = trial.suggest_float(\"b\", 1e-8, 1, log=True)\n",
    "    c = trial.suggest_float(\"c\", 1e-8, 1, log=True)\n",
    "    d = trial.suggest_float(\"d\", 1e-8, 1, log=True)\n",
    "    e = trial.suggest_float(\"e\", 1e-8, 1, log=True)\n",
    "    \n",
    "    f = trial.suggest_float(\"f\", 1e-8, 1, log=True)\n",
    "    g = trial.suggest_float(\"g\", 1e-8, 1, log=True)\n",
    "    h = trial.suggest_float(\"h\", 1e-8, 1, log=True)\n",
    "    i = trial.suggest_float(\"i\", 1e-8, 1, log=True)\n",
    "    j = trial.suggest_float(\"j\", 1e-8, 1, log=True)\n",
    "        \n",
    "    df[f\"pred\"] = df[f\"pred_1\"] * a +\\\n",
    "                  df[f\"pred_2\"] * b +\\\n",
    "                  df[f\"pred_3\"] * c +\\\n",
    "                  df[f\"pred_4\"] * d +\\\n",
    "                  df[f\"pred_5\"] * e +\\\n",
    "                  df[f\"pred_6\"] * f +\\\n",
    "                  df[f\"pred_7\"] * g +\\\n",
    "                  df[f\"pred_8\"] * h +\\\n",
    "                  df[f\"pred_9\"] * i +\\\n",
    "                  df[f\"pred_10\"] * j\n",
    "                      \n",
    "    score = get_score(y_true=df[\"price\"], y_pred = df[f\"pred\"])\n",
    "    return score\n",
    "    \n",
    "optuna.logging.set_verbosity(optuna.logging.WARNING)\n",
    "\n",
    "# シードのリストを定義\n",
    "seeds = [seed for seed in range(CFG.seed, CFG.seed+CFG.n_seeds)]\n",
    "\n",
    "best_values = []\n",
    "best_params_list = []\n",
    "\n",
    "for seed in seeds:    \n",
    "    study = optuna.create_study(\n",
    "        direction=\"minimize\",\n",
    "        sampler=optuna.samplers.TPESampler(seed=seed)\n",
    "    )\n",
    "    study.optimize(objective, \n",
    "                   n_trials=CFG.n_trials, \n",
    "                   n_jobs = -1,\n",
    "                   show_progress_bar=True)\n",
    "    \n",
    "    best_value = study.best_value\n",
    "    best_params = study.best_params\n",
    "    \n",
    "    best_values.append(best_value)\n",
    "    best_params_list.append(best_params)\n",
    "    \n",
    "    print(f\"Seed: {seed}, Best Value: {best_value}, Best Params: {best_params}\")\n",
    "    \n",
    "    \n",
    "# 最も小さい best_value を持つ Study を探索\n",
    "best_index = np.argmin(best_values)\n",
    "best_params_final = best_params_list[best_index]\n",
    "best_value_final = best_values[best_index]\n",
    "\n",
    "print(\"Final Best Value:\", best_value_final)\n",
    "print(\"Final Best Params:\", best_params_final)"
   ]
  },
  {
   "cell_type": "code",
   "execution_count": 6,
   "metadata": {},
   "outputs": [
    {
     "data": {
      "text/html": [
       "<div>\n",
       "<style scoped>\n",
       "    .dataframe tbody tr th:only-of-type {\n",
       "        vertical-align: middle;\n",
       "    }\n",
       "\n",
       "    .dataframe tbody tr th {\n",
       "        vertical-align: top;\n",
       "    }\n",
       "\n",
       "    .dataframe thead th {\n",
       "        text-align: right;\n",
       "    }\n",
       "</style>\n",
       "<table border=\"1\" class=\"dataframe\">\n",
       "  <thead>\n",
       "    <tr style=\"text-align: right;\">\n",
       "      <th></th>\n",
       "      <th>id</th>\n",
       "      <th>pred</th>\n",
       "    </tr>\n",
       "  </thead>\n",
       "  <tbody>\n",
       "    <tr>\n",
       "      <th>0</th>\n",
       "      <td>27532</td>\n",
       "      <td>9490.880765</td>\n",
       "    </tr>\n",
       "    <tr>\n",
       "      <th>1</th>\n",
       "      <td>27533</td>\n",
       "      <td>5394.156638</td>\n",
       "    </tr>\n",
       "  </tbody>\n",
       "</table>\n",
       "</div>"
      ],
      "text/plain": [
       "      id         pred\n",
       "0  27532  9490.880765\n",
       "1  27533  5394.156638"
      ]
     },
     "execution_count": 6,
     "metadata": {},
     "output_type": "execute_result"
    }
   ],
   "source": [
    "# ===================================================================\n",
    "#  test\n",
    "# ===================================================================\n",
    "test_1 = pd.read_csv(CFG.save_dir+\"exp026.csv\", names=['id', 'pred']).rename(columns={\"pred\":\"pred_1\"})\n",
    "test_2 = pd.read_csv(CFG.save_dir+\"exp027.csv\", names=['id', 'pred']).rename(columns={\"pred\":\"pred_2\"})\n",
    "test_3 = pd.read_csv(CFG.save_dir+\"exp028.csv\", names=['id', 'pred']).rename(columns={\"pred\":\"pred_3\"})\n",
    "test_4 = pd.read_csv(CFG.save_dir+\"exp029.csv\", names=['id', 'pred']).rename(columns={\"pred\":\"pred_4\"})\n",
    "test_5 = pd.read_csv(CFG.save_dir+\"exp030.csv\", names=['id', 'pred']).rename(columns={\"pred\":\"pred_5\"})\n",
    "test_6 = pd.read_csv(CFG.save_dir+\"exp031.csv\", names=['id', 'pred']).rename(columns={\"pred\":\"pred_6\"})\n",
    "test_7 = pd.read_csv(CFG.save_dir+\"exp032.csv\", names=['id', 'pred']).rename(columns={\"pred\":\"pred_7\"})\n",
    "test_8 = pd.read_csv(CFG.save_dir+\"exp033.csv\", names=['id', 'pred']).rename(columns={\"pred\":\"pred_8\"})\n",
    "test_9 = pd.read_csv(CFG.save_dir+\"exp034.csv\", names=['id', 'pred']).rename(columns={\"pred\":\"pred_9\"})\n",
    "test_10 = pd.read_csv(CFG.save_dir+\"exp035.csv\", names=['id', 'pred']).rename(columns={\"pred\":\"pred_10\"})\n",
    "\n",
    "test = pd.merge(test_1, test_2, on=\"id\", how=\"left\")\n",
    "test = pd.merge(test, test_3, on=\"id\", how=\"left\")\n",
    "test = pd.merge(test, test_4, on=\"id\", how=\"left\")\n",
    "test = pd.merge(test, test_5, on=\"id\", how=\"left\")\n",
    "test = pd.merge(test, test_6, on=\"id\", how=\"left\")\n",
    "test = pd.merge(test, test_7, on=\"id\", how=\"left\")\n",
    "test = pd.merge(test, test_8, on=\"id\", how=\"left\")\n",
    "test = pd.merge(test, test_9, on=\"id\", how=\"left\")\n",
    "test = pd.merge(test, test_10, on=\"id\", how=\"left\")\n",
    "\n",
    "test[\"pred\"] =   test[\"pred_1\"] * best_params_final[\"a\"] +\\\n",
    "                 test[\"pred_2\"] * best_params_final[\"b\"] +\\\n",
    "                 test[\"pred_3\"] * best_params_final[\"c\"] +\\\n",
    "                 test[\"pred_4\"] * best_params_final[\"d\"] +\\\n",
    "                 test[\"pred_5\"] * best_params_final[\"e\"] +\\\n",
    "                 test[\"pred_6\"] * best_params_final[\"f\"] +\\\n",
    "                 test[\"pred_7\"] * best_params_final[\"g\"] +\\\n",
    "                 test[\"pred_8\"] * best_params_final[\"h\"] +\\\n",
    "                 test[\"pred_9\"] * best_params_final[\"i\"] +\\\n",
    "                 test[\"pred_10\"] * best_params_final[\"j\"]\n",
    "                     \n",
    "test.to_csv(CFG.save_dir+f\"{CFG.filename}_test_preds.csv\", index=False)                     \n",
    "\n",
    "test[[\"id\", \"pred\"]].to_csv(CFG.save_dir+f\"{CFG.filename}.csv\", index=False, header=None)\n",
    "test[[\"id\", \"pred\"]].head(2)"
   ]
  }
 ],
 "metadata": {
  "kernelspec": {
   "display_name": "Python 3",
   "language": "python",
   "name": "python3"
  },
  "language_info": {
   "codemirror_mode": {
    "name": "ipython",
    "version": 3
   },
   "file_extension": ".py",
   "mimetype": "text/x-python",
   "name": "python",
   "nbconvert_exporter": "python",
   "pygments_lexer": "ipython3",
   "version": "3.11.4"
  },
  "orig_nbformat": 4
 },
 "nbformat": 4,
 "nbformat_minor": 2
}
