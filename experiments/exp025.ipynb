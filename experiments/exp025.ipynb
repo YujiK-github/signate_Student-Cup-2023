{
 "cells": [
  {
   "cell_type": "code",
   "execution_count": 1,
   "metadata": {},
   "outputs": [],
   "source": [
    "# ===================================================================\n",
    "#  Library\n",
    "# ===================================================================\n",
    "import pandas as pd\n",
    "from sklearn.metrics import mean_absolute_percentage_error\n",
    "\n",
    "import warnings\n",
    "warnings.simplefilter(\"ignore\")\n",
    "\n",
    "import optuna\n",
    "import numpy as np"
   ]
  },
  {
   "cell_type": "code",
   "execution_count": 2,
   "metadata": {},
   "outputs": [],
   "source": [
    "# ===================================================================\n",
    "#  CFG\n",
    "# ===================================================================\n",
    "class CFG:\n",
    "    seed = 42\n",
    "    n_seeds = 3\n",
    "    n_trials = 2000\n",
    "    save_dir = \"G:/マイドライブ/signate_StudentCup2023/exp/\"\n",
    "    data_dir = \"G:/マイドライブ/signate_StudentCup2023/data/\"\n",
    "    filename = \"exp025\""
   ]
  },
  {
   "cell_type": "code",
   "execution_count": 3,
   "metadata": {},
   "outputs": [],
   "source": [
    "# ===================================================================\n",
    "#  Utils\n",
    "# ===================================================================\n",
    "def get_score(y_true, y_pred):\n",
    "    \"\"\"get MAPE score\"\"\"\n",
    "    score = mean_absolute_percentage_error(y_true, y_pred)\n",
    "    return score * 100"
   ]
  },
  {
   "cell_type": "code",
   "execution_count": 4,
   "metadata": {},
   "outputs": [],
   "source": [
    "# ===================================================================\n",
    "#  DataLoading\n",
    "# ===================================================================\n",
    "df_1 = pd.read_csv(CFG.save_dir+\"oof_df_exp014.csv\", names=['id', 'pred']).rename(columns={\"pred\":\"pred_1\"})\n",
    "df_2 = pd.read_csv(CFG.save_dir+\"oof_df_exp015.csv\", names=['id', 'pred']).rename(columns={\"pred\":\"pred_2\"})\n",
    "df_3 = pd.read_csv(CFG.save_dir+\"oof_df_exp016.csv\", names=['id', 'pred']).rename(columns={\"pred\":\"pred_3\"})\n",
    "df_4 = pd.read_csv(CFG.save_dir+\"oof_df_exp017.csv\", names=['id', 'pred']).rename(columns={\"pred\":\"pred_4\"})\n",
    "df_5 = pd.read_csv(CFG.save_dir+\"oof_df_exp018.csv\", names=['id', 'pred']).rename(columns={\"pred\":\"pred_5\"})\n",
    "df_6 = pd.read_csv(CFG.save_dir+\"oof_df_exp019.csv\", names=['id', 'pred']).rename(columns={\"pred\":\"pred_6\"})\n",
    "df_7 = pd.read_csv(CFG.save_dir+\"oof_df_exp020.csv\", names=['id', 'pred']).rename(columns={\"pred\":\"pred_7\"})\n",
    "df_8 = pd.read_csv(CFG.save_dir+\"oof_df_exp021.csv\", names=['id', 'pred']).rename(columns={\"pred\":\"pred_8\"})\n",
    "df_9 = pd.read_csv(CFG.save_dir+\"oof_df_exp022.csv\", names=['id', 'pred']).rename(columns={\"pred\":\"pred_9\"})\n",
    "df_10 = pd.read_csv(CFG.save_dir+\"oof_df_exp023.csv\", names=['id', 'pred']).rename(columns={\"pred\":\"pred_10\"})\n",
    "df_11 = pd.read_csv(CFG.save_dir+\"kun_exp38_oof_pred.csv\").rename(columns={\"oof_pred\":\"pred_11\"})\n",
    "df_12 = pd.read_csv(CFG.save_dir+\"kun_exp39_oof_pred.csv\").rename(columns={\"oof_pred\":\"pred_12\"})\n",
    "df_13 = pd.read_csv(CFG.save_dir+\"kun_exp40_oof_pred.csv\").rename(columns={\"oof_pred\":\"pred_13\"})\n",
    "\n",
    "train = pd.read_csv(CFG.data_dir+\"train.csv\")\n",
    "\n",
    "df = pd.merge(train, df_1[[\"id\", \"pred_1\"]], on=\"id\", how=\"left\")\n",
    "df = pd.merge(df, df_2[[\"id\",\"pred_2\"]], on=\"id\", how=\"left\")\n",
    "df = pd.merge(df, df_3[[\"id\", \"pred_3\"]], on=\"id\", how=\"left\")\n",
    "df = pd.merge(df, df_4[[\"id\", \"pred_4\"]], on=\"id\", how=\"left\")\n",
    "df = pd.merge(df, df_5[[\"id\", \"pred_5\"]], on=\"id\", how=\"left\")\n",
    "df = pd.merge(df, df_6[[\"id\", \"pred_6\"]], on=\"id\", how=\"left\")\n",
    "df = pd.merge(df, df_7[[\"id\", \"pred_7\"]], on=\"id\", how=\"left\")\n",
    "df = pd.merge(df, df_8[[\"id\", \"pred_8\"]], on=\"id\", how=\"left\")\n",
    "df = pd.merge(df, df_9[[\"id\", \"pred_9\"]], on=\"id\", how=\"left\")\n",
    "df = pd.merge(df, df_10[[\"id\", \"pred_10\"]], on=\"id\", how=\"left\")\n",
    "df = pd.concat([df, df_11], axis=1)\n",
    "df = pd.concat([df, df_12], axis=1)\n",
    "df = pd.concat([df, df_13], axis=1)\n",
    "\n",
    "df.to_csv(CFG.save_dir+f\"{CFG.filename}_preds.csv\", index=False)"
   ]
  },
  {
   "cell_type": "code",
   "execution_count": 5,
   "metadata": {},
   "outputs": [
    {
     "data": {
      "application/vnd.jupyter.widget-view+json": {
       "model_id": "a5ec96c133d949db8a966bbf018a9993",
       "version_major": 2,
       "version_minor": 0
      },
      "text/plain": [
       "  0%|          | 0/2000 [00:00<?, ?it/s]"
      ]
     },
     "metadata": {},
     "output_type": "display_data"
    },
    {
     "name": "stdout",
     "output_type": "stream",
     "text": [
      "Seed: 42, Best Value: 43.87820413829381, Best Params: {'a': 0.004830532362170212, 'b': 0.003202013741302334, 'c': 0.015959853453707446, 'd': 0.20931673935822329, 'e': 0.2643416744103098, 'f': 0.17715955539970848, 'g': 1.8129155260506372e-08, 'h': 0.3105253749301927, 'i': 3.0633346375096162e-06, 'j': 0.013731686951451775, 'k': 1.6025291731665643e-05, 'l': 5.0109568989328915e-08, 'm': 0.001885492850424893}\n"
     ]
    },
    {
     "data": {
      "application/vnd.jupyter.widget-view+json": {
       "model_id": "347cf58e156f418fbb84f951826d7aa1",
       "version_major": 2,
       "version_minor": 0
      },
      "text/plain": [
       "  0%|          | 0/2000 [00:00<?, ?it/s]"
      ]
     },
     "metadata": {},
     "output_type": "display_data"
    },
    {
     "name": "stdout",
     "output_type": "stream",
     "text": [
      "Seed: 43, Best Value: 43.87920673735458, Best Params: {'a': 0.3926646857699835, 'b': 3.6791341187144746e-07, 'c': 0.0547190409421216, 'd': 2.6606897908882205e-07, 'e': 0.0013075026363245405, 'f': 0.0025984682940336365, 'g': 0.010256743474565896, 'h': 5.4179513445994855e-08, 'i': 0.3598836616556117, 'j': 1.495619798701362e-08, 'k': 0.06351338280312532, 'l': 1.5979356131660024e-05, 'm': 0.11231667318465739}\n"
     ]
    },
    {
     "data": {
      "application/vnd.jupyter.widget-view+json": {
       "model_id": "e032f57969b942a3843c443f66adea88",
       "version_major": 2,
       "version_minor": 0
      },
      "text/plain": [
       "  0%|          | 0/2000 [00:00<?, ?it/s]"
      ]
     },
     "metadata": {},
     "output_type": "display_data"
    },
    {
     "name": "stdout",
     "output_type": "stream",
     "text": [
      "Seed: 44, Best Value: 43.88651276669383, Best Params: {'a': 0.05211266762641686, 'b': 1.8666983652103266e-05, 'c': 0.2268215033877116, 'd': 8.463361814149529e-07, 'e': 4.938229300539913e-07, 'f': 0.2626370571698365, 'g': 0.0027458606106617153, 'h': 1.7377380284769496e-07, 'i': 2.2892985246575045e-07, 'j': 1.5192801861437697e-07, 'k': 0.443811035481086, 'l': 0.001122402424890268, 'm': 0.015502552346286263}\n",
      "Final Best Value: 43.87820413829381\n",
      "Final Best Params: {'a': 0.004830532362170212, 'b': 0.003202013741302334, 'c': 0.015959853453707446, 'd': 0.20931673935822329, 'e': 0.2643416744103098, 'f': 0.17715955539970848, 'g': 1.8129155260506372e-08, 'h': 0.3105253749301927, 'i': 3.0633346375096162e-06, 'j': 0.013731686951451775, 'k': 1.6025291731665643e-05, 'l': 5.0109568989328915e-08, 'm': 0.001885492850424893}\n"
     ]
    }
   ],
   "source": [
    "# ===================================================================\n",
    "#  optuna\n",
    "# ===================================================================\n",
    "def objective(trial):\n",
    "    a = trial.suggest_float(\"a\", 1e-8, 1, log=True)\n",
    "    b = trial.suggest_float(\"b\", 1e-8, 1, log=True)\n",
    "    c = trial.suggest_float(\"c\", 1e-8, 1, log=True)\n",
    "    d = trial.suggest_float(\"d\", 1e-8, 1, log=True)\n",
    "    e = trial.suggest_float(\"e\", 1e-8, 1, log=True)\n",
    "    \n",
    "    f = trial.suggest_float(\"f\", 1e-8, 1, log=True)\n",
    "    g = trial.suggest_float(\"g\", 1e-8, 1, log=True)\n",
    "    h = trial.suggest_float(\"h\", 1e-8, 1, log=True)\n",
    "    i = trial.suggest_float(\"i\", 1e-8, 1, log=True)\n",
    "    j = trial.suggest_float(\"j\", 1e-8, 1, log=True)\n",
    "    \n",
    "    k = trial.suggest_float(\"k\", 1e-8, 1, log=True)\n",
    "    l = trial.suggest_float(\"l\", 1e-8, 1, log=True)\n",
    "    m = trial.suggest_float(\"m\", 1e-8, 1, log=True)\n",
    "    \n",
    "    \n",
    "    df[f\"pred\"] = df[f\"pred_1\"] * a +\\\n",
    "                  df[f\"pred_2\"] * b +\\\n",
    "                  df[f\"pred_3\"] * c +\\\n",
    "                  df[f\"pred_4\"] * d +\\\n",
    "                  df[f\"pred_5\"] * e +\\\n",
    "                  df[f\"pred_6\"] * f +\\\n",
    "                  df[f\"pred_7\"] * g +\\\n",
    "                  df[f\"pred_8\"] * h +\\\n",
    "                  df[f\"pred_9\"] * i +\\\n",
    "                  df[f\"pred_10\"] * j +\\\n",
    "                  df[f\"pred_11\"] * k +\\\n",
    "                  df[f\"pred_12\"] * l +\\\n",
    "                  df[f\"pred_13\"] * m\n",
    "                      \n",
    "                      \n",
    "                      \n",
    "    score = get_score(y_true=df[\"price\"], y_pred = df[f\"pred\"])\n",
    "    return score\n",
    "    \n",
    "optuna.logging.set_verbosity(optuna.logging.WARNING)\n",
    "\n",
    "# シードのリストを定義\n",
    "seeds = [seed for seed in range(CFG.seed, CFG.seed+CFG.n_seeds)]\n",
    "\n",
    "best_values = []\n",
    "best_params_list = []\n",
    "\n",
    "for seed in seeds:    \n",
    "    study = optuna.create_study(\n",
    "        direction=\"minimize\",\n",
    "        sampler=optuna.samplers.TPESampler(seed=seed)\n",
    "    )\n",
    "    study.optimize(objective, \n",
    "                   n_trials=CFG.n_trials, \n",
    "                   n_jobs = -1,\n",
    "                   show_progress_bar=True)\n",
    "    \n",
    "    best_value = study.best_value\n",
    "    best_params = study.best_params\n",
    "    \n",
    "    best_values.append(best_value)\n",
    "    best_params_list.append(best_params)\n",
    "    \n",
    "    print(f\"Seed: {seed}, Best Value: {best_value}, Best Params: {best_params}\")\n",
    "    \n",
    "    \n",
    "# 最も小さい best_value を持つ Study を探索\n",
    "best_index = np.argmin(best_values)\n",
    "best_params_final = best_params_list[best_index]\n",
    "best_value_final = best_values[best_index]\n",
    "\n",
    "print(\"Final Best Value:\", best_value_final)\n",
    "print(\"Final Best Params:\", best_params_final)"
   ]
  },
  {
   "cell_type": "code",
   "execution_count": 6,
   "metadata": {},
   "outputs": [
    {
     "data": {
      "text/html": [
       "<div>\n",
       "<style scoped>\n",
       "    .dataframe tbody tr th:only-of-type {\n",
       "        vertical-align: middle;\n",
       "    }\n",
       "\n",
       "    .dataframe tbody tr th {\n",
       "        vertical-align: top;\n",
       "    }\n",
       "\n",
       "    .dataframe thead th {\n",
       "        text-align: right;\n",
       "    }\n",
       "</style>\n",
       "<table border=\"1\" class=\"dataframe\">\n",
       "  <thead>\n",
       "    <tr style=\"text-align: right;\">\n",
       "      <th></th>\n",
       "      <th>id</th>\n",
       "      <th>pred</th>\n",
       "    </tr>\n",
       "  </thead>\n",
       "  <tbody>\n",
       "    <tr>\n",
       "      <th>0</th>\n",
       "      <td>27532</td>\n",
       "      <td>9727.856427</td>\n",
       "    </tr>\n",
       "    <tr>\n",
       "      <th>1</th>\n",
       "      <td>27533</td>\n",
       "      <td>5212.032563</td>\n",
       "    </tr>\n",
       "  </tbody>\n",
       "</table>\n",
       "</div>"
      ],
      "text/plain": [
       "      id         pred\n",
       "0  27532  9727.856427\n",
       "1  27533  5212.032563"
      ]
     },
     "execution_count": 6,
     "metadata": {},
     "output_type": "execute_result"
    }
   ],
   "source": [
    "# ===================================================================\n",
    "#  test\n",
    "# ===================================================================\n",
    "test_1 = pd.read_csv(CFG.save_dir+\"exp014.csv\", names=['id', 'pred']).rename(columns={\"pred\":\"pred_1\"})\n",
    "test_2 = pd.read_csv(CFG.save_dir+\"exp015.csv\", names=['id', 'pred']).rename(columns={\"pred\":\"pred_2\"})\n",
    "test_3 = pd.read_csv(CFG.save_dir+\"exp016.csv\", names=['id', 'pred']).rename(columns={\"pred\":\"pred_3\"})\n",
    "test_4 = pd.read_csv(CFG.save_dir+\"exp017.csv\", names=['id', 'pred']).rename(columns={\"pred\":\"pred_4\"})\n",
    "test_5 = pd.read_csv(CFG.save_dir+\"exp018.csv\", names=['id', 'pred']).rename(columns={\"pred\":\"pred_5\"})\n",
    "test_6 = pd.read_csv(CFG.save_dir+\"exp019.csv\", names=['id', 'pred']).rename(columns={\"pred\":\"pred_6\"})\n",
    "test_7 = pd.read_csv(CFG.save_dir+\"exp020.csv\", names=['id', 'pred']).rename(columns={\"pred\":\"pred_7\"})\n",
    "test_8 = pd.read_csv(CFG.save_dir+\"exp021.csv\", names=['id', 'pred']).rename(columns={\"pred\":\"pred_8\"})\n",
    "test_9 = pd.read_csv(CFG.save_dir+\"exp022.csv\", names=['id', 'pred']).rename(columns={\"pred\":\"pred_9\"})\n",
    "test_10 = pd.read_csv(CFG.save_dir+\"exp023.csv\", names=['id', 'pred']).rename(columns={\"pred\":\"pred_10\"})\n",
    "test_11 = pd.read_csv(CFG.save_dir+\"kun_exp038.csv\", names=['id', 'pred']).rename(columns={\"pred\":\"pred_11\"})\n",
    "test_12 = pd.read_csv(CFG.save_dir+\"kun_exp039.csv\", names=['id', 'pred']).rename(columns={\"pred\":\"pred_12\"})\n",
    "test_13 = pd.read_csv(CFG.save_dir+\"kun_exp040.csv\", names=['id', 'pred']).rename(columns={\"pred\":\"pred_13\"})\n",
    "\n",
    "test = pd.merge(test_1, test_2, on=\"id\", how=\"left\")\n",
    "test = pd.merge(test, test_3, on=\"id\", how=\"left\")\n",
    "test = pd.merge(test, test_4, on=\"id\", how=\"left\")\n",
    "test = pd.merge(test, test_5, on=\"id\", how=\"left\")\n",
    "test = pd.merge(test, test_6, on=\"id\", how=\"left\")\n",
    "test = pd.merge(test, test_7, on=\"id\", how=\"left\")\n",
    "test = pd.merge(test, test_8, on=\"id\", how=\"left\")\n",
    "test = pd.merge(test, test_9, on=\"id\", how=\"left\")\n",
    "test = pd.merge(test, test_10, on=\"id\", how=\"left\")\n",
    "test = pd.merge(test, test_11, on=\"id\", how=\"left\")\n",
    "test = pd.merge(test, test_12, on=\"id\", how=\"left\")\n",
    "test = pd.merge(test, test_13, on=\"id\", how=\"left\")\n",
    "\n",
    "test[\"pred\"] =   test[\"pred_1\"] * best_params_final[\"a\"] +\\\n",
    "                 test[\"pred_2\"] * best_params_final[\"b\"] +\\\n",
    "                 test[\"pred_3\"] * best_params_final[\"c\"] +\\\n",
    "                 test[\"pred_4\"] * best_params_final[\"d\"] +\\\n",
    "                 test[\"pred_5\"] * best_params_final[\"e\"] +\\\n",
    "                 test[\"pred_6\"] * best_params_final[\"f\"] +\\\n",
    "                 test[\"pred_7\"] * best_params_final[\"g\"] +\\\n",
    "                 test[\"pred_8\"] * best_params_final[\"h\"] +\\\n",
    "                 test[\"pred_9\"] * best_params_final[\"i\"] +\\\n",
    "                 test[\"pred_10\"] * best_params_final[\"j\"] +\\\n",
    "                 test[\"pred_11\"] * best_params_final[\"k\"] +\\\n",
    "                 test[\"pred_12\"] * best_params_final[\"l\"] +\\\n",
    "                 test[\"pred_13\"] * best_params_final[\"m\"]\n",
    "                     \n",
    "test.to_csv(CFG.save_dir+f\"{CFG.filename}_test_preds.csv\", index=False)                     \n",
    "\n",
    "test[[\"id\", \"pred\"]].to_csv(CFG.save_dir+f\"{CFG.filename}.csv\", index=False, header=None)\n",
    "test[[\"id\", \"pred\"]].head(2)"
   ]
  }
 ],
 "metadata": {
  "kernelspec": {
   "display_name": "Python 3",
   "language": "python",
   "name": "python3"
  },
  "language_info": {
   "codemirror_mode": {
    "name": "ipython",
    "version": 3
   },
   "file_extension": ".py",
   "mimetype": "text/x-python",
   "name": "python",
   "nbconvert_exporter": "python",
   "pygments_lexer": "ipython3",
   "version": "3.11.4"
  },
  "orig_nbformat": 4
 },
 "nbformat": 4,
 "nbformat_minor": 2
}
