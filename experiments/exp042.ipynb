{
 "cells": [
  {
   "cell_type": "code",
   "execution_count": 1,
   "metadata": {},
   "outputs": [],
   "source": [
    "# ===================================================================\n",
    "#  Library\n",
    "# ===================================================================\n",
    "import os\n",
    "import random\n",
    "import numpy as np\n",
    "import pandas as pd\n",
    "\n",
    "from math import comb\n",
    "from tqdm.auto import tqdm\n",
    "from itertools import combinations\n",
    "\n",
    "from sklearn.preprocessing import OrdinalEncoder\n",
    "from sklearn.metrics import mean_absolute_percentage_error\n",
    "\n",
    "import warnings\n",
    "warnings.simplefilter(\"ignore\")\n",
    "\n",
    "import unicodedata\n",
    "import lightgbm as lgb"
   ]
  },
  {
   "cell_type": "code",
   "execution_count": 2,
   "metadata": {},
   "outputs": [],
   "source": [
    "# ===================================================================\n",
    "#  CFG\n",
    "# ===================================================================\n",
    "class CFG:\n",
    "    filename = \"exp042\"\n",
    "    seed = 42\n",
    "    n_splits = 8\n",
    "    data_dir = \"G:/マイドライブ/signate_StudentCup2023/data/\"\n",
    "    year_bins = 20\n",
    "    num_boost_round = 10000\n",
    "    stopping_rounds = 100\n",
    "    n_trials = 300\n",
    "    save_dir = \"G:/マイドライブ/signate_StudentCup2023/exp/\"\n",
    "    num_cores = 4 # kaggleの方と統一\n",
    "    categorical_features = [\n",
    "        \"fuel\", \"title_status\", \"type\", \"state\", \"region\", \"manufacturer\", \"condition\", \"cylinders\", \"transmission\", \"drive\", \"size\", \"paint_color\"\n",
    "        ]\n",
    "    use_features = [\"odometer\", \"year\"]"
   ]
  },
  {
   "cell_type": "code",
   "execution_count": 3,
   "metadata": {},
   "outputs": [],
   "source": [
    "# ===================================================================\n",
    "#  Utils\n",
    "# ===================================================================\n",
    "def seed_everything(seed):\n",
    "    \"\"\"fix random factors\"\"\"\n",
    "    random.seed(seed)\n",
    "    np.random.seed(seed)\n",
    "    os.environ['PYTHONHASHSEED'] = str(seed)\n",
    "seed_everything(CFG.seed)\n",
    "    \n",
    "\n",
    "def get_score(y_true, y_pred):\n",
    "    \"\"\"get MAPE score\"\"\"\n",
    "    score = mean_absolute_percentage_error(y_true, y_pred)\n",
    "    return score * 100"
   ]
  },
  {
   "cell_type": "code",
   "execution_count": 4,
   "metadata": {},
   "outputs": [],
   "source": [
    "# ===================================================================\n",
    "#  Data Loading\n",
    "# ===================================================================\n",
    "train = pd.read_csv(CFG.data_dir+\"train.csv\")\n",
    "test = pd.read_csv(CFG.data_dir+\"test.csv\")\n",
    "\n",
    "region_coor = pd.read_csv(CFG.data_dir+\"region_coordinate.csv\")\n",
    "state_coor = pd.read_csv(CFG.data_dir+\"state_coordinate.csv\")\n",
    "\n",
    "train[\"flag\"] = \"train\"\n",
    "test[\"flag\"] = \"test\"\n",
    "all_data = pd.concat([train, test], ignore_index=True)"
   ]
  },
  {
   "cell_type": "code",
   "execution_count": 5,
   "metadata": {},
   "outputs": [],
   "source": [
    "# ===================================================================\n",
    "#  feature_engineering\n",
    "# ===================================================================\n",
    "def preprocessing(all_data: pd.DataFrame):\n",
    "    \"\"\"\n",
    "    train, testデータで共通の前処理のコード\n",
    "    \n",
    "    ・yearの異常値を直す\n",
    "    ・manufacturerの表記を統一する\n",
    "    ・sizeの表記を統一する\n",
    "    ・regionの欠損値をtrain dataの(state, region)の組み合わせから補完する。残った欠損値は調べて補完する。\n",
    "    ・title_statusとtypeの欠損値処理はとりあえず放置\n",
    "\n",
    "    Args:\n",
    "        all_data (pd.DataFrame): pd.concat([train, test], ignore_index=True)\n",
    "    \"\"\"\n",
    "    # year\n",
    "    year_dict = {\n",
    "        2999:1999,\n",
    "        3008:2008,\n",
    "        3011:2011,\n",
    "        3015:2015,\n",
    "        3017:2017,\n",
    "        3019:2019,\n",
    "    }\n",
    "    all_data[\"year\"] = all_data[\"year\"].replace(year_dict)\n",
    "    \n",
    "    \n",
    "    # manufacturer\n",
    "    all_data[\"manufacturer\"] = all_data[\"manufacturer\"].str.lower().apply(lambda x: unicodedata.normalize('NFKC', x))\n",
    "    manufacturer_map = {\n",
    "        'niѕsan':'nissan',\n",
    "        'nisѕan':'nissan',\n",
    "        'subαru':'subaru',\n",
    "        'toyotа':'toyota',\n",
    "        'sαturn':'saturn',\n",
    "        'аcura':'acura',\n",
    "        'vоlkswagen':'volkswagen',\n",
    "        'lexuѕ':'lexus',\n",
    "        'ᴄhrysler':'chrysler',\n",
    "    }\n",
    "    all_data[\"manufacturer\"] = all_data[\"manufacturer\"].replace(manufacturer_map)\n",
    "    \n",
    "    \n",
    "    # size\n",
    "    size_dict = {\n",
    "        \"fullーsize\":\"full-size\",\n",
    "        \"midーsize\":\"mid-size\",\n",
    "        \"subーcompact\":\"sub-compact\",\n",
    "        \"full−size\":\"full-size\",\n",
    "        \"mid−size\":\"mid-size\"\n",
    "    }\n",
    "    all_data[\"size\"] = all_data[\"size\"].replace(size_dict)\n",
    "        \n",
    "    \n",
    "    # 地域\n",
    "    ## region -> stateが一意に定まることを確認\n",
    "    region_state = {region:{} for region in all_data[all_data[\"flag\"]==\"train\"]['region'].unique()}\n",
    "    for row, value in all_data[all_data[\"flag\"]==\"train\"].iterrows():\n",
    "        if not pd.isna(value['state']):\n",
    "            if value['state'] not in region_state[value['region']]:\n",
    "                region_state[value['region']][value['state']] = 1\n",
    "            else:\n",
    "                region_state[value['region']][value['state']] += 1\n",
    "    for region, state_dict in region_state.items():\n",
    "        if len(state_dict) > 1 or state_dict == {}:\n",
    "            region_state[region] = pd.NA\n",
    "        else:\n",
    "            region_state[region] = list(state_dict.keys())[0]\n",
    "\n",
    "    ## regionからstateを決定\n",
    "    all_data['state'] = [region_state[region] if pd.isna(state) else state for region, state in zip(all_data['region'], all_data['state'])]\n",
    "    all_data.loc[all_data[\"region\"] == \"northwest KS\", \"state\"] = \"ks\"\n",
    "    all_data.loc[all_data[\"region\"] == \"ashtabula\", \"state\"] = \"oh\"\n",
    "    all_data.loc[all_data[\"region\"] == \"southern WV\", \"state\"] = \"wv\"\n",
    "    \n",
    "    all_data = pd.merge(all_data, region_coor, on=\"region\", how=\"left\")\n",
    "    all_data = pd.merge(all_data, state_coor, on=\"state\", how=\"left\")\n",
    "    \n",
    "    \n",
    "    # type\n",
    "    ## 欠損値 train: 456, test: 229\n",
    "    \n",
    "    # title_status\n",
    "    ## 欠損値 train: 456, test: 229\n",
    "    \n",
    "    # fuel\n",
    "    ## 欠損値 train: 1239, test: 1495\n",
    "    \n",
    "    \n",
    "    all_data[\"elapsed_years\"] = 2023 - all_data[\"year\"]\n",
    "    all_data[\"log_elapsed_years\"] = np.log(all_data[\"elapsed_years\"])\n",
    "    all_data[\"sqrt_elapsed_years\"] = np.sqrt(all_data[\"elapsed_years\"])\n",
    "    \n",
    "    return all_data\n",
    "\n",
    "all_data = preprocessing(all_data)"
   ]
  },
  {
   "cell_type": "code",
   "execution_count": 6,
   "metadata": {},
   "outputs": [
    {
     "name": "stdout",
     "output_type": "stream",
     "text": [
      "The variance of the mean of the folds:  7.232164844021037\n"
     ]
    }
   ],
   "source": [
    "# ===================================================================\n",
    "#  Cross Validation\n",
    "# ===================================================================\n",
    "train = all_data[all_data[\"flag\"] == \"train\"].reset_index(drop=True)\n",
    "test = all_data[all_data[\"flag\"] == \"test\"].reset_index(drop=True)\n",
    "\n",
    "train.sort_values(by=\"id\", ignore_index=True, inplace=True)\n",
    "\n",
    "# priceを小さい順に各foldに振り分ける\n",
    "train.sort_values(by=\"price\", ignore_index=True, inplace=True)\n",
    "train[\"fold\"] = [i for i in range(CFG.n_splits)] * (train.shape[0] // CFG.n_splits) + [i for i in range(train.shape[0] % CFG.n_splits)]\n",
    "train.sort_values(by=\"id\", ignore_index=True, inplace=True)\n",
    "print(\"The variance of the mean of the folds: \", train.groupby(\"fold\")[\"price\"].mean().std())"
   ]
  },
  {
   "cell_type": "code",
   "execution_count": 7,
   "metadata": {},
   "outputs": [],
   "source": [
    "def preprocessing_per_fold(CFG, train:pd.DataFrame, test: pd.DataFrame,  fold: int = 0):\n",
    "    \"\"\"foldごとの前処理: leakageを防ぐ\n",
    "\n",
    "    Args:\n",
    "        CFG :config\n",
    "        train (pd.DataFrame): 学習データ\n",
    "        test (pd.DataFrame, optional): test data Defaults to None.\n",
    "        fold (int, optional): Defaults to 0.\n",
    "    \"\"\"\n",
    "    X_train = train[train[\"fold\"] != fold].reset_index(drop=True)\n",
    "    X_valid = train[train[\"fold\"] == fold].reset_index(drop=True)    \n",
    "    test_df = test.copy()\n",
    "\n",
    "    # odometerの補正\n",
    "    ## odometerが100以下or400000以上を異常値と考えて補完する\n",
    "    fillna_map = X_train[(X_train[\"odometer\"] > 100)&(X_train[\"odometer\"] < 400000)].groupby([\"region\"])[\"odometer\"].mean().reset_index()\n",
    "    \n",
    "    def replace_odometer(df: pd.DataFrame, fillna_map: pd.DataFrame)-> pd.DataFrame:\n",
    "        \"\"\"odometerの異常値をfillna_mapを利用して補完する\n",
    "\n",
    "        Args:\n",
    "            df (pd.DataFrame): 補完前のデータ\n",
    "            fillna_map (pd.DataFrame): 補完するデータ\n",
    "\n",
    "        Returns:\n",
    "            pd.DataFrame: 補完後のデータ\n",
    "        \"\"\"\n",
    "        df_1 = df[(df[\"odometer\"] < 100)|(df[\"odometer\"] > 400000)].reset_index(drop=True)\n",
    "        df_2 = df[(df[\"odometer\"] >= 100)&(df[\"odometer\"] <= 400000)].reset_index(drop=True)\n",
    "        df_1.drop(\"odometer\", inplace=True, axis=1)\n",
    "        df_1 = pd.merge(df_1, fillna_map, on=\"region\", how=\"left\")\n",
    "        df = pd.concat([df_1, df_2])\n",
    "        return df.sort_values(\"id\", ignore_index=True)\n",
    "    \n",
    "    \n",
    "    X_train = replace_odometer(X_train, fillna_map)\n",
    "    X_valid = replace_odometer(X_valid, fillna_map)\n",
    "    test_df = replace_odometer(test_df, fillna_map)\n",
    "    X_train[\"odometer\"].fillna(X_train[\"odometer\"].mean(), inplace=True)\n",
    "    X_valid[\"odometer\"].fillna(X_train[\"odometer\"].mean(), inplace=True)\n",
    "    test_df[\"odometer\"].fillna(X_train[\"odometer\"].mean(), inplace=True)\n",
    "        \n",
    "\n",
    "    # 交互作用\n",
    "    def apply_fe(df: pd.DataFrame) -> pd.DataFrame:\n",
    "        \"\"\"foldごとの特徴量作成\n",
    "\n",
    "        Args:\n",
    "            df (pd.DataFrame)\n",
    "\n",
    "        Returns:\n",
    "            pd.DataFrame: 特徴量作成後のdf\n",
    "        \"\"\"\n",
    "        df[\"log_odometer\"] = np.log(df[\"odometer\"])\n",
    "        df[\"sqrt_odometer\"] = np.sqrt(df[\"odometer\"])\n",
    "        \n",
    "        df[\"elapsed_years*odometer\"] = df[\"elapsed_years\"] * df[\"odometer\"]\n",
    "        df[\"elapsed_years*log_odometer\"] = df[\"elapsed_years\"] * df[\"log_odometer\"]\n",
    "        df[\"elapsed_years*sqrt_odometer\"] = df[\"elapsed_years\"] * df[\"sqrt_odometer\"]\n",
    "        \n",
    "        df[\"log_elapsed_years*odometer\"] = df[\"log_elapsed_years\"] * df[\"odometer\"]\n",
    "        df[\"log_elapsed_years*log_odometer\"] = df[\"log_elapsed_years\"] * df[\"log_odometer\"]\n",
    "        df[\"log_elapsed_years*sqrt_odometer\"] = df[\"log_elapsed_years\"] * df[\"sqrt_odometer\"]\n",
    "        \n",
    "        df[\"sqrt_elapsed_years*odometer\"] = df[\"sqrt_elapsed_years\"] * df[\"odometer\"]\n",
    "        df[\"sqrt_elapsed_years*log_odometer\"] = df[\"sqrt_elapsed_years\"] * df[\"log_odometer\"]\n",
    "        df[\"sqrt_elapsed_years*sqrt_odometer\"] = df[\"sqrt_elapsed_years\"] * df[\"sqrt_odometer\"]\n",
    "        return df\n",
    "    X_train = apply_fe(X_train)\n",
    "    X_valid = apply_fe(X_valid)\n",
    "    test_df = apply_fe(test_df)\n",
    "        \n",
    "        \n",
    "    # カウントエンコーディング\n",
    "    for col in CFG.categorical_features:\n",
    "        count_map = X_train[col].value_counts().to_dict()\n",
    "        X_train[col+\"_count_encoding\"] = X_train[col].map(count_map)\n",
    "        X_valid[col+\"_count_encoding\"] = X_valid[col].map(count_map)\n",
    "        test_df[col+\"_count_encoding\"] = test_df[col].map(count_map)\n",
    "        \n",
    "        \n",
    "    # 集約特徴量を用いたエンコーディング\n",
    "    for col in CFG.categorical_features:\n",
    "        for agg_ in [\"mean\", \"std\", \"max\", \"min\", \"median\"]:\n",
    "            fillna_map = X_train.groupby(col)[\"price\"].agg(agg_)\n",
    "            X_train[col+f\"_{agg_}_encoding\"] = X_train[col].map(fillna_map)\n",
    "            X_valid[col+f\"_{agg_}_encoding\"] = X_valid[col].map(fillna_map)\n",
    "            test_df[col+f\"_{agg_}_encoding\"] = test_df[col].map(fillna_map)\n",
    "                \n",
    "    # 集約特徴量を用いたエンコーディング\n",
    "    for col in CFG.categorical_features:\n",
    "        for agg_ in [\"mean\", \"std\", \"max\", \"min\", \"median\"]:\n",
    "            fillna_map = X_train.groupby(col)[\"odometer\"].agg(agg_)\n",
    "            X_train[col+f\"_{agg_}_odometer_encoding\"] = X_train[col].map(fillna_map)\n",
    "            X_valid[col+f\"_{agg_}_odometer_encoding\"] = X_valid[col].map(fillna_map)\n",
    "            test_df[col+f\"_{agg_}_odometer_encoding\"] = test_df[col].map(fillna_map)\n",
    "            if agg_ == \"median\" or agg_ == \"mean\":\n",
    "                X_train[col+f\"_{agg_}_odometer_encoding_diff\"] = X_train[col+f\"_{agg_}_odometer_encoding\"] - X_train[\"odometer\"]\n",
    "                X_valid[col+f\"_{agg_}_odometer_encoding_diff\"] = X_valid[col+f\"_{agg_}_odometer_encoding\"] - X_valid[\"odometer\"]\n",
    "                test_df[col+f\"_{agg_}_odometer_encoding_diff\"] = test_df[col+f\"_{agg_}_odometer_encoding\"] - test_df[\"odometer\"]\n",
    "                    \n",
    "                    \n",
    "    # 集約特徴量を用いたエンコーディング\n",
    "    for col in CFG.categorical_features:\n",
    "        for agg_ in [\"mean\", \"std\", \"max\", \"min\", \"median\"]:\n",
    "            fillna_map = X_train.groupby(col)[\"elapsed_years\"].agg(agg_)\n",
    "            X_train[col+f\"_{agg_}_elapsed_years_encoding\"] = X_train[col].map(fillna_map)\n",
    "            X_valid[col+f\"_{agg_}_elapsed_years_encoding\"] = X_valid[col].map(fillna_map)\n",
    "            test_df[col+f\"_{agg_}_elapsed_years_encoding\"] = test_df[col].map(fillna_map)\n",
    "            if agg_ == \"median\" or agg_ == \"mean\":\n",
    "                X_train[col+f\"_{agg_}_elapsed_years_encoding_diff\"] = X_train[col+f\"_{agg_}_elapsed_years_encoding\"] - X_train[\"elapsed_years\"]\n",
    "                X_valid[col+f\"_{agg_}_elapsed_years_encoding_diff\"] = X_valid[col+f\"_{agg_}_elapsed_years_encoding\"] - X_valid[\"elapsed_years\"]\n",
    "                test_df[col+f\"_{agg_}_elapsed_years_encoding_diff\"] = test_df[col+f\"_{agg_}_elapsed_years_encoding\"] - test_df[\"elapsed_years\"]\n",
    "\n",
    "    # カテゴリ2変数\n",
    "    X_train[\"year_map\"], bins = pd.cut(X_train[\"year\"], bins=20, labels=False, retbins=True)\n",
    "    X_valid[\"year_map\"] = pd.cut(X_valid[\"year\"], bins=bins, labels=False)\n",
    "    test_df[\"year_map\"] = pd.cut(test_df[\"year\"], bins=bins, labels=False)\n",
    "    \n",
    "    X_train[\"odometer_map\"], bins = pd.cut(X_train[\"odometer\"], bins=20, labels=False, retbins=True)\n",
    "    X_valid[\"odometer_map\"] = pd.cut(X_valid[\"odometer\"], bins=bins, labels=False)\n",
    "    test_df[\"odometer_map\"] = pd.cut(test_df[\"odometer\"], bins=bins, labels=False)\n",
    "    \n",
    "    cross_features = [\n",
    "        'region', 'year_map', 'manufacturer', 'condition', 'cylinders','fuel', 'odometer_map', 'title_status', 'transmission', 'drive', 'size',\n",
    "        'type', 'paint_color', 'state'\n",
    "    ]\n",
    "    for i, col1 in enumerate(cross_features):\n",
    "        for col2 in cross_features[i+1:]:\n",
    "            tmp = X_train.groupby([col1, col2])[\"price\"].mean().reset_index()\n",
    "            X_train = pd.merge(X_train, tmp.rename(columns={\"price\":f\"{col1}*{col2}_price\"}), on=[col1, col2], how=\"left\")\n",
    "            X_valid = pd.merge(X_valid, tmp.rename(columns={\"price\":f\"{col1}*{col2}_price\"}), on=[col1, col2], how=\"left\")\n",
    "            test_df = pd.merge(test_df, tmp.rename(columns={\"price\":f\"{col1}*{col2}_price\"}), on=[col1, col2], how=\"left\")\n",
    "            \n",
    "            \n",
    "    for cols in tqdm(combinations(cross_features, 3), total=comb(len(cross_features), 3)):\n",
    "        group_cols = list(cols)  # Convert the combination tuple to a list\n",
    "\n",
    "        tmp = X_train.groupby(group_cols)[\"price\"].mean().reset_index()\n",
    "        tmp.rename(columns={\"price\": f\"{group_cols[0]}*{group_cols[1]}*{group_cols[2]}_price\"}, inplace=True)\n",
    "\n",
    "        X_train = pd.merge(X_train, tmp, on=group_cols, how=\"left\")\n",
    "        X_valid = pd.merge(X_valid, tmp, on=group_cols, how=\"left\")\n",
    "        test_df = pd.merge(test_df, tmp, on=group_cols, how=\"left\")\n",
    "\n",
    "            \n",
    "    # OrdinalEncoder: これはfoldごとではなくともよい\n",
    "    oe = OrdinalEncoder(categories=\"auto\",\n",
    "                        handle_unknown=\"use_encoded_value\",\n",
    "                        unknown_value=999,\n",
    "                        encoded_missing_value=np.nan, # QUESTION: 欠損値は-1に変換する -> NaNに??\n",
    "                        )\n",
    "    CFG.categorical_features_ = [feature + \"_category\" for feature in CFG.categorical_features]\n",
    "    X_train[CFG.categorical_features_] = oe.fit_transform(X_train[CFG.categorical_features].values)\n",
    "    X_valid[CFG.categorical_features_] = oe.transform(X_valid[CFG.categorical_features].values)\n",
    "    test_df[CFG.categorical_features_] = oe.transform(test_df[CFG.categorical_features].values)\n",
    "    return X_train, X_valid, test_df"
   ]
  },
  {
   "cell_type": "code",
   "execution_count": 8,
   "metadata": {},
   "outputs": [],
   "source": [
    "# ===================================================================\n",
    "#  evaluate\n",
    "# ===================================================================\n",
    "def train_lgb(CFG, lgb_param):\n",
    "    oof_df = pd.DataFrame()\n",
    "    preds = []\n",
    "    for fold in range(CFG.n_splits):\n",
    "        X_train, X_valid, test_df = preprocessing_per_fold(CFG, train, test, fold)\n",
    "        # train\n",
    "        categorical_features = [col for col in CFG.use_features if \"_category\" in col]\n",
    "        lgb_train = lgb.Dataset(X_train[CFG.use_features], X_train[\"price\"], categorical_feature = categorical_features,)\n",
    "        lgb_valid = lgb.Dataset(X_valid[CFG.use_features], X_valid[\"price\"], categorical_feature = categorical_features,)\n",
    "        model = lgb.train(\n",
    "                        lgb_param, \n",
    "                        lgb_train, \n",
    "                        valid_sets=[lgb_valid],\n",
    "                        categorical_feature = categorical_features,\n",
    "                        callbacks=[lgb.early_stopping(stopping_rounds=CFG.stopping_rounds, verbose=False),],\n",
    "                        )\n",
    "        X_valid[f\"pred\"] = model.predict(X_valid[CFG.use_features], num_iteration=model.best_iteration)\n",
    "        print(f\"fold{fold}:\", get_score(y_true=X_valid[\"price\"], y_pred=X_valid[\"pred\"]))\n",
    "        oof_df = pd.concat([oof_df, X_valid], ignore_index=True)\n",
    "        preds.append(model.predict(test_df[CFG.use_features], num_iteration=model.best_iteration))\n",
    "    test[f\"pred\"] = np.mean(preds, axis=0)        \n",
    "    score = get_score(oof_df[\"price\"], oof_df[\"pred\"])\n",
    "    return score, oof_df, test"
   ]
  },
  {
   "cell_type": "code",
   "execution_count": 9,
   "metadata": {},
   "outputs": [
    {
     "data": {
      "application/vnd.jupyter.widget-view+json": {
       "model_id": "d50a7c7b20044391901b33238f94dcd5",
       "version_major": 2,
       "version_minor": 0
      },
      "text/plain": [
       "  0%|          | 0/364 [00:00<?, ?it/s]"
      ]
     },
     "metadata": {},
     "output_type": "display_data"
    },
    {
     "name": "stdout",
     "output_type": "stream",
     "text": [
      "fold0: 43.24492287022692\n"
     ]
    },
    {
     "data": {
      "application/vnd.jupyter.widget-view+json": {
       "model_id": "618234962c0c4b7c920021f42535538d",
       "version_major": 2,
       "version_minor": 0
      },
      "text/plain": [
       "  0%|          | 0/364 [00:00<?, ?it/s]"
      ]
     },
     "metadata": {},
     "output_type": "display_data"
    },
    {
     "name": "stdout",
     "output_type": "stream",
     "text": [
      "fold1: 44.83931308314574\n"
     ]
    },
    {
     "data": {
      "application/vnd.jupyter.widget-view+json": {
       "model_id": "37dc104a36004baf9ee559a15bc32f45",
       "version_major": 2,
       "version_minor": 0
      },
      "text/plain": [
       "  0%|          | 0/364 [00:00<?, ?it/s]"
      ]
     },
     "metadata": {},
     "output_type": "display_data"
    },
    {
     "name": "stdout",
     "output_type": "stream",
     "text": [
      "fold2: 43.66379093572097\n"
     ]
    },
    {
     "data": {
      "application/vnd.jupyter.widget-view+json": {
       "model_id": "d22a3f6c4b4548369045e3e8a196d823",
       "version_major": 2,
       "version_minor": 0
      },
      "text/plain": [
       "  0%|          | 0/364 [00:00<?, ?it/s]"
      ]
     },
     "metadata": {},
     "output_type": "display_data"
    },
    {
     "name": "stdout",
     "output_type": "stream",
     "text": [
      "fold3: 44.90243827488906\n"
     ]
    },
    {
     "data": {
      "application/vnd.jupyter.widget-view+json": {
       "model_id": "4e392657be7d467d97db9a4d5195a61e",
       "version_major": 2,
       "version_minor": 0
      },
      "text/plain": [
       "  0%|          | 0/364 [00:00<?, ?it/s]"
      ]
     },
     "metadata": {},
     "output_type": "display_data"
    },
    {
     "name": "stdout",
     "output_type": "stream",
     "text": [
      "fold4: 43.149383102925015\n"
     ]
    },
    {
     "data": {
      "application/vnd.jupyter.widget-view+json": {
       "model_id": "0f79b0240e84471d953d06429f5f1ab1",
       "version_major": 2,
       "version_minor": 0
      },
      "text/plain": [
       "  0%|          | 0/364 [00:00<?, ?it/s]"
      ]
     },
     "metadata": {},
     "output_type": "display_data"
    },
    {
     "name": "stdout",
     "output_type": "stream",
     "text": [
      "fold5: 43.179885007607496\n"
     ]
    },
    {
     "data": {
      "application/vnd.jupyter.widget-view+json": {
       "model_id": "adb80405236041aaa4efb23c0c8b0324",
       "version_major": 2,
       "version_minor": 0
      },
      "text/plain": [
       "  0%|          | 0/364 [00:00<?, ?it/s]"
      ]
     },
     "metadata": {},
     "output_type": "display_data"
    },
    {
     "name": "stdout",
     "output_type": "stream",
     "text": [
      "fold6: 44.77057050626627\n"
     ]
    },
    {
     "data": {
      "application/vnd.jupyter.widget-view+json": {
       "model_id": "58bdea5cb570457ea4290efe9b67a29d",
       "version_major": 2,
       "version_minor": 0
      },
      "text/plain": [
       "  0%|          | 0/364 [00:00<?, ?it/s]"
      ]
     },
     "metadata": {},
     "output_type": "display_data"
    },
    {
     "name": "stdout",
     "output_type": "stream",
     "text": [
      "fold7: 43.937338857624766\n",
      "\u001b[32m====== CV score ======\u001b[0m\n",
      "\u001b[32m43.96098462821153\u001b[0m\n"
     ]
    }
   ],
   "source": [
    "# ===================================================================\n",
    "#  evaluate\n",
    "# ===================================================================\n",
    "CFG.use_features = [\n",
    "    'odometer', 'year', 'type_mean_elapsed_years_encoding_diff', 'title_status*transmission*size_price', 'paint_color_category',\n",
    "    'odometer_map*drive*size_price', 'region*fuel_price', 'manufacturer_max_odometer_encoding', 'sqrt_elapsed_years*odometer',\n",
    "    'cylinders*drive*size_price', 'year_map*condition*odometer_map_price', 'year_map*type_price', 'condition_std_odometer_encoding', \n",
    "    'manufacturer*drive*type_price', 'condition*cylinders*fuel_price', 'year_map*fuel*drive_price', 'year_map*fuel*type_price', \n",
    "    'type_mean_elapsed_years_encoding', 'odometer_map*drive_price', 'condition*transmission*paint_color_price',\n",
    "    'condition*title_status*paint_color_price'\n",
    "]\n",
    "\n",
    "\n",
    "lgb_param = {\n",
    "    \"task\":\"train\",\n",
    "    \"objective\": \"mape\",\n",
    "    \"boosting\":\"gbdt\",\n",
    "    \"n_estimators\": 4358,\n",
    "    \"learning_rate\": 0.011020815051252329,\n",
    "    \"max_depth\": 14,\n",
    "    \"num_leaves\": 9096,\n",
    "    \"min_data_in_leaf\": 223,\n",
    "    \"max_bin\": 317,\n",
    "    \"subsample\": 0.5793029095425193,\n",
    "    \"subsample_freq\": 6,\n",
    "    \"feature_fraction\": 0.19198340541599757,\n",
    "    \"reg_lambda\": 0.00016294484253991218,\n",
    "    \"reg_alpha\": 7.36743363005601e-05,\n",
    "    \"scale_pos_weight\": 34.564814252410926,\n",
    "    \"num_threads\":CFG.num_cores,\n",
    "    \"metric\": 'mape',\n",
    "    \"seed\" : CFG.seed,\n",
    "    \"verbosity\": -1,   \n",
    "}\n",
    "\n",
    "\n",
    "best_score, oof_df, test_df = train_lgb(CFG, lgb_param)\n",
    "print('\\033[32m'+\"====== CV score ======\"+'\\033[0m')\n",
    "print('\\033[32m'+f'{best_score}'+'\\033[0m')"
   ]
  },
  {
   "cell_type": "code",
   "execution_count": 10,
   "metadata": {},
   "outputs": [
    {
     "data": {
      "text/html": [
       "<div>\n",
       "<style scoped>\n",
       "    .dataframe tbody tr th:only-of-type {\n",
       "        vertical-align: middle;\n",
       "    }\n",
       "\n",
       "    .dataframe tbody tr th {\n",
       "        vertical-align: top;\n",
       "    }\n",
       "\n",
       "    .dataframe thead th {\n",
       "        text-align: right;\n",
       "    }\n",
       "</style>\n",
       "<table border=\"1\" class=\"dataframe\">\n",
       "  <thead>\n",
       "    <tr style=\"text-align: right;\">\n",
       "      <th></th>\n",
       "      <th>id</th>\n",
       "      <th>pred</th>\n",
       "    </tr>\n",
       "  </thead>\n",
       "  <tbody>\n",
       "    <tr>\n",
       "      <th>0</th>\n",
       "      <td>27532</td>\n",
       "      <td>9211.745829</td>\n",
       "    </tr>\n",
       "    <tr>\n",
       "      <th>1</th>\n",
       "      <td>27533</td>\n",
       "      <td>5638.017983</td>\n",
       "    </tr>\n",
       "    <tr>\n",
       "      <th>2</th>\n",
       "      <td>27534</td>\n",
       "      <td>5378.844623</td>\n",
       "    </tr>\n",
       "    <tr>\n",
       "      <th>3</th>\n",
       "      <td>27535</td>\n",
       "      <td>18263.872975</td>\n",
       "    </tr>\n",
       "    <tr>\n",
       "      <th>4</th>\n",
       "      <td>27536</td>\n",
       "      <td>4245.195615</td>\n",
       "    </tr>\n",
       "    <tr>\n",
       "      <th>...</th>\n",
       "      <td>...</td>\n",
       "      <td>...</td>\n",
       "    </tr>\n",
       "    <tr>\n",
       "      <th>27532</th>\n",
       "      <td>55064</td>\n",
       "      <td>10014.768978</td>\n",
       "    </tr>\n",
       "    <tr>\n",
       "      <th>27533</th>\n",
       "      <td>55065</td>\n",
       "      <td>8761.781589</td>\n",
       "    </tr>\n",
       "    <tr>\n",
       "      <th>27534</th>\n",
       "      <td>55066</td>\n",
       "      <td>6072.441981</td>\n",
       "    </tr>\n",
       "    <tr>\n",
       "      <th>27535</th>\n",
       "      <td>55067</td>\n",
       "      <td>5146.113453</td>\n",
       "    </tr>\n",
       "    <tr>\n",
       "      <th>27536</th>\n",
       "      <td>55068</td>\n",
       "      <td>5287.034933</td>\n",
       "    </tr>\n",
       "  </tbody>\n",
       "</table>\n",
       "<p>27537 rows × 2 columns</p>\n",
       "</div>"
      ],
      "text/plain": [
       "          id          pred\n",
       "0      27532   9211.745829\n",
       "1      27533   5638.017983\n",
       "2      27534   5378.844623\n",
       "3      27535  18263.872975\n",
       "4      27536   4245.195615\n",
       "...      ...           ...\n",
       "27532  55064  10014.768978\n",
       "27533  55065   8761.781589\n",
       "27534  55066   6072.441981\n",
       "27535  55067   5146.113453\n",
       "27536  55068   5287.034933\n",
       "\n",
       "[27537 rows x 2 columns]"
      ]
     },
     "execution_count": 10,
     "metadata": {},
     "output_type": "execute_result"
    }
   ],
   "source": [
    "# ===================================================================\n",
    "#  test\n",
    "# ===================================================================\n",
    "oof_df[[\"id\", \"pred\"]].to_csv(CFG.save_dir+f\"oof_df_{CFG.filename}.csv\", index=False, header=None)\n",
    "test_df[[\"id\", \"pred\"]].to_csv(CFG.save_dir+f\"{CFG.filename}.csv\", index=False, header=None)\n",
    "test_df[[\"id\", \"pred\"]]"
   ]
  }
 ],
 "metadata": {
  "kernelspec": {
   "display_name": "Python 3",
   "language": "python",
   "name": "python3"
  },
  "language_info": {
   "codemirror_mode": {
    "name": "ipython",
    "version": 3
   },
   "file_extension": ".py",
   "mimetype": "text/x-python",
   "name": "python",
   "nbconvert_exporter": "python",
   "pygments_lexer": "ipython3",
   "version": "3.11.4"
  },
  "orig_nbformat": 4
 },
 "nbformat": 4,
 "nbformat_minor": 2
}
