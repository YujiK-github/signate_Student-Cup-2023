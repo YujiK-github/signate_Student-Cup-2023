{
 "cells": [
  {
   "cell_type": "code",
   "execution_count": 3,
   "metadata": {},
   "outputs": [],
   "source": [
    "# ===================================================================\n",
    "#  Library\n",
    "# ===================================================================\n",
    "import os\n",
    "import random\n",
    "import numpy as np\n",
    "import pandas as pd\n",
    "import matplotlib.pyplot as plt\n",
    "import seaborn as sns\n",
    "\n",
    "from sklearn.metrics import mean_absolute_percentage_error\n",
    "from iterstrat.ml_stratifiers import MultilabelStratifiedKFold\n",
    "import warnings\n",
    "warnings.simplefilter(\"ignore\")\n",
    "\n",
    "import unicodedata\n",
    "\n",
    "import lightgbm as lgb"
   ]
  },
  {
   "cell_type": "code",
   "execution_count": 4,
   "metadata": {},
   "outputs": [],
   "source": [
    "# ===================================================================\n",
    "#  CFG\n",
    "# ===================================================================\n",
    "class CFG:\n",
    "    seed = 42\n",
    "    n_splits = 10\n",
    "    data_dir = \"G:/マイドライブ/signate_StudentCup2023/data/\"\n",
    "    target_bins = 10\n",
    "    year_bins = 10\n",
    "    num_boost_round = 10000\n",
    "    stopping_rounds = 500\n",
    "    save_dir = \"G:/マイドライブ/signate_StudentCup2023/exp/\""
   ]
  },
  {
   "cell_type": "code",
   "execution_count": 5,
   "metadata": {},
   "outputs": [],
   "source": [
    "# ===================================================================\n",
    "#  Utils\n",
    "# ===================================================================\n",
    "def seed_everything(seed):\n",
    "    \"\"\"fix random factors\"\"\"\n",
    "    random.seed(seed)\n",
    "    np.random.seed(seed)\n",
    "    os.environ['PYTHONHASHSEED'] = str(seed)\n",
    "    \n",
    "\n",
    "def get_score(y_true, y_pred):\n",
    "    \"\"\"get MAPE score\"\"\"\n",
    "    score = mean_absolute_percentage_error(y_true, y_pred)\n",
    "    return score * 100"
   ]
  },
  {
   "cell_type": "code",
   "execution_count": 6,
   "metadata": {},
   "outputs": [],
   "source": [
    "# ===================================================================\n",
    "#  Data Loading\n",
    "# ===================================================================\n",
    "train = pd.read_csv(CFG.data_dir+\"train.csv\")\n",
    "test = pd.read_csv(CFG.data_dir+\"test.csv\")\n",
    "\n",
    "train[\"flag\"] = \"train\"\n",
    "test[\"flag\"] = \"test\"\n",
    "all_data = pd.concat([train, test], ignore_index=True)"
   ]
  },
  {
   "cell_type": "code",
   "execution_count": 7,
   "metadata": {},
   "outputs": [],
   "source": [
    "# ===================================================================\n",
    "#  feature_engineering\n",
    "# ===================================================================\n",
    "# region\n",
    "\n",
    "# year\n",
    "def pre_year(df: pd.DataFrame):\n",
    "    year_dict = {\n",
    "        2999:1999,\n",
    "        3008:2008,\n",
    "        3015:2015,\n",
    "        3017:2017,\n",
    "        3011:2011,\n",
    "        3019:2019,\n",
    "    }\n",
    "    df[\"year\"] = df[\"year\"].replace(year_dict)\n",
    "    return df\n",
    "\n",
    "all_data = pre_year(all_data)\n",
    "\n",
    "# manufacturer\n",
    "def convert_full_to_half(row):\n",
    "    return unicodedata.normalize('NFKC', row)\n",
    "\n",
    "all_data[\"manufacturer\"] = all_data[\"manufacturer\"].str.lower().apply(convert_full_to_half)\n",
    "\n",
    "# condition\n",
    "\n",
    "# cylinders\n",
    "\n",
    "# fuel\n",
    "\n",
    "# odometer\n",
    "\n",
    "# title_status\n",
    "\n",
    "# transmission\n",
    "\n",
    "# drive\n",
    "\n",
    "# size\n",
    "def pre_size(df: pd.DataFrame):\n",
    "    size_dict = {\n",
    "        \"fullーsize\":\"full-size\",\n",
    "        \"midーsize\":\"mid-size\",\n",
    "        \"subーcompact\":\"sub-compact\",\n",
    "        \"full−size\":\"full-size\",\n",
    "        \"mid−size\":\"mid-size\"\n",
    "    }\n",
    "    df[\"size\"] = df[\"size\"].replace(size_dict)\n",
    "    return df\n",
    "\n",
    "all_data = pre_size(all_data)\n",
    "\n",
    "# type\n",
    "\n",
    "# paint_color\n",
    "\n",
    "# state"
   ]
  },
  {
   "cell_type": "code",
   "execution_count": 8,
   "metadata": {},
   "outputs": [],
   "source": [
    "CFG.use_features = ['region', 'year', 'manufacturer', 'condition', 'cylinders', 'fuel', 'odometer', 'title_status', \n",
    "                    'transmission', 'drive', 'size', 'type', 'paint_color', 'state']\n",
    "\n",
    "CFG.categorical_features = ['region', 'manufacturer', 'condition', 'cylinders', 'fuel', 'title_status', 'transmission', \n",
    "                            'drive', 'size', 'type', 'paint_color', 'state']"
   ]
  },
  {
   "cell_type": "code",
   "execution_count": 9,
   "metadata": {},
   "outputs": [],
   "source": [
    "for col in CFG.categorical_features:\n",
    "    all_data[col] = all_data[col].astype(\"category\")"
   ]
  },
  {
   "cell_type": "code",
   "execution_count": 10,
   "metadata": {},
   "outputs": [
    {
     "data": {
      "text/plain": [
       "0.0    2754\n",
       "8.0    2754\n",
       "6.0    2753\n",
       "4.0    2753\n",
       "2.0    2753\n",
       "5.0    2753\n",
       "9.0    2753\n",
       "1.0    2753\n",
       "3.0    2753\n",
       "7.0    2753\n",
       "Name: fold, dtype: int64"
      ]
     },
     "execution_count": 10,
     "metadata": {},
     "output_type": "execute_result"
    }
   ],
   "source": [
    "# ===================================================================\n",
    "#  train test split\n",
    "# ===================================================================\n",
    "train = all_data[all_data[\"flag\"] == \"train\"].reset_index(drop=True)\n",
    "test = all_data[all_data[\"flag\"] == \"test\"].reset_index(drop=True)\n",
    "\n",
    "\n",
    "train.sort_values(by=\"id\", ignore_index=True, inplace=True)\n",
    "train[\"year_map\"] = pd.cut(train[\"year\"], bins=CFG.year_bins, labels=False)\n",
    "train[\"price_map\"] = pd.cut(train[\"price\"], bins=CFG.target_bins, labels=False)\n",
    "\n",
    "kf = MultilabelStratifiedKFold(n_splits=CFG.n_splits, shuffle=True, random_state=CFG.seed)\n",
    "for i, (_, val) in enumerate(kf.split(X=train, y=train[[\"year_map\", \"price_map\"]])):\n",
    "    train.loc[val, \"fold\"] = i\n",
    "    \n",
    "train[\"fold\"].value_counts()"
   ]
  },
  {
   "cell_type": "code",
   "execution_count": 11,
   "metadata": {},
   "outputs": [
    {
     "name": "stdout",
     "output_type": "stream",
     "text": [
      "(27532, 20)\n",
      "fold0: 66.69956649984202\n",
      "fold1: 67.92362450090357\n",
      "fold2: 66.22901908410506\n",
      "fold3: 63.78290094048808\n",
      "fold4: 67.35737751383894\n",
      "fold5: 66.24238925668622\n",
      "fold6: 65.28325076668816\n",
      "fold7: 65.22720428200442\n",
      "fold8: 66.99508490690361\n",
      "fold9: 65.44904359564659\n",
      "\u001b[32m====== CV score ======\u001b[0m\n",
      "\u001b[32m66.11899904620047\u001b[0m\n"
     ]
    }
   ],
   "source": [
    "# ===================================================================\n",
    "#  model\n",
    "# ===================================================================\n",
    "preds, oof_df, feature_importance_df = [], pd.DataFrame(), pd.DataFrame()\n",
    "feature_importance_df[\"feature\"] = CFG.use_features\n",
    "print(train.shape)\n",
    "for fold in range(CFG.n_splits):\n",
    "    X_train = train[train[\"fold\"] != fold].reset_index(drop=True)\n",
    "    X_valid = train[train[\"fold\"] == fold].reset_index(drop=True)\n",
    "    \n",
    "    # params\n",
    "    lgb_param = {\n",
    "        \"objective\": \"regression\",\n",
    "        \"metric\": 'mape',\n",
    "        \"verbosity\": -1,\n",
    "        \"seed\" : CFG.seed,\n",
    "        }\n",
    "    \n",
    "    # train\n",
    "    lgb_train = lgb.Dataset(X_train[CFG.use_features], X_train[\"price\"], categorical_feature = CFG.categorical_features,)\n",
    "    lgb_valid = lgb.Dataset(X_valid[CFG.use_features], X_valid[\"price\"], categorical_feature = CFG.categorical_features,)\n",
    "    \n",
    "    model = lgb.train(\n",
    "                    lgb_param, \n",
    "                    lgb_train, \n",
    "                    num_boost_round=CFG.num_boost_round, \n",
    "                    valid_sets=[lgb_valid],\n",
    "                    categorical_feature = CFG.categorical_features,\n",
    "                    callbacks=[lgb.early_stopping(stopping_rounds=CFG.stopping_rounds, verbose=False)],\n",
    "                    )\n",
    "    \n",
    "    # feature importance\n",
    "    feature_importance_df[f\"importance_fold{fold}\"] = model.feature_importance(importance_type='gain')\n",
    "    \n",
    "    # eval\n",
    "    X_valid[f\"pred\"] = model.predict(X_valid[CFG.use_features])\n",
    "    print(f\"fold{fold}:\", get_score(y_true=X_valid[\"price\"], y_pred=X_valid[\"pred\"]))\n",
    "    \n",
    "    # concat\n",
    "    oof_df = pd.concat([oof_df, X_valid], ignore_index=True)\n",
    "    \n",
    "    # pred test\n",
    "    preds.append(model.predict(test[CFG.use_features]))\n",
    "    \n",
    "print('\\033[32m'+\"====== CV score ======\"+'\\033[0m')\n",
    "print('\\033[32m'+f'{get_score(oof_df[\"price\"], oof_df[\"pred\"])}'+'\\033[0m')\n",
    "predictions = np.mean(preds, axis=0)"
   ]
  },
  {
   "cell_type": "code",
   "execution_count": 12,
   "metadata": {},
   "outputs": [
    {
     "data": {
      "image/png": "[encoded data removed]",
      "text/plain": [
       "<Figure size 576x1152 with 1 Axes>"
      ]
     },
     "metadata": {
      "needs_background": "light"
     },
     "output_type": "display_data"
    }
   ],
   "source": [
    "# ===================================================================\n",
    "#  plot feature importance\n",
    "# ===================================================================\n",
    "feature_importance_df.fillna(value=0, inplace=True)\n",
    "feature_importance_df[\"average\"] = feature_importance_df.loc[:, 'importance_fold0':f'importance_fold{CFG.n_splits-1}'].mean(axis=1)\n",
    "best_features = feature_importance_df[[\"feature\", \"average\"]].groupby(\"feature\", as_index=False).mean().sort_values(by=\"average\", ascending=False).head(50)\n",
    "plt.figure(figsize=(8, 16))\n",
    "sns.barplot(x=\"average\", y=\"feature\", data=best_features)\n",
    "plt.title('Features importance (averaged/folds)')\n",
    "plt.tight_layout()"
   ]
  },
  {
   "cell_type": "code",
   "execution_count": 13,
   "metadata": {},
   "outputs": [
    {
     "data": {
      "text/plain": [
       "0    11812.584773\n",
       "1     9005.077913\n",
       "2     6985.415473\n",
       "3    27375.217721\n",
       "4     9446.593988\n",
       "Name: pred, dtype: float64"
      ]
     },
     "execution_count": 13,
     "metadata": {},
     "output_type": "execute_result"
    }
   ],
   "source": [
    "test[\"pred\"] = predictions\n",
    "test[\"pred\"].head()"
   ]
  },
  {
   "cell_type": "code",
   "execution_count": 14,
   "metadata": {},
   "outputs": [
    {
     "data": {
      "text/plain": [
       "(921.1264979184971, 62214.63934108465)"
      ]
     },
     "execution_count": 14,
     "metadata": {},
     "output_type": "execute_result"
    }
   ],
   "source": [
    "test[\"pred\"].min(), test[\"pred\"].max()"
   ]
  },
  {
   "cell_type": "code",
   "execution_count": 16,
   "metadata": {},
   "outputs": [],
   "source": [
    "CFG.filename = \"exp001\""
   ]
  },
  {
   "cell_type": "code",
   "execution_count": 17,
   "metadata": {},
   "outputs": [],
   "source": [
    "test[[\"id\", \"pred\"]].to_csv(CFG.save_dir+CFG.filename+\".csv\", index=False, header=None)"
   ]
  },
  {
   "cell_type": "code",
   "execution_count": 18,
   "metadata": {},
   "outputs": [],
   "source": [
    "oof_df.to_csv(CFG.save_dir+CFG.filename+\"_oof_df.csv\", index=False)"
   ]
  }
 ],
 "metadata": {
  "kernelspec": {
   "display_name": "Python 3",
   "language": "python",
   "name": "python3"
  },
  "language_info": {
   "codemirror_mode": {
    "name": "ipython",
    "version": 3
   },
   "file_extension": ".py",
   "mimetype": "text/x-python",
   "name": "python",
   "nbconvert_exporter": "python",
   "pygments_lexer": "ipython3",
   "version": "3.10.1"
  },
  "orig_nbformat": 4
 },
 "nbformat": 4,
 "nbformat_minor": 2
}
