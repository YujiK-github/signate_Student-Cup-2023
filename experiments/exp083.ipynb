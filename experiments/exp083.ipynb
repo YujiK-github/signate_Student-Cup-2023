{
 "cells": [
  {
   "cell_type": "code",
   "execution_count": 1,
   "metadata": {},
   "outputs": [],
   "source": [
    "# ===================================================================\n",
    "#  Library\n",
    "# ===================================================================\n",
    "import polars as pl\n",
    "import pandas as pd\n",
    "from sklearn.metrics import mean_absolute_percentage_error\n",
    "\n",
    "import warnings\n",
    "warnings.simplefilter(\"ignore\")\n",
    "\n",
    "import optuna\n",
    "import numpy as np"
   ]
  },
  {
   "cell_type": "code",
   "execution_count": 2,
   "metadata": {},
   "outputs": [],
   "source": [
    "# ===================================================================\n",
    "#  CFG\n",
    "# ===================================================================\n",
    "class CFG:\n",
    "    seed = 42\n",
    "    save_dir = \"G:/マイドライブ/signate_StudentCup2023/exp/\"\n",
    "    data_dir = \"G:/マイドライブ/signate_StudentCup2023/data/\"\n",
    "    filename = \"exp083\"\n",
    "    n_trials = 2000\n",
    "    n_seeds = 3"
   ]
  },
  {
   "cell_type": "code",
   "execution_count": 3,
   "metadata": {},
   "outputs": [],
   "source": [
    "# ===================================================================\n",
    "#  Utils\n",
    "# ===================================================================\n",
    "def get_score(y_true, y_pred):\n",
    "    \"\"\"get MAPE score\"\"\"\n",
    "    score = mean_absolute_percentage_error(y_true, y_pred)\n",
    "    return score * 100"
   ]
  },
  {
   "cell_type": "code",
   "execution_count": 4,
   "metadata": {},
   "outputs": [
    {
     "name": "stdout",
     "output_type": "stream",
     "text": [
      "\n",
      "\n",
      "\n",
      "\n"
     ]
    },
    {
     "data": {
      "text/html": [
       "<div><style>\n",
       ".dataframe > thead > tr > th,\n",
       ".dataframe > tbody > tr > td {\n",
       "  text-align: right;\n",
       "}\n",
       "</style>\n",
       "<small>shape: (5, 9)</small><table border=\"1\" class=\"dataframe\"><thead><tr><th>id</th><th>pred_0</th><th>pred_1</th><th>pred_2</th><th>pred_3</th><th>pred_4</th><th>pred_5</th><th>pred_6</th><th>price</th></tr><tr><td>i64</td><td>f64</td><td>f64</td><td>f64</td><td>f64</td><td>f64</td><td>f64</td><td>f64</td><td>i64</td></tr></thead><tbody><tr><td>0</td><td>8349.927994</td><td>8347.671992</td><td>8374.812648</td><td>8384.157015</td><td>8368.7128</td><td>8365.577188</td><td>8227.171</td><td>27587</td></tr><tr><td>1</td><td>3985.761719</td><td>4009.450083</td><td>3988.691655</td><td>3988.850911</td><td>3991.109782</td><td>4005.751997</td><td>3704.7322</td><td>4724</td></tr><tr><td>2</td><td>2918.185395</td><td>2933.057596</td><td>2921.001787</td><td>2921.707668</td><td>2917.474388</td><td>2941.156625</td><td>2834.8005</td><td>10931</td></tr><tr><td>3</td><td>8048.014373</td><td>8064.602372</td><td>8060.942061</td><td>8061.291081</td><td>8059.011798</td><td>8067.291115</td><td>8023.76</td><td>16553</td></tr><tr><td>4</td><td>4406.907983</td><td>4421.068587</td><td>4408.700347</td><td>4412.51081</td><td>4412.382296</td><td>4383.119601</td><td>4103.224</td><td>5158</td></tr></tbody></table></div>"
      ],
      "text/plain": [
       "shape: (5, 9)\n",
       "┌─────┬─────────────┬─────────────┬─────────────┬───┬─────────────┬────────────┬───────────┬───────┐\n",
       "│ id  ┆ pred_0      ┆ pred_1      ┆ pred_2      ┆ … ┆ pred_4      ┆ pred_5     ┆ pred_6    ┆ price │\n",
       "│ --- ┆ ---         ┆ ---         ┆ ---         ┆   ┆ ---         ┆ ---        ┆ ---       ┆ ---   │\n",
       "│ i64 ┆ f64         ┆ f64         ┆ f64         ┆   ┆ f64         ┆ f64        ┆ f64       ┆ i64   │\n",
       "╞═════╪═════════════╪═════════════╪═════════════╪═══╪═════════════╪════════════╪═══════════╪═══════╡\n",
       "│ 0   ┆ 8349.927994 ┆ 8347.671992 ┆ 8374.812648 ┆ … ┆ 8368.7128   ┆ 8365.57718 ┆ 8227.171  ┆ 27587 │\n",
       "│     ┆             ┆             ┆             ┆   ┆             ┆ 8          ┆           ┆       │\n",
       "│ 1   ┆ 3985.761719 ┆ 4009.450083 ┆ 3988.691655 ┆ … ┆ 3991.109782 ┆ 4005.75199 ┆ 3704.7322 ┆ 4724  │\n",
       "│     ┆             ┆             ┆             ┆   ┆             ┆ 7          ┆           ┆       │\n",
       "│ 2   ┆ 2918.185395 ┆ 2933.057596 ┆ 2921.001787 ┆ … ┆ 2917.474388 ┆ 2941.15662 ┆ 2834.8005 ┆ 10931 │\n",
       "│     ┆             ┆             ┆             ┆   ┆             ┆ 5          ┆           ┆       │\n",
       "│ 3   ┆ 8048.014373 ┆ 8064.602372 ┆ 8060.942061 ┆ … ┆ 8059.011798 ┆ 8067.29111 ┆ 8023.76   ┆ 16553 │\n",
       "│     ┆             ┆             ┆             ┆   ┆             ┆ 5          ┆           ┆       │\n",
       "│ 4   ┆ 4406.907983 ┆ 4421.068587 ┆ 4408.700347 ┆ … ┆ 4412.382296 ┆ 4383.11960 ┆ 4103.224  ┆ 5158  │\n",
       "│     ┆             ┆             ┆             ┆   ┆             ┆ 1          ┆           ┆       │\n",
       "└─────┴─────────────┴─────────────┴─────────────┴───┴─────────────┴────────────┴───────────┴───────┘"
      ]
     },
     "execution_count": 4,
     "metadata": {},
     "output_type": "execute_result"
    }
   ],
   "source": [
    "# ===================================================================\n",
    "#  DataLoading\n",
    "# ===================================================================\n",
    "train = pl.read_csv(CFG.data_dir+\"train.csv\", columns=[\"id\", \"price\"])\n",
    "\n",
    "df = pl.read_csv(CFG.save_dir+\"oof_df_exp072.csv\", columns=[\"id\", \"pred\"]).rename({\"pred\":f\"pred_{0}\"})\n",
    "files = [\"exp073\", \"exp074\", \"exp075\", \"exp076\", ]\n",
    "for i, f in enumerate(files, start=1):\n",
    "    print()\n",
    "    df = df.join(\n",
    "        pl.read_csv(CFG.save_dir+f\"oof_df_{f}.csv\", columns=[\"id\", \"pred\"]).rename({\"pred\":f\"pred_{i}\"}),\n",
    "        on=\"id\", how=\"left\"\n",
    "    )\n",
    "    \n",
    "df = df.join(\n",
    "    pl.read_csv(CFG.save_dir+\"kun_exp00061_oof_pred.csv\").rename({'oof_pred':f'pred_{len(files)+1}'}),\n",
    "    on=\"id\", how=\"left\",\n",
    ")\n",
    "df = df.join(\n",
    "    pl.read_csv(CFG.save_dir+\"kun_exp00062_oof_pred.csv\").rename({'oof_pred':f'pred_{len(files)+2}'}),\n",
    "    on=\"id\", how=\"left\",\n",
    ")\n",
    "\n",
    "df = df.join(\n",
    "    train, on=\"id\", how=\"left\"\n",
    ")\n",
    "\n",
    "df.head()"
   ]
  },
  {
   "cell_type": "code",
   "execution_count": 5,
   "metadata": {},
   "outputs": [
    {
     "data": {
      "application/vnd.jupyter.widget-view+json": {
       "model_id": "26ed71746cfd4f0a886b26592ff552d2",
       "version_major": 2,
       "version_minor": 0
      },
      "text/plain": [
       "  0%|          | 0/2000 [00:00<?, ?it/s]"
      ]
     },
     "metadata": {},
     "output_type": "display_data"
    },
    {
     "name": "stdout",
     "output_type": "stream",
     "text": [
      "Seed: 42, Best Value: 43.478900422112574, Best Params: {'a': 1.9815385598537837e-05, 'b': 0.00016814417224199918, 'c': 0.00017051349872371503, 'd': 0.6991764685212293, 'e': 3.0122240712575534e-05, 'f': 1.2696213634667646e-05, 'g': 0.3019175632077489}\n"
     ]
    },
    {
     "data": {
      "application/vnd.jupyter.widget-view+json": {
       "model_id": "4cda55bf091f4f93a43da5bdbe2e9560",
       "version_major": 2,
       "version_minor": 0
      },
      "text/plain": [
       "  0%|          | 0/2000 [00:00<?, ?it/s]"
      ]
     },
     "metadata": {},
     "output_type": "display_data"
    },
    {
     "name": "stdout",
     "output_type": "stream",
     "text": [
      "Seed: 43, Best Value: 43.47844292303129, Best Params: {'a': 2.189497664579112e-05, 'b': 0.008027233954657872, 'c': 0.6985160054090418, 'd': 1.77739840521753e-05, 'e': 5.7256427706773924e-05, 'f': 0.0001247399351806612, 'g': 0.2932941262509666}\n"
     ]
    },
    {
     "data": {
      "application/vnd.jupyter.widget-view+json": {
       "model_id": "47e5eacf4f5b406dbc25ff883e8af9f2",
       "version_major": 2,
       "version_minor": 0
      },
      "text/plain": [
       "  0%|          | 0/2000 [00:00<?, ?it/s]"
      ]
     },
     "metadata": {},
     "output_type": "display_data"
    },
    {
     "name": "stdout",
     "output_type": "stream",
     "text": [
      "Seed: 44, Best Value: 43.49546063371665, Best Params: {'a': 0.00010228621727726122, 'b': 0.06603857759829963, 'c': 0.8639204998134645, 'd': 6.353410800293052e-07, 'e': 2.6196529391739106e-05, 'f': 3.8418362629853626e-06, 'g': 0.06213669925164217}\n"
     ]
    }
   ],
   "source": [
    "# ===================================================================\n",
    "#  optuna\n",
    "# ===================================================================\n",
    "\n",
    "def objective(trial):\n",
    "    a = trial.suggest_float(\"a\", 1e-8, 1, log=True)\n",
    "    b = trial.suggest_float(\"b\", 1e-8, 1, log=True)\n",
    "    c = trial.suggest_float(\"c\", 1e-8, 1, log=True)\n",
    "    d = trial.suggest_float(\"d\", 1e-8, 1, log=True)\n",
    "    e = trial.suggest_float(\"e\", 1e-8, 1, log=True)\n",
    "    f = trial.suggest_float(\"f\", 1e-8, 1, log=True)\n",
    "    g = trial.suggest_float(\"g\", 1e-8, 1, log=True)\n",
    "    \n",
    "    \n",
    "    prediction = df[\"pred_0\"] * a +\\\n",
    "                 df[\"pred_1\"] * b +\\\n",
    "                 df[\"pred_2\"] * c +\\\n",
    "                 df[\"pred_3\"] * d +\\\n",
    "                 df[\"pred_4\"] * e +\\\n",
    "                 df[\"pred_5\"] * f +\\\n",
    "                 df[\"pred_6\"] * g\n",
    "                 \n",
    "    score = get_score(y_true=df[\"price\"], y_pred = prediction)\n",
    "    return score\n",
    "    \n",
    "optuna.logging.set_verbosity(optuna.logging.WARNING)\n",
    "\n",
    "# シードのリストを定義\n",
    "seeds = [seed for seed in range(CFG.seed, CFG.seed+CFG.n_seeds)]\n",
    "\n",
    "best_values = []\n",
    "best_params_list = []\n",
    "\n",
    "for seed in seeds:    \n",
    "    study = optuna.create_study(\n",
    "        direction=\"minimize\",\n",
    "        sampler=optuna.samplers.TPESampler(seed=seed)\n",
    "    )\n",
    "    study.optimize(objective, \n",
    "                   n_trials=CFG.n_trials, \n",
    "                   n_jobs = -1,\n",
    "                   show_progress_bar=True)\n",
    "    \n",
    "    best_value = study.best_value\n",
    "    best_params = study.best_params\n",
    "    \n",
    "    best_values.append(best_value)\n",
    "    best_params_list.append(best_params)\n",
    "    \n",
    "    print(f\"Seed: {seed}, Best Value: {best_value}, Best Params: {best_params}\")"
   ]
  },
  {
   "cell_type": "code",
   "execution_count": 6,
   "metadata": {},
   "outputs": [
    {
     "name": "stdout",
     "output_type": "stream",
     "text": [
      "Final Best Value: 43.47844292303129\n",
      "Final Best Params: {'a': 2.189497664579112e-05, 'b': 0.008027233954657872, 'c': 0.6985160054090418, 'd': 1.77739840521753e-05, 'e': 5.7256427706773924e-05, 'f': 0.0001247399351806612, 'g': 0.2932941262509666}\n"
     ]
    }
   ],
   "source": [
    "# 最も小さい best_value を持つ Study を探索\n",
    "best_index = np.argmin(best_values)\n",
    "best_params_final = best_params_list[best_index]\n",
    "best_value_final = best_values[best_index]\n",
    "\n",
    "print(\"Final Best Value:\", best_value_final)\n",
    "print(\"Final Best Params:\", best_params_final)"
   ]
  },
  {
   "cell_type": "code",
   "execution_count": 7,
   "metadata": {},
   "outputs": [
    {
     "data": {
      "text/html": [
       "<div><style>\n",
       ".dataframe > thead > tr > th,\n",
       ".dataframe > tbody > tr > td {\n",
       "  text-align: right;\n",
       "}\n",
       "</style>\n",
       "<small>shape: (5, 10)</small><table border=\"1\" class=\"dataframe\"><thead><tr><th>id</th><th>pred_0</th><th>pred_1</th><th>pred_2</th><th>pred_3</th><th>pred_4</th><th>pred_5</th><th>pred_6</th><th>price</th><th>pred</th></tr><tr><td>i64</td><td>f64</td><td>f64</td><td>f64</td><td>f64</td><td>f64</td><td>f64</td><td>f64</td><td>i64</td><td>f64</td></tr></thead><tbody><tr><td>0</td><td>8349.927994</td><td>8347.671992</td><td>8374.812648</td><td>8384.157015</td><td>8368.7128</td><td>8365.577188</td><td>8227.171</td><td>27587</td><td>5918.803918</td></tr><tr><td>1</td><td>3985.761719</td><td>4009.450083</td><td>3988.691655</td><td>3988.850911</td><td>3991.109782</td><td>4005.751997</td><td>3704.7322</td><td>4724</td><td>2819.236115</td></tr><tr><td>2</td><td>2918.185395</td><td>2933.057596</td><td>2921.001787</td><td>2921.707668</td><td>2917.474388</td><td>2941.156625</td><td>2834.8005</td><td>10931</td><td>2064.560587</td></tr><tr><td>3</td><td>8048.014373</td><td>8064.602372</td><td>8060.942061</td><td>8061.291081</td><td>8059.011798</td><td>8067.291115</td><td>8023.76</td><td>16553</td><td>5697.220734</td></tr><tr><td>4</td><td>4406.907983</td><td>4421.068587</td><td>4408.700347</td><td>4412.51081</td><td>4412.382296</td><td>4383.119601</td><td>4103.224</td><td>5158</td><td>3116.011012</td></tr></tbody></table></div>"
      ],
      "text/plain": [
       "shape: (5, 10)\n",
       "┌─────┬─────────────┬─────────────┬─────────────┬───┬─────────────┬───────────┬───────┬────────────┐\n",
       "│ id  ┆ pred_0      ┆ pred_1      ┆ pred_2      ┆ … ┆ pred_5      ┆ pred_6    ┆ price ┆ pred       │\n",
       "│ --- ┆ ---         ┆ ---         ┆ ---         ┆   ┆ ---         ┆ ---       ┆ ---   ┆ ---        │\n",
       "│ i64 ┆ f64         ┆ f64         ┆ f64         ┆   ┆ f64         ┆ f64       ┆ i64   ┆ f64        │\n",
       "╞═════╪═════════════╪═════════════╪═════════════╪═══╪═════════════╪═══════════╪═══════╪════════════╡\n",
       "│ 0   ┆ 8349.927994 ┆ 8347.671992 ┆ 8374.812648 ┆ … ┆ 8365.577188 ┆ 8227.171  ┆ 27587 ┆ 5918.80391 │\n",
       "│     ┆             ┆             ┆             ┆   ┆             ┆           ┆       ┆ 8          │\n",
       "│ 1   ┆ 3985.761719 ┆ 4009.450083 ┆ 3988.691655 ┆ … ┆ 4005.751997 ┆ 3704.7322 ┆ 4724  ┆ 2819.23611 │\n",
       "│     ┆             ┆             ┆             ┆   ┆             ┆           ┆       ┆ 5          │\n",
       "│ 2   ┆ 2918.185395 ┆ 2933.057596 ┆ 2921.001787 ┆ … ┆ 2941.156625 ┆ 2834.8005 ┆ 10931 ┆ 2064.56058 │\n",
       "│     ┆             ┆             ┆             ┆   ┆             ┆           ┆       ┆ 7          │\n",
       "│ 3   ┆ 8048.014373 ┆ 8064.602372 ┆ 8060.942061 ┆ … ┆ 8067.291115 ┆ 8023.76   ┆ 16553 ┆ 5697.22073 │\n",
       "│     ┆             ┆             ┆             ┆   ┆             ┆           ┆       ┆ 4          │\n",
       "│ 4   ┆ 4406.907983 ┆ 4421.068587 ┆ 4408.700347 ┆ … ┆ 4383.119601 ┆ 4103.224  ┆ 5158  ┆ 3116.01101 │\n",
       "│     ┆             ┆             ┆             ┆   ┆             ┆           ┆       ┆ 2          │\n",
       "└─────┴─────────────┴─────────────┴─────────────┴───┴─────────────┴───────────┴───────┴────────────┘"
      ]
     },
     "metadata": {},
     "output_type": "display_data"
    }
   ],
   "source": [
    "# ===================================================================\n",
    "#  oof_df\n",
    "# ===================================================================\n",
    "prediction = df[\"pred_0\"] * best_params_final[\"a\"] +\\\n",
    "             df[\"pred_1\"] * best_params_final[\"b\"] +\\\n",
    "             df[\"pred_2\"] * best_params_final[\"c\"] +\\\n",
    "             df[\"pred_3\"] * best_params_final[\"d\"] +\\\n",
    "             df[\"pred_4\"] * best_params_final[\"e\"] +\\\n",
    "             df[\"pred_5\"] * best_params_final[\"f\"]\n",
    "\n",
    "df = df.with_columns(\n",
    "    pl.Series(prediction).alias(\"pred\")\n",
    ")\n",
    "df[[\"id\", \"pred\"]].write_csv(CFG.save_dir+f\"oof_df_{CFG.filename}.csv\", has_header=True)\n",
    "display(df.head())"
   ]
  },
  {
   "cell_type": "code",
   "execution_count": 8,
   "metadata": {},
   "outputs": [
    {
     "data": {
      "text/html": [
       "<div><style>\n",
       ".dataframe > thead > tr > th,\n",
       ".dataframe > tbody > tr > td {\n",
       "  text-align: right;\n",
       "}\n",
       "</style>\n",
       "<small>shape: (5, 8)</small><table border=\"1\" class=\"dataframe\"><thead><tr><th>id</th><th>pred_0</th><th>pred_1</th><th>pred_2</th><th>pred_3</th><th>pred_4</th><th>pred_5</th><th>pred_6</th></tr><tr><td>i64</td><td>f64</td><td>f64</td><td>f64</td><td>f64</td><td>f64</td><td>f64</td><td>f64</td></tr></thead><tbody><tr><td>27532</td><td>9219.200678</td><td>9262.398861</td><td>9209.845453</td><td>9211.657631</td><td>9201.403646</td><td>9222.758846</td><td>8606.683365</td></tr><tr><td>27533</td><td>5555.610927</td><td>5570.955783</td><td>5546.121886</td><td>5550.776992</td><td>5544.537385</td><td>5569.564552</td><td>5412.844072</td></tr><tr><td>27534</td><td>5653.424701</td><td>5681.220795</td><td>5667.925276</td><td>5667.435425</td><td>5669.104669</td><td>5680.045525</td><td>5585.359034</td></tr><tr><td>27535</td><td>18752.937246</td><td>18712.89727</td><td>18594.4331</td><td>18620.599651</td><td>18594.588899</td><td>18570.819391</td><td>19174.202965</td></tr><tr><td>27536</td><td>4234.809532</td><td>4254.344876</td><td>4254.846798</td><td>4256.454343</td><td>4253.998513</td><td>4246.374616</td><td>4395.118442</td></tr></tbody></table></div>"
      ],
      "text/plain": [
       "shape: (5, 8)\n",
       "┌───────┬────────────┬────────────┬────────────┬────────────┬────────────┬────────────┬────────────┐\n",
       "│ id    ┆ pred_0     ┆ pred_1     ┆ pred_2     ┆ pred_3     ┆ pred_4     ┆ pred_5     ┆ pred_6     │\n",
       "│ ---   ┆ ---        ┆ ---        ┆ ---        ┆ ---        ┆ ---        ┆ ---        ┆ ---        │\n",
       "│ i64   ┆ f64        ┆ f64        ┆ f64        ┆ f64        ┆ f64        ┆ f64        ┆ f64        │\n",
       "╞═══════╪════════════╪════════════╪════════════╪════════════╪════════════╪════════════╪════════════╡\n",
       "│ 27532 ┆ 9219.20067 ┆ 9262.39886 ┆ 9209.84545 ┆ 9211.65763 ┆ 9201.40364 ┆ 9222.75884 ┆ 8606.68336 │\n",
       "│       ┆ 8          ┆ 1          ┆ 3          ┆ 1          ┆ 6          ┆ 6          ┆ 5          │\n",
       "│ 27533 ┆ 5555.61092 ┆ 5570.95578 ┆ 5546.12188 ┆ 5550.77699 ┆ 5544.53738 ┆ 5569.56455 ┆ 5412.84407 │\n",
       "│       ┆ 7          ┆ 3          ┆ 6          ┆ 2          ┆ 5          ┆ 2          ┆ 2          │\n",
       "│ 27534 ┆ 5653.42470 ┆ 5681.22079 ┆ 5667.92527 ┆ 5667.43542 ┆ 5669.10466 ┆ 5680.04552 ┆ 5585.35903 │\n",
       "│       ┆ 1          ┆ 5          ┆ 6          ┆ 5          ┆ 9          ┆ 5          ┆ 4          │\n",
       "│ 27535 ┆ 18752.9372 ┆ 18712.8972 ┆ 18594.4331 ┆ 18620.5996 ┆ 18594.5888 ┆ 18570.8193 ┆ 19174.2029 │\n",
       "│       ┆ 46         ┆ 7          ┆            ┆ 51         ┆ 99         ┆ 91         ┆ 65         │\n",
       "│ 27536 ┆ 4234.80953 ┆ 4254.34487 ┆ 4254.84679 ┆ 4256.45434 ┆ 4253.99851 ┆ 4246.37461 ┆ 4395.11844 │\n",
       "│       ┆ 2          ┆ 6          ┆ 8          ┆ 3          ┆ 3          ┆ 6          ┆ 2          │\n",
       "└───────┴────────────┴────────────┴────────────┴────────────┴────────────┴────────────┴────────────┘"
      ]
     },
     "metadata": {},
     "output_type": "display_data"
    },
    {
     "data": {
      "text/html": [
       "<div><style>\n",
       ".dataframe > thead > tr > th,\n",
       ".dataframe > tbody > tr > td {\n",
       "  text-align: right;\n",
       "}\n",
       "</style>\n",
       "<small>shape: (2, 2)</small><table border=\"1\" class=\"dataframe\"><thead><tr><th>id</th><th>pred</th></tr><tr><td>i64</td><td>f64</td></tr></thead><tbody><tr><td>27532</td><td>6509.618767</td></tr><tr><td>27533</td><td>3920.006778</td></tr></tbody></table></div>"
      ],
      "text/plain": [
       "shape: (2, 2)\n",
       "┌───────┬─────────────┐\n",
       "│ id    ┆ pred        │\n",
       "│ ---   ┆ ---         │\n",
       "│ i64   ┆ f64         │\n",
       "╞═══════╪═════════════╡\n",
       "│ 27532 ┆ 6509.618767 │\n",
       "│ 27533 ┆ 3920.006778 │\n",
       "└───────┴─────────────┘"
      ]
     },
     "execution_count": 8,
     "metadata": {},
     "output_type": "execute_result"
    }
   ],
   "source": [
    "# ===================================================================\n",
    "#  test\n",
    "# ===================================================================\n",
    "test = pl.read_csv(CFG.save_dir+f\"exp072.csv\", has_header=False).rename({\"column_1\":\"id\", \"column_2\":\"pred\"}).sort(\"id\").rename({\"pred\":f\"pred_{0}\"})\n",
    "files = [\"exp073.csv\", \"exp074.csv\", \"exp075.csv\", \"exp076.csv\", \"kun_exp00061.csv\", \"kun_exp00062.csv\"]\n",
    "for i, f in enumerate(files, start=1):\n",
    "    test = test.join(\n",
    "        pl.read_csv(CFG.save_dir+f, has_header=False).rename({\"column_1\":\"id\", \"column_2\":\"pred\"}).rename({\"pred\":f\"pred_{i}\"}),\n",
    "        on=\"id\", how=\"left\"\n",
    "    )\n",
    "display(test.head())\n",
    "\n",
    "prediction = test[\"pred_0\"] * best_params_final[\"a\"] +\\\n",
    "                 test[\"pred_1\"] * best_params_final[\"b\"] +\\\n",
    "                 test[\"pred_2\"] * best_params_final[\"c\"] +\\\n",
    "                 test[\"pred_3\"] * best_params_final[\"d\"] +\\\n",
    "                 test[\"pred_4\"] * best_params_final[\"e\"] +\\\n",
    "                 test[\"pred_5\"] * best_params_final[\"f\"]\n",
    "                 \n",
    "test = test.with_columns(\n",
    "    prediction.alias(\"pred\")\n",
    ")\n",
    "                     \n",
    "test[[\"id\", \"pred\"]].write_csv(CFG.save_dir+f\"{CFG.filename}.csv\", has_header=False)\n",
    "test[[\"id\", \"pred\"]].head(2)"
   ]
  },
  {
   "cell_type": "code",
   "execution_count": null,
   "metadata": {},
   "outputs": [],
   "source": []
  }
 ],
 "metadata": {
  "kernelspec": {
   "display_name": "Python 3",
   "language": "python",
   "name": "python3"
  },
  "language_info": {
   "codemirror_mode": {
    "name": "ipython",
    "version": 3
   },
   "file_extension": ".py",
   "mimetype": "text/x-python",
   "name": "python",
   "nbconvert_exporter": "python",
   "pygments_lexer": "ipython3",
   "version": "3.11.4"
  },
  "orig_nbformat": 4
 },
 "nbformat": 4,
 "nbformat_minor": 2
}
