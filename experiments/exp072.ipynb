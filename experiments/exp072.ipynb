{
 "cells": [
  {
   "cell_type": "code",
   "execution_count": 1,
   "metadata": {},
   "outputs": [],
   "source": [
    "# ===================================================================\n",
    "#  Library\n",
    "# ===================================================================\n",
    "import polars as pl\n",
    "import pandas as pd\n",
    "from sklearn.metrics import mean_absolute_percentage_error\n",
    "\n",
    "import warnings\n",
    "warnings.simplefilter(\"ignore\")\n",
    "\n",
    "import optuna\n",
    "import numpy as np"
   ]
  },
  {
   "cell_type": "code",
   "execution_count": 2,
   "metadata": {},
   "outputs": [],
   "source": [
    "# ===================================================================\n",
    "#  CFG\n",
    "# ===================================================================\n",
    "class CFG:\n",
    "    seed = 42\n",
    "    save_dir = \"G:/マイドライブ/signate_StudentCup2023/exp/\"\n",
    "    data_dir = \"G:/マイドライブ/signate_StudentCup2023/data/\"\n",
    "    filename = \"exp072\"\n",
    "    n_trials = 2000\n",
    "    n_seeds = 3"
   ]
  },
  {
   "cell_type": "code",
   "execution_count": 3,
   "metadata": {},
   "outputs": [],
   "source": [
    "# ===================================================================\n",
    "#  Utils\n",
    "# ===================================================================\n",
    "def get_score(y_true, y_pred):\n",
    "    \"\"\"get MAPE score\"\"\"\n",
    "    score = mean_absolute_percentage_error(y_true, y_pred)\n",
    "    return score * 100"
   ]
  },
  {
   "cell_type": "code",
   "execution_count": 4,
   "metadata": {},
   "outputs": [
    {
     "data": {
      "text/html": [
       "<div><style>\n",
       ".dataframe > thead > tr > th,\n",
       ".dataframe > tbody > tr > td {\n",
       "  text-align: right;\n",
       "}\n",
       "</style>\n",
       "<small>shape: (5, 8)</small><table border=\"1\" class=\"dataframe\"><thead><tr><th>id</th><th>pred_0</th><th>pred_1</th><th>pred_2</th><th>pred_3</th><th>pred_4</th><th>pred_5</th><th>price</th></tr><tr><td>i64</td><td>f64</td><td>f64</td><td>f64</td><td>f64</td><td>f64</td><td>f64</td><td>i64</td></tr></thead><tbody><tr><td>0</td><td>8759.290471</td><td>8929.546032</td><td>8916.322165</td><td>8977.757097</td><td>8805.219623</td><td>7895.416</td><td>27587</td></tr><tr><td>1</td><td>3859.910547</td><td>3825.508199</td><td>3822.104706</td><td>3876.047282</td><td>3799.844508</td><td>4177.358</td><td>4724</td></tr><tr><td>2</td><td>3027.760649</td><td>3049.493176</td><td>2982.516292</td><td>3056.648628</td><td>2959.861854</td><td>2818.1372</td><td>10931</td></tr><tr><td>3</td><td>7990.517289</td><td>8005.600906</td><td>7993.295606</td><td>7894.338559</td><td>7934.6545</td><td>8179.846</td><td>16553</td></tr><tr><td>4</td><td>4524.287997</td><td>4479.006617</td><td>4569.630683</td><td>4570.899182</td><td>4461.927715</td><td>4321.6885</td><td>5158</td></tr></tbody></table></div>"
      ],
      "text/plain": [
       "shape: (5, 8)\n",
       "┌─────┬─────────────┬─────────────┬─────────────┬─────────────┬─────────────┬───────────┬───────┐\n",
       "│ id  ┆ pred_0      ┆ pred_1      ┆ pred_2      ┆ pred_3      ┆ pred_4      ┆ pred_5    ┆ price │\n",
       "│ --- ┆ ---         ┆ ---         ┆ ---         ┆ ---         ┆ ---         ┆ ---       ┆ ---   │\n",
       "│ i64 ┆ f64         ┆ f64         ┆ f64         ┆ f64         ┆ f64         ┆ f64       ┆ i64   │\n",
       "╞═════╪═════════════╪═════════════╪═════════════╪═════════════╪═════════════╪═══════════╪═══════╡\n",
       "│ 0   ┆ 8759.290471 ┆ 8929.546032 ┆ 8916.322165 ┆ 8977.757097 ┆ 8805.219623 ┆ 7895.416  ┆ 27587 │\n",
       "│ 1   ┆ 3859.910547 ┆ 3825.508199 ┆ 3822.104706 ┆ 3876.047282 ┆ 3799.844508 ┆ 4177.358  ┆ 4724  │\n",
       "│ 2   ┆ 3027.760649 ┆ 3049.493176 ┆ 2982.516292 ┆ 3056.648628 ┆ 2959.861854 ┆ 2818.1372 ┆ 10931 │\n",
       "│ 3   ┆ 7990.517289 ┆ 8005.600906 ┆ 7993.295606 ┆ 7894.338559 ┆ 7934.6545   ┆ 8179.846  ┆ 16553 │\n",
       "│ 4   ┆ 4524.287997 ┆ 4479.006617 ┆ 4569.630683 ┆ 4570.899182 ┆ 4461.927715 ┆ 4321.6885 ┆ 5158  │\n",
       "└─────┴─────────────┴─────────────┴─────────────┴─────────────┴─────────────┴───────────┴───────┘"
      ]
     },
     "execution_count": 4,
     "metadata": {},
     "output_type": "execute_result"
    }
   ],
   "source": [
    "# ===================================================================\n",
    "#  DataLoading\n",
    "# ===================================================================\n",
    "train = pl.read_csv(CFG.data_dir+\"train.csv\", columns=[\"id\", \"price\"])\n",
    "\n",
    "df = pl.read_csv(CFG.save_dir+\"oof_df_exp051.csv\").rename({\"pred\":f\"pred_{0}\"})\n",
    "files = [\"exp052\", \"exp053\", \"exp054\"]\n",
    "for i, f in enumerate(files, start=1):\n",
    "    df = df.join(\n",
    "        pl.read_csv(CFG.save_dir+f\"oof_df_{f}.csv\").rename({\"pred\":f\"pred_{i}\"}),\n",
    "        on=\"id\", how=\"left\"\n",
    "    )\n",
    "    \n",
    "df = df.join(\n",
    "    pl.read_csv(CFG.save_dir+\"kun_exp00055_oof_pred.csv\").rename({'optimized_pred':f'pred_{len(files)+1}'}),\n",
    "    on=\"id\", how=\"left\",\n",
    ")\n",
    "\n",
    "df = df.join(\n",
    "    pl.read_csv(CFG.save_dir+\"kun_exp00056_oof_pred.csv\").rename({\"oof_pred\": f'pred_{len(files)+2}'}),\n",
    "    on=\"id\", how=\"left\",\n",
    ")\n",
    "\n",
    "df = df.join(\n",
    "    train, on=\"id\", how=\"left\"\n",
    ")\n",
    "\n",
    "df.head()"
   ]
  },
  {
   "cell_type": "code",
   "execution_count": 5,
   "metadata": {},
   "outputs": [
    {
     "data": {
      "application/vnd.jupyter.widget-view+json": {
       "model_id": "d208735f49ba428883ecf2d29e946b96",
       "version_major": 2,
       "version_minor": 0
      },
      "text/plain": [
       "  0%|          | 0/2000 [00:00<?, ?it/s]"
      ]
     },
     "metadata": {},
     "output_type": "display_data"
    },
    {
     "name": "stdout",
     "output_type": "stream",
     "text": [
      "Seed: 42, Best Value: 43.50338414202693, Best Params: {'a': 2.6232632697666626e-06, 'b': 1.1307496065858793e-08, 'c': 0.5322687710563295, 'd': 3.1460733405567695e-05, 'e': 0.4601138079833096}\n"
     ]
    },
    {
     "data": {
      "application/vnd.jupyter.widget-view+json": {
       "model_id": "e9b7520511e74bd6a959ee9ed941557d",
       "version_major": 2,
       "version_minor": 0
      },
      "text/plain": [
       "  0%|          | 0/2000 [00:00<?, ?it/s]"
      ]
     },
     "metadata": {},
     "output_type": "display_data"
    },
    {
     "name": "stdout",
     "output_type": "stream",
     "text": [
      "Seed: 43, Best Value: 43.5130476309392, Best Params: {'a': 0.36017774883382503, 'b': 7.585869331114354e-07, 'c': 1.2918768218298221e-07, 'd': 0.006442472449752265, 'e': 0.6303799178933577}\n"
     ]
    },
    {
     "data": {
      "application/vnd.jupyter.widget-view+json": {
       "model_id": "f234bccf93cd4f6d8826e24b6622e767",
       "version_major": 2,
       "version_minor": 0
      },
      "text/plain": [
       "  0%|          | 0/2000 [00:00<?, ?it/s]"
      ]
     },
     "metadata": {},
     "output_type": "display_data"
    },
    {
     "name": "stdout",
     "output_type": "stream",
     "text": [
      "Seed: 44, Best Value: 43.52500048336675, Best Params: {'a': 0.6978286559066503, 'b': 0.07217307163957125, 'c': 0.00015151108575444153, 'd': 0.00036326219769887, 'e': 0.23465710995989286}\n"
     ]
    }
   ],
   "source": [
    "# ===================================================================\n",
    "#  optuna\n",
    "# ===================================================================\n",
    "\n",
    "def objective(trial):\n",
    "    a = trial.suggest_float(\"a\", 1e-8, 1, log=True)\n",
    "    b = trial.suggest_float(\"b\", 1e-8, 1, log=True)\n",
    "    c = trial.suggest_float(\"c\", 1e-8, 1, log=True)\n",
    "    d = trial.suggest_float(\"d\", 1e-8, 1, log=True)\n",
    "    e = trial.suggest_float(\"e\", 1e-8, 1, log=True)\n",
    "    \n",
    "    prediction = df[\"pred_1\"] * a +\\\n",
    "                 df[\"pred_2\"] * b +\\\n",
    "                 df[\"pred_3\"] * c +\\\n",
    "                 df[\"pred_4\"] * d +\\\n",
    "                 df[\"pred_5\"] * e\n",
    "                      \n",
    "                      \n",
    "    score = get_score(y_true=df[\"price\"], y_pred = prediction)\n",
    "    return score\n",
    "    \n",
    "optuna.logging.set_verbosity(optuna.logging.WARNING)\n",
    "\n",
    "# シードのリストを定義\n",
    "seeds = [seed for seed in range(CFG.seed, CFG.seed+CFG.n_seeds)]\n",
    "\n",
    "best_values = []\n",
    "best_params_list = []\n",
    "\n",
    "for seed in seeds:    \n",
    "    study = optuna.create_study(\n",
    "        direction=\"minimize\",\n",
    "        sampler=optuna.samplers.TPESampler(seed=seed)\n",
    "    )\n",
    "    study.optimize(objective, \n",
    "                   n_trials=CFG.n_trials, \n",
    "                   n_jobs = -1,\n",
    "                   show_progress_bar=True)\n",
    "    \n",
    "    best_value = study.best_value\n",
    "    best_params = study.best_params\n",
    "    \n",
    "    best_values.append(best_value)\n",
    "    best_params_list.append(best_params)\n",
    "    \n",
    "    print(f\"Seed: {seed}, Best Value: {best_value}, Best Params: {best_params}\")"
   ]
  },
  {
   "cell_type": "code",
   "execution_count": 6,
   "metadata": {},
   "outputs": [
    {
     "name": "stdout",
     "output_type": "stream",
     "text": [
      "Final Best Value: 43.50338414202693\n",
      "Final Best Params: {'a': 2.6232632697666626e-06, 'b': 1.1307496065858793e-08, 'c': 0.5322687710563295, 'd': 3.1460733405567695e-05, 'e': 0.4601138079833096}\n"
     ]
    }
   ],
   "source": [
    "# 最も小さい best_value を持つ Study を探索\n",
    "best_index = np.argmin(best_values)\n",
    "best_params_final = best_params_list[best_index]\n",
    "best_value_final = best_values[best_index]\n",
    "\n",
    "print(\"Final Best Value:\", best_value_final)\n",
    "print(\"Final Best Params:\", best_params_final)"
   ]
  },
  {
   "cell_type": "code",
   "execution_count": 7,
   "metadata": {},
   "outputs": [
    {
     "data": {
      "text/html": [
       "<div><style>\n",
       ".dataframe > thead > tr > th,\n",
       ".dataframe > tbody > tr > td {\n",
       "  text-align: right;\n",
       "}\n",
       "</style>\n",
       "<small>shape: (5, 7)</small><table border=\"1\" class=\"dataframe\"><thead><tr><th>id</th><th>pred_0</th><th>pred_1</th><th>pred_2</th><th>pred_3</th><th>pred_4</th><th>pred_5</th></tr><tr><td>i64</td><td>f64</td><td>f64</td><td>f64</td><td>f64</td><td>f64</td><td>f64</td></tr></thead><tbody><tr><td>27532</td><td>9681.016732</td><td>9631.179775</td><td>9535.601879</td><td>9589.502294</td><td>9347.528622</td><td>8806.765109</td></tr><tr><td>27533</td><td>5589.905122</td><td>5625.972274</td><td>5579.913722</td><td>5696.370941</td><td>5473.58948</td><td>5556.561678</td></tr><tr><td>27534</td><td>5588.496733</td><td>5559.707831</td><td>5556.921123</td><td>5567.494508</td><td>5542.547482</td><td>5788.564407</td></tr><tr><td>27535</td><td>18539.01419</td><td>18585.315662</td><td>18690.825713</td><td>18540.038374</td><td>17815.695204</td><td>19133.043389</td></tr><tr><td>27536</td><td>4461.198006</td><td>4460.135571</td><td>4474.330698</td><td>4508.779351</td><td>4446.383701</td><td>4014.969884</td></tr></tbody></table></div>"
      ],
      "text/plain": [
       "shape: (5, 7)\n",
       "┌───────┬─────────────┬──────────────┬──────────────┬──────────────┬──────────────┬──────────────┐\n",
       "│ id    ┆ pred_0      ┆ pred_1       ┆ pred_2       ┆ pred_3       ┆ pred_4       ┆ pred_5       │\n",
       "│ ---   ┆ ---         ┆ ---          ┆ ---          ┆ ---          ┆ ---          ┆ ---          │\n",
       "│ i64   ┆ f64         ┆ f64          ┆ f64          ┆ f64          ┆ f64          ┆ f64          │\n",
       "╞═══════╪═════════════╪══════════════╪══════════════╪══════════════╪══════════════╪══════════════╡\n",
       "│ 27532 ┆ 9681.016732 ┆ 9631.179775  ┆ 9535.601879  ┆ 9589.502294  ┆ 9347.528622  ┆ 8806.765109  │\n",
       "│ 27533 ┆ 5589.905122 ┆ 5625.972274  ┆ 5579.913722  ┆ 5696.370941  ┆ 5473.58948   ┆ 5556.561678  │\n",
       "│ 27534 ┆ 5588.496733 ┆ 5559.707831  ┆ 5556.921123  ┆ 5567.494508  ┆ 5542.547482  ┆ 5788.564407  │\n",
       "│ 27535 ┆ 18539.01419 ┆ 18585.315662 ┆ 18690.825713 ┆ 18540.038374 ┆ 17815.695204 ┆ 19133.043389 │\n",
       "│ 27536 ┆ 4461.198006 ┆ 4460.135571  ┆ 4474.330698  ┆ 4508.779351  ┆ 4446.383701  ┆ 4014.969884  │\n",
       "└───────┴─────────────┴──────────────┴──────────────┴──────────────┴──────────────┴──────────────┘"
      ]
     },
     "metadata": {},
     "output_type": "display_data"
    },
    {
     "data": {
      "text/html": [
       "<div><style>\n",
       ".dataframe > thead > tr > th,\n",
       ".dataframe > tbody > tr > td {\n",
       "  text-align: right;\n",
       "}\n",
       "</style>\n",
       "<small>shape: (2, 2)</small><table border=\"1\" class=\"dataframe\"><thead><tr><th>id</th><th>pred</th></tr><tr><td>i64</td><td>f64</td></tr></thead><tbody><tr><td>27532</td><td>9156.626285</td></tr><tr><td>27533</td><td>5588.838138</td></tr></tbody></table></div>"
      ],
      "text/plain": [
       "shape: (2, 2)\n",
       "┌───────┬─────────────┐\n",
       "│ id    ┆ pred        │\n",
       "│ ---   ┆ ---         │\n",
       "│ i64   ┆ f64         │\n",
       "╞═══════╪═════════════╡\n",
       "│ 27532 ┆ 9156.626285 │\n",
       "│ 27533 ┆ 5588.838138 │\n",
       "└───────┴─────────────┘"
      ]
     },
     "execution_count": 7,
     "metadata": {},
     "output_type": "execute_result"
    }
   ],
   "source": [
    "# ===================================================================\n",
    "#  test\n",
    "# ===================================================================\n",
    "test = pl.read_csv(CFG.save_dir+f\"exp051.csv\", has_header=False).rename({\"column_1\":\"id\", \"column_2\":\"pred\"}).sort(\"id\").rename({\"pred\":f\"pred_{0}\"})\n",
    "files = [\"exp052.csv\", \"exp053.csv\", \"exp054.csv\", \"kun_exp00055.csv\", \"kun_exp00056.csv\"]\n",
    "for i, f in enumerate(files, start=1):\n",
    "    test = test.join(\n",
    "        pl.read_csv(CFG.save_dir+f, has_header=False).rename({\"column_1\":\"id\", \"column_2\":\"pred\"}).rename({\"pred\":f\"pred_{i}\"}),\n",
    "        on=\"id\", how=\"left\"\n",
    "    )\n",
    "display(test.head())\n",
    "\n",
    "prediction = test[\"pred_1\"] * best_params_final[\"a\"] +\\\n",
    "                 test[\"pred_2\"] * best_params_final[\"b\"] +\\\n",
    "                 test[\"pred_3\"] * best_params_final[\"c\"] +\\\n",
    "                 test[\"pred_4\"] * best_params_final[\"d\"] +\\\n",
    "                 test[\"pred_5\"] * best_params_final[\"e\"]\n",
    "                 \n",
    "test = test.with_columns(\n",
    "    prediction.alias(\"pred\")\n",
    ")\n",
    "                     \n",
    "test[[\"id\", \"pred\"]].write_csv(CFG.save_dir+f\"{CFG.filename}.csv\", has_header=False)\n",
    "test[[\"id\", \"pred\"]].head(2)"
   ]
  }
 ],
 "metadata": {
  "kernelspec": {
   "display_name": "Python 3",
   "language": "python",
   "name": "python3"
  },
  "language_info": {
   "codemirror_mode": {
    "name": "ipython",
    "version": 3
   },
   "file_extension": ".py",
   "mimetype": "text/x-python",
   "name": "python",
   "nbconvert_exporter": "python",
   "pygments_lexer": "ipython3",
   "version": "3.11.4"
  },
  "orig_nbformat": 4
 },
 "nbformat": 4,
 "nbformat_minor": 2
}
