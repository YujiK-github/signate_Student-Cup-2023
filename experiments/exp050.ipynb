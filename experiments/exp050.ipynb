{
 "cells": [
  {
   "cell_type": "code",
   "execution_count": 1,
   "metadata": {},
   "outputs": [],
   "source": [
    "# ===================================================================\n",
    "#  Library\n",
    "# ===================================================================\n",
    "import numpy as np\n",
    "import pandas as pd\n",
    "import polars as pl"
   ]
  },
  {
   "cell_type": "code",
   "execution_count": 2,
   "metadata": {},
   "outputs": [],
   "source": [
    "# ===================================================================\n",
    "#  CFG\n",
    "# ===================================================================\n",
    "class CFG:\n",
    "    seed = 42\n",
    "    save_dir = \"G:/マイドライブ/signate_StudentCup2023/exp/\"\n",
    "    data_dir = \"G:/マイドライブ/signate_StudentCup2023/data/\"\n",
    "    filename = \"exp050\""
   ]
  },
  {
   "cell_type": "code",
   "execution_count": 4,
   "metadata": {},
   "outputs": [],
   "source": [
    "# ===================================================================\n",
    "#  DataLoading and concat\n",
    "# ===================================================================\n",
    "filenames = [f\"exp0{f}\" for f in range(14, 24)] + [f\"exp0{f}\" for f in range(26, 36)] + [f\"exp0{f}\" for f in range(39, 49)]\n",
    "\n",
    "# oof_df\n",
    "for i, filename in enumerate(filenames):\n",
    "    path = CFG.save_dir+f\"oof_df_{filename}.csv\"\n",
    "    if i == 0:\n",
    "        oof_df = pl.read_csv(source=path, has_header=False).rename({\"column_1\":\"id\", \"column_2\":f\"pred_{i}\"})\n",
    "    else:\n",
    "        oof_df = oof_df.join(pl.read_csv(source=path, has_header=False).rename({\"column_1\":\"id\", \"column_2\":f\"pred_{i}\"}), \n",
    "                             on=\"id\", how=\"left\")\n",
    "oof_df.write_csv(CFG.save_dir+f\"oof_df_{CFG.filename}.csv\")\n",
    "        \n",
    "# test_df\n",
    "for i, filename in enumerate(filenames):\n",
    "    path = CFG.save_dir+f\"{filename}.csv\"\n",
    "    if i == 0:\n",
    "        test_df = pl.read_csv(source=path, has_header=False).rename({\"column_1\":\"id\", \"column_2\":f\"pred_{i}\"})\n",
    "    else:\n",
    "        test_df = test_df.join(pl.read_csv(source=path, has_header=False).rename({\"column_1\":\"id\", \"column_2\":f\"pred_{i}\"}), \n",
    "                             on=\"id\", how=\"left\")\n",
    "test_df.write_csv(CFG.save_dir+f\"{CFG.filename}.csv\")"
   ]
  }
 ],
 "metadata": {
  "kernelspec": {
   "display_name": "Python 3",
   "language": "python",
   "name": "python3"
  },
  "language_info": {
   "codemirror_mode": {
    "name": "ipython",
    "version": 3
   },
   "file_extension": ".py",
   "mimetype": "text/x-python",
   "name": "python",
   "nbconvert_exporter": "python",
   "pygments_lexer": "ipython3",
   "version": "3.11.4"
  },
  "orig_nbformat": 4
 },
 "nbformat": 4,
 "nbformat_minor": 2
}
