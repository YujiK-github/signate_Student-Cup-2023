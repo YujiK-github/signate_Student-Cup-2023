{
 "cells": [
  {
   "cell_type": "code",
   "execution_count": 1,
   "metadata": {},
   "outputs": [],
   "source": [
    "# ===================================================================\n",
    "#  Library\n",
    "# ===================================================================\n",
    "import polars as pl\n",
    "import pandas as pd\n",
    "from sklearn.metrics import mean_absolute_percentage_error\n",
    "\n",
    "import warnings\n",
    "warnings.simplefilter(\"ignore\")\n",
    "\n",
    "import optuna\n",
    "import numpy as np"
   ]
  },
  {
   "cell_type": "code",
   "execution_count": 2,
   "metadata": {},
   "outputs": [],
   "source": [
    "# ===================================================================\n",
    "#  CFG\n",
    "# ===================================================================\n",
    "class CFG:\n",
    "    seed = 42\n",
    "    save_dir = \"G:/マイドライブ/signate_StudentCup2023/exp/\"\n",
    "    data_dir = \"G:/マイドライブ/signate_StudentCup2023/data/\"\n",
    "    filename = \"exp081\"\n",
    "    n_trials = 2000\n",
    "    n_seeds = 3"
   ]
  },
  {
   "cell_type": "code",
   "execution_count": 3,
   "metadata": {},
   "outputs": [],
   "source": [
    "# ===================================================================\n",
    "#  Utils\n",
    "# ===================================================================\n",
    "def get_score(y_true, y_pred):\n",
    "    \"\"\"get MAPE score\"\"\"\n",
    "    score = mean_absolute_percentage_error(y_true, y_pred)\n",
    "    return score * 100"
   ]
  },
  {
   "cell_type": "code",
   "execution_count": 4,
   "metadata": {},
   "outputs": [
    {
     "data": {
      "text/html": [
       "<div><style>\n",
       ".dataframe > thead > tr > th,\n",
       ".dataframe > tbody > tr > td {\n",
       "  text-align: right;\n",
       "}\n",
       "</style>\n",
       "<small>shape: (5, 10)</small><table border=\"1\" class=\"dataframe\"><thead><tr><th>id</th><th>pred_0</th><th>pred_1</th><th>pred_2</th><th>pred_3</th><th>pred_4</th><th>pred_5</th><th>pred_6</th><th>pred_7</th><th>price</th></tr><tr><td>i64</td><td>f64</td><td>f64</td><td>f64</td><td>f64</td><td>f64</td><td>f64</td><td>f64</td><td>f64</td><td>i64</td></tr></thead><tbody><tr><td>0</td><td>8854.693376</td><td>9152.341955</td><td>8780.223598</td><td>8955.701853</td><td>8946.926107</td><td>9196.765168</td><td>7579.777693</td><td>9322.824825</td><td>27587</td></tr><tr><td>1</td><td>3869.563539</td><td>3864.146063</td><td>3878.933184</td><td>3892.975519</td><td>3870.646555</td><td>3885.20529</td><td>4001.311742</td><td>3891.99762</td><td>4724</td></tr><tr><td>2</td><td>3020.466736</td><td>2996.637993</td><td>3037.993605</td><td>3035.039709</td><td>3021.979636</td><td>3060.125866</td><td>2899.577998</td><td>2971.556923</td><td>10931</td></tr><tr><td>3</td><td>8014.619227</td><td>8068.601962</td><td>8042.945716</td><td>7945.924737</td><td>7996.75402</td><td>8007.789593</td><td>8312.877683</td><td>7959.507481</td><td>16553</td></tr><tr><td>4</td><td>4522.686418</td><td>4480.841914</td><td>4437.256123</td><td>4493.480177</td><td>4469.191551</td><td>4537.125697</td><td>4522.498509</td><td>4375.457013</td><td>5158</td></tr></tbody></table></div>"
      ],
      "text/plain": [
       "shape: (5, 10)\n",
       "┌─────┬─────────────┬─────────────┬─────────────┬───┬────────────┬────────────┬────────────┬───────┐\n",
       "│ id  ┆ pred_0      ┆ pred_1      ┆ pred_2      ┆ … ┆ pred_5     ┆ pred_6     ┆ pred_7     ┆ price │\n",
       "│ --- ┆ ---         ┆ ---         ┆ ---         ┆   ┆ ---        ┆ ---        ┆ ---        ┆ ---   │\n",
       "│ i64 ┆ f64         ┆ f64         ┆ f64         ┆   ┆ f64        ┆ f64        ┆ f64        ┆ i64   │\n",
       "╞═════╪═════════════╪═════════════╪═════════════╪═══╪════════════╪════════════╪════════════╪═══════╡\n",
       "│ 0   ┆ 8854.693376 ┆ 9152.341955 ┆ 8780.223598 ┆ … ┆ 9196.76516 ┆ 7579.77769 ┆ 9322.82482 ┆ 27587 │\n",
       "│     ┆             ┆             ┆             ┆   ┆ 8          ┆ 3          ┆ 5          ┆       │\n",
       "│ 1   ┆ 3869.563539 ┆ 3864.146063 ┆ 3878.933184 ┆ … ┆ 3885.20529 ┆ 4001.31174 ┆ 3891.99762 ┆ 4724  │\n",
       "│     ┆             ┆             ┆             ┆   ┆            ┆ 2          ┆            ┆       │\n",
       "│ 2   ┆ 3020.466736 ┆ 2996.637993 ┆ 3037.993605 ┆ … ┆ 3060.12586 ┆ 2899.57799 ┆ 2971.55692 ┆ 10931 │\n",
       "│     ┆             ┆             ┆             ┆   ┆ 6          ┆ 8          ┆ 3          ┆       │\n",
       "│ 3   ┆ 8014.619227 ┆ 8068.601962 ┆ 8042.945716 ┆ … ┆ 8007.78959 ┆ 8312.87768 ┆ 7959.50748 ┆ 16553 │\n",
       "│     ┆             ┆             ┆             ┆   ┆ 3          ┆ 3          ┆ 1          ┆       │\n",
       "│ 4   ┆ 4522.686418 ┆ 4480.841914 ┆ 4437.256123 ┆ … ┆ 4537.12569 ┆ 4522.49850 ┆ 4375.45701 ┆ 5158  │\n",
       "│     ┆             ┆             ┆             ┆   ┆ 7          ┆ 9          ┆ 3          ┆       │\n",
       "└─────┴─────────────┴─────────────┴─────────────┴───┴────────────┴────────────┴────────────┴───────┘"
      ]
     },
     "execution_count": 4,
     "metadata": {},
     "output_type": "execute_result"
    }
   ],
   "source": [
    "# ===================================================================\n",
    "#  DataLoading\n",
    "# ===================================================================\n",
    "train = pl.read_csv(CFG.data_dir+\"train.csv\", columns=[\"id\", \"price\"])\n",
    "\n",
    "df = pl.read_csv(CFG.save_dir+\"oof_df_exp066.csv\").rename({\"pred\":f\"pred_{0}\"})\n",
    "files = [\"exp067\", \"exp068\", \"exp069\", \"exp070\", \"exp071\", \"exp077\"]\n",
    "for i, f in enumerate(files, start=1):\n",
    "    df = df.join(\n",
    "        pl.read_csv(CFG.save_dir+f\"oof_df_{f}.csv\").rename({\"pred\":f\"pred_{i}\"}),\n",
    "        on=\"id\", how=\"left\"\n",
    "    )\n",
    "    \n",
    "df = df.join(\n",
    "    pl.read_csv(CFG.save_dir+\"kun_exp00060_oof_pred.csv\").rename({'oof_pred':f'pred_{len(files)+1}'}),\n",
    "    on=\"id\", how=\"left\",\n",
    ")\n",
    "\n",
    "df = df.join(\n",
    "    train, on=\"id\", how=\"left\"\n",
    ")\n",
    "\n",
    "df.head()"
   ]
  },
  {
   "cell_type": "code",
   "execution_count": 5,
   "metadata": {},
   "outputs": [
    {
     "name": "stdout",
     "output_type": "stream",
     "text": [
      "[0] baseline pred_7 43.56340118610674\n",
      "[1] add pred_6: 43.51483362719401 0.4200000000000008\n",
      "[2] add pred_0: 43.514154723854794 0.10600000000000054\n",
      "[3] add pred_2: 43.512621603491915 -0.1689999999999997\n",
      "[4] add pred_5: 43.51261842430579 0.009000000000000452\n",
      "[5] add pred_4: 43.51261488850851 -0.009999999999999565\n",
      "[6] add pred_3: 43.51261264490113 0.010000000000000453\n",
      "[7] add pred_1: 43.512610839373686 -0.010999999999999566\n"
     ]
    }
   ],
   "source": [
    "# ===================================================================\n",
    "#  Hill Climbing\n",
    "# ===================================================================\n",
    "# https://www.kaggle.com/competitions/feedback-prize-english-language-learning/discussion/369609\n",
    "\n",
    "\n",
    "def evaluate(current_best_preds, k: int, best_score: float):\n",
    "    \"\"\"\n",
    "    評価関数\n",
    "    \n",
    "    preds = current_best_preds*(1-w) + df[models[k]]*w\n",
    "    において最もスコアが良くなるようにwを探す.\n",
    "    もしその最も良いスコアがbest_scoreよりも良ければそのスコアと重みを返し、その最も良いスコアがbest_scoreよりも良くなければ元々のbest_scoreと重み0を返す\n",
    "    \"\"\"\n",
    "    best_weight = 0\n",
    "    for w in np.arange(-0.5, 0.5, 0.001):\n",
    "        preds = current_best_preds*(1-w) + df[models[k]]*w\n",
    "        score = get_score(y_true=df[\"price\"], y_pred=preds)\n",
    "        if score < best_score:\n",
    "            best_score = score\n",
    "            best_weight = w\n",
    "    return best_score, best_weight\n",
    "\n",
    "\n",
    "\n",
    "stores = dict() # Hill Climbingで得た重りを保存する\n",
    "orders = []     # Hill Climbingで選ばれたモデルの順番を保存する\n",
    "scores = dict() # Hill Climbingするときのスコアを保存する\n",
    "\n",
    "# single modelで最もCVが良いモデルを選択する\n",
    "for col in df.columns:\n",
    "    if col not in [\"id\", \"price\"]:\n",
    "        scores[col] = get_score(y_true=df[\"price\"], y_pred=df[col])        \n",
    "selected_model = min(scores, key=scores.get)\n",
    "current_best_preds = df[selected_model]\n",
    "orders.append(selected_model) # 順番を保存\n",
    "stores[selected_model] = 1    # 重みを保存\n",
    "models = [col for col in df.columns if col not in [\"id\", \"price\"]]\n",
    "\n",
    "# Start Hill Climbing\n",
    "i = 0\n",
    "print(f\"[{i}] baseline {selected_model} {min(scores.values())}\")\n",
    "\n",
    "while True:\n",
    "    \n",
    "    # 前段階のベストスコア\n",
    "    best_score = min(scores.values())\n",
    "    \n",
    "    # 前段階で選ばれたモデル\n",
    "    selected_model = min(scores, key=scores.get)\n",
    "    \n",
    "    # 重複しないように削除\n",
    "    models.remove(selected_model)\n",
    "    \n",
    "    \n",
    "    # 残ったモデルの数が0になれば終了\n",
    "    if len(models) == 0:\n",
    "        break\n",
    "    \n",
    "    # \n",
    "    scores, weights = dict(), dict()\n",
    "    for k in range(len(models)):\n",
    "        score, weight = evaluate(current_best_preds, k, best_score)\n",
    "        scores[models[k]] = score\n",
    "        weights[models[k]] = weight\n",
    "        \n",
    "    i += 1\n",
    "    selected_model = min(scores, key=scores.get)\n",
    "    print(f\"[{i}] add {selected_model}: {min(scores.values())} {weights[selected_model]}\")\n",
    "    best_weight = weights[selected_model]\n",
    "    stores[selected_model] = best_weight\n",
    "    orders.append(selected_model)\n",
    "    current_best_preds = current_best_preds*(1-best_weight) + df[selected_model]*best_weight"
   ]
  },
  {
   "cell_type": "code",
   "execution_count": 6,
   "metadata": {},
   "outputs": [
    {
     "data": {
      "text/plain": [
       "43.512610839373686"
      ]
     },
     "execution_count": 6,
     "metadata": {},
     "output_type": "execute_result"
    }
   ],
   "source": [
    "# ===================================================================\n",
    "#  Check\n",
    "# ===================================================================\n",
    "def get_preds(df: pl.DataFrame):\n",
    "    best_preds = 0\n",
    "    for exp in orders:\n",
    "        w = stores[exp]\n",
    "        best_preds  = best_preds * (1-w) + df[exp] * w\n",
    "    return best_preds\n",
    "    \n",
    "get_score(y_true=df[\"price\"], y_pred=get_preds(df))"
   ]
  },
  {
   "cell_type": "code",
   "execution_count": 7,
   "metadata": {},
   "outputs": [
    {
     "data": {
      "text/html": [
       "<div><style>\n",
       ".dataframe > thead > tr > th,\n",
       ".dataframe > tbody > tr > td {\n",
       "  text-align: right;\n",
       "}\n",
       "</style>\n",
       "<small>shape: (5, 10)</small><table border=\"1\" class=\"dataframe\"><thead><tr><th>id</th><th>pred_0</th><th>pred_1</th><th>pred_2</th><th>pred_3</th><th>pred_4</th><th>pred_5</th><th>pred_6</th><th>pred_7</th><th>pred</th></tr><tr><td>i64</td><td>f64</td><td>f64</td><td>f64</td><td>f64</td><td>f64</td><td>f64</td><td>f64</td><td>f64</td><td>f64</td></tr></thead><tbody><tr><td>27532</td><td>9673.031004</td><td>9645.690291</td><td>9773.740233</td><td>9543.305631</td><td>9574.334533</td><td>9774.45317</td><td>9017.561685</td><td>9456.567691</td><td>9237.207547</td></tr><tr><td>27533</td><td>5585.545628</td><td>5611.390293</td><td>5625.333842</td><td>5745.546668</td><td>5722.954729</td><td>5762.007883</td><td>5339.376994</td><td>5475.010419</td><td>5405.004339</td></tr><tr><td>27534</td><td>5595.254657</td><td>5581.507724</td><td>5572.766942</td><td>5592.961109</td><td>5618.968955</td><td>5606.688175</td><td>5958.715261</td><td>5480.674549</td><td>5689.302113</td></tr><tr><td>27535</td><td>18194.779659</td><td>18336.045587</td><td>18254.450168</td><td>18366.815171</td><td>18448.417408</td><td>18256.398339</td><td>18936.869485</td><td>18054.427058</td><td>18423.973205</td></tr><tr><td>27536</td><td>4416.241293</td><td>4401.738676</td><td>4296.607046</td><td>4481.441494</td><td>4280.70203</td><td>4366.343344</td><td>4107.333654</td><td>4255.354923</td><td>4204.685451</td></tr></tbody></table></div>"
      ],
      "text/plain": [
       "shape: (5, 10)\n",
       "┌───────┬────────────┬────────────┬────────────┬───┬───────────┬───────────┬───────────┬───────────┐\n",
       "│ id    ┆ pred_0     ┆ pred_1     ┆ pred_2     ┆ … ┆ pred_5    ┆ pred_6    ┆ pred_7    ┆ pred      │\n",
       "│ ---   ┆ ---        ┆ ---        ┆ ---        ┆   ┆ ---       ┆ ---       ┆ ---       ┆ ---       │\n",
       "│ i64   ┆ f64        ┆ f64        ┆ f64        ┆   ┆ f64       ┆ f64       ┆ f64       ┆ f64       │\n",
       "╞═══════╪════════════╪════════════╪════════════╪═══╪═══════════╪═══════════╪═══════════╪═══════════╡\n",
       "│ 27532 ┆ 9673.03100 ┆ 9645.69029 ┆ 9773.74023 ┆ … ┆ 9774.4531 ┆ 9017.5616 ┆ 9456.5676 ┆ 9237.2075 │\n",
       "│       ┆ 4          ┆ 1          ┆ 3          ┆   ┆ 7         ┆ 85        ┆ 91        ┆ 47        │\n",
       "│ 27533 ┆ 5585.54562 ┆ 5611.39029 ┆ 5625.33384 ┆ … ┆ 5762.0078 ┆ 5339.3769 ┆ 5475.0104 ┆ 5405.0043 │\n",
       "│       ┆ 8          ┆ 3          ┆ 2          ┆   ┆ 83        ┆ 94        ┆ 19        ┆ 39        │\n",
       "│ 27534 ┆ 5595.25465 ┆ 5581.50772 ┆ 5572.76694 ┆ … ┆ 5606.6881 ┆ 5958.7152 ┆ 5480.6745 ┆ 5689.3021 │\n",
       "│       ┆ 7          ┆ 4          ┆ 2          ┆   ┆ 75        ┆ 61        ┆ 49        ┆ 13        │\n",
       "│ 27535 ┆ 18194.7796 ┆ 18336.0455 ┆ 18254.4501 ┆ … ┆ 18256.398 ┆ 18936.869 ┆ 18054.427 ┆ 18423.973 │\n",
       "│       ┆ 59         ┆ 87         ┆ 68         ┆   ┆ 339       ┆ 485       ┆ 058       ┆ 205       │\n",
       "│ 27536 ┆ 4416.24129 ┆ 4401.73867 ┆ 4296.60704 ┆ … ┆ 4366.3433 ┆ 4107.3336 ┆ 4255.3549 ┆ 4204.6854 │\n",
       "│       ┆ 3          ┆ 6          ┆ 6          ┆   ┆ 44        ┆ 54        ┆ 23        ┆ 51        │\n",
       "└───────┴────────────┴────────────┴────────────┴───┴───────────┴───────────┴───────────┴───────────┘"
      ]
     },
     "metadata": {},
     "output_type": "display_data"
    }
   ],
   "source": [
    "# ===================================================================\n",
    "#  oof_df\n",
    "# ===================================================================\n",
    "test = pl.read_csv(CFG.save_dir+f\"exp066.csv\", has_header=False).rename({\"column_1\":\"id\", \"column_2\":\"pred\"}).sort(\"id\").rename({\"pred\":f\"pred_{0}\"})\n",
    "files = [\"exp067.csv\", \"exp068.csv\", \"exp069.csv\", \"exp070.csv\", \"exp071.csv\", \"exp077.csv\", \"kun_exp00060.csv\"]\n",
    "for i, f in enumerate(files, start=1):\n",
    "    test = test.join(\n",
    "        pl.read_csv(CFG.save_dir+f, has_header=False).rename({\"column_1\":\"id\", \"column_2\":\"pred\"}).rename({\"pred\":f\"pred_{i}\"}),\n",
    "        on=\"id\", how=\"left\"\n",
    "    )\n",
    "\n",
    "test = test.with_columns(\n",
    "    pl.Series(get_preds(test)).alias(\"pred\")\n",
    ")\n",
    "display(test.head())\n",
    "\n",
    "\n",
    "test[[\"id\", \"pred\"]].write_csv(CFG.save_dir+f\"{CFG.filename}.csv\", has_header=False)"
   ]
  }
 ],
 "metadata": {
  "kernelspec": {
   "display_name": "Python 3",
   "language": "python",
   "name": "python3"
  },
  "language_info": {
   "codemirror_mode": {
    "name": "ipython",
    "version": 3
   },
   "file_extension": ".py",
   "mimetype": "text/x-python",
   "name": "python",
   "nbconvert_exporter": "python",
   "pygments_lexer": "ipython3",
   "version": "3.11.4"
  },
  "orig_nbformat": 4
 },
 "nbformat": 4,
 "nbformat_minor": 2
}
