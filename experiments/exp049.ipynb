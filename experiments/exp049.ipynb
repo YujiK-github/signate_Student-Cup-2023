{
 "cells": [
  {
   "cell_type": "code",
   "execution_count": 1,
   "metadata": {},
   "outputs": [],
   "source": [
    "# ===================================================================\n",
    "#  Library\n",
    "# ===================================================================\n",
    "import pandas as pd\n",
    "from sklearn.metrics import mean_absolute_percentage_error\n",
    "\n",
    "import warnings\n",
    "warnings.simplefilter(\"ignore\")\n",
    "\n",
    "import optuna\n",
    "import numpy as np"
   ]
  },
  {
   "cell_type": "code",
   "execution_count": 7,
   "metadata": {},
   "outputs": [],
   "source": [
    "# ===================================================================\n",
    "#  CFG\n",
    "# ===================================================================\n",
    "class CFG:\n",
    "    seed = 42\n",
    "    n_seeds = 3\n",
    "    n_trials = 2000\n",
    "    save_dir = \"G:/マイドライブ/signate_StudentCup2023/exp/\"\n",
    "    data_dir = \"G:/マイドライブ/signate_StudentCup2023/data/\"\n",
    "    filename = \"exp049\""
   ]
  },
  {
   "cell_type": "code",
   "execution_count": 3,
   "metadata": {},
   "outputs": [],
   "source": [
    "# ===================================================================\n",
    "#  Utils\n",
    "# ===================================================================\n",
    "def get_score(y_true, y_pred):\n",
    "    \"\"\"get MAPE score\"\"\"\n",
    "    score = mean_absolute_percentage_error(y_true, y_pred)\n",
    "    return score * 100"
   ]
  },
  {
   "cell_type": "code",
   "execution_count": 8,
   "metadata": {},
   "outputs": [],
   "source": [
    "# ===================================================================\n",
    "#  DataLoading\n",
    "# ===================================================================\n",
    "df_1 = pd.read_csv(CFG.save_dir+\"oof_df_exp039.csv\", names=['id', 'pred']).rename(columns={\"pred\":\"pred_1\"})\n",
    "df_2 = pd.read_csv(CFG.save_dir+\"oof_df_exp040.csv\", names=['id', 'pred']).rename(columns={\"pred\":\"pred_2\"})\n",
    "df_3 = pd.read_csv(CFG.save_dir+\"oof_df_exp041.csv\", names=['id', 'pred']).rename(columns={\"pred\":\"pred_3\"})\n",
    "df_4 = pd.read_csv(CFG.save_dir+\"oof_df_exp042.csv\", names=['id', 'pred']).rename(columns={\"pred\":\"pred_4\"})\n",
    "df_5 = pd.read_csv(CFG.save_dir+\"oof_df_exp043.csv\", names=['id', 'pred']).rename(columns={\"pred\":\"pred_5\"})\n",
    "df_6 = pd.read_csv(CFG.save_dir+\"oof_df_exp044.csv\", names=['id', 'pred']).rename(columns={\"pred\":\"pred_6\"})\n",
    "df_7 = pd.read_csv(CFG.save_dir+\"oof_df_exp045.csv\", names=['id', 'pred']).rename(columns={\"pred\":\"pred_7\"})\n",
    "df_8 = pd.read_csv(CFG.save_dir+\"oof_df_exp046.csv\", names=['id', 'pred']).rename(columns={\"pred\":\"pred_8\"})\n",
    "df_9 = pd.read_csv(CFG.save_dir+\"oof_df_exp047.csv\", names=['id', 'pred']).rename(columns={\"pred\":\"pred_9\"})\n",
    "df_10 = pd.read_csv(CFG.save_dir+\"oof_df_exp048.csv\", names=['id', 'pred']).rename(columns={\"pred\":\"pred_10\"})\n",
    "\n",
    "train = pd.read_csv(CFG.data_dir+\"train.csv\")\n",
    "\n",
    "df = pd.merge(train, df_1[[\"id\", \"pred_1\"]], on=\"id\", how=\"left\")\n",
    "df = pd.merge(df, df_2[[\"id\",\"pred_2\"]], on=\"id\", how=\"left\")\n",
    "df = pd.merge(df, df_3[[\"id\", \"pred_3\"]], on=\"id\", how=\"left\")\n",
    "df = pd.merge(df, df_4[[\"id\", \"pred_4\"]], on=\"id\", how=\"left\")\n",
    "df = pd.merge(df, df_5[[\"id\", \"pred_5\"]], on=\"id\", how=\"left\")\n",
    "df = pd.merge(df, df_6[[\"id\", \"pred_6\"]], on=\"id\", how=\"left\")\n",
    "df = pd.merge(df, df_7[[\"id\", \"pred_7\"]], on=\"id\", how=\"left\")\n",
    "df = pd.merge(df, df_8[[\"id\", \"pred_8\"]], on=\"id\", how=\"left\")\n",
    "df = pd.merge(df, df_9[[\"id\", \"pred_9\"]], on=\"id\", how=\"left\")\n",
    "df = pd.merge(df, df_10[[\"id\", \"pred_10\"]], on=\"id\", how=\"left\")\n",
    "\n",
    "df.to_csv(CFG.save_dir+f\"{CFG.filename}_preds.csv\", index=False)"
   ]
  },
  {
   "cell_type": "code",
   "execution_count": 5,
   "metadata": {},
   "outputs": [
    {
     "data": {
      "application/vnd.jupyter.widget-view+json": {
       "model_id": "02d37583e619472e8afd06dcb60f0c0f",
       "version_major": 2,
       "version_minor": 0
      },
      "text/plain": [
       "  0%|          | 0/2000 [00:00<?, ?it/s]"
      ]
     },
     "metadata": {},
     "output_type": "display_data"
    },
    {
     "name": "stdout",
     "output_type": "stream",
     "text": [
      "Seed: 42, Best Value: 43.69660836605411, Best Params: {'a': 0.08401399371625468, 'b': 3.859086237561503e-07, 'c': 1.6319696123104263e-07, 'd': 4.9547716121534974e-05, 'e': 0.2728216342479428, 'f': 0.12452781061938452, 'g': 0.019077681313046938, 'h': 4.709963461174562e-07, 'i': 0.48796610167821575, 'j': 0.006755072484201945}\n"
     ]
    },
    {
     "data": {
      "application/vnd.jupyter.widget-view+json": {
       "model_id": "4a1e2740d3b2412d9efdbaf3a10b23ff",
       "version_major": 2,
       "version_minor": 0
      },
      "text/plain": [
       "  0%|          | 0/2000 [00:00<?, ?it/s]"
      ]
     },
     "metadata": {},
     "output_type": "display_data"
    },
    {
     "name": "stdout",
     "output_type": "stream",
     "text": [
      "Seed: 43, Best Value: 43.698466398799766, Best Params: {'a': 0.14412962262192655, 'b': 1.6881492268792355e-07, 'c': 1.4271902131530857e-05, 'd': 0.3196650848987985, 'e': 0.04795999366912311, 'f': 7.227674469787484e-07, 'g': 5.947123785395577e-05, 'h': 0.0009460853888719193, 'i': 0.4820174113831951, 'j': 1.1234391824783612e-05}\n"
     ]
    },
    {
     "data": {
      "application/vnd.jupyter.widget-view+json": {
       "model_id": "c74cd73a481e4a35b2e12fe2200e87d7",
       "version_major": 2,
       "version_minor": 0
      },
      "text/plain": [
       "  0%|          | 0/2000 [00:00<?, ?it/s]"
      ]
     },
     "metadata": {},
     "output_type": "display_data"
    },
    {
     "name": "stdout",
     "output_type": "stream",
     "text": [
      "Seed: 44, Best Value: 43.71171899595376, Best Params: {'a': 0.2420841457443737, 'b': 0.006129852000482812, 'c': 2.538324417113941e-06, 'd': 7.995282925707243e-06, 'e': 0.1330573094480169, 'f': 5.890793951345941e-07, 'g': 5.385571716577776e-08, 'h': 0.03839078613358119, 'i': 0.5794520458002477, 'j': 9.970556101170305e-08}\n",
      "Final Best Value: 43.69660836605411\n",
      "Final Best Params: {'a': 0.08401399371625468, 'b': 3.859086237561503e-07, 'c': 1.6319696123104263e-07, 'd': 4.9547716121534974e-05, 'e': 0.2728216342479428, 'f': 0.12452781061938452, 'g': 0.019077681313046938, 'h': 4.709963461174562e-07, 'i': 0.48796610167821575, 'j': 0.006755072484201945}\n"
     ]
    }
   ],
   "source": [
    "# ===================================================================\n",
    "#  optuna\n",
    "# ===================================================================\n",
    "def objective(trial):\n",
    "    a = trial.suggest_float(\"a\", 1e-8, 1, log=True)\n",
    "    b = trial.suggest_float(\"b\", 1e-8, 1, log=True)\n",
    "    c = trial.suggest_float(\"c\", 1e-8, 1, log=True)\n",
    "    d = trial.suggest_float(\"d\", 1e-8, 1, log=True)\n",
    "    e = trial.suggest_float(\"e\", 1e-8, 1, log=True)\n",
    "    \n",
    "    f = trial.suggest_float(\"f\", 1e-8, 1, log=True)\n",
    "    g = trial.suggest_float(\"g\", 1e-8, 1, log=True)\n",
    "    h = trial.suggest_float(\"h\", 1e-8, 1, log=True)\n",
    "    i = trial.suggest_float(\"i\", 1e-8, 1, log=True)\n",
    "    j = trial.suggest_float(\"j\", 1e-8, 1, log=True)\n",
    "        \n",
    "    df[f\"pred\"] = df[f\"pred_1\"] * a +\\\n",
    "                  df[f\"pred_2\"] * b +\\\n",
    "                  df[f\"pred_3\"] * c +\\\n",
    "                  df[f\"pred_4\"] * d +\\\n",
    "                  df[f\"pred_5\"] * e +\\\n",
    "                  df[f\"pred_6\"] * f +\\\n",
    "                  df[f\"pred_7\"] * g +\\\n",
    "                  df[f\"pred_8\"] * h +\\\n",
    "                  df[f\"pred_9\"] * i +\\\n",
    "                  df[f\"pred_10\"] * j\n",
    "                      \n",
    "    score = get_score(y_true=df[\"price\"], y_pred = df[f\"pred\"])\n",
    "    return score\n",
    "    \n",
    "optuna.logging.set_verbosity(optuna.logging.WARNING)\n",
    "\n",
    "# シードのリストを定義\n",
    "seeds = [seed for seed in range(CFG.seed, CFG.seed+CFG.n_seeds)]\n",
    "\n",
    "best_values = []\n",
    "best_params_list = []\n",
    "\n",
    "for seed in seeds:    \n",
    "    study = optuna.create_study(\n",
    "        direction=\"minimize\",\n",
    "        sampler=optuna.samplers.TPESampler(seed=seed)\n",
    "    )\n",
    "    study.optimize(objective, \n",
    "                   n_trials=CFG.n_trials, \n",
    "                   n_jobs = -1,\n",
    "                   show_progress_bar=True)\n",
    "    \n",
    "    best_value = study.best_value\n",
    "    best_params = study.best_params\n",
    "    \n",
    "    best_values.append(best_value)\n",
    "    best_params_list.append(best_params)\n",
    "    \n",
    "    print(f\"Seed: {seed}, Best Value: {best_value}, Best Params: {best_params}\")\n",
    "    \n",
    "    \n",
    "# 最も小さい best_value を持つ Study を探索\n",
    "best_index = np.argmin(best_values)\n",
    "best_params_final = best_params_list[best_index]\n",
    "best_value_final = best_values[best_index]\n",
    "\n",
    "print(\"Final Best Value:\", best_value_final)\n",
    "print(\"Final Best Params:\", best_params_final)"
   ]
  },
  {
   "cell_type": "code",
   "execution_count": 9,
   "metadata": {},
   "outputs": [
    {
     "data": {
      "text/html": [
       "<div>\n",
       "<style scoped>\n",
       "    .dataframe tbody tr th:only-of-type {\n",
       "        vertical-align: middle;\n",
       "    }\n",
       "\n",
       "    .dataframe tbody tr th {\n",
       "        vertical-align: top;\n",
       "    }\n",
       "\n",
       "    .dataframe thead th {\n",
       "        text-align: right;\n",
       "    }\n",
       "</style>\n",
       "<table border=\"1\" class=\"dataframe\">\n",
       "  <thead>\n",
       "    <tr style=\"text-align: right;\">\n",
       "      <th></th>\n",
       "      <th>id</th>\n",
       "      <th>pred</th>\n",
       "    </tr>\n",
       "  </thead>\n",
       "  <tbody>\n",
       "    <tr>\n",
       "      <th>0</th>\n",
       "      <td>27532</td>\n",
       "      <td>9217.092961</td>\n",
       "    </tr>\n",
       "    <tr>\n",
       "      <th>1</th>\n",
       "      <td>27533</td>\n",
       "      <td>5535.468202</td>\n",
       "    </tr>\n",
       "  </tbody>\n",
       "</table>\n",
       "</div>"
      ],
      "text/plain": [
       "      id         pred\n",
       "0  27532  9217.092961\n",
       "1  27533  5535.468202"
      ]
     },
     "execution_count": 9,
     "metadata": {},
     "output_type": "execute_result"
    }
   ],
   "source": [
    "# ===================================================================\n",
    "#  test\n",
    "# ===================================================================\n",
    "test_1 = pd.read_csv(CFG.save_dir+\"exp039.csv\", names=['id', 'pred']).rename(columns={\"pred\":\"pred_1\"})\n",
    "test_2 = pd.read_csv(CFG.save_dir+\"exp040.csv\", names=['id', 'pred']).rename(columns={\"pred\":\"pred_2\"})\n",
    "test_3 = pd.read_csv(CFG.save_dir+\"exp041.csv\", names=['id', 'pred']).rename(columns={\"pred\":\"pred_3\"})\n",
    "test_4 = pd.read_csv(CFG.save_dir+\"exp042.csv\", names=['id', 'pred']).rename(columns={\"pred\":\"pred_4\"})\n",
    "test_5 = pd.read_csv(CFG.save_dir+\"exp043.csv\", names=['id', 'pred']).rename(columns={\"pred\":\"pred_5\"})\n",
    "test_6 = pd.read_csv(CFG.save_dir+\"exp044.csv\", names=['id', 'pred']).rename(columns={\"pred\":\"pred_6\"})\n",
    "test_7 = pd.read_csv(CFG.save_dir+\"exp045.csv\", names=['id', 'pred']).rename(columns={\"pred\":\"pred_7\"})\n",
    "test_8 = pd.read_csv(CFG.save_dir+\"exp046.csv\", names=['id', 'pred']).rename(columns={\"pred\":\"pred_8\"})\n",
    "test_9 = pd.read_csv(CFG.save_dir+\"exp047.csv\", names=['id', 'pred']).rename(columns={\"pred\":\"pred_9\"})\n",
    "test_10 = pd.read_csv(CFG.save_dir+\"exp048.csv\", names=['id', 'pred']).rename(columns={\"pred\":\"pred_10\"})\n",
    "\n",
    "test = pd.merge(test_1, test_2, on=\"id\", how=\"left\")\n",
    "test = pd.merge(test, test_3, on=\"id\", how=\"left\")\n",
    "test = pd.merge(test, test_4, on=\"id\", how=\"left\")\n",
    "test = pd.merge(test, test_5, on=\"id\", how=\"left\")\n",
    "test = pd.merge(test, test_6, on=\"id\", how=\"left\")\n",
    "test = pd.merge(test, test_7, on=\"id\", how=\"left\")\n",
    "test = pd.merge(test, test_8, on=\"id\", how=\"left\")\n",
    "test = pd.merge(test, test_9, on=\"id\", how=\"left\")\n",
    "test = pd.merge(test, test_10, on=\"id\", how=\"left\")\n",
    "\n",
    "test[\"pred\"] =   test[\"pred_1\"] * best_params_final[\"a\"] +\\\n",
    "                 test[\"pred_2\"] * best_params_final[\"b\"] +\\\n",
    "                 test[\"pred_3\"] * best_params_final[\"c\"] +\\\n",
    "                 test[\"pred_4\"] * best_params_final[\"d\"] +\\\n",
    "                 test[\"pred_5\"] * best_params_final[\"e\"] +\\\n",
    "                 test[\"pred_6\"] * best_params_final[\"f\"] +\\\n",
    "                 test[\"pred_7\"] * best_params_final[\"g\"] +\\\n",
    "                 test[\"pred_8\"] * best_params_final[\"h\"] +\\\n",
    "                 test[\"pred_9\"] * best_params_final[\"i\"] +\\\n",
    "                 test[\"pred_10\"] * best_params_final[\"j\"]\n",
    "                     \n",
    "test.to_csv(CFG.save_dir+f\"{CFG.filename}_test_preds.csv\", index=False)                     \n",
    "\n",
    "test[[\"id\", \"pred\"]].to_csv(CFG.save_dir+f\"{CFG.filename}.csv\", index=False, header=None)\n",
    "test[[\"id\", \"pred\"]].head(2)"
   ]
  },
  {
   "cell_type": "code",
   "execution_count": null,
   "metadata": {},
   "outputs": [],
   "source": []
  }
 ],
 "metadata": {
  "kernelspec": {
   "display_name": "Python 3",
   "language": "python",
   "name": "python3"
  },
  "language_info": {
   "codemirror_mode": {
    "name": "ipython",
    "version": 3
   },
   "file_extension": ".py",
   "mimetype": "text/x-python",
   "name": "python",
   "nbconvert_exporter": "python",
   "pygments_lexer": "ipython3",
   "version": "3.11.4"
  },
  "orig_nbformat": 4
 },
 "nbformat": 4,
 "nbformat_minor": 2
}
