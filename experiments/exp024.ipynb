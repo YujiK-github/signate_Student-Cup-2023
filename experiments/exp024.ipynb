{
 "cells": [
  {
   "cell_type": "code",
   "execution_count": 6,
   "metadata": {},
   "outputs": [],
   "source": [
    "# ===================================================================\n",
    "#  Library\n",
    "# ===================================================================\n",
    "import pandas as pd\n",
    "from sklearn.metrics import mean_absolute_percentage_error\n",
    "\n",
    "import warnings\n",
    "warnings.simplefilter(\"ignore\")\n",
    "\n",
    "import optuna\n",
    "import numpy as np"
   ]
  },
  {
   "cell_type": "code",
   "execution_count": 2,
   "metadata": {},
   "outputs": [],
   "source": [
    "# ===================================================================\n",
    "#  CFG\n",
    "# ===================================================================\n",
    "class CFG:\n",
    "    seed = 42\n",
    "    n_seeds = 3\n",
    "    n_trials = 2000\n",
    "    save_dir = \"G:/マイドライブ/signate_StudentCup2023/exp/\"\n",
    "    data_dir = \"G:/マイドライブ/signate_StudentCup2023/data/\"\n",
    "    filename = \"exp024\""
   ]
  },
  {
   "cell_type": "code",
   "execution_count": 3,
   "metadata": {},
   "outputs": [],
   "source": [
    "# ===================================================================\n",
    "#  Utils\n",
    "# ===================================================================\n",
    "def get_score(y_true, y_pred):\n",
    "    \"\"\"get MAPE score\"\"\"\n",
    "    score = mean_absolute_percentage_error(y_true, y_pred)\n",
    "    return score * 100"
   ]
  },
  {
   "cell_type": "code",
   "execution_count": 4,
   "metadata": {},
   "outputs": [],
   "source": [
    "# ===================================================================\n",
    "#  DataLoading\n",
    "# ===================================================================\n",
    "df_1 = pd.read_csv(CFG.save_dir+\"oof_df_exp014.csv\", names=['id', 'pred']).rename(columns={\"pred\":\"pred_1\"})\n",
    "df_2 = pd.read_csv(CFG.save_dir+\"oof_df_exp015.csv\", names=['id', 'pred']).rename(columns={\"pred\":\"pred_2\"})\n",
    "df_3 = pd.read_csv(CFG.save_dir+\"oof_df_exp016.csv\", names=['id', 'pred']).rename(columns={\"pred\":\"pred_3\"})\n",
    "df_4 = pd.read_csv(CFG.save_dir+\"oof_df_exp017.csv\", names=['id', 'pred']).rename(columns={\"pred\":\"pred_4\"})\n",
    "df_5 = pd.read_csv(CFG.save_dir+\"oof_df_exp018.csv\", names=['id', 'pred']).rename(columns={\"pred\":\"pred_5\"})\n",
    "df_6 = pd.read_csv(CFG.save_dir+\"oof_df_exp019.csv\", names=['id', 'pred']).rename(columns={\"pred\":\"pred_6\"})\n",
    "df_7 = pd.read_csv(CFG.save_dir+\"oof_df_exp020.csv\", names=['id', 'pred']).rename(columns={\"pred\":\"pred_7\"})\n",
    "df_8 = pd.read_csv(CFG.save_dir+\"oof_df_exp021.csv\", names=['id', 'pred']).rename(columns={\"pred\":\"pred_8\"})\n",
    "df_9 = pd.read_csv(CFG.save_dir+\"oof_df_exp022.csv\", names=['id', 'pred']).rename(columns={\"pred\":\"pred_9\"})\n",
    "df_10 = pd.read_csv(CFG.save_dir+\"oof_df_exp023.csv\", names=['id', 'pred']).rename(columns={\"pred\":\"pred_10\"})\n",
    "\n",
    "train = pd.read_csv(CFG.data_dir+\"train.csv\")\n",
    "\n",
    "df = pd.merge(train, df_1[[\"id\", \"pred_1\"]], on=\"id\", how=\"left\")\n",
    "df = pd.merge(df, df_2[[\"id\",\"pred_2\"]], on=\"id\", how=\"left\")\n",
    "df = pd.merge(df, df_3[[\"id\", \"pred_3\"]], on=\"id\", how=\"left\")\n",
    "df = pd.merge(df, df_4[[\"id\", \"pred_4\"]], on=\"id\", how=\"left\")\n",
    "df = pd.merge(df, df_5[[\"id\", \"pred_5\"]], on=\"id\", how=\"left\")\n",
    "df = pd.merge(df, df_6[[\"id\", \"pred_6\"]], on=\"id\", how=\"left\")\n",
    "df = pd.merge(df, df_7[[\"id\", \"pred_7\"]], on=\"id\", how=\"left\")\n",
    "df = pd.merge(df, df_8[[\"id\", \"pred_8\"]], on=\"id\", how=\"left\")\n",
    "df = pd.merge(df, df_9[[\"id\", \"pred_9\"]], on=\"id\", how=\"left\")\n",
    "df = pd.merge(df, df_10[[\"id\", \"pred_10\"]], on=\"id\", how=\"left\")"
   ]
  },
  {
   "cell_type": "code",
   "execution_count": 5,
   "metadata": {},
   "outputs": [
    {
     "data": {
      "application/vnd.jupyter.widget-view+json": {
       "model_id": "fe8479f363564216a6502957e7cdc880",
       "version_major": 2,
       "version_minor": 0
      },
      "text/plain": [
       "  0%|          | 0/2000 [00:00<?, ?it/s]"
      ]
     },
     "metadata": {},
     "output_type": "display_data"
    },
    {
     "name": "stdout",
     "output_type": "stream",
     "text": [
      "Seed: 42, Best Value: 43.88749979822287, Best Params: {'a': 0.3589752687480132, 'b': 0.0005307989486694464, 'c': 1.2431940900726542e-07, 'd': 5.634079740847213e-05, 'e': 2.533456001188329e-07, 'f': 0.2015664707608615, 'g': 5.079089580849648e-08, 'h': 0.4456921777558138, 'i': 3.6166977887987366e-07, 'j': 1.8592609236366082e-05}\n"
     ]
    },
    {
     "data": {
      "application/vnd.jupyter.widget-view+json": {
       "model_id": "514939bb3bea432a8ed103b2846e7eab",
       "version_major": 2,
       "version_minor": 0
      },
      "text/plain": [
       "  0%|          | 0/2000 [00:00<?, ?it/s]"
      ]
     },
     "metadata": {},
     "output_type": "display_data"
    },
    {
     "name": "stdout",
     "output_type": "stream",
     "text": [
      "Seed: 43, Best Value: 43.885207515251004, Best Params: {'a': 0.4582327044453581, 'b': 0.07841726518251729, 'c': 0.15361668696462, 'd': 0.06231433066114554, 'e': 0.012378140132942578, 'f': 0.0704799231252861, 'g': 0.0057944181331323775, 'h': 0.05604367866710879, 'i': 2.2970822787791101e-07, 'j': 0.10185647964836345}\n"
     ]
    },
    {
     "data": {
      "application/vnd.jupyter.widget-view+json": {
       "model_id": "3fd1e8a1566b46b79a44f28b256bd426",
       "version_major": 2,
       "version_minor": 0
      },
      "text/plain": [
       "  0%|          | 0/2000 [00:00<?, ?it/s]"
      ]
     },
     "metadata": {},
     "output_type": "display_data"
    },
    {
     "name": "stdout",
     "output_type": "stream",
     "text": [
      "Seed: 44, Best Value: 43.887876632791055, Best Params: {'a': 0.261384020033897, 'b': 2.5611627393384453e-08, 'c': 0.1500901611424017, 'd': 3.598426173755583e-06, 'e': 3.031804499375664e-06, 'f': 0.3425125916127622, 'g': 0.0009047774425401772, 'h': 0.030454396731970576, 'i': 4.8786769653523006e-05, 'j': 0.21437656223298374}\n"
     ]
    },
    {
     "ename": "NameError",
     "evalue": "name 'np' is not defined",
     "output_type": "error",
     "traceback": [
      "\u001b[1;31m---------------------------------------------------------------------------\u001b[0m",
      "\u001b[1;31mNameError\u001b[0m                                 Traceback (most recent call last)",
      "Cell \u001b[1;32mIn[5], line 60\u001b[0m\n\u001b[0;32m     57\u001b[0m     \u001b[39mprint\u001b[39m(\u001b[39mf\u001b[39m\u001b[39m\"\u001b[39m\u001b[39mSeed: \u001b[39m\u001b[39m{\u001b[39;00mseed\u001b[39m}\u001b[39;00m\u001b[39m, Best Value: \u001b[39m\u001b[39m{\u001b[39;00mbest_value\u001b[39m}\u001b[39;00m\u001b[39m, Best Params: \u001b[39m\u001b[39m{\u001b[39;00mbest_params\u001b[39m}\u001b[39;00m\u001b[39m\"\u001b[39m)\n\u001b[0;32m     59\u001b[0m \u001b[39m# 最も小さい best_value を持つ Study を探索\u001b[39;00m\n\u001b[1;32m---> 60\u001b[0m best_index \u001b[39m=\u001b[39m np\u001b[39m.\u001b[39margmin(best_values)\n\u001b[0;32m     61\u001b[0m best_params_final \u001b[39m=\u001b[39m best_params_list[best_index]\n\u001b[0;32m     62\u001b[0m best_value_final \u001b[39m=\u001b[39m best_values[best_index]\n",
      "\u001b[1;31mNameError\u001b[0m: name 'np' is not defined"
     ]
    }
   ],
   "source": [
    "# ===================================================================\n",
    "#  optuna\n",
    "# ===================================================================\n",
    "def objective(trial):\n",
    "    a = trial.suggest_float(\"a\", 1e-8, 1, log=True)\n",
    "    b = trial.suggest_float(\"b\", 1e-8, 1, log=True)\n",
    "    c = trial.suggest_float(\"c\", 1e-8, 1, log=True)\n",
    "    d = trial.suggest_float(\"d\", 1e-8, 1, log=True)\n",
    "    e = trial.suggest_float(\"e\", 1e-8, 1, log=True)\n",
    "    \n",
    "    f = trial.suggest_float(\"f\", 1e-8, 1, log=True)\n",
    "    g = trial.suggest_float(\"g\", 1e-8, 1, log=True)\n",
    "    h = trial.suggest_float(\"h\", 1e-8, 1, log=True)\n",
    "    i = trial.suggest_float(\"i\", 1e-8, 1, log=True)\n",
    "    j = trial.suggest_float(\"j\", 1e-8, 1, log=True)\n",
    "    \n",
    "    \n",
    "    df[f\"pred\"] = df[f\"pred_1\"] * a +\\\n",
    "                  df[f\"pred_2\"] * b +\\\n",
    "                  df[f\"pred_3\"] * c +\\\n",
    "                  df[f\"pred_4\"] * d +\\\n",
    "                  df[f\"pred_5\"] * e +\\\n",
    "                  df[f\"pred_6\"] * f +\\\n",
    "                  df[f\"pred_7\"] * g +\\\n",
    "                  df[f\"pred_8\"] * h +\\\n",
    "                  df[f\"pred_9\"] * i +\\\n",
    "                  df[f\"pred_10\"] * j\n",
    "                      \n",
    "                      \n",
    "    score = get_score(y_true=df[\"price\"], y_pred = df[f\"pred\"])\n",
    "    return score\n",
    "    \n",
    "optuna.logging.set_verbosity(optuna.logging.WARNING)\n",
    "\n",
    "# シードのリストを定義\n",
    "seeds = [seed for seed in range(CFG.seed, CFG.seed+CFG.n_seeds)]\n",
    "\n",
    "best_values = []\n",
    "best_params_list = []\n",
    "\n",
    "for seed in seeds:    \n",
    "    study = optuna.create_study(\n",
    "        direction=\"minimize\",\n",
    "        sampler=optuna.samplers.TPESampler(seed=seed)\n",
    "    )\n",
    "    study.optimize(objective, \n",
    "                   n_trials=CFG.n_trials, \n",
    "                   n_jobs = -1,\n",
    "                   show_progress_bar=True)\n",
    "    \n",
    "    best_value = study.best_value\n",
    "    best_params = study.best_params\n",
    "    \n",
    "    best_values.append(best_value)\n",
    "    best_params_list.append(best_params)\n",
    "    \n",
    "    print(f\"Seed: {seed}, Best Value: {best_value}, Best Params: {best_params}\")"
   ]
  },
  {
   "cell_type": "code",
   "execution_count": 7,
   "metadata": {},
   "outputs": [
    {
     "name": "stdout",
     "output_type": "stream",
     "text": [
      "Final Best Value: 43.885207515251004\n",
      "Final Best Params: {'a': 0.4582327044453581, 'b': 0.07841726518251729, 'c': 0.15361668696462, 'd': 0.06231433066114554, 'e': 0.012378140132942578, 'f': 0.0704799231252861, 'g': 0.0057944181331323775, 'h': 0.05604367866710879, 'i': 2.2970822787791101e-07, 'j': 0.10185647964836345}\n"
     ]
    }
   ],
   "source": [
    "\n",
    "# 最も小さい best_value を持つ Study を探索\n",
    "best_index = np.argmin(best_values)\n",
    "best_params_final = best_params_list[best_index]\n",
    "best_value_final = best_values[best_index]\n",
    "\n",
    "print(\"Final Best Value:\", best_value_final)\n",
    "print(\"Final Best Params:\", best_params_final)"
   ]
  },
  {
   "cell_type": "code",
   "execution_count": 8,
   "metadata": {},
   "outputs": [
    {
     "data": {
      "text/html": [
       "<div>\n",
       "<style scoped>\n",
       "    .dataframe tbody tr th:only-of-type {\n",
       "        vertical-align: middle;\n",
       "    }\n",
       "\n",
       "    .dataframe tbody tr th {\n",
       "        vertical-align: top;\n",
       "    }\n",
       "\n",
       "    .dataframe thead th {\n",
       "        text-align: right;\n",
       "    }\n",
       "</style>\n",
       "<table border=\"1\" class=\"dataframe\">\n",
       "  <thead>\n",
       "    <tr style=\"text-align: right;\">\n",
       "      <th></th>\n",
       "      <th>id</th>\n",
       "      <th>pred</th>\n",
       "    </tr>\n",
       "  </thead>\n",
       "  <tbody>\n",
       "    <tr>\n",
       "      <th>0</th>\n",
       "      <td>27532</td>\n",
       "      <td>9584.253958</td>\n",
       "    </tr>\n",
       "    <tr>\n",
       "      <th>1</th>\n",
       "      <td>27533</td>\n",
       "      <td>5074.050900</td>\n",
       "    </tr>\n",
       "  </tbody>\n",
       "</table>\n",
       "</div>"
      ],
      "text/plain": [
       "      id         pred\n",
       "0  27532  9584.253958\n",
       "1  27533  5074.050900"
      ]
     },
     "execution_count": 8,
     "metadata": {},
     "output_type": "execute_result"
    }
   ],
   "source": [
    "# ===================================================================\n",
    "#  test\n",
    "# ===================================================================\n",
    "test_1 = pd.read_csv(CFG.save_dir+\"exp014.csv\", names=['id', 'pred']).rename(columns={\"pred\":\"pred_1\"})\n",
    "test_2 = pd.read_csv(CFG.save_dir+\"exp015.csv\", names=['id', 'pred']).rename(columns={\"pred\":\"pred_2\"})\n",
    "test_3 = pd.read_csv(CFG.save_dir+\"exp016.csv\", names=['id', 'pred']).rename(columns={\"pred\":\"pred_3\"})\n",
    "test_4 = pd.read_csv(CFG.save_dir+\"exp017.csv\", names=['id', 'pred']).rename(columns={\"pred\":\"pred_4\"})\n",
    "test_5 = pd.read_csv(CFG.save_dir+\"exp018.csv\", names=['id', 'pred']).rename(columns={\"pred\":\"pred_5\"})\n",
    "test_6 = pd.read_csv(CFG.save_dir+\"exp019.csv\", names=['id', 'pred']).rename(columns={\"pred\":\"pred_6\"})\n",
    "test_7 = pd.read_csv(CFG.save_dir+\"exp020.csv\", names=['id', 'pred']).rename(columns={\"pred\":\"pred_7\"})\n",
    "test_8 = pd.read_csv(CFG.save_dir+\"exp021.csv\", names=['id', 'pred']).rename(columns={\"pred\":\"pred_8\"})\n",
    "test_9 = pd.read_csv(CFG.save_dir+\"exp022.csv\", names=['id', 'pred']).rename(columns={\"pred\":\"pred_9\"})\n",
    "test_10 = pd.read_csv(CFG.save_dir+\"exp023.csv\", names=['id', 'pred']).rename(columns={\"pred\":\"pred_10\"})\n",
    "\n",
    "\n",
    "test_1[\"pred\"] = test_1[\"pred_1\"] * best_params_final[\"a\"] +\\\n",
    "                 test_2[\"pred_2\"] * best_params_final[\"b\"] +\\\n",
    "                 test_3[\"pred_3\"] * best_params_final[\"c\"] +\\\n",
    "                 test_4[\"pred_4\"] * best_params_final[\"d\"] +\\\n",
    "                 test_5[\"pred_5\"] * best_params_final[\"e\"] +\\\n",
    "                 test_6[\"pred_6\"] * best_params_final[\"f\"] +\\\n",
    "                 test_7[\"pred_7\"] * best_params_final[\"g\"] +\\\n",
    "                 test_8[\"pred_8\"] * best_params_final[\"h\"] +\\\n",
    "                 test_9[\"pred_9\"] * best_params_final[\"i\"] +\\\n",
    "                 test_10[\"pred_10\"] * best_params_final[\"j\"]\n",
    "                     \n",
    "test_1[[\"id\", \"pred\"]].to_csv(CFG.save_dir+f\"{CFG.filename}.csv\", index=False, header=None)\n",
    "test_1[[\"id\", \"pred\"]].head(2)"
   ]
  }
 ],
 "metadata": {
  "kernelspec": {
   "display_name": "Python 3",
   "language": "python",
   "name": "python3"
  },
  "language_info": {
   "codemirror_mode": {
    "name": "ipython",
    "version": 3
   },
   "file_extension": ".py",
   "mimetype": "text/x-python",
   "name": "python",
   "nbconvert_exporter": "python",
   "pygments_lexer": "ipython3",
   "version": "3.11.4"
  },
  "orig_nbformat": 4
 },
 "nbformat": 4,
 "nbformat_minor": 2
}
