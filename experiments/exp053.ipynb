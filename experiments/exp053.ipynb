{
 "cells": [
  {
   "cell_type": "code",
   "execution_count": 2,
   "metadata": {},
   "outputs": [],
   "source": [
    "# ===================================================================\n",
    "#  Library\n",
    "# ===================================================================\n",
    "import os\n",
    "import random\n",
    "import numpy as np\n",
    "import pandas as pd\n",
    "import polars as pl\n",
    "from tqdm.auto import tqdm\n",
    "\n",
    "from sklearn.metrics import mean_absolute_percentage_error\n",
    "import warnings\n",
    "warnings.simplefilter(\"ignore\")\n",
    "\n",
    "from scipy.optimize import minimize"
   ]
  },
  {
   "cell_type": "code",
   "execution_count": 3,
   "metadata": {},
   "outputs": [],
   "source": [
    "# ===================================================================\n",
    "#  CFG\n",
    "# ===================================================================\n",
    "class CFG:\n",
    "    seed = 42\n",
    "    save_dir = \"G:/マイドライブ/signate_StudentCup2023/exp/\"\n",
    "    data_dir = \"G:/マイドライブ/signate_StudentCup2023/data/\"\n",
    "    filename = \"exp053\""
   ]
  },
  {
   "cell_type": "code",
   "execution_count": 4,
   "metadata": {},
   "outputs": [
    {
     "data": {
      "text/html": [
       "<div><style>\n",
       ".dataframe > thead > tr > th,\n",
       ".dataframe > tbody > tr > td {\n",
       "  text-align: right;\n",
       "}\n",
       "</style>\n",
       "<small>shape: (5, 32)</small><table border=\"1\" class=\"dataframe\"><thead><tr><th>id</th><th>pred_0</th><th>pred_1</th><th>pred_2</th><th>pred_3</th><th>pred_4</th><th>pred_5</th><th>pred_6</th><th>pred_7</th><th>pred_8</th><th>pred_9</th><th>pred_10</th><th>pred_11</th><th>pred_12</th><th>pred_13</th><th>pred_14</th><th>pred_15</th><th>pred_16</th><th>pred_17</th><th>pred_18</th><th>pred_19</th><th>pred_20</th><th>pred_21</th><th>pred_22</th><th>pred_23</th><th>pred_24</th><th>pred_25</th><th>pred_26</th><th>pred_27</th><th>pred_28</th><th>pred_29</th><th>price</th></tr><tr><td>i64</td><td>f64</td><td>f64</td><td>f64</td><td>f64</td><td>f64</td><td>f64</td><td>f64</td><td>f64</td><td>f64</td><td>f64</td><td>f64</td><td>f64</td><td>f64</td><td>f64</td><td>f64</td><td>f64</td><td>f64</td><td>f64</td><td>f64</td><td>f64</td><td>f64</td><td>f64</td><td>f64</td><td>f64</td><td>f64</td><td>f64</td><td>f64</td><td>f64</td><td>f64</td><td>f64</td><td>i64</td></tr></thead><tbody><tr><td>0</td><td>6881.892301</td><td>6517.414858</td><td>7476.567746</td><td>7052.61059</td><td>6809.002174</td><td>6465.089852</td><td>7714.185588</td><td>7010.85559</td><td>7184.306903</td><td>6364.997182</td><td>7501.188408</td><td>7678.577536</td><td>8374.386963</td><td>8105.340176</td><td>8644.322072</td><td>7985.056344</td><td>8628.261509</td><td>6528.148787</td><td>7798.699012</td><td>8063.395359</td><td>8981.008775</td><td>8613.396141</td><td>10717.468387</td><td>9447.344769</td><td>7984.506685</td><td>8272.276158</td><td>5876.6578</td><td>6016.32209</td><td>7374.013382</td><td>8496.804984</td><td>27587</td></tr><tr><td>1</td><td>3740.634027</td><td>3496.012582</td><td>3789.907986</td><td>3322.844722</td><td>3603.935425</td><td>3485.623398</td><td>3507.497452</td><td>3714.057283</td><td>3488.353022</td><td>3750.770625</td><td>3412.19359</td><td>3927.363047</td><td>3886.662697</td><td>3551.474485</td><td>3713.3473</td><td>3463.093834</td><td>3695.630189</td><td>3663.237361</td><td>3463.024267</td><td>3905.364004</td><td>3563.378845</td><td>4112.248835</td><td>3360.300264</td><td>3807.072052</td><td>3406.217022</td><td>3615.842705</td><td>4245.317355</td><td>4453.437876</td><td>4408.398403</td><td>3900.820201</td><td>4724</td></tr><tr><td>2</td><td>2954.247573</td><td>2735.110086</td><td>3288.647709</td><td>2893.84021</td><td>3253.350282</td><td>2885.690295</td><td>3202.10377</td><td>2799.365349</td><td>2989.931642</td><td>2920.912332</td><td>3059.180374</td><td>3198.706345</td><td>2764.92988</td><td>3237.239548</td><td>2756.230854</td><td>3233.761663</td><td>2927.997318</td><td>3258.873698</td><td>3235.904715</td><td>3139.762054</td><td>3016.016944</td><td>3167.730032</td><td>2929.953707</td><td>2957.126627</td><td>3618.763534</td><td>3022.052454</td><td>3913.586712</td><td>3705.560742</td><td>2921.102463</td><td>3116.785537</td><td>10931</td></tr><tr><td>3</td><td>8430.949224</td><td>8337.416095</td><td>9033.353098</td><td>8081.40405</td><td>8187.453186</td><td>8477.54243</td><td>8546.771462</td><td>8388.923127</td><td>8119.18331</td><td>8413.930266</td><td>8298.903056</td><td>8142.383515</td><td>8055.886032</td><td>8356.561411</td><td>8421.656285</td><td>8167.994718</td><td>8646.470884</td><td>8423.019535</td><td>8016.7337</td><td>8041.633697</td><td>8331.325796</td><td>7947.686753</td><td>8057.31244</td><td>8250.578545</td><td>8052.200549</td><td>8115.355025</td><td>8157.420044</td><td>7434.588221</td><td>8284.727211</td><td>7855.624335</td><td>16553</td></tr><tr><td>4</td><td>3972.418866</td><td>4254.790314</td><td>4089.549517</td><td>4272.046434</td><td>4446.949951</td><td>4022.828501</td><td>4374.413436</td><td>4369.679027</td><td>4150.7095</td><td>3941.880817</td><td>4227.904345</td><td>4420.621374</td><td>4676.941221</td><td>4534.857719</td><td>4604.858395</td><td>4588.033874</td><td>4023.362549</td><td>4455.22004</td><td>4574.171104</td><td>4520.151023</td><td>4408.383964</td><td>4200.673767</td><td>4535.020561</td><td>4420.531149</td><td>4421.192901</td><td>4254.960815</td><td>4031.139467</td><td>3972.143434</td><td>4027.789862</td><td>4720.410259</td><td>5158</td></tr></tbody></table></div>"
      ],
      "text/plain": [
       "shape: (5, 32)\n",
       "┌─────┬─────────────┬─────────────┬─────────────┬───┬────────────┬────────────┬────────────┬───────┐\n",
       "│ id  ┆ pred_0      ┆ pred_1      ┆ pred_2      ┆ … ┆ pred_27    ┆ pred_28    ┆ pred_29    ┆ price │\n",
       "│ --- ┆ ---         ┆ ---         ┆ ---         ┆   ┆ ---        ┆ ---        ┆ ---        ┆ ---   │\n",
       "│ i64 ┆ f64         ┆ f64         ┆ f64         ┆   ┆ f64        ┆ f64        ┆ f64        ┆ i64   │\n",
       "╞═════╪═════════════╪═════════════╪═════════════╪═══╪════════════╪════════════╪════════════╪═══════╡\n",
       "│ 0   ┆ 6881.892301 ┆ 6517.414858 ┆ 7476.567746 ┆ … ┆ 6016.32209 ┆ 7374.01338 ┆ 8496.80498 ┆ 27587 │\n",
       "│     ┆             ┆             ┆             ┆   ┆            ┆ 2          ┆ 4          ┆       │\n",
       "│ 1   ┆ 3740.634027 ┆ 3496.012582 ┆ 3789.907986 ┆ … ┆ 4453.43787 ┆ 4408.39840 ┆ 3900.82020 ┆ 4724  │\n",
       "│     ┆             ┆             ┆             ┆   ┆ 6          ┆ 3          ┆ 1          ┆       │\n",
       "│ 2   ┆ 2954.247573 ┆ 2735.110086 ┆ 3288.647709 ┆ … ┆ 3705.56074 ┆ 2921.10246 ┆ 3116.78553 ┆ 10931 │\n",
       "│     ┆             ┆             ┆             ┆   ┆ 2          ┆ 3          ┆ 7          ┆       │\n",
       "│ 3   ┆ 8430.949224 ┆ 8337.416095 ┆ 9033.353098 ┆ … ┆ 7434.58822 ┆ 8284.72721 ┆ 7855.62433 ┆ 16553 │\n",
       "│     ┆             ┆             ┆             ┆   ┆ 1          ┆ 1          ┆ 5          ┆       │\n",
       "│ 4   ┆ 3972.418866 ┆ 4254.790314 ┆ 4089.549517 ┆ … ┆ 3972.14343 ┆ 4027.78986 ┆ 4720.41025 ┆ 5158  │\n",
       "│     ┆             ┆             ┆             ┆   ┆ 4          ┆ 2          ┆ 9          ┆       │\n",
       "└─────┴─────────────┴─────────────┴─────────────┴───┴────────────┴────────────┴────────────┴───────┘"
      ]
     },
     "execution_count": 4,
     "metadata": {},
     "output_type": "execute_result"
    }
   ],
   "source": [
    "# ===================================================================\n",
    "#  Data Loading\n",
    "# ===================================================================\n",
    "df = pl.read_csv(CFG.save_dir+f\"oof_df_exp050.csv\").sort(\"id\")\n",
    "train = pl.read_csv(CFG.data_dir+\"train.csv\", columns=[\"id\", \"price\"])\n",
    "df = df.join(train, on=\"id\", how=\"left\")\n",
    "\n",
    "test = pl.read_csv(CFG.save_dir+f\"exp050.csv\").sort(\"id\")\n",
    "\n",
    "df.head()"
   ]
  },
  {
   "cell_type": "code",
   "execution_count": 5,
   "metadata": {},
   "outputs": [],
   "source": [
    "# ===================================================================\n",
    "#  Utils\n",
    "# ===================================================================\n",
    "def seed_everything(seed):\n",
    "    \"\"\"fix random factors\"\"\"\n",
    "    random.seed(seed)\n",
    "    np.random.seed(seed)\n",
    "    os.environ['PYTHONHASHSEED'] = str(seed)\n",
    "seed_everything(CFG.seed)\n",
    "    \n",
    "\n",
    "def get_score(y_true, y_pred):\n",
    "    \"\"\"get MAPE score\"\"\"\n",
    "    score = mean_absolute_percentage_error(y_true, y_pred)\n",
    "    return score * 100"
   ]
  },
  {
   "cell_type": "code",
   "execution_count": null,
   "metadata": {},
   "outputs": [],
   "source": [
    "def obj_func(x, *oof_list):\n",
    "    oof = 0\n",
    "    x[x<0] = 0\n",
    "    x = x/np.sum(x)\n",
    "    for i in range(min(len(x), len(oof_list))):\n",
    "        oof += x[i]*oof_list[i][['pred_0', 'pred_1', 'pred_2', 'pred_3', 'pred_4', 'pred_5']]\n",
    "    return get_score(oof.values, ground_truth.values)"
   ]
  }
 ],
 "metadata": {
  "kernelspec": {
   "display_name": "Python 3",
   "language": "python",
   "name": "python3"
  },
  "language_info": {
   "codemirror_mode": {
    "name": "ipython",
    "version": 3
   },
   "file_extension": ".py",
   "mimetype": "text/x-python",
   "name": "python",
   "nbconvert_exporter": "python",
   "pygments_lexer": "ipython3",
   "version": "3.11.4"
  },
  "orig_nbformat": 4
 },
 "nbformat": 4,
 "nbformat_minor": 2
}
