{
 "cells": [
  {
   "cell_type": "code",
   "execution_count": 1,
   "metadata": {},
   "outputs": [],
   "source": [
    "# ===================================================================\n",
    "#  Library\n",
    "# ===================================================================\n",
    "import polars as pl\n",
    "import pandas as pd\n",
    "from sklearn.metrics import mean_absolute_percentage_error\n",
    "\n",
    "import warnings\n",
    "warnings.simplefilter(\"ignore\")\n",
    "\n",
    "import optuna\n",
    "import numpy as np"
   ]
  },
  {
   "cell_type": "code",
   "execution_count": 2,
   "metadata": {},
   "outputs": [],
   "source": [
    "# ===================================================================\n",
    "#  CFG\n",
    "# ===================================================================\n",
    "class CFG:\n",
    "    seed = 42\n",
    "    save_dir = \"G:/マイドライブ/signate_StudentCup2023/exp/\"\n",
    "    data_dir = \"G:/マイドライブ/signate_StudentCup2023/data/\"\n",
    "    filename = \"exp073\"\n",
    "    n_trials = 2000\n",
    "    n_seeds = 3"
   ]
  },
  {
   "cell_type": "code",
   "execution_count": 3,
   "metadata": {},
   "outputs": [],
   "source": [
    "# ===================================================================\n",
    "#  Utils\n",
    "# ===================================================================\n",
    "def get_score(y_true, y_pred):\n",
    "    \"\"\"get MAPE score\"\"\"\n",
    "    score = mean_absolute_percentage_error(y_true, y_pred)\n",
    "    return score * 100"
   ]
  },
  {
   "cell_type": "code",
   "execution_count": 4,
   "metadata": {},
   "outputs": [
    {
     "data": {
      "text/html": [
       "<div><style>\n",
       ".dataframe > thead > tr > th,\n",
       ".dataframe > tbody > tr > td {\n",
       "  text-align: right;\n",
       "}\n",
       "</style>\n",
       "<small>shape: (5, 8)</small><table border=\"1\" class=\"dataframe\"><thead><tr><th>id</th><th>pred_0</th><th>pred_1</th><th>pred_2</th><th>pred_3</th><th>pred_4</th><th>pred_5</th><th>price</th></tr><tr><td>i64</td><td>f64</td><td>f64</td><td>f64</td><td>f64</td><td>f64</td><td>f64</td><td>i64</td></tr></thead><tbody><tr><td>0</td><td>8759.290471</td><td>8929.546032</td><td>8916.322165</td><td>8977.757097</td><td>8805.219623</td><td>7895.416</td><td>27587</td></tr><tr><td>1</td><td>3859.910547</td><td>3825.508199</td><td>3822.104706</td><td>3876.047282</td><td>3799.844508</td><td>4177.358</td><td>4724</td></tr><tr><td>2</td><td>3027.760649</td><td>3049.493176</td><td>2982.516292</td><td>3056.648628</td><td>2959.861854</td><td>2818.1372</td><td>10931</td></tr><tr><td>3</td><td>7990.517289</td><td>8005.600906</td><td>7993.295606</td><td>7894.338559</td><td>7934.6545</td><td>8179.846</td><td>16553</td></tr><tr><td>4</td><td>4524.287997</td><td>4479.006617</td><td>4569.630683</td><td>4570.899182</td><td>4461.927715</td><td>4321.6885</td><td>5158</td></tr></tbody></table></div>"
      ],
      "text/plain": [
       "shape: (5, 8)\n",
       "┌─────┬─────────────┬─────────────┬─────────────┬─────────────┬─────────────┬───────────┬───────┐\n",
       "│ id  ┆ pred_0      ┆ pred_1      ┆ pred_2      ┆ pred_3      ┆ pred_4      ┆ pred_5    ┆ price │\n",
       "│ --- ┆ ---         ┆ ---         ┆ ---         ┆ ---         ┆ ---         ┆ ---       ┆ ---   │\n",
       "│ i64 ┆ f64         ┆ f64         ┆ f64         ┆ f64         ┆ f64         ┆ f64       ┆ i64   │\n",
       "╞═════╪═════════════╪═════════════╪═════════════╪═════════════╪═════════════╪═══════════╪═══════╡\n",
       "│ 0   ┆ 8759.290471 ┆ 8929.546032 ┆ 8916.322165 ┆ 8977.757097 ┆ 8805.219623 ┆ 7895.416  ┆ 27587 │\n",
       "│ 1   ┆ 3859.910547 ┆ 3825.508199 ┆ 3822.104706 ┆ 3876.047282 ┆ 3799.844508 ┆ 4177.358  ┆ 4724  │\n",
       "│ 2   ┆ 3027.760649 ┆ 3049.493176 ┆ 2982.516292 ┆ 3056.648628 ┆ 2959.861854 ┆ 2818.1372 ┆ 10931 │\n",
       "│ 3   ┆ 7990.517289 ┆ 8005.600906 ┆ 7993.295606 ┆ 7894.338559 ┆ 7934.6545   ┆ 8179.846  ┆ 16553 │\n",
       "│ 4   ┆ 4524.287997 ┆ 4479.006617 ┆ 4569.630683 ┆ 4570.899182 ┆ 4461.927715 ┆ 4321.6885 ┆ 5158  │\n",
       "└─────┴─────────────┴─────────────┴─────────────┴─────────────┴─────────────┴───────────┴───────┘"
      ]
     },
     "execution_count": 4,
     "metadata": {},
     "output_type": "execute_result"
    }
   ],
   "source": [
    "# ===================================================================\n",
    "#  DataLoading\n",
    "# ===================================================================\n",
    "train = pl.read_csv(CFG.data_dir+\"train.csv\", columns=[\"id\", \"price\"])\n",
    "\n",
    "df = pl.read_csv(CFG.save_dir+\"oof_df_exp051.csv\").rename({\"pred\":f\"pred_{0}\"})\n",
    "files = [\"exp052\", \"exp053\", \"exp054\"]\n",
    "for i, f in enumerate(files, start=1):\n",
    "    df = df.join(\n",
    "        pl.read_csv(CFG.save_dir+f\"oof_df_{f}.csv\").rename({\"pred\":f\"pred_{i}\"}),\n",
    "        on=\"id\", how=\"left\"\n",
    "    )\n",
    "    \n",
    "df = df.join(\n",
    "    pl.read_csv(CFG.save_dir+\"kun_exp00055_oof_pred.csv\").rename({'optimized_pred':f'pred_{len(files)+1}'}),\n",
    "    on=\"id\", how=\"left\",\n",
    ")\n",
    "\n",
    "df = df.join(\n",
    "    pl.read_csv(CFG.save_dir+\"kun_exp00056_oof_pred.csv\").rename({\"oof_pred\": f'pred_{len(files)+2}'}),\n",
    "    on=\"id\", how=\"left\",\n",
    ")\n",
    "\n",
    "df = df.join(\n",
    "    train, on=\"id\", how=\"left\"\n",
    ")\n",
    "\n",
    "df.head()"
   ]
  },
  {
   "cell_type": "code",
   "execution_count": 5,
   "metadata": {},
   "outputs": [
    {
     "name": "stdout",
     "output_type": "stream",
     "text": [
      "[0] baseline pred_0 43.56925636218776\n",
      "[1] add pred_5: 43.50093990230066 0.45000000000000084\n",
      "[2] add pred_4: 43.500358657136026 0.09000000000000052\n",
      "[3] add pred_2: 43.49842202750322 -0.17999999999999972\n",
      "[4] add pred_3: 43.498085037353654 0.0700000000000005\n",
      "[5] add pred_1: 43.49803242660311 -0.029999999999999583\n"
     ]
    }
   ],
   "source": [
    "# ===================================================================\n",
    "#  Hill Climbing\n",
    "# ===================================================================\n",
    "# https://www.kaggle.com/competitions/feedback-prize-english-language-learning/discussion/369609\n",
    "\n",
    "\n",
    "def evaluate(current_best_preds, k: int, best_score: float):\n",
    "    \"\"\"\n",
    "    評価関数\n",
    "    \n",
    "    preds = current_best_preds*(1-w) + df[models[k]]*w\n",
    "    において最もスコアが良くなるようにwを探す.\n",
    "    もしその最も良いスコアがbest_scoreよりも良ければそのスコアと重みを返し、その最も良いスコアがbest_scoreよりも良くなければ元々のbest_scoreと重み0を返す\n",
    "    \"\"\"\n",
    "    best_weight = 0\n",
    "    for w in np.arange(-0.5, 0.5, 0.01):\n",
    "        preds = current_best_preds*(1-w) + df[models[k]]*w\n",
    "        score = get_score(y_true=df[\"price\"], y_pred=preds)\n",
    "        if score < best_score:\n",
    "            best_score = score\n",
    "            best_weight = w\n",
    "    return best_score, best_weight\n",
    "\n",
    "\n",
    "\n",
    "stores = dict() # Hill Climbingで得た重りを保存する\n",
    "orders = []     # Hill Climbingで選ばれたモデルの順番を保存する\n",
    "scores = dict() # Hill Climbingするときのスコアを保存する\n",
    "\n",
    "# single modelで最もCVが良いモデルを選択する\n",
    "for col in df.columns:\n",
    "    if col not in [\"id\", \"price\"]:\n",
    "        scores[col] = get_score(y_true=df[\"price\"], y_pred=df[col])        \n",
    "selected_model = min(scores, key=scores.get)\n",
    "current_best_preds = df[selected_model]\n",
    "orders.append(selected_model) # 順番を保存\n",
    "stores[selected_model] = 1    # 重みを保存\n",
    "models = [col for col in df.columns if col not in [\"id\", \"price\"]]\n",
    "\n",
    "# Start Hill Climbing\n",
    "i = 0\n",
    "print(f\"[{i}] baseline {selected_model} {min(scores.values())}\")\n",
    "\n",
    "while True:\n",
    "    \n",
    "    # 前段階のベストスコア\n",
    "    best_score = min(scores.values())\n",
    "    \n",
    "    # 前段階で選ばれたモデル\n",
    "    selected_model = min(scores, key=scores.get)\n",
    "    \n",
    "    # 重複しないように削除\n",
    "    models.remove(selected_model)\n",
    "    \n",
    "    \n",
    "    # 残ったモデルの数が0になれば終了\n",
    "    if len(models) == 0:\n",
    "        break\n",
    "    \n",
    "    # \n",
    "    scores, weights = dict(), dict()\n",
    "    for k in range(len(models)):\n",
    "        score, weight = evaluate(current_best_preds, k, best_score)\n",
    "        scores[models[k]] = score\n",
    "        weights[models[k]] = weight\n",
    "        \n",
    "    i += 1\n",
    "    selected_model = min(scores, key=scores.get)\n",
    "    print(f\"[{i}] add {selected_model}: {min(scores.values())} {weights[selected_model]}\")\n",
    "    best_weight = weights[selected_model]\n",
    "    stores[selected_model] = best_weight\n",
    "    orders.append(selected_model)\n",
    "    current_best_preds = current_best_preds*(1-best_weight) + df[selected_model]*best_weight"
   ]
  },
  {
   "cell_type": "code",
   "execution_count": 6,
   "metadata": {},
   "outputs": [
    {
     "data": {
      "text/plain": [
       "43.49803242660311"
      ]
     },
     "execution_count": 6,
     "metadata": {},
     "output_type": "execute_result"
    }
   ],
   "source": [
    "# ===================================================================\n",
    "#  Check\n",
    "# ===================================================================\n",
    "def get_preds(df: pl.DataFrame):\n",
    "    best_preds = 0\n",
    "    for exp in orders:\n",
    "        w = stores[exp]\n",
    "        best_preds  = best_preds * (1-w) + df[exp] * w\n",
    "    return best_preds\n",
    "    \n",
    "get_score(y_true=df[\"price\"], y_pred=get_preds(df))"
   ]
  },
  {
   "cell_type": "code",
   "execution_count": 7,
   "metadata": {},
   "outputs": [
    {
     "data": {
      "text/html": [
       "<div><style>\n",
       ".dataframe > thead > tr > th,\n",
       ".dataframe > tbody > tr > td {\n",
       "  text-align: right;\n",
       "}\n",
       "</style>\n",
       "<small>shape: (5, 8)</small><table border=\"1\" class=\"dataframe\"><thead><tr><th>id</th><th>pred_0</th><th>pred_1</th><th>pred_2</th><th>pred_3</th><th>pred_4</th><th>pred_5</th><th>pred</th></tr><tr><td>i64</td><td>f64</td><td>f64</td><td>f64</td><td>f64</td><td>f64</td><td>f64</td><td>f64</td></tr></thead><tbody><tr><td>27532</td><td>9681.016732</td><td>9631.179775</td><td>9535.601879</td><td>9589.502294</td><td>9347.528622</td><td>8806.765109</td><td>9262.398861</td></tr><tr><td>27533</td><td>5589.905122</td><td>5625.972274</td><td>5579.913722</td><td>5696.370941</td><td>5473.58948</td><td>5556.561678</td><td>5570.955783</td></tr><tr><td>27534</td><td>5588.496733</td><td>5559.707831</td><td>5556.921123</td><td>5567.494508</td><td>5542.547482</td><td>5788.564407</td><td>5681.220795</td></tr><tr><td>27535</td><td>18539.01419</td><td>18585.315662</td><td>18690.825713</td><td>18540.038374</td><td>17815.695204</td><td>19133.043389</td><td>18712.89727</td></tr><tr><td>27536</td><td>4461.198006</td><td>4460.135571</td><td>4474.330698</td><td>4508.779351</td><td>4446.383701</td><td>4014.969884</td><td>4254.344876</td></tr></tbody></table></div>"
      ],
      "text/plain": [
       "shape: (5, 8)\n",
       "┌───────┬────────────┬────────────┬────────────┬────────────┬────────────┬────────────┬────────────┐\n",
       "│ id    ┆ pred_0     ┆ pred_1     ┆ pred_2     ┆ pred_3     ┆ pred_4     ┆ pred_5     ┆ pred       │\n",
       "│ ---   ┆ ---        ┆ ---        ┆ ---        ┆ ---        ┆ ---        ┆ ---        ┆ ---        │\n",
       "│ i64   ┆ f64        ┆ f64        ┆ f64        ┆ f64        ┆ f64        ┆ f64        ┆ f64        │\n",
       "╞═══════╪════════════╪════════════╪════════════╪════════════╪════════════╪════════════╪════════════╡\n",
       "│ 27532 ┆ 9681.01673 ┆ 9631.17977 ┆ 9535.60187 ┆ 9589.50229 ┆ 9347.52862 ┆ 8806.76510 ┆ 9262.39886 │\n",
       "│       ┆ 2          ┆ 5          ┆ 9          ┆ 4          ┆ 2          ┆ 9          ┆ 1          │\n",
       "│ 27533 ┆ 5589.90512 ┆ 5625.97227 ┆ 5579.91372 ┆ 5696.37094 ┆ 5473.58948 ┆ 5556.56167 ┆ 5570.95578 │\n",
       "│       ┆ 2          ┆ 4          ┆ 2          ┆ 1          ┆            ┆ 8          ┆ 3          │\n",
       "│ 27534 ┆ 5588.49673 ┆ 5559.70783 ┆ 5556.92112 ┆ 5567.49450 ┆ 5542.54748 ┆ 5788.56440 ┆ 5681.22079 │\n",
       "│       ┆ 3          ┆ 1          ┆ 3          ┆ 8          ┆ 2          ┆ 7          ┆ 5          │\n",
       "│ 27535 ┆ 18539.0141 ┆ 18585.3156 ┆ 18690.8257 ┆ 18540.0383 ┆ 17815.6952 ┆ 19133.0433 ┆ 18712.8972 │\n",
       "│       ┆ 9          ┆ 62         ┆ 13         ┆ 74         ┆ 04         ┆ 89         ┆ 7          │\n",
       "│ 27536 ┆ 4461.19800 ┆ 4460.13557 ┆ 4474.33069 ┆ 4508.77935 ┆ 4446.38370 ┆ 4014.96988 ┆ 4254.34487 │\n",
       "│       ┆ 6          ┆ 1          ┆ 8          ┆ 1          ┆ 1          ┆ 4          ┆ 6          │\n",
       "└───────┴────────────┴────────────┴────────────┴────────────┴────────────┴────────────┴────────────┘"
      ]
     },
     "metadata": {},
     "output_type": "display_data"
    }
   ],
   "source": [
    "# ===================================================================\n",
    "#  oof_df\n",
    "# ===================================================================\n",
    "test = pl.read_csv(CFG.save_dir+f\"exp051.csv\", has_header=False).rename({\"column_1\":\"id\", \"column_2\":\"pred\"}).sort(\"id\").rename({\"pred\":f\"pred_{0}\"})\n",
    "files = [\"exp052.csv\", \"exp053.csv\", \"exp054.csv\", \"kun_exp00055.csv\", \"kun_exp00056.csv\"]\n",
    "for i, f in enumerate(files, start=1):\n",
    "    test = test.join(\n",
    "        pl.read_csv(CFG.save_dir+f, has_header=False).rename({\"column_1\":\"id\", \"column_2\":\"pred\"}).rename({\"pred\":f\"pred_{i}\"}),\n",
    "        on=\"id\", how=\"left\"\n",
    "    )\n",
    "\n",
    "test = test.with_columns(\n",
    "    pl.Series(get_preds(test)).alias(\"pred\")\n",
    ")\n",
    "display(test.head())\n",
    "\n",
    "\n",
    "test[[\"id\", \"pred\"]].write_csv(CFG.save_dir+f\"{CFG.filename}.csv\", has_header=False)"
   ]
  }
 ],
 "metadata": {
  "kernelspec": {
   "display_name": "Python 3",
   "language": "python",
   "name": "python3"
  },
  "language_info": {
   "codemirror_mode": {
    "name": "ipython",
    "version": 3
   },
   "file_extension": ".py",
   "mimetype": "text/x-python",
   "name": "python",
   "nbconvert_exporter": "python",
   "pygments_lexer": "ipython3",
   "version": "3.11.4"
  },
  "orig_nbformat": 4
 },
 "nbformat": 4,
 "nbformat_minor": 2
}
