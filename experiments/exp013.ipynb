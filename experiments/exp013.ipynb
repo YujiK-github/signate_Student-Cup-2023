{
 "cells": [
  {
   "cell_type": "code",
   "execution_count": 1,
   "metadata": {},
   "outputs": [],
   "source": [
    "# ===================================================================\n",
    "#  Library\n",
    "# ===================================================================\n",
    "import os\n",
    "import random\n",
    "import numpy as np\n",
    "import pandas as pd\n",
    "import matplotlib.pyplot as plt\n",
    "import seaborn as sns\n",
    "\n",
    "import math\n",
    "import time\n",
    "\n",
    "\n",
    "from sklearn.preprocessing import OrdinalEncoder\n",
    "from sklearn.metrics import mean_absolute_percentage_error\n",
    "from tqdm.auto import tqdm\n",
    "\n",
    "import warnings\n",
    "warnings.simplefilter(\"ignore\")\n",
    "\n",
    "import unicodedata\n",
    "import lightgbm as lgb\n",
    "\n",
    "import optuna"
   ]
  },
  {
   "cell_type": "code",
   "execution_count": 2,
   "metadata": {},
   "outputs": [],
   "source": [
    "# ===================================================================\n",
    "#  CFG\n",
    "# ===================================================================\n",
    "class CFG:\n",
    "    seed = 42\n",
    "    n_trials = 3000\n",
    "    save_dir = \"G:/マイドライブ/signate_StudentCup2023/exp/\"\n",
    "    filename = \"exp013\""
   ]
  },
  {
   "cell_type": "code",
   "execution_count": 3,
   "metadata": {},
   "outputs": [],
   "source": [
    "# ===================================================================\n",
    "#  Utils\n",
    "# ===================================================================\n",
    "def get_score(y_true, y_pred):\n",
    "    \"\"\"get MAPE score\"\"\"\n",
    "    score = mean_absolute_percentage_error(y_true, y_pred)\n",
    "    return score * 100"
   ]
  },
  {
   "cell_type": "code",
   "execution_count": 4,
   "metadata": {},
   "outputs": [],
   "source": [
    "# ===================================================================\n",
    "#  DataLoading\n",
    "# ===================================================================\n",
    "df_1 = pd.read_csv(CFG.save_dir+\"exp011_oof_df.csv\").rename(columns={\"pred\":\"pred_1\"})\n",
    "df_2 = pd.read_csv(CFG.save_dir+\"exp012_oof_df.csv\").rename(columns={\"pred\":\"pred_2\"})\n",
    "df = pd.merge(df_1, df_2[[\"id\", \"pred_2\"]], on=\"id\", how=\"left\")"
   ]
  },
  {
   "cell_type": "code",
   "execution_count": 5,
   "metadata": {},
   "outputs": [
    {
     "data": {
      "application/vnd.jupyter.widget-view+json": {
       "model_id": "f27e1e9994754d3aa12f8aff158e4a85",
       "version_major": 2,
       "version_minor": 0
      },
      "text/plain": [
       "  0%|          | 0/3000 [00:00<?, ?it/s]"
      ]
     },
     "metadata": {},
     "output_type": "display_data"
    },
    {
     "name": "stdout",
     "output_type": "stream",
     "text": [
      "{'a': 0.5144978198294123, 'b': 0.4820933622229025} 44.00756302577998\n"
     ]
    }
   ],
   "source": [
    "# ===================================================================\n",
    "#  optuna\n",
    "# ===================================================================\n",
    "def objective(trial):\n",
    "    a = trial.suggest_float(\"a\", 0, 1)\n",
    "    b = trial.suggest_float(\"b\", 0, 1)\n",
    "    \n",
    "    df[f\"pred\"] = df[f\"pred_1\"] * a + df[f\"pred_2\"] * b\n",
    "    score = get_score(y_true=df[\"price\"], y_pred = df[f\"pred\"])\n",
    "    return score\n",
    "    \n",
    "optuna.logging.set_verbosity(optuna.logging.WARNING)\n",
    "study = optuna.create_study(direction=\"minimize\",\n",
    "                            sampler=optuna.samplers.TPESampler(seed=CFG.seed))\n",
    "study.optimize(objective, \n",
    "                n_trials=CFG.n_trials,\n",
    "                show_progress_bar=True)\n",
    "\n",
    "best_params = study.best_params\n",
    "best_value = study.best_value\n",
    "print(best_params, best_value)"
   ]
  },
  {
   "cell_type": "code",
   "execution_count": 6,
   "metadata": {},
   "outputs": [
    {
     "data": {
      "text/html": [
       "<div>\n",
       "<style scoped>\n",
       "    .dataframe tbody tr th:only-of-type {\n",
       "        vertical-align: middle;\n",
       "    }\n",
       "\n",
       "    .dataframe tbody tr th {\n",
       "        vertical-align: top;\n",
       "    }\n",
       "\n",
       "    .dataframe thead th {\n",
       "        text-align: right;\n",
       "    }\n",
       "</style>\n",
       "<table border=\"1\" class=\"dataframe\">\n",
       "  <thead>\n",
       "    <tr style=\"text-align: right;\">\n",
       "      <th></th>\n",
       "      <th>id</th>\n",
       "      <th>pred</th>\n",
       "    </tr>\n",
       "  </thead>\n",
       "  <tbody>\n",
       "    <tr>\n",
       "      <th>0</th>\n",
       "      <td>27532</td>\n",
       "      <td>9596.409495</td>\n",
       "    </tr>\n",
       "    <tr>\n",
       "      <th>1</th>\n",
       "      <td>27533</td>\n",
       "      <td>5417.556117</td>\n",
       "    </tr>\n",
       "  </tbody>\n",
       "</table>\n",
       "</div>"
      ],
      "text/plain": [
       "      id         pred\n",
       "0  27532  9596.409495\n",
       "1  27533  5417.556117"
      ]
     },
     "execution_count": 6,
     "metadata": {},
     "output_type": "execute_result"
    }
   ],
   "source": [
    "# ===================================================================\n",
    "#  test\n",
    "# ===================================================================\n",
    "test_1 = pd.read_csv(CFG.save_dir+\"exp011.csv\", names=['id', 'pred']).rename(columns={\"pred\":\"pred_1\"})\n",
    "test_2 = pd.read_csv(CFG.save_dir+\"exp012.csv\", names=['id', 'pred']).rename(columns={\"pred\":\"pred_2\"})\n",
    "\n",
    "test_1[\"pred\"] = test_1[\"pred_1\"] * best_params[\"a\"] + test_2[\"pred_2\"] * best_params[\"b\"]\n",
    "test_1[[\"id\", \"pred\"]].to_csv(CFG.save_dir+f\"{CFG.filename}.csv\", index=False, header=None)\n",
    "test_1[[\"id\", \"pred\"]].head(2)"
   ]
  }
 ],
 "metadata": {
  "kernelspec": {
   "display_name": "Python 3",
   "language": "python",
   "name": "python3"
  },
  "language_info": {
   "codemirror_mode": {
    "name": "ipython",
    "version": 3
   },
   "file_extension": ".py",
   "mimetype": "text/x-python",
   "name": "python",
   "nbconvert_exporter": "python",
   "pygments_lexer": "ipython3",
   "version": "3.11.4"
  },
  "orig_nbformat": 4
 },
 "nbformat": 4,
 "nbformat_minor": 2
}
