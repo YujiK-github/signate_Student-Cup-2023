{
 "cells": [
  {
   "cell_type": "code",
   "execution_count": 1,
   "metadata": {},
   "outputs": [],
   "source": [
    "# ===================================================================\n",
    "#  Library\n",
    "# ===================================================================\n",
    "import polars as pl\n",
    "import pandas as pd\n",
    "from sklearn.metrics import mean_absolute_percentage_error\n",
    "\n",
    "import warnings\n",
    "warnings.simplefilter(\"ignore\")\n",
    "\n",
    "import optuna\n",
    "import numpy as np"
   ]
  },
  {
   "cell_type": "code",
   "execution_count": 2,
   "metadata": {},
   "outputs": [],
   "source": [
    "# ===================================================================\n",
    "#  CFG\n",
    "# ===================================================================\n",
    "class CFG:\n",
    "    seed = 42\n",
    "    save_dir = \"G:/マイドライブ/signate_StudentCup2023/exp/\"\n",
    "    data_dir = \"G:/マイドライブ/signate_StudentCup2023/data/\"\n",
    "    filename = \"exp082\"\n",
    "    n_trials = 2000\n",
    "    n_seeds = 3"
   ]
  },
  {
   "cell_type": "code",
   "execution_count": 3,
   "metadata": {},
   "outputs": [],
   "source": [
    "# ===================================================================\n",
    "#  Utils\n",
    "# ===================================================================\n",
    "def get_score(y_true, y_pred):\n",
    "    \"\"\"get MAPE score\"\"\"\n",
    "    score = mean_absolute_percentage_error(y_true, y_pred)\n",
    "    return score * 100"
   ]
  },
  {
   "cell_type": "code",
   "execution_count": 4,
   "metadata": {},
   "outputs": [
    {
     "data": {
      "text/html": [
       "<div><style>\n",
       ".dataframe > thead > tr > th,\n",
       ".dataframe > tbody > tr > td {\n",
       "  text-align: right;\n",
       "}\n",
       "</style>\n",
       "<small>shape: (5, 10)</small><table border=\"1\" class=\"dataframe\"><thead><tr><th>id</th><th>pred_0</th><th>pred_1</th><th>pred_2</th><th>pred_3</th><th>pred_4</th><th>pred_5</th><th>pred_6</th><th>pred_7</th><th>price</th></tr><tr><td>i64</td><td>f64</td><td>f64</td><td>f64</td><td>f64</td><td>f64</td><td>f64</td><td>f64</td><td>f64</td><td>i64</td></tr></thead><tbody><tr><td>0</td><td>8854.693376</td><td>9152.341955</td><td>8780.223598</td><td>8955.701853</td><td>8946.926107</td><td>9196.765168</td><td>7579.777693</td><td>9322.824825</td><td>27587</td></tr><tr><td>1</td><td>3869.563539</td><td>3864.146063</td><td>3878.933184</td><td>3892.975519</td><td>3870.646555</td><td>3885.20529</td><td>4001.311742</td><td>3891.99762</td><td>4724</td></tr><tr><td>2</td><td>3020.466736</td><td>2996.637993</td><td>3037.993605</td><td>3035.039709</td><td>3021.979636</td><td>3060.125866</td><td>2899.577998</td><td>2971.556923</td><td>10931</td></tr><tr><td>3</td><td>8014.619227</td><td>8068.601962</td><td>8042.945716</td><td>7945.924737</td><td>7996.75402</td><td>8007.789593</td><td>8312.877683</td><td>7959.507481</td><td>16553</td></tr><tr><td>4</td><td>4522.686418</td><td>4480.841914</td><td>4437.256123</td><td>4493.480177</td><td>4469.191551</td><td>4537.125697</td><td>4522.498509</td><td>4375.457013</td><td>5158</td></tr></tbody></table></div>"
      ],
      "text/plain": [
       "shape: (5, 10)\n",
       "┌─────┬─────────────┬─────────────┬─────────────┬───┬────────────┬────────────┬────────────┬───────┐\n",
       "│ id  ┆ pred_0      ┆ pred_1      ┆ pred_2      ┆ … ┆ pred_5     ┆ pred_6     ┆ pred_7     ┆ price │\n",
       "│ --- ┆ ---         ┆ ---         ┆ ---         ┆   ┆ ---        ┆ ---        ┆ ---        ┆ ---   │\n",
       "│ i64 ┆ f64         ┆ f64         ┆ f64         ┆   ┆ f64        ┆ f64        ┆ f64        ┆ i64   │\n",
       "╞═════╪═════════════╪═════════════╪═════════════╪═══╪════════════╪════════════╪════════════╪═══════╡\n",
       "│ 0   ┆ 8854.693376 ┆ 9152.341955 ┆ 8780.223598 ┆ … ┆ 9196.76516 ┆ 7579.77769 ┆ 9322.82482 ┆ 27587 │\n",
       "│     ┆             ┆             ┆             ┆   ┆ 8          ┆ 3          ┆ 5          ┆       │\n",
       "│ 1   ┆ 3869.563539 ┆ 3864.146063 ┆ 3878.933184 ┆ … ┆ 3885.20529 ┆ 4001.31174 ┆ 3891.99762 ┆ 4724  │\n",
       "│     ┆             ┆             ┆             ┆   ┆            ┆ 2          ┆            ┆       │\n",
       "│ 2   ┆ 3020.466736 ┆ 2996.637993 ┆ 3037.993605 ┆ … ┆ 3060.12586 ┆ 2899.57799 ┆ 2971.55692 ┆ 10931 │\n",
       "│     ┆             ┆             ┆             ┆   ┆ 6          ┆ 8          ┆ 3          ┆       │\n",
       "│ 3   ┆ 8014.619227 ┆ 8068.601962 ┆ 8042.945716 ┆ … ┆ 8007.78959 ┆ 8312.87768 ┆ 7959.50748 ┆ 16553 │\n",
       "│     ┆             ┆             ┆             ┆   ┆ 3          ┆ 3          ┆ 1          ┆       │\n",
       "│ 4   ┆ 4522.686418 ┆ 4480.841914 ┆ 4437.256123 ┆ … ┆ 4537.12569 ┆ 4522.49850 ┆ 4375.45701 ┆ 5158  │\n",
       "│     ┆             ┆             ┆             ┆   ┆ 7          ┆ 9          ┆ 3          ┆       │\n",
       "└─────┴─────────────┴─────────────┴─────────────┴───┴────────────┴────────────┴────────────┴───────┘"
      ]
     },
     "execution_count": 4,
     "metadata": {},
     "output_type": "execute_result"
    }
   ],
   "source": [
    "# ===================================================================\n",
    "#  DataLoading\n",
    "# ===================================================================\n",
    "train = pl.read_csv(CFG.data_dir+\"train.csv\", columns=[\"id\", \"price\"])\n",
    "\n",
    "df = pl.read_csv(CFG.save_dir+\"oof_df_exp066.csv\").rename({\"pred\":f\"pred_{0}\"})\n",
    "files = [\"exp067\", \"exp068\", \"exp069\", \"exp070\", \"exp071\", \"exp077\"]\n",
    "for i, f in enumerate(files, start=1):\n",
    "    df = df.join(\n",
    "        pl.read_csv(CFG.save_dir+f\"oof_df_{f}.csv\").rename({\"pred\":f\"pred_{i}\"}),\n",
    "        on=\"id\", how=\"left\"\n",
    "    )\n",
    "    \n",
    "df = df.join(\n",
    "    pl.read_csv(CFG.save_dir+\"kun_exp00060_oof_pred.csv\").rename({'oof_pred':f'pred_{len(files)+1}'}),\n",
    "    on=\"id\", how=\"left\",\n",
    ")\n",
    "\n",
    "df = df.join(\n",
    "    train, on=\"id\", how=\"left\"\n",
    ")\n",
    "\n",
    "df.head()"
   ]
  },
  {
   "cell_type": "code",
   "execution_count": 5,
   "metadata": {},
   "outputs": [
    {
     "data": {
      "application/vnd.jupyter.widget-view+json": {
       "model_id": "f5d6be75d0af4a1f88abea7fb43fb4ea",
       "version_major": 2,
       "version_minor": 0
      },
      "text/plain": [
       "  0%|          | 0/2000 [00:00<?, ?it/s]"
      ]
     },
     "metadata": {},
     "output_type": "display_data"
    },
    {
     "name": "stdout",
     "output_type": "stream",
     "text": [
      "Seed: 42, Best Value: 43.525503530105766, Best Params: {'a': 1.1491278929972336e-06, 'b': 0.013838507482314568, 'c': 2.0637491975880085e-06, 'd': 0.003622514686679603, 'e': 0.11763720782459204, 'f': 0.3239552696152092, 'g': 0.5307991225206081}\n"
     ]
    },
    {
     "data": {
      "application/vnd.jupyter.widget-view+json": {
       "model_id": "f56a4d6a64324e86951cc1772b0668d4",
       "version_major": 2,
       "version_minor": 0
      },
      "text/plain": [
       "  0%|          | 0/2000 [00:00<?, ?it/s]"
      ]
     },
     "metadata": {},
     "output_type": "display_data"
    },
    {
     "name": "stdout",
     "output_type": "stream",
     "text": [
      "Seed: 43, Best Value: 43.52905646321788, Best Params: {'a': 0.0007273900719321455, 'b': 3.073541550310323e-06, 'c': 0.18621387488202734, 'd': 0.30468431213892283, 'e': 4.243778574391451e-05, 'f': 0.5063815406770792, 'g': 1.934561379033801e-08}\n"
     ]
    },
    {
     "data": {
      "application/vnd.jupyter.widget-view+json": {
       "model_id": "448b50d65a33486b99d42e7ea9ed6667",
       "version_major": 2,
       "version_minor": 0
      },
      "text/plain": [
       "  0%|          | 0/2000 [00:00<?, ?it/s]"
      ]
     },
     "metadata": {},
     "output_type": "display_data"
    },
    {
     "name": "stdout",
     "output_type": "stream",
     "text": [
      "Seed: 44, Best Value: 43.56560117302641, Best Params: {'a': 0.005806324693532473, 'b': 0.6913803397038273, 'c': 0.058723829628181505, 'd': 0.0007486468844864078, 'e': 0.1876085628120509, 'f': 0.05236276016706091, 'g': 4.6471261193156724e-07}\n"
     ]
    }
   ],
   "source": [
    "# ===================================================================\n",
    "#  optuna\n",
    "# ===================================================================\n",
    "\n",
    "def objective(trial):\n",
    "    a = trial.suggest_float(\"a\", 1e-8, 1, log=True)\n",
    "    b = trial.suggest_float(\"b\", 1e-8, 1, log=True)\n",
    "    c = trial.suggest_float(\"c\", 1e-8, 1, log=True)\n",
    "    d = trial.suggest_float(\"d\", 1e-8, 1, log=True)\n",
    "    e = trial.suggest_float(\"e\", 1e-8, 1, log=True)\n",
    "    f = trial.suggest_float(\"f\", 1e-8, 1, log=True)\n",
    "    g = trial.suggest_float(\"g\", 1e-8, 1, log=True)\n",
    "    \n",
    "    \n",
    "    prediction = df[\"pred_1\"] * a +\\\n",
    "                 df[\"pred_2\"] * b +\\\n",
    "                 df[\"pred_3\"] * c +\\\n",
    "                 df[\"pred_4\"] * d +\\\n",
    "                 df[\"pred_5\"] * e +\\\n",
    "                 df[\"pred_6\"] * f +\\\n",
    "                 df[\"pred_7\"] * g\n",
    "                 \n",
    "    score = get_score(y_true=df[\"price\"], y_pred = prediction)\n",
    "    return score\n",
    "    \n",
    "optuna.logging.set_verbosity(optuna.logging.WARNING)\n",
    "\n",
    "# シードのリストを定義\n",
    "seeds = [seed for seed in range(CFG.seed, CFG.seed+CFG.n_seeds)]\n",
    "\n",
    "best_values = []\n",
    "best_params_list = []\n",
    "\n",
    "for seed in seeds:    \n",
    "    study = optuna.create_study(\n",
    "        direction=\"minimize\",\n",
    "        sampler=optuna.samplers.TPESampler(seed=seed)\n",
    "    )\n",
    "    study.optimize(objective, \n",
    "                   n_trials=CFG.n_trials, \n",
    "                   n_jobs = -1,\n",
    "                   show_progress_bar=True)\n",
    "    \n",
    "    best_value = study.best_value\n",
    "    best_params = study.best_params\n",
    "    \n",
    "    best_values.append(best_value)\n",
    "    best_params_list.append(best_params)\n",
    "    \n",
    "    print(f\"Seed: {seed}, Best Value: {best_value}, Best Params: {best_params}\")"
   ]
  },
  {
   "cell_type": "code",
   "execution_count": 6,
   "metadata": {},
   "outputs": [
    {
     "name": "stdout",
     "output_type": "stream",
     "text": [
      "Final Best Value: 43.525503530105766\n",
      "Final Best Params: {'a': 1.1491278929972336e-06, 'b': 0.013838507482314568, 'c': 2.0637491975880085e-06, 'd': 0.003622514686679603, 'e': 0.11763720782459204, 'f': 0.3239552696152092, 'g': 0.5307991225206081}\n"
     ]
    }
   ],
   "source": [
    "# 最も小さい best_value を持つ Study を探索\n",
    "best_index = np.argmin(best_values)\n",
    "best_params_final = best_params_list[best_index]\n",
    "best_value_final = best_values[best_index]\n",
    "\n",
    "print(\"Final Best Value:\", best_value_final)\n",
    "print(\"Final Best Params:\", best_params_final)"
   ]
  },
  {
   "cell_type": "code",
   "execution_count": null,
   "metadata": {},
   "outputs": [],
   "source": [
    "# ===================================================================\n",
    "#  test\n",
    "# ===================================================================\n",
    "prediction = df[\"pred_1\"] * best_params_final[\"a\"] +\\\n",
    "                df[\"pred_2\"] * best_params_final[\"b\"] +\\\n",
    "                df[\"pred_3\"] * best_params_final[\"c\"] +\\\n",
    "                df[\"pred_4\"] * best_params_final[\"d\"] +\\\n",
    "                df[\"pred_5\"] * best_params_final[\"e\"] +\\\n",
    "                df[\"pred_6\"] * best_params_final[\"f\"] +\\\n",
    "                df[\"pred_7\"] * best_params_final[\"g\"]"
   ]
  },
  {
   "cell_type": "code",
   "execution_count": 7,
   "metadata": {},
   "outputs": [
    {
     "data": {
      "text/html": [
       "<div><style>\n",
       ".dataframe > thead > tr > th,\n",
       ".dataframe > tbody > tr > td {\n",
       "  text-align: right;\n",
       "}\n",
       "</style>\n",
       "<small>shape: (5, 9)</small><table border=\"1\" class=\"dataframe\"><thead><tr><th>id</th><th>pred_0</th><th>pred_1</th><th>pred_2</th><th>pred_3</th><th>pred_4</th><th>pred_5</th><th>pred_6</th><th>pred_7</th></tr><tr><td>i64</td><td>f64</td><td>f64</td><td>f64</td><td>f64</td><td>f64</td><td>f64</td><td>f64</td><td>f64</td></tr></thead><tbody><tr><td>27532</td><td>9673.031004</td><td>9645.690291</td><td>9773.740233</td><td>9543.305631</td><td>9574.334533</td><td>9774.45317</td><td>9017.561685</td><td>9456.567691</td></tr><tr><td>27533</td><td>5585.545628</td><td>5611.390293</td><td>5625.333842</td><td>5745.546668</td><td>5722.954729</td><td>5762.007883</td><td>5339.376994</td><td>5475.010419</td></tr><tr><td>27534</td><td>5595.254657</td><td>5581.507724</td><td>5572.766942</td><td>5592.961109</td><td>5618.968955</td><td>5606.688175</td><td>5958.715261</td><td>5480.674549</td></tr><tr><td>27535</td><td>18194.779659</td><td>18336.045587</td><td>18254.450168</td><td>18366.815171</td><td>18448.417408</td><td>18256.398339</td><td>18936.869485</td><td>18054.427058</td></tr><tr><td>27536</td><td>4416.241293</td><td>4401.738676</td><td>4296.607046</td><td>4481.441494</td><td>4280.70203</td><td>4366.343344</td><td>4107.333654</td><td>4255.354923</td></tr></tbody></table></div>"
      ],
      "text/plain": [
       "shape: (5, 9)\n",
       "┌───────┬────────────┬────────────┬────────────┬───┬───────────┬───────────┬───────────┬───────────┐\n",
       "│ id    ┆ pred_0     ┆ pred_1     ┆ pred_2     ┆ … ┆ pred_4    ┆ pred_5    ┆ pred_6    ┆ pred_7    │\n",
       "│ ---   ┆ ---        ┆ ---        ┆ ---        ┆   ┆ ---       ┆ ---       ┆ ---       ┆ ---       │\n",
       "│ i64   ┆ f64        ┆ f64        ┆ f64        ┆   ┆ f64       ┆ f64       ┆ f64       ┆ f64       │\n",
       "╞═══════╪════════════╪════════════╪════════════╪═══╪═══════════╪═══════════╪═══════════╪═══════════╡\n",
       "│ 27532 ┆ 9673.03100 ┆ 9645.69029 ┆ 9773.74023 ┆ … ┆ 9574.3345 ┆ 9774.4531 ┆ 9017.5616 ┆ 9456.5676 │\n",
       "│       ┆ 4          ┆ 1          ┆ 3          ┆   ┆ 33        ┆ 7         ┆ 85        ┆ 91        │\n",
       "│ 27533 ┆ 5585.54562 ┆ 5611.39029 ┆ 5625.33384 ┆ … ┆ 5722.9547 ┆ 5762.0078 ┆ 5339.3769 ┆ 5475.0104 │\n",
       "│       ┆ 8          ┆ 3          ┆ 2          ┆   ┆ 29        ┆ 83        ┆ 94        ┆ 19        │\n",
       "│ 27534 ┆ 5595.25465 ┆ 5581.50772 ┆ 5572.76694 ┆ … ┆ 5618.9689 ┆ 5606.6881 ┆ 5958.7152 ┆ 5480.6745 │\n",
       "│       ┆ 7          ┆ 4          ┆ 2          ┆   ┆ 55        ┆ 75        ┆ 61        ┆ 49        │\n",
       "│ 27535 ┆ 18194.7796 ┆ 18336.0455 ┆ 18254.4501 ┆ … ┆ 18448.417 ┆ 18256.398 ┆ 18936.869 ┆ 18054.427 │\n",
       "│       ┆ 59         ┆ 87         ┆ 68         ┆   ┆ 408       ┆ 339       ┆ 485       ┆ 058       │\n",
       "│ 27536 ┆ 4416.24129 ┆ 4401.73867 ┆ 4296.60704 ┆ … ┆ 4280.7020 ┆ 4366.3433 ┆ 4107.3336 ┆ 4255.3549 │\n",
       "│       ┆ 3          ┆ 6          ┆ 6          ┆   ┆ 3         ┆ 44        ┆ 54        ┆ 23        │\n",
       "└───────┴────────────┴────────────┴────────────┴───┴───────────┴───────────┴───────────┴───────────┘"
      ]
     },
     "metadata": {},
     "output_type": "display_data"
    },
    {
     "data": {
      "text/html": [
       "<div><style>\n",
       ".dataframe > thead > tr > th,\n",
       ".dataframe > tbody > tr > td {\n",
       "  text-align: right;\n",
       "}\n",
       "</style>\n",
       "<small>shape: (2, 2)</small><table border=\"1\" class=\"dataframe\"><thead><tr><th>id</th><th>pred</th></tr><tr><td>i64</td><td>f64</td></tr></thead><tbody><tr><td>27532</td><td>9260.631762</td></tr><tr><td>27533</td><td>5412.272576</td></tr></tbody></table></div>"
      ],
      "text/plain": [
       "shape: (2, 2)\n",
       "┌───────┬─────────────┐\n",
       "│ id    ┆ pred        │\n",
       "│ ---   ┆ ---         │\n",
       "│ i64   ┆ f64         │\n",
       "╞═══════╪═════════════╡\n",
       "│ 27532 ┆ 9260.631762 │\n",
       "│ 27533 ┆ 5412.272576 │\n",
       "└───────┴─────────────┘"
      ]
     },
     "execution_count": 7,
     "metadata": {},
     "output_type": "execute_result"
    }
   ],
   "source": [
    "# ===================================================================\n",
    "#  test\n",
    "# ===================================================================\n",
    "test = pl.read_csv(CFG.save_dir+f\"exp066.csv\", has_header=False).rename({\"column_1\":\"id\", \"column_2\":\"pred\"}).sort(\"id\").rename({\"pred\":f\"pred_{0}\"})\n",
    "files = [\"exp067.csv\", \"exp068.csv\", \"exp069.csv\", \"exp070.csv\", \"exp071.csv\", \"exp077.csv\", \"kun_exp00060.csv\"]\n",
    "for i, f in enumerate(files, start=1):\n",
    "    test = test.join(\n",
    "        pl.read_csv(CFG.save_dir+f, has_header=False).rename({\"column_1\":\"id\", \"column_2\":\"pred\"}).rename({\"pred\":f\"pred_{i}\"}),\n",
    "        on=\"id\", how=\"left\"\n",
    "    )\n",
    "display(test.head())\n",
    "\n",
    "prediction = test[\"pred_1\"] * best_params_final[\"a\"] +\\\n",
    "                 test[\"pred_2\"] * best_params_final[\"b\"] +\\\n",
    "                 test[\"pred_3\"] * best_params_final[\"c\"] +\\\n",
    "                 test[\"pred_4\"] * best_params_final[\"d\"] +\\\n",
    "                 test[\"pred_5\"] * best_params_final[\"e\"] +\\\n",
    "                 test[\"pred_6\"] * best_params_final[\"f\"] +\\\n",
    "                 test[\"pred_7\"] * best_params_final[\"g\"]                     \n",
    "                 \n",
    "test = test.with_columns(\n",
    "    prediction.alias(\"pred\")\n",
    ")\n",
    "                     \n",
    "test[[\"id\", \"pred\"]].write_csv(CFG.save_dir+f\"{CFG.filename}.csv\", has_header=False)\n",
    "test[[\"id\", \"pred\"]].head(2)"
   ]
  }
 ],
 "metadata": {
  "kernelspec": {
   "display_name": "Python 3",
   "language": "python",
   "name": "python3"
  },
  "language_info": {
   "codemirror_mode": {
    "name": "ipython",
    "version": 3
   },
   "file_extension": ".py",
   "mimetype": "text/x-python",
   "name": "python",
   "nbconvert_exporter": "python",
   "pygments_lexer": "ipython3",
   "version": "3.11.4"
  },
  "orig_nbformat": 4
 },
 "nbformat": 4,
 "nbformat_minor": 2
}
