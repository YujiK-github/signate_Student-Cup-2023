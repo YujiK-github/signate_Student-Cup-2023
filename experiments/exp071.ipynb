{
 "cells": [
  {
   "cell_type": "code",
   "execution_count": 1,
   "metadata": {},
   "outputs": [],
   "source": [
    "# ===================================================================\n",
    "#  Library\n",
    "# ===================================================================\n",
    "import os\n",
    "import random\n",
    "import numpy as np\n",
    "import pandas as pd\n",
    "import polars as pl\n",
    "from tqdm.auto import tqdm\n",
    "\n",
    "from sklearn.metrics import mean_absolute_percentage_error\n",
    "import warnings\n",
    "warnings.simplefilter(\"ignore\")"
   ]
  },
  {
   "cell_type": "code",
   "execution_count": 2,
   "metadata": {},
   "outputs": [],
   "source": [
    "# ===================================================================\n",
    "#  CFG\n",
    "# ===================================================================\n",
    "class CFG:\n",
    "    seed = 42\n",
    "    save_dir = \"G:/マイドライブ/signate_StudentCup2023/exp/\"\n",
    "    data_dir = \"G:/マイドライブ/signate_StudentCup2023/data/\"\n",
    "    filename = \"exp071\""
   ]
  },
  {
   "cell_type": "code",
   "execution_count": 3,
   "metadata": {},
   "outputs": [],
   "source": [
    "# ===================================================================\n",
    "#  Utils\n",
    "# ===================================================================\n",
    "def seed_everything(seed):\n",
    "    \"\"\"fix random factors\"\"\"\n",
    "    random.seed(seed)\n",
    "    np.random.seed(seed)\n",
    "    os.environ['PYTHONHASHSEED'] = str(seed)\n",
    "seed_everything(CFG.seed)\n",
    "    \n",
    "\n",
    "def get_score(y_true, y_pred):\n",
    "    \"\"\"get MAPE score\"\"\"\n",
    "    score = mean_absolute_percentage_error(y_true, y_pred)\n",
    "    return score * 100"
   ]
  },
  {
   "cell_type": "code",
   "execution_count": 4,
   "metadata": {},
   "outputs": [
    {
     "data": {
      "text/html": [
       "<div><style>\n",
       ".dataframe > thead > tr > th,\n",
       ".dataframe > tbody > tr > td {\n",
       "  text-align: right;\n",
       "}\n",
       "</style>\n",
       "<small>shape: (5, 52)</small><table border=\"1\" class=\"dataframe\"><thead><tr><th>id</th><th>pred_0</th><th>pred_1</th><th>pred_2</th><th>pred_3</th><th>pred_4</th><th>pred_5</th><th>pred_6</th><th>pred_7</th><th>pred_8</th><th>pred_9</th><th>pred_10</th><th>pred_11</th><th>pred_12</th><th>pred_13</th><th>pred_14</th><th>pred_15</th><th>pred_16</th><th>pred_17</th><th>pred_18</th><th>pred_19</th><th>pred_20</th><th>pred_21</th><th>pred_22</th><th>pred_23</th><th>pred_24</th><th>pred_25</th><th>pred_26</th><th>pred_27</th><th>pred_28</th><th>pred_29</th><th>pred_30</th><th>pred_31</th><th>pred_32</th><th>pred_33</th><th>pred_34</th><th>pred_35</th><th>pred_36</th><th>pred_37</th><th>pred_38</th><th>pred_39</th><th>price</th><th>kun_pred_0</th><th>kun_pred_1</th><th>kun_pred_2</th><th>kun_pred_3</th><th>kun_pred_4</th><th>kun_pred_5</th><th>kun_pred_6</th><th>kun_pred_7</th><th>kun_pred_8</th><th>kun_pred_9</th></tr><tr><td>i64</td><td>f64</td><td>f64</td><td>f64</td><td>f64</td><td>f64</td><td>f64</td><td>f64</td><td>f64</td><td>f64</td><td>f64</td><td>f64</td><td>f64</td><td>f64</td><td>f64</td><td>f64</td><td>f64</td><td>f64</td><td>f64</td><td>f64</td><td>f64</td><td>f64</td><td>f64</td><td>f64</td><td>f64</td><td>f64</td><td>f64</td><td>f64</td><td>f64</td><td>f64</td><td>f64</td><td>f64</td><td>f64</td><td>f64</td><td>f64</td><td>f64</td><td>f64</td><td>f64</td><td>f64</td><td>f64</td><td>f64</td><td>i64</td><td>f64</td><td>f64</td><td>f64</td><td>f64</td><td>f64</td><td>f64</td><td>f64</td><td>f64</td><td>f64</td><td>f64</td></tr></thead><tbody><tr><td>0</td><td>6881.892301</td><td>6517.414858</td><td>7476.567746</td><td>7052.61059</td><td>6809.002174</td><td>6465.089852</td><td>7714.185588</td><td>7010.85559</td><td>7184.306903</td><td>6364.997182</td><td>7501.188408</td><td>7678.577536</td><td>8374.386963</td><td>8105.340176</td><td>8644.322072</td><td>7985.056344</td><td>8628.261509</td><td>6528.148787</td><td>7798.699012</td><td>8063.395359</td><td>8981.008775</td><td>8613.396141</td><td>10717.468387</td><td>9447.344769</td><td>7984.506685</td><td>8272.276158</td><td>5876.6578</td><td>6016.32209</td><td>7374.013382</td><td>8496.804984</td><td>7400.051675</td><td>7502.731399</td><td>9046.083334</td><td>9790.2077</td><td>7999.621081</td><td>9179.605316</td><td>7404.460231</td><td>10863.206534</td><td>7674.566326</td><td>10945.332692</td><td>27587</td><td>7118.9443</td><td>7627.1987</td><td>7084.0015</td><td>7043.095</td><td>7122.753</td><td>7335.231</td><td>7350.006</td><td>9836.875</td><td>8781.688</td><td>8747.975</td></tr><tr><td>1</td><td>3740.634027</td><td>3496.012582</td><td>3789.907986</td><td>3322.844722</td><td>3603.935425</td><td>3485.623398</td><td>3507.497452</td><td>3714.057283</td><td>3488.353022</td><td>3750.770625</td><td>3412.19359</td><td>3927.363047</td><td>3886.662697</td><td>3551.474485</td><td>3713.3473</td><td>3463.093834</td><td>3695.630189</td><td>3663.237361</td><td>3463.024267</td><td>3905.364004</td><td>3563.378845</td><td>4112.248835</td><td>3360.300264</td><td>3807.072052</td><td>3406.217022</td><td>3615.842705</td><td>4245.317355</td><td>4453.437876</td><td>4408.398403</td><td>3900.820201</td><td>3869.869927</td><td>3681.464095</td><td>3648.063325</td><td>4057.324098</td><td>3423.298315</td><td>4256.8008</td><td>3937.424257</td><td>4012.205191</td><td>3871.318876</td><td>4087.226759</td><td>4724</td><td>3660.8042</td><td>3526.6816</td><td>3732.6855</td><td>3593.2502</td><td>3596.9211</td><td>3562.2925</td><td>3922.8992</td><td>3761.7544</td><td>3852.5068</td><td>3476.0593</td></tr><tr><td>2</td><td>2954.247573</td><td>2735.110086</td><td>3288.647709</td><td>2893.84021</td><td>3253.350282</td><td>2885.690295</td><td>3202.10377</td><td>2799.365349</td><td>2989.931642</td><td>2920.912332</td><td>3059.180374</td><td>3198.706345</td><td>2764.92988</td><td>3237.239548</td><td>2756.230854</td><td>3233.761663</td><td>2927.997318</td><td>3258.873698</td><td>3235.904715</td><td>3139.762054</td><td>3016.016944</td><td>3167.730032</td><td>2929.953707</td><td>2957.126627</td><td>3618.763534</td><td>3022.052454</td><td>3913.586712</td><td>3705.560742</td><td>2921.102463</td><td>3116.785537</td><td>2846.925805</td><td>3310.14365</td><td>3429.863903</td><td>2884.781039</td><td>3109.509196</td><td>3182.319352</td><td>2966.910201</td><td>3300.768016</td><td>2975.34178</td><td>2996.449911</td><td>10931</td><td>2883.739</td><td>3149.7769</td><td>2995.776</td><td>3038.0789</td><td>2876.831</td><td>2982.5576</td><td>2787.5325</td><td>2911.18</td><td>3172.8408</td><td>3092.2769</td></tr><tr><td>3</td><td>8430.949224</td><td>8337.416095</td><td>9033.353098</td><td>8081.40405</td><td>8187.453186</td><td>8477.54243</td><td>8546.771462</td><td>8388.923127</td><td>8119.18331</td><td>8413.930266</td><td>8298.903056</td><td>8142.383515</td><td>8055.886032</td><td>8356.561411</td><td>8421.656285</td><td>8167.994718</td><td>8646.470884</td><td>8423.019535</td><td>8016.7337</td><td>8041.633697</td><td>8331.325796</td><td>7947.686753</td><td>8057.31244</td><td>8250.578545</td><td>8052.200549</td><td>8115.355025</td><td>8157.420044</td><td>7434.588221</td><td>8284.727211</td><td>7855.624335</td><td>8375.564192</td><td>8287.367768</td><td>8814.043198</td><td>8434.204563</td><td>8292.250116</td><td>8010.910553</td><td>8092.32479</td><td>8698.940654</td><td>8281.208121</td><td>7630.436524</td><td>16553</td><td>8650.627</td><td>8943.903</td><td>9243.175</td><td>8973.261</td><td>9158.718</td><td>8505.161</td><td>8713.231</td><td>8287.674</td><td>8649.64</td><td>8874.921</td></tr><tr><td>4</td><td>3972.418866</td><td>4254.790314</td><td>4089.549517</td><td>4272.046434</td><td>4446.949951</td><td>4022.828501</td><td>4374.413436</td><td>4369.679027</td><td>4150.7095</td><td>3941.880817</td><td>4227.904345</td><td>4420.621374</td><td>4676.941221</td><td>4534.857719</td><td>4604.858395</td><td>4588.033874</td><td>4023.362549</td><td>4455.22004</td><td>4574.171104</td><td>4520.151023</td><td>4408.383964</td><td>4200.673767</td><td>4535.020561</td><td>4420.531149</td><td>4421.192901</td><td>4254.960815</td><td>4031.139467</td><td>3972.143434</td><td>4027.789862</td><td>4720.410259</td><td>4455.75972</td><td>3900.863059</td><td>4312.082422</td><td>4518.990036</td><td>4405.510685</td><td>4745.297877</td><td>4280.133207</td><td>4148.129445</td><td>4364.547169</td><td>4530.330211</td><td>5158</td><td>4031.1462</td><td>4406.548</td><td>4107.919</td><td>4059.3975</td><td>4229.2666</td><td>4429.893</td><td>4209.0796</td><td>4026.7249</td><td>4228.1797</td><td>4164.242</td></tr></tbody></table></div>"
      ],
      "text/plain": [
       "shape: (5, 52)\n",
       "┌─────┬────────────┬────────────┬────────────┬───┬────────────┬────────────┬───────────┬───────────┐\n",
       "│ id  ┆ pred_0     ┆ pred_1     ┆ pred_2     ┆ … ┆ kun_pred_6 ┆ kun_pred_7 ┆ kun_pred_ ┆ kun_pred_ │\n",
       "│ --- ┆ ---        ┆ ---        ┆ ---        ┆   ┆ ---        ┆ ---        ┆ 8         ┆ 9         │\n",
       "│ i64 ┆ f64        ┆ f64        ┆ f64        ┆   ┆ f64        ┆ f64        ┆ ---       ┆ ---       │\n",
       "│     ┆            ┆            ┆            ┆   ┆            ┆            ┆ f64       ┆ f64       │\n",
       "╞═════╪════════════╪════════════╪════════════╪═══╪════════════╪════════════╪═══════════╪═══════════╡\n",
       "│ 0   ┆ 6881.89230 ┆ 6517.41485 ┆ 7476.56774 ┆ … ┆ 7350.006   ┆ 9836.875   ┆ 8781.688  ┆ 8747.975  │\n",
       "│     ┆ 1          ┆ 8          ┆ 6          ┆   ┆            ┆            ┆           ┆           │\n",
       "│ 1   ┆ 3740.63402 ┆ 3496.01258 ┆ 3789.90798 ┆ … ┆ 3922.8992  ┆ 3761.7544  ┆ 3852.5068 ┆ 3476.0593 │\n",
       "│     ┆ 7          ┆ 2          ┆ 6          ┆   ┆            ┆            ┆           ┆           │\n",
       "│ 2   ┆ 2954.24757 ┆ 2735.11008 ┆ 3288.64770 ┆ … ┆ 2787.5325  ┆ 2911.18    ┆ 3172.8408 ┆ 3092.2769 │\n",
       "│     ┆ 3          ┆ 6          ┆ 9          ┆   ┆            ┆            ┆           ┆           │\n",
       "│ 3   ┆ 8430.94922 ┆ 8337.41609 ┆ 9033.35309 ┆ … ┆ 8713.231   ┆ 8287.674   ┆ 8649.64   ┆ 8874.921  │\n",
       "│     ┆ 4          ┆ 5          ┆ 8          ┆   ┆            ┆            ┆           ┆           │\n",
       "│ 4   ┆ 3972.41886 ┆ 4254.79031 ┆ 4089.54951 ┆ … ┆ 4209.0796  ┆ 4026.7249  ┆ 4228.1797 ┆ 4164.242  │\n",
       "│     ┆ 6          ┆ 4          ┆ 7          ┆   ┆            ┆            ┆           ┆           │\n",
       "└─────┴────────────┴────────────┴────────────┴───┴────────────┴────────────┴───────────┴───────────┘"
      ]
     },
     "execution_count": 4,
     "metadata": {},
     "output_type": "execute_result"
    }
   ],
   "source": [
    "# ===================================================================\n",
    "#  Data Loading\n",
    "# ===================================================================\n",
    "df = pl.read_csv(CFG.save_dir+f\"oof_df_exp065.csv\").sort(\"id\")\n",
    "train = pl.read_csv(CFG.data_dir+\"train.csv\", columns=[\"id\", \"price\"])\n",
    "df = df.join(train, on=\"id\", how=\"left\")\n",
    "df = df.join(\n",
    "    pl.read_csv(CFG.save_dir+\"kun_exp00052_oof_pred.csv\"),\n",
    "    on=\"id\", how=\"left\"\n",
    ")\n",
    "\n",
    "test = pl.read_csv(CFG.save_dir+f\"exp065.csv\").sort(\"id\")\n",
    "test = test.join(\n",
    "    pl.read_csv(CFG.save_dir+\"kun_exp00052.csv\"),\n",
    "    on=\"id\", how=\"left\"\n",
    ")\n",
    "\n",
    "df.head()"
   ]
  },
  {
   "cell_type": "code",
   "execution_count": 5,
   "metadata": {},
   "outputs": [
    {
     "name": "stdout",
     "output_type": "stream",
     "text": [
      "40 43.59516025065753\n",
      "41 43.59275278157505\n",
      "42 43.5889753456137\n",
      "43 43.58531693429042\n",
      "44 43.582951599388245\n",
      "45 43.59384664397003\n",
      "46 43.587720375346635\n",
      "47 43.58808360633436\n",
      "48 43.59796299521994\n",
      "49 43.59271354018121\n"
     ]
    }
   ],
   "source": [
    "# ===================================================================\n",
    "#  simple greedy forward selection\n",
    "# ===================================================================\n",
    "# single modelで最もCVが良いモデルを選択する\n",
    "scores = dict()\n",
    "for col in df.columns:\n",
    "    if col not in [\"id\", \"price\"]:\n",
    "        scores[col] = get_score(y_true=df[\"price\"], y_pred=df[col])    \n",
    "        \n",
    "BEST_SCORE = np.inf\n",
    "for seed in range(40, 50):    \n",
    "    selected_model = min(scores, key=scores.get)\n",
    "    best_preds = df[selected_model]\n",
    "    best_score = min(scores.values())\n",
    "    \n",
    "    stores = dict()\n",
    "    orders = [selected_model]\n",
    "    stores[selected_model] = 1    # 重みを保存\n",
    "    \n",
    "\n",
    "    filenames = [col for col in df.columns if col not in [\"id\", \"price\", selected_model]]\n",
    "    filenames = np.random.RandomState(seed).permutation(filenames)\n",
    "\n",
    "    for exp in filenames:\n",
    "        best_weight = 0\n",
    "        for w in np.arange(-0.5, 0.5, 0.001):\n",
    "            preds = best_preds * (1-w) + df[exp] * w\n",
    "            score = get_score(y_true=df[\"price\"], y_pred=preds)\n",
    "            if best_score > score:\n",
    "                best_score = score\n",
    "                best_weight = w\n",
    "        stores[exp] = best_weight\n",
    "        orders.append(exp)\n",
    "        best_preds = best_preds * (1-best_weight) + df[exp] * best_weight\n",
    "    print(seed, best_score)\n",
    "    \n",
    "    if BEST_SCORE > best_score:\n",
    "        BEST_SCORE = best_score\n",
    "        BEST_STORE = stores.copy()\n",
    "        BEST_ORDER = orders.copy()"
   ]
  },
  {
   "cell_type": "code",
   "execution_count": 6,
   "metadata": {},
   "outputs": [
    {
     "data": {
      "text/plain": [
       "43.582951599388245"
      ]
     },
     "execution_count": 6,
     "metadata": {},
     "output_type": "execute_result"
    }
   ],
   "source": [
    "# ===================================================================\n",
    "#  Check\n",
    "# ===================================================================\n",
    "def get_preds(df: pl.DataFrame):\n",
    "    best_preds = 0\n",
    "    for exp in BEST_ORDER:\n",
    "        w = BEST_STORE[exp]\n",
    "        best_preds  = best_preds * (1-w) + df[exp] * w\n",
    "    return best_preds\n",
    "    \n",
    "get_score(y_true=df[\"price\"], y_pred=get_preds(df))"
   ]
  },
  {
   "cell_type": "code",
   "execution_count": 7,
   "metadata": {},
   "outputs": [
    {
     "data": {
      "text/html": [
       "<div><style>\n",
       ".dataframe > thead > tr > th,\n",
       ".dataframe > tbody > tr > td {\n",
       "  text-align: right;\n",
       "}\n",
       "</style>\n",
       "<small>shape: (5, 2)</small><table border=\"1\" class=\"dataframe\"><thead><tr><th>id</th><th>pred</th></tr><tr><td>i64</td><td>f64</td></tr></thead><tbody><tr><td>0</td><td>9196.765168</td></tr><tr><td>1</td><td>3885.20529</td></tr><tr><td>2</td><td>3060.125866</td></tr><tr><td>3</td><td>8007.789593</td></tr><tr><td>4</td><td>4537.125697</td></tr></tbody></table></div>"
      ],
      "text/plain": [
       "shape: (5, 2)\n",
       "┌─────┬─────────────┐\n",
       "│ id  ┆ pred        │\n",
       "│ --- ┆ ---         │\n",
       "│ i64 ┆ f64         │\n",
       "╞═════╪═════════════╡\n",
       "│ 0   ┆ 9196.765168 │\n",
       "│ 1   ┆ 3885.20529  │\n",
       "│ 2   ┆ 3060.125866 │\n",
       "│ 3   ┆ 8007.789593 │\n",
       "│ 4   ┆ 4537.125697 │\n",
       "└─────┴─────────────┘"
      ]
     },
     "metadata": {},
     "output_type": "display_data"
    }
   ],
   "source": [
    "# ===================================================================\n",
    "#  oof_df\n",
    "# ===================================================================\n",
    "df.with_columns(\n",
    "    pl.Series(get_preds(df)).alias(\"pred\")\n",
    ")[[\"id\", \"pred\"]].write_csv(CFG.save_dir+f\"oof_df_{CFG.filename}.csv\", has_header=True)\n",
    "\n",
    "display(df.with_columns(\n",
    "    pl.Series(get_preds(df)).alias(\"pred\")\n",
    ")[[\"id\", \"pred\"]].head())"
   ]
  },
  {
   "cell_type": "code",
   "execution_count": 8,
   "metadata": {},
   "outputs": [
    {
     "data": {
      "text/html": [
       "<div><style>\n",
       ".dataframe > thead > tr > th,\n",
       ".dataframe > tbody > tr > td {\n",
       "  text-align: right;\n",
       "}\n",
       "</style>\n",
       "<small>shape: (5, 2)</small><table border=\"1\" class=\"dataframe\"><thead><tr><th>id</th><th>pred</th></tr><tr><td>i64</td><td>f64</td></tr></thead><tbody><tr><td>27532</td><td>9774.45317</td></tr><tr><td>27533</td><td>5762.007883</td></tr><tr><td>27534</td><td>5606.688175</td></tr><tr><td>27535</td><td>18256.398339</td></tr><tr><td>27536</td><td>4366.343344</td></tr></tbody></table></div>"
      ],
      "text/plain": [
       "shape: (5, 2)\n",
       "┌───────┬──────────────┐\n",
       "│ id    ┆ pred         │\n",
       "│ ---   ┆ ---          │\n",
       "│ i64   ┆ f64          │\n",
       "╞═══════╪══════════════╡\n",
       "│ 27532 ┆ 9774.45317   │\n",
       "│ 27533 ┆ 5762.007883  │\n",
       "│ 27534 ┆ 5606.688175  │\n",
       "│ 27535 ┆ 18256.398339 │\n",
       "│ 27536 ┆ 4366.343344  │\n",
       "└───────┴──────────────┘"
      ]
     },
     "execution_count": 8,
     "metadata": {},
     "output_type": "execute_result"
    }
   ],
   "source": [
    "# ===================================================================\n",
    "#  test\n",
    "# ===================================================================\n",
    "test = test.with_columns(\n",
    "    pl.Series(get_preds(test)).alias(\"pred\")\n",
    ")\n",
    "test.select([\"id\", \"pred\"]).write_csv(CFG.save_dir+f\"{CFG.filename}.csv\", has_header=False)\n",
    "test.select([\"id\", \"pred\"]).head()"
   ]
  }
 ],
 "metadata": {
  "kernelspec": {
   "display_name": "Python 3",
   "language": "python",
   "name": "python3"
  },
  "language_info": {
   "codemirror_mode": {
    "name": "ipython",
    "version": 3
   },
   "file_extension": ".py",
   "mimetype": "text/x-python",
   "name": "python",
   "nbconvert_exporter": "python",
   "pygments_lexer": "ipython3",
   "version": "3.11.4"
  },
  "orig_nbformat": 4
 },
 "nbformat": 4,
 "nbformat_minor": 2
}
