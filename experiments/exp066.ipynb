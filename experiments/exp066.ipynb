{
 "cells": [
  {
   "cell_type": "code",
   "execution_count": 1,
   "metadata": {},
   "outputs": [],
   "source": [
    "# ===================================================================\n",
    "#  Library\n",
    "# ===================================================================\n",
    "import os\n",
    "import random\n",
    "import numpy as np\n",
    "import pandas as pd\n",
    "import polars as pl\n",
    "from tqdm.auto import tqdm\n",
    "\n",
    "from sklearn.metrics import mean_absolute_percentage_error\n",
    "import warnings\n",
    "warnings.simplefilter(\"ignore\")"
   ]
  },
  {
   "cell_type": "code",
   "execution_count": 2,
   "metadata": {},
   "outputs": [],
   "source": [
    "# ===================================================================\n",
    "#  CFG\n",
    "# ===================================================================\n",
    "class CFG:\n",
    "    seed = 42\n",
    "    save_dir = \"G:/マイドライブ/signate_StudentCup2023/exp/\"\n",
    "    data_dir = \"G:/マイドライブ/signate_StudentCup2023/data/\"\n",
    "    filename = \"exp066\""
   ]
  },
  {
   "cell_type": "code",
   "execution_count": 3,
   "metadata": {},
   "outputs": [],
   "source": [
    "# ===================================================================\n",
    "#  Utils\n",
    "# ===================================================================\n",
    "def seed_everything(seed):\n",
    "    \"\"\"fix random factors\"\"\"\n",
    "    random.seed(seed)\n",
    "    np.random.seed(seed)\n",
    "    os.environ['PYTHONHASHSEED'] = str(seed)\n",
    "seed_everything(CFG.seed)\n",
    "    \n",
    "\n",
    "def get_score(y_true, y_pred):\n",
    "    \"\"\"get MAPE score\"\"\"\n",
    "    score = mean_absolute_percentage_error(y_true, y_pred)\n",
    "    return score * 100"
   ]
  },
  {
   "cell_type": "code",
   "execution_count": 4,
   "metadata": {},
   "outputs": [
    {
     "data": {
      "text/html": [
       "<div><style>\n",
       ".dataframe > thead > tr > th,\n",
       ".dataframe > tbody > tr > td {\n",
       "  text-align: right;\n",
       "}\n",
       "</style>\n",
       "<small>shape: (5, 52)</small><table border=\"1\" class=\"dataframe\"><thead><tr><th>id</th><th>pred_0</th><th>pred_1</th><th>pred_2</th><th>pred_3</th><th>pred_4</th><th>pred_5</th><th>pred_6</th><th>pred_7</th><th>pred_8</th><th>pred_9</th><th>pred_10</th><th>pred_11</th><th>pred_12</th><th>pred_13</th><th>pred_14</th><th>pred_15</th><th>pred_16</th><th>pred_17</th><th>pred_18</th><th>pred_19</th><th>pred_20</th><th>pred_21</th><th>pred_22</th><th>pred_23</th><th>pred_24</th><th>pred_25</th><th>pred_26</th><th>pred_27</th><th>pred_28</th><th>pred_29</th><th>pred_30</th><th>pred_31</th><th>pred_32</th><th>pred_33</th><th>pred_34</th><th>pred_35</th><th>pred_36</th><th>pred_37</th><th>pred_38</th><th>pred_39</th><th>price</th><th>kun_pred_0</th><th>kun_pred_1</th><th>kun_pred_2</th><th>kun_pred_3</th><th>kun_pred_4</th><th>kun_pred_5</th><th>kun_pred_6</th><th>kun_pred_7</th><th>kun_pred_8</th><th>kun_pred_9</th></tr><tr><td>i64</td><td>f64</td><td>f64</td><td>f64</td><td>f64</td><td>f64</td><td>f64</td><td>f64</td><td>f64</td><td>f64</td><td>f64</td><td>f64</td><td>f64</td><td>f64</td><td>f64</td><td>f64</td><td>f64</td><td>f64</td><td>f64</td><td>f64</td><td>f64</td><td>f64</td><td>f64</td><td>f64</td><td>f64</td><td>f64</td><td>f64</td><td>f64</td><td>f64</td><td>f64</td><td>f64</td><td>f64</td><td>f64</td><td>f64</td><td>f64</td><td>f64</td><td>f64</td><td>f64</td><td>f64</td><td>f64</td><td>f64</td><td>i64</td><td>f64</td><td>f64</td><td>f64</td><td>f64</td><td>f64</td><td>f64</td><td>f64</td><td>f64</td><td>f64</td><td>f64</td></tr></thead><tbody><tr><td>0</td><td>6881.892301</td><td>6517.414858</td><td>7476.567746</td><td>7052.61059</td><td>6809.002174</td><td>6465.089852</td><td>7714.185588</td><td>7010.85559</td><td>7184.306903</td><td>6364.997182</td><td>7501.188408</td><td>7678.577536</td><td>8374.386963</td><td>8105.340176</td><td>8644.322072</td><td>7985.056344</td><td>8628.261509</td><td>6528.148787</td><td>7798.699012</td><td>8063.395359</td><td>8981.008775</td><td>8613.396141</td><td>10717.468387</td><td>9447.344769</td><td>7984.506685</td><td>8272.276158</td><td>5876.6578</td><td>6016.32209</td><td>7374.013382</td><td>8496.804984</td><td>7400.051675</td><td>7502.731399</td><td>9046.083334</td><td>9790.2077</td><td>7999.621081</td><td>9179.605316</td><td>7404.460231</td><td>10863.206534</td><td>7674.566326</td><td>10945.332692</td><td>27587</td><td>7118.9443</td><td>7627.1987</td><td>7084.0015</td><td>7043.095</td><td>7122.753</td><td>7335.231</td><td>7350.006</td><td>9836.875</td><td>8781.688</td><td>8747.975</td></tr><tr><td>1</td><td>3740.634027</td><td>3496.012582</td><td>3789.907986</td><td>3322.844722</td><td>3603.935425</td><td>3485.623398</td><td>3507.497452</td><td>3714.057283</td><td>3488.353022</td><td>3750.770625</td><td>3412.19359</td><td>3927.363047</td><td>3886.662697</td><td>3551.474485</td><td>3713.3473</td><td>3463.093834</td><td>3695.630189</td><td>3663.237361</td><td>3463.024267</td><td>3905.364004</td><td>3563.378845</td><td>4112.248835</td><td>3360.300264</td><td>3807.072052</td><td>3406.217022</td><td>3615.842705</td><td>4245.317355</td><td>4453.437876</td><td>4408.398403</td><td>3900.820201</td><td>3869.869927</td><td>3681.464095</td><td>3648.063325</td><td>4057.324098</td><td>3423.298315</td><td>4256.8008</td><td>3937.424257</td><td>4012.205191</td><td>3871.318876</td><td>4087.226759</td><td>4724</td><td>3660.8042</td><td>3526.6816</td><td>3732.6855</td><td>3593.2502</td><td>3596.9211</td><td>3562.2925</td><td>3922.8992</td><td>3761.7544</td><td>3852.5068</td><td>3476.0593</td></tr><tr><td>2</td><td>2954.247573</td><td>2735.110086</td><td>3288.647709</td><td>2893.84021</td><td>3253.350282</td><td>2885.690295</td><td>3202.10377</td><td>2799.365349</td><td>2989.931642</td><td>2920.912332</td><td>3059.180374</td><td>3198.706345</td><td>2764.92988</td><td>3237.239548</td><td>2756.230854</td><td>3233.761663</td><td>2927.997318</td><td>3258.873698</td><td>3235.904715</td><td>3139.762054</td><td>3016.016944</td><td>3167.730032</td><td>2929.953707</td><td>2957.126627</td><td>3618.763534</td><td>3022.052454</td><td>3913.586712</td><td>3705.560742</td><td>2921.102463</td><td>3116.785537</td><td>2846.925805</td><td>3310.14365</td><td>3429.863903</td><td>2884.781039</td><td>3109.509196</td><td>3182.319352</td><td>2966.910201</td><td>3300.768016</td><td>2975.34178</td><td>2996.449911</td><td>10931</td><td>2883.739</td><td>3149.7769</td><td>2995.776</td><td>3038.0789</td><td>2876.831</td><td>2982.5576</td><td>2787.5325</td><td>2911.18</td><td>3172.8408</td><td>3092.2769</td></tr><tr><td>3</td><td>8430.949224</td><td>8337.416095</td><td>9033.353098</td><td>8081.40405</td><td>8187.453186</td><td>8477.54243</td><td>8546.771462</td><td>8388.923127</td><td>8119.18331</td><td>8413.930266</td><td>8298.903056</td><td>8142.383515</td><td>8055.886032</td><td>8356.561411</td><td>8421.656285</td><td>8167.994718</td><td>8646.470884</td><td>8423.019535</td><td>8016.7337</td><td>8041.633697</td><td>8331.325796</td><td>7947.686753</td><td>8057.31244</td><td>8250.578545</td><td>8052.200549</td><td>8115.355025</td><td>8157.420044</td><td>7434.588221</td><td>8284.727211</td><td>7855.624335</td><td>8375.564192</td><td>8287.367768</td><td>8814.043198</td><td>8434.204563</td><td>8292.250116</td><td>8010.910553</td><td>8092.32479</td><td>8698.940654</td><td>8281.208121</td><td>7630.436524</td><td>16553</td><td>8650.627</td><td>8943.903</td><td>9243.175</td><td>8973.261</td><td>9158.718</td><td>8505.161</td><td>8713.231</td><td>8287.674</td><td>8649.64</td><td>8874.921</td></tr><tr><td>4</td><td>3972.418866</td><td>4254.790314</td><td>4089.549517</td><td>4272.046434</td><td>4446.949951</td><td>4022.828501</td><td>4374.413436</td><td>4369.679027</td><td>4150.7095</td><td>3941.880817</td><td>4227.904345</td><td>4420.621374</td><td>4676.941221</td><td>4534.857719</td><td>4604.858395</td><td>4588.033874</td><td>4023.362549</td><td>4455.22004</td><td>4574.171104</td><td>4520.151023</td><td>4408.383964</td><td>4200.673767</td><td>4535.020561</td><td>4420.531149</td><td>4421.192901</td><td>4254.960815</td><td>4031.139467</td><td>3972.143434</td><td>4027.789862</td><td>4720.410259</td><td>4455.75972</td><td>3900.863059</td><td>4312.082422</td><td>4518.990036</td><td>4405.510685</td><td>4745.297877</td><td>4280.133207</td><td>4148.129445</td><td>4364.547169</td><td>4530.330211</td><td>5158</td><td>4031.1462</td><td>4406.548</td><td>4107.919</td><td>4059.3975</td><td>4229.2666</td><td>4429.893</td><td>4209.0796</td><td>4026.7249</td><td>4228.1797</td><td>4164.242</td></tr></tbody></table></div>"
      ],
      "text/plain": [
       "shape: (5, 52)\n",
       "┌─────┬────────────┬────────────┬────────────┬───┬────────────┬────────────┬───────────┬───────────┐\n",
       "│ id  ┆ pred_0     ┆ pred_1     ┆ pred_2     ┆ … ┆ kun_pred_6 ┆ kun_pred_7 ┆ kun_pred_ ┆ kun_pred_ │\n",
       "│ --- ┆ ---        ┆ ---        ┆ ---        ┆   ┆ ---        ┆ ---        ┆ 8         ┆ 9         │\n",
       "│ i64 ┆ f64        ┆ f64        ┆ f64        ┆   ┆ f64        ┆ f64        ┆ ---       ┆ ---       │\n",
       "│     ┆            ┆            ┆            ┆   ┆            ┆            ┆ f64       ┆ f64       │\n",
       "╞═════╪════════════╪════════════╪════════════╪═══╪════════════╪════════════╪═══════════╪═══════════╡\n",
       "│ 0   ┆ 6881.89230 ┆ 6517.41485 ┆ 7476.56774 ┆ … ┆ 7350.006   ┆ 9836.875   ┆ 8781.688  ┆ 8747.975  │\n",
       "│     ┆ 1          ┆ 8          ┆ 6          ┆   ┆            ┆            ┆           ┆           │\n",
       "│ 1   ┆ 3740.63402 ┆ 3496.01258 ┆ 3789.90798 ┆ … ┆ 3922.8992  ┆ 3761.7544  ┆ 3852.5068 ┆ 3476.0593 │\n",
       "│     ┆ 7          ┆ 2          ┆ 6          ┆   ┆            ┆            ┆           ┆           │\n",
       "│ 2   ┆ 2954.24757 ┆ 2735.11008 ┆ 3288.64770 ┆ … ┆ 2787.5325  ┆ 2911.18    ┆ 3172.8408 ┆ 3092.2769 │\n",
       "│     ┆ 3          ┆ 6          ┆ 9          ┆   ┆            ┆            ┆           ┆           │\n",
       "│ 3   ┆ 8430.94922 ┆ 8337.41609 ┆ 9033.35309 ┆ … ┆ 8713.231   ┆ 8287.674   ┆ 8649.64   ┆ 8874.921  │\n",
       "│     ┆ 4          ┆ 5          ┆ 8          ┆   ┆            ┆            ┆           ┆           │\n",
       "│ 4   ┆ 3972.41886 ┆ 4254.79031 ┆ 4089.54951 ┆ … ┆ 4209.0796  ┆ 4026.7249  ┆ 4228.1797 ┆ 4164.242  │\n",
       "│     ┆ 6          ┆ 4          ┆ 7          ┆   ┆            ┆            ┆           ┆           │\n",
       "└─────┴────────────┴────────────┴────────────┴───┴────────────┴────────────┴───────────┴───────────┘"
      ]
     },
     "execution_count": 4,
     "metadata": {},
     "output_type": "execute_result"
    }
   ],
   "source": [
    "# ===================================================================\n",
    "#  Data Loading\n",
    "# ===================================================================\n",
    "df = pl.read_csv(CFG.save_dir+f\"oof_df_exp065.csv\").sort(\"id\")\n",
    "train = pl.read_csv(CFG.data_dir+\"train.csv\", columns=[\"id\", \"price\"])\n",
    "df = df.join(train, on=\"id\", how=\"left\")\n",
    "df = df.join(\n",
    "    pl.read_csv(CFG.save_dir+\"kun_exp00052_oof_pred.csv\"),\n",
    "    on=\"id\", how=\"left\"\n",
    ")\n",
    "\n",
    "test = pl.read_csv(CFG.save_dir+f\"exp065.csv\").sort(\"id\")\n",
    "test = test.join(\n",
    "    pl.read_csv(CFG.save_dir+\"kun_exp00052.csv\"),\n",
    "    on=\"id\", how=\"left\"\n",
    ")\n",
    "\n",
    "df.head()"
   ]
  },
  {
   "cell_type": "code",
   "execution_count": 5,
   "metadata": {},
   "outputs": [
    {
     "name": "stdout",
     "output_type": "stream",
     "text": [
      "[0] baseline pred_12 43.805041424202756\n",
      "[1] add pred_29: 43.68618295984381 0.47700000000000087\n",
      "[2] add pred_10: 43.6494565341299 0.2860000000000007\n",
      "[3] add pred_24: 43.6341430286122 0.21600000000000064\n",
      "[4] add pred_20: 43.62363269458271 0.13000000000000056\n",
      "[5] add pred_9: 43.616045519428944 -0.14399999999999968\n",
      "[6] add pred_28: 43.60765780674308 0.15100000000000058\n",
      "[7] add pred_1: 43.60388338358262 -0.08199999999999963\n",
      "[8] add pred_14: 43.598003437354926 0.11800000000000055\n",
      "[9] add kun_pred_8: 43.59425206119694 -0.09499999999999964\n",
      "[10] add pred_11: 43.591797195246585 0.07500000000000051\n",
      "[11] add pred_3: 43.58829582745161 -0.09899999999999964\n",
      "[12] add pred_5: 43.58566739316292 0.07400000000000051\n",
      "[13] add pred_13: 43.58378731138246 -0.07099999999999962\n",
      "[14] add pred_36: 43.58254458766511 0.04900000000000049\n",
      "[15] add pred_25: 43.58073405013395 -0.06999999999999962\n",
      "[16] add pred_33: 43.57956912525516 0.057000000000000495\n",
      "[17] add kun_pred_4: 43.57817333653196 -0.054999999999999605\n",
      "[18] add kun_pred_7: 43.576836740207156 0.05500000000000049\n",
      "[19] add kun_pred_9: 43.57488351791397 -0.06299999999999961\n",
      "[20] add kun_pred_2: 43.57378210981177 0.045000000000000484\n",
      "[21] add pred_30: 43.572470318725635 -0.053999999999999604\n",
      "[22] add pred_22: 43.571472442846336 0.04800000000000049\n",
      "[23] add pred_17: 43.57048009500918 -0.06299999999999961\n",
      "[24] add pred_7: 43.56968832229113 0.04400000000000048\n",
      "[25] add pred_19: 43.568951694554016 -0.03799999999999959\n",
      "[26] add pred_23: 43.56863797484524 0.02900000000000047\n",
      "[27] add kun_pred_3: 43.568136073091146 -0.03799999999999959\n",
      "[28] add kun_pred_0: 43.567364574579706 0.045000000000000484\n",
      "[29] add kun_pred_5: 43.56683722309668 -0.03799999999999959\n",
      "[30] add pred_6: 43.56652423175571 0.027000000000000468\n",
      "[31] add pred_26: 43.566210555823865 -0.01499999999999957\n",
      "[32] add pred_27: 43.56589908556407 0.012000000000000455\n",
      "[33] add pred_15: 43.56561584832237 -0.023999999999999577\n",
      "[34] add pred_32: 43.56544925113866 0.021000000000000463\n",
      "[35] add pred_18: 43.56525656977628 -0.020999999999999575\n",
      "[36] add pred_8: 43.56507741131876 0.015000000000000457\n",
      "[37] add pred_16: 43.564948231350144 -0.01599999999999957\n",
      "[38] add pred_0: 43.564881964944604 0.013000000000000456\n",
      "[39] add pred_21: 43.56482655659543 -0.011999999999999567\n",
      "[40] add pred_39: 43.56474668288312 0.013000000000000456\n",
      "[41] add pred_4: 43.56468690098929 -0.008999999999999564\n",
      "[42] add pred_35: 43.5646390555906 -0.009999999999999565\n",
      "[43] add pred_38: 43.564593114685906 0.0050000000000004485\n",
      "[44] add pred_31: 43.564564278156645 0.010000000000000453\n",
      "[45] add pred_2: 43.56454646650242 -0.00499999999999956\n",
      "[46] add pred_37: 43.564538249717856 0.004000000000000448\n",
      "[47] add pred_34: 43.56453476653221 -0.0019999999999995577\n",
      "[48] add kun_pred_1: 43.56453338381976 0.001000000000000445\n",
      "[49] add kun_pred_6: 43.56453307604806 -0.0009999999999995568\n"
     ]
    }
   ],
   "source": [
    "# ===================================================================\n",
    "#  Hill Climbing\n",
    "# ===================================================================\n",
    "# https://www.kaggle.com/competitions/feedback-prize-english-language-learning/discussion/369609\n",
    "\n",
    "\n",
    "def evaluate(current_best_preds, k: int, best_score: float):\n",
    "    \"\"\"\n",
    "    評価関数\n",
    "    \n",
    "    preds = current_best_preds*(1-w) + df[models[k]]*w\n",
    "    において最もスコアが良くなるようにwを探す.\n",
    "    もしその最も良いスコアがbest_scoreよりも良ければそのスコアと重みを返し、その最も良いスコアがbest_scoreよりも良くなければ元々のbest_scoreと重み0を返す\n",
    "    \"\"\"\n",
    "    best_weight = 0\n",
    "    for w in np.arange(-0.5, 0.5, 0.001):\n",
    "        preds = current_best_preds*(1-w) + df[models[k]]*w\n",
    "        score = get_score(y_true=df[\"price\"], y_pred=preds)\n",
    "        if score < best_score:\n",
    "            best_score = score\n",
    "            best_weight = w\n",
    "    return best_score, best_weight\n",
    "\n",
    "\n",
    "\n",
    "stores = dict() # Hill Climbingで得た重りを保存する\n",
    "orders = []     # Hill Climbingで選ばれたモデルの順番を保存する\n",
    "scores = dict() # Hill Climbingするときのスコアを保存する\n",
    "\n",
    "# single modelで最もCVが良いモデルを選択する\n",
    "for col in df.columns:\n",
    "    if col not in [\"id\", \"price\"]:\n",
    "        scores[col] = get_score(y_true=df[\"price\"], y_pred=df[col])        \n",
    "selected_model = min(scores, key=scores.get)\n",
    "current_best_preds = df[selected_model]\n",
    "orders.append(selected_model) # 順番を保存\n",
    "stores[selected_model] = 1    # 重みを保存\n",
    "models = [col for col in df.columns if col not in [\"id\", \"price\"]]\n",
    "\n",
    "# Start Hill Climbing\n",
    "i = 0\n",
    "print(f\"[{i}] baseline {selected_model} {min(scores.values())}\")\n",
    "\n",
    "while True:\n",
    "    \n",
    "    # 前段階のベストスコア\n",
    "    best_score = min(scores.values())\n",
    "    \n",
    "    # 前段階で選ばれたモデル\n",
    "    selected_model = min(scores, key=scores.get)\n",
    "    \n",
    "    # 重複しないように削除\n",
    "    models.remove(selected_model)\n",
    "    \n",
    "    \n",
    "    # 残ったモデルの数が0になれば終了\n",
    "    if len(models) == 0:\n",
    "        break\n",
    "    \n",
    "    # \n",
    "    scores, weights = dict(), dict()\n",
    "    for k in range(len(models)):\n",
    "        score, weight = evaluate(current_best_preds, k, best_score)\n",
    "        scores[models[k]] = score\n",
    "        weights[models[k]] = weight\n",
    "        \n",
    "    i += 1\n",
    "    selected_model = min(scores, key=scores.get)\n",
    "    print(f\"[{i}] add {selected_model}: {min(scores.values())} {weights[selected_model]}\")\n",
    "    best_weight = weights[selected_model]\n",
    "    stores[selected_model] = best_weight\n",
    "    orders.append(selected_model)\n",
    "    current_best_preds = current_best_preds*(1-best_weight) + df[selected_model]*best_weight"
   ]
  },
  {
   "cell_type": "code",
   "execution_count": 6,
   "metadata": {},
   "outputs": [
    {
     "data": {
      "text/plain": [
       "43.56453307604806"
      ]
     },
     "execution_count": 6,
     "metadata": {},
     "output_type": "execute_result"
    }
   ],
   "source": [
    "# ===================================================================\n",
    "#  Check\n",
    "# ===================================================================\n",
    "def get_preds(df: pl.DataFrame):\n",
    "    best_preds = 0\n",
    "    for exp in orders:\n",
    "        w = stores[exp]\n",
    "        best_preds  = best_preds * (1-w) + df[exp] * w\n",
    "    return best_preds\n",
    "    \n",
    "get_score(y_true=df[\"price\"], y_pred=get_preds(df))"
   ]
  },
  {
   "cell_type": "code",
   "execution_count": 7,
   "metadata": {},
   "outputs": [
    {
     "data": {
      "text/html": [
       "<div><style>\n",
       ".dataframe > thead > tr > th,\n",
       ".dataframe > tbody > tr > td {\n",
       "  text-align: right;\n",
       "}\n",
       "</style>\n",
       "<small>shape: (5, 2)</small><table border=\"1\" class=\"dataframe\"><thead><tr><th>id</th><th>pred</th></tr><tr><td>i64</td><td>f64</td></tr></thead><tbody><tr><td>0</td><td>8854.693376</td></tr><tr><td>1</td><td>3869.563539</td></tr><tr><td>2</td><td>3020.466736</td></tr><tr><td>3</td><td>8014.619227</td></tr><tr><td>4</td><td>4522.686418</td></tr></tbody></table></div>"
      ],
      "text/plain": [
       "shape: (5, 2)\n",
       "┌─────┬─────────────┐\n",
       "│ id  ┆ pred        │\n",
       "│ --- ┆ ---         │\n",
       "│ i64 ┆ f64         │\n",
       "╞═════╪═════════════╡\n",
       "│ 0   ┆ 8854.693376 │\n",
       "│ 1   ┆ 3869.563539 │\n",
       "│ 2   ┆ 3020.466736 │\n",
       "│ 3   ┆ 8014.619227 │\n",
       "│ 4   ┆ 4522.686418 │\n",
       "└─────┴─────────────┘"
      ]
     },
     "metadata": {},
     "output_type": "display_data"
    }
   ],
   "source": [
    "# ===================================================================\n",
    "#  oof_df\n",
    "# ===================================================================\n",
    "df.with_columns(\n",
    "    pl.Series(get_preds(df)).alias(\"pred\")\n",
    ")[[\"id\", \"pred\"]].write_csv(CFG.save_dir+f\"oof_df_{CFG.filename}.csv\", has_header=True)\n",
    "\n",
    "display(df.with_columns(\n",
    "    pl.Series(get_preds(df)).alias(\"pred\")\n",
    ")[[\"id\", \"pred\"]].head())"
   ]
  },
  {
   "cell_type": "code",
   "execution_count": 8,
   "metadata": {},
   "outputs": [
    {
     "data": {
      "text/html": [
       "<div><style>\n",
       ".dataframe > thead > tr > th,\n",
       ".dataframe > tbody > tr > td {\n",
       "  text-align: right;\n",
       "}\n",
       "</style>\n",
       "<small>shape: (5, 2)</small><table border=\"1\" class=\"dataframe\"><thead><tr><th>id</th><th>pred</th></tr><tr><td>i64</td><td>f64</td></tr></thead><tbody><tr><td>27532</td><td>9673.031004</td></tr><tr><td>27533</td><td>5585.545628</td></tr><tr><td>27534</td><td>5595.254657</td></tr><tr><td>27535</td><td>18194.779659</td></tr><tr><td>27536</td><td>4416.241293</td></tr></tbody></table></div>"
      ],
      "text/plain": [
       "shape: (5, 2)\n",
       "┌───────┬──────────────┐\n",
       "│ id    ┆ pred         │\n",
       "│ ---   ┆ ---          │\n",
       "│ i64   ┆ f64          │\n",
       "╞═══════╪══════════════╡\n",
       "│ 27532 ┆ 9673.031004  │\n",
       "│ 27533 ┆ 5585.545628  │\n",
       "│ 27534 ┆ 5595.254657  │\n",
       "│ 27535 ┆ 18194.779659 │\n",
       "│ 27536 ┆ 4416.241293  │\n",
       "└───────┴──────────────┘"
      ]
     },
     "execution_count": 8,
     "metadata": {},
     "output_type": "execute_result"
    }
   ],
   "source": [
    "# ===================================================================\n",
    "#  test\n",
    "# ===================================================================\n",
    "test = test.with_columns(\n",
    "    pl.Series(get_preds(test)).alias(\"pred\")\n",
    ")\n",
    "test.select([\"id\", \"pred\"]).write_csv(CFG.save_dir+f\"{CFG.filename}.csv\", has_header=False)\n",
    "test.select([\"id\", \"pred\"]).head()"
   ]
  }
 ],
 "metadata": {
  "kernelspec": {
   "display_name": "Python 3",
   "language": "python",
   "name": "python3"
  },
  "language_info": {
   "codemirror_mode": {
    "name": "ipython",
    "version": 3
   },
   "file_extension": ".py",
   "mimetype": "text/x-python",
   "name": "python",
   "nbconvert_exporter": "python",
   "pygments_lexer": "ipython3",
   "version": "3.11.4"
  },
  "orig_nbformat": 4
 },
 "nbformat": 4,
 "nbformat_minor": 2
}
