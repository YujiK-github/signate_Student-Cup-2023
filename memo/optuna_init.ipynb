{
 "cells": [
  {
   "cell_type": "code",
   "execution_count": 209,
   "metadata": {},
   "outputs": [],
   "source": [
    "# ===================================================================\n",
    "#  Library\n",
    "# ===================================================================\n",
    "import os\n",
    "import random\n",
    "import numpy as np\n",
    "import pandas as pd\n",
    "import matplotlib.pyplot as plt\n",
    "import seaborn as sns\n",
    "\n",
    "from sklearn.model_selection import StratifiedKFold\n",
    "from sklearn.metrics import mean_absolute_percentage_error\n",
    "\n",
    "import warnings\n",
    "warnings.simplefilter(\"ignore\")\n",
    "\n",
    "from tqdm.auto import tqdm\n",
    "import optuna\n",
    "import unicodedata\n",
    "\n",
    "import lightgbm as lgb"
   ]
  },
  {
   "cell_type": "code",
   "execution_count": 210,
   "metadata": {},
   "outputs": [
    {
     "data": {
      "text/plain": [
       "8"
      ]
     },
     "execution_count": 210,
     "metadata": {},
     "output_type": "execute_result"
    }
   ],
   "source": [
    "import multiprocessing\n",
    "NUM_CORES = multiprocessing.cpu_count()\n",
    "NUM_CORES"
   ]
  },
  {
   "cell_type": "code",
   "execution_count": 211,
   "metadata": {},
   "outputs": [],
   "source": [
    "# ===================================================================\n",
    "#  CFG\n",
    "# ===================================================================\n",
    "class CFG:\n",
    "    debug = False\n",
    "    seed = 42\n",
    "    #seed = 2023\n",
    "    #seed = 1111\n",
    "    n_splits = 5\n",
    "    data_dir = \"G:/マイドライブ/signate_StudentCup2023/data/\"\n",
    "    target_bins = 20\n",
    "    year_bins = 20\n",
    "    num_boost_round = 500\n",
    "    stopping_rounds = 50\n",
    "    n_trials = 100\n",
    "    save_dir = \"G:/マイドライブ/signate_StudentCup2023/exp/\""
   ]
  },
  {
   "cell_type": "code",
   "execution_count": 212,
   "metadata": {},
   "outputs": [],
   "source": [
    "# ===================================================================\n",
    "#  Utils\n",
    "# ===================================================================\n",
    "def seed_everything(seed):\n",
    "    \"\"\"fix random factors\"\"\"\n",
    "    random.seed(seed)\n",
    "    np.random.seed(seed)\n",
    "    os.environ['PYTHONHASHSEED'] = str(seed)\n",
    "seed_everything(CFG.seed)\n",
    "    \n",
    "\n",
    "def get_score(y_true, y_pred):\n",
    "    \"\"\"get MAPE score\"\"\"\n",
    "    score = mean_absolute_percentage_error(y_true, y_pred)\n",
    "    return score * 100"
   ]
  },
  {
   "cell_type": "code",
   "execution_count": 213,
   "metadata": {},
   "outputs": [],
   "source": [
    "# ===================================================================\n",
    "#  Data Loading\n",
    "# ===================================================================\n",
    "train = pd.read_csv(CFG.data_dir+\"train.csv\")\n",
    "test = pd.read_csv(CFG.data_dir+\"test.csv\")\n",
    "\n",
    "state_coordinate_df = pd.read_csv(CFG.data_dir+\"state_coordinate.csv\")\n",
    "region_coordinate_df = pd.read_csv(CFG.data_dir+\"region_coordinate.csv\")\n",
    "\n",
    "train[\"flag\"] = \"train\"\n",
    "train = pd.merge(train, state_coordinate_df, on=\"state\", how=\"left\")\n",
    "train = pd.merge(train, region_coordinate_df, on=\"region\", how=\"left\")\n",
    "test[\"flag\"] = \"test\"\n",
    "test = pd.merge(test, state_coordinate_df, on=\"state\", how=\"left\")\n",
    "test = pd.merge(test, region_coordinate_df, on=\"region\", how=\"left\")\n",
    "all_data = pd.concat([train, test], ignore_index=True)"
   ]
  },
  {
   "cell_type": "code",
   "execution_count": 214,
   "metadata": {},
   "outputs": [],
   "source": [
    "# ===================================================================\n",
    "#  preprocessing\n",
    "# ===================================================================\n",
    "# year\n",
    "def pre_year(df: pd.DataFrame):\n",
    "    year_dict = {\n",
    "        2999:1999,\n",
    "        3008:2008,\n",
    "        3011:2011,\n",
    "        3015:2015,\n",
    "        3017:2017,\n",
    "        3019:2019,\n",
    "    }\n",
    "    df[\"year\"] = df[\"year\"].replace(year_dict)\n",
    "    return df\n",
    "all_data = pre_year(all_data)\n",
    "\n",
    "# manufacturer\n",
    "all_data[\"manufacturer\"] = all_data[\"manufacturer\"].str.lower().apply(lambda x: unicodedata.normalize('NFKC', x))\n",
    "manufacturer_map = {\n",
    "    'niѕsan':'nissan',\n",
    "    'nisѕan':'nissan',\n",
    "    'subαru':'subaru',\n",
    "    'toyotа':'toyota',\n",
    "    'sαturn':'saturn',\n",
    "    'аcura':'acura',\n",
    "    'vоlkswagen':'volkswagen',\n",
    "    'lexuѕ':'lexus',\n",
    "    'ᴄhrysler':'chrysler',\n",
    "}\n",
    "all_data[\"manufacturer\"] = all_data[\"manufacturer\"].replace(manufacturer_map)\n",
    "\n",
    "# fuel\n",
    "## 欠損値 train: 1239, test, 1495 \n",
    "## わざと欠損値にしている訳ではなさそう？\n",
    "all_data[\"fuel\"].fillna(value=\"Unknown\", inplace=True)\n",
    "\n",
    "\n",
    "# odometer\n",
    "## 後でvalidationを作るときに直そう\n",
    "\n",
    "# title_status\n",
    "## 欠損値 train: 456, test: 229\n",
    "all_data[\"title_status\"].fillna(value=\"Unknown\", inplace=True)\n",
    "\n",
    "# size\n",
    "def pre_size(df: pd.DataFrame):\n",
    "    size_dict = {\n",
    "        \"fullーsize\":\"full-size\",\n",
    "        \"midーsize\":\"mid-size\",\n",
    "        \"subーcompact\":\"sub-compact\",\n",
    "        \"full−size\":\"full-size\",\n",
    "        \"mid−size\":\"mid-size\"\n",
    "    }\n",
    "    df[\"size\"] = df[\"size\"].replace(size_dict)\n",
    "    return df\n",
    "all_data = pre_size(all_data)\n",
    "\n",
    "# type\n",
    "## 欠損値 train: 456, test: 229\n",
    "all_data[\"type\"].fillna(value=\"Unknown\", inplace=True)\n",
    "\n",
    "\n",
    "# state\n",
    "## 欠損値 train: 3304, test: 3029\n",
    "all_data[\"state\"].fillna(value=\"Unknown\", inplace=True)"
   ]
  },
  {
   "cell_type": "code",
   "execution_count": 215,
   "metadata": {},
   "outputs": [
    {
     "name": "stdout",
     "output_type": "stream",
     "text": [
      "fold\n",
      "1.0    5507\n",
      "0.0    5507\n",
      "2.0    5506\n",
      "4.0    5506\n",
      "3.0    5506\n",
      "Name: count, dtype: int64\n",
      "8.784566908616718\n"
     ]
    }
   ],
   "source": [
    "# ===================================================================\n",
    "#  Cross Validation\n",
    "# ===================================================================\n",
    "train = all_data[all_data[\"flag\"] == \"train\"].reset_index(drop=True)\n",
    "test = all_data[all_data[\"flag\"] == \"test\"].reset_index(drop=True)\n",
    "\n",
    "train.sort_values(by=\"id\", ignore_index=True, inplace=True)\n",
    "\n",
    "train[\"year_map\"], bins = pd.cut(train[\"year\"], bins=20, labels=False, retbins=True)\n",
    "test[\"year_map\"] = pd.cut(test[\"year\"], bins=bins, labels=False)\n",
    "train[\"price_map\"] = pd.cut(train[\"price\"], bins=CFG.target_bins, labels=False)\n",
    "\n",
    "skf = StratifiedKFold(n_splits=CFG.n_splits, shuffle=True, random_state=CFG.seed)\n",
    "for i, (_, val) in enumerate(skf.split(X=train, y=train[\"price_map\"])):\n",
    "    train.loc[val, \"fold\"] = i\n",
    "print(train[\"fold\"].value_counts())\n",
    "print(train.groupby(\"fold\")[\"price\"].mean().std())"
   ]
  },
  {
   "cell_type": "code",
   "execution_count": 216,
   "metadata": {},
   "outputs": [
    {
     "data": {
      "text/html": [
       "<div>\n",
       "<style scoped>\n",
       "    .dataframe tbody tr th:only-of-type {\n",
       "        vertical-align: middle;\n",
       "    }\n",
       "\n",
       "    .dataframe tbody tr th {\n",
       "        vertical-align: top;\n",
       "    }\n",
       "\n",
       "    .dataframe thead th {\n",
       "        text-align: right;\n",
       "    }\n",
       "</style>\n",
       "<table border=\"1\" class=\"dataframe\">\n",
       "  <thead>\n",
       "    <tr style=\"text-align: right;\">\n",
       "      <th></th>\n",
       "      <th>feature</th>\n",
       "      <th>std</th>\n",
       "      <th>len</th>\n",
       "    </tr>\n",
       "  </thead>\n",
       "  <tbody>\n",
       "    <tr>\n",
       "      <th>0</th>\n",
       "      <td>year_map</td>\n",
       "      <td>33400.067098</td>\n",
       "      <td>20</td>\n",
       "    </tr>\n",
       "    <tr>\n",
       "      <th>1</th>\n",
       "      <td>condition</td>\n",
       "      <td>26899.720306</td>\n",
       "      <td>6</td>\n",
       "    </tr>\n",
       "    <tr>\n",
       "      <th>2</th>\n",
       "      <td>fuel</td>\n",
       "      <td>19292.666186</td>\n",
       "      <td>6</td>\n",
       "    </tr>\n",
       "    <tr>\n",
       "      <th>3</th>\n",
       "      <td>region</td>\n",
       "      <td>17761.052586</td>\n",
       "      <td>372</td>\n",
       "    </tr>\n",
       "    <tr>\n",
       "      <th>4</th>\n",
       "      <td>manufacturer</td>\n",
       "      <td>16545.615833</td>\n",
       "      <td>37</td>\n",
       "    </tr>\n",
       "    <tr>\n",
       "      <th>5</th>\n",
       "      <td>paint_color</td>\n",
       "      <td>16320.395312</td>\n",
       "      <td>12</td>\n",
       "    </tr>\n",
       "    <tr>\n",
       "      <th>6</th>\n",
       "      <td>type</td>\n",
       "      <td>16318.821524</td>\n",
       "      <td>14</td>\n",
       "    </tr>\n",
       "    <tr>\n",
       "      <th>7</th>\n",
       "      <td>cylinders</td>\n",
       "      <td>13385.064899</td>\n",
       "      <td>8</td>\n",
       "    </tr>\n",
       "    <tr>\n",
       "      <th>8</th>\n",
       "      <td>drive</td>\n",
       "      <td>12651.327741</td>\n",
       "      <td>3</td>\n",
       "    </tr>\n",
       "    <tr>\n",
       "      <th>9</th>\n",
       "      <td>title_status</td>\n",
       "      <td>11325.772185</td>\n",
       "      <td>7</td>\n",
       "    </tr>\n",
       "    <tr>\n",
       "      <th>10</th>\n",
       "      <td>transmission</td>\n",
       "      <td>9557.767204</td>\n",
       "      <td>3</td>\n",
       "    </tr>\n",
       "    <tr>\n",
       "      <th>11</th>\n",
       "      <td>state</td>\n",
       "      <td>8356.598407</td>\n",
       "      <td>52</td>\n",
       "    </tr>\n",
       "    <tr>\n",
       "      <th>12</th>\n",
       "      <td>size</td>\n",
       "      <td>3404.428906</td>\n",
       "      <td>4</td>\n",
       "    </tr>\n",
       "  </tbody>\n",
       "</table>\n",
       "</div>"
      ],
      "text/plain": [
       "         feature           std  len\n",
       "0       year_map  33400.067098   20\n",
       "1      condition  26899.720306    6\n",
       "2           fuel  19292.666186    6\n",
       "3         region  17761.052586  372\n",
       "4   manufacturer  16545.615833   37\n",
       "5    paint_color  16320.395312   12\n",
       "6           type  16318.821524   14\n",
       "7      cylinders  13385.064899    8\n",
       "8          drive  12651.327741    3\n",
       "9   title_status  11325.772185    7\n",
       "10  transmission   9557.767204    3\n",
       "11         state   8356.598407   52\n",
       "12          size   3404.428906    4"
      ]
     },
     "metadata": {},
     "output_type": "display_data"
    }
   ],
   "source": [
    "# ===================================================================\n",
    "#  Variance by category\n",
    "# ===================================================================\n",
    "all_data = pd.concat([train, test], ignore_index=True)\n",
    "tmp_ = ['region',  'manufacturer', 'condition', 'cylinders',\n",
    "       'fuel',  'title_status', 'transmission', 'drive', 'size',\n",
    "       'type', 'paint_color', 'state',  'year_map',]\n",
    "df = all_data[(all_data[\"odometer\"] > 100)&(all_data[\"odometer\"] < 400000)].reset_index(drop=True)\n",
    "tmp = []\n",
    "for col in tmp_:\n",
    "    tmp.append(df.groupby(col)[\"odometer\"].mean().std())\n",
    "df = pd.DataFrame(zip(tmp_, tmp, [len(train[col].unique()) for col in tmp_]), columns=[\"feature\", \"std\", \"len\"],)\n",
    "display(df.sort_values(\"std\", ascending=False, ignore_index=True))"
   ]
  },
  {
   "cell_type": "code",
   "execution_count": 217,
   "metadata": {},
   "outputs": [],
   "source": [
    "# ===================================================================\n",
    "#  use features\n",
    "# =================================================================== \n",
    "## numerical\n",
    "CFG.numerical_features = ['year', \"odometer\"]\n",
    "\n",
    "## category\n",
    "CFG.categorical_features = ['drive', \"size\",'paint_color', \"title_status\",\"type\", \"fuel\"]\n",
    "CFG.target_encoding_features = ['manufacturer','condition', 'transmission',]\n",
    "CFG.count_encoding_features = [\"region\",'cylinders',\"state\"]\n",
    "CFG.max_encoding_features = ['cylinders']\n",
    "CFG.std_encoding_features = [\"fuel\"]\n",
    "CFG.min_encoding_features = []\n",
    "CFG.median_encoding_features = [\"manufacturer\", \"condition\"]\n",
    "\n",
    "\n",
    "## use_features\n",
    "CFG.use_features = list(set(CFG.numerical_features) | set(CFG.categorical_features))"
   ]
  },
  {
   "cell_type": "code",
   "execution_count": 218,
   "metadata": {},
   "outputs": [
    {
     "data": {
      "text/plain": [
       "'\\n# ===================================================================\\n#  model\\n# ===================================================================\\npreds, oof_df, feature_importance_df = [], pd.DataFrame(), pd.DataFrame()\\nfor fold in range(CFG.n_splits):\\n    X_train = train[train[\"fold\"] != fold].reset_index(drop=True)\\n    X_valid = train[train[\"fold\"] == fold].reset_index(drop=True)\\n    test_df = test.copy()\\n    \\n    # odometerの補正\\n    fillna_map = X_train[(X_train[\"odometer\"] > 100)&(X_train[\"odometer\"] < 400000)].groupby([\"year_map\"])[\"odometer\"].mean().reset_index()\\n    def replace_odometer(df: pd.DataFrame, fillna_map: pd.DataFrame):\\n        df_1 = df[(df[\"odometer\"] < 100)|(df[\"odometer\"] > 400000)].reset_index(drop=True)\\n        df_2 = df[(df[\"odometer\"] >= 100)&(df[\"odometer\"] <= 400000)].reset_index(drop=True)\\n        df_1.drop(\"odometer\", inplace=True, axis=1)\\n        df_1 = pd.merge(df_1, fillna_map, on=\"year_map\", how=\"left\")\\n        df = pd.concat([df_1, df_2])\\n        return df.sort_values(\"id\", ignore_index=True)\\n    X_train = replace_odometer(X_train, fillna_map)\\n    X_valid = replace_odometer(X_valid, fillna_map)\\n    test_df = replace_odometer(test_df, fillna_map)\\n    \\n    \\n    def add_odometer_per_year(df: pd.DataFrame):\\n        df[\"elapsed_year\"] = 2023 - df[\"year\"]\\n        df[\"odometer_per_year\"] = df[\"odometer\"] / df[\"elapsed_year\"]\\n        return df\\n    X_train = add_odometer_per_year(X_train)\\n    X_valid = add_odometer_per_year(X_valid) \\n    test_df = add_odometer_per_year(test_df)\\n        \\n    # CFG.target_encoding_features\\n    for col in CFG.target_encoding_features:\\n        mean_map = X_train.groupby(col)[\"price\"].mean()\\n        X_train[col+\"_target_encoding\"] = X_train[col].map(mean_map)\\n        X_valid[col+\"_target_encoding\"] = X_valid[col].map(mean_map)\\n        test_df[col+\"_target_encoding\"] = test_df[col].map(mean_map)\\n        if fold == 0:\\n            CFG.use_features.append(col+\"_target_encoding\")\\n            \\n        \\n    # CFG.count_encoding_features\\n    for col in CFG.count_encoding_features:\\n        count_map = X_train[col].value_counts().to_dict()\\n        X_train[col+\"_count_encoding\"] = X_train[col].map(count_map)\\n        X_valid[col+\"_count_encoding\"] = X_valid[col].map(count_map)\\n        test_df[col+\"_count_encoding\"] = test_df[col].map(count_map)\\n        if fold == 0:\\n            CFG.use_features.append(col+\"_count_encoding\")\\n            \\n    \\n    # CFG.max_encoding_features\\n    for col in CFG.max_encoding_features:\\n        max_map = X_train.groupby(col)[\"price\"].max()\\n        X_train[col+\"_max_encoding\"] = X_train[col].map(max_map)\\n        X_valid[col+\"_max_encoding\"] = X_valid[col].map(max_map)\\n        test_df[col+\"_max_encoding\"] = test_df[col].map(max_map)\\n        if fold == 0:\\n            CFG.use_features.append(col+\"_max_encoding\")\\n            \\n            \\n    # CFG.min_encoding_features\\n    for col in CFG.min_encoding_features:\\n        min_map = X_train.groupby(col)[\"price\"].min()\\n        X_train[col+\"_min_encoding\"] = X_train[col].map(min_map)\\n        X_valid[col+\"_min_encoding\"] = X_valid[col].map(min_map)\\n        test_df[col+\"_min_encoding\"] = test_df[col].map(min_map)\\n        if fold == 0:\\n            CFG.use_features.append(col+\"_min_encoding\")\\n            \\n            \\n    # CFG.std_encoding_features\\n    for col in CFG.std_encoding_features:\\n        std_map = X_train.groupby(col)[\"price\"].std()\\n        X_train[col+\"_std_encoding\"] = X_train[col].map(std_map)\\n        X_valid[col+\"_std_encoding\"] = X_valid[col].map(std_map)\\n        test_df[col+\"_std_encoding\"] = test_df[col].map(std_map)\\n        if fold == 0:\\n            CFG.use_features.append(col+\"_std_encoding\")\\n            \\n    \\n    # CFG.median_encoding_features\\n    for col in CFG.median_encoding_features:\\n        median_map = X_train.groupby(col)[\"price\"].median()\\n        X_train[col+\"_median_encoding\"] = X_train[col].map(median_map)\\n        X_valid[col+\"_median_encoding\"] = X_valid[col].map(median_map)\\n        test_df[col+\"_median_encoding\"] = test_df[col].map(median_map)\\n        if fold == 0:\\n            CFG.use_features.append(col+\"_median_encoding\")\\n    \\n    \\n    # CFG.categorical_featuresをcategory型に変換\\n    for col in CFG.categorical_features:\\n        X_train[col] = X_train[col].astype(\"category\")\\n        X_valid[col] = X_valid[col].astype(\"category\")\\n        test_df[col] = test_df[col].astype(\"category\")\\n        \\n        \\n\\n\\n    # train\\n    lgb_train = lgb.Dataset(X_train[CFG.use_features], X_train[\"price\"], categorical_feature = CFG.categorical_features,)\\n    lgb_valid = lgb.Dataset(X_valid[CFG.use_features], X_valid[\"price\"], categorical_feature = CFG.categorical_features,)\\n\\n\\n    # params\\n    lgb_param = {\\n        \"task\":\"train\",\\n        \"objective\": \"mape\",\\n        \"boosting\":\"gbdt\",\\n        \"num_iterations\": CFG.num_boost_round,\\n        \"learning_rate\":0.1, # default: 0.1\\n        \"num_leaves\":31, # max number of leaves in one tree ###\\n        \"max_depth\":4, # default -1, int: limit the max depth for tree model ###\\n        \"min_child_weight\":1e-3, # double: minimal sum hessian in one leaf\\n        \"min_data_in_leaf\":20, # minimal number of data in one leaf\\n        \"alpha\":0.9, # double, constraints, alpha > 0.0: \\n        \"colsample_bytree\":1.0, # 0 < \"colsample_bytree\" < 1\\n        #: LightGBM will randomly select a subset of features on each iteration (tree) if feature_fraction is smaller than 1.0\\n        \"lambda\": 0, #lambda_l2 >= 0.0: L2 regularization\\n        \"subsample\":1, #0.0 < bagging_fraction <= 1.0\\n        \"num_threads\":1,\\n        \"metric\": \\'mape\\',\\n        \"seed\" : CFG.seed,\\n        \"verbosity\": -1,   \\n    }\\n    \\n    lgbm_params = {\\n        \"objective\": \"mape\",\\n        \"metrics\": \"mape\",\\n        \"n_estimators\": 10000,\\n        \"learning_rate\": 0.01,\\n        \"max_depth\": 5,\\n        \"num_leaves\": 32,\\n        \"colsample_bytree\": 0.446,\\n        \"subsample\": 0.339,\\n        \"importance_type\": \"gain\",\\n        \"random_state\": 88,\\n    }\\n\\n    model = lgb.train(\\n                    lgb_param, \\n                    lgb_train, \\n                    valid_sets=[lgb_valid],\\n                    categorical_feature = CFG.categorical_features,\\n                    callbacks=[lgb.early_stopping(stopping_rounds=CFG.stopping_rounds, verbose=False),],\\n                    )\\n\\n    # feature importance\\n    feature_importance_df[f\"importance_fold{fold}\"] = model.feature_importance(importance_type=\\'gain\\')\\n\\n    # eval\\n    X_valid[f\"pred\"] = model.predict(X_valid[CFG.use_features], num_iteration=model.best_iteration)\\n    print(f\"fold{fold}:\", get_score(y_true=X_valid[\"price\"], y_pred=X_valid[\"pred\"]))\\n\\n    # concat\\n    oof_df = pd.concat([oof_df, X_valid], ignore_index=True)\\n\\n    # pred test\\n    preds.append(model.predict(test_df[CFG.use_features]))\\n    \\nfeature_importance_df[\"feature\"] = CFG.use_features\\nprint(\\'\\x1b[32m\\'+\"====== CV score ======\"+\\'\\x1b[0m\\')\\nprint(\\'\\x1b[32m\\'+f\\'{get_score(oof_df[\"price\"], oof_df[\"pred\"])}\\'+\\'\\x1b[0m\\')\\npredictions = np.mean(preds, axis=0)\\n'"
      ]
     },
     "execution_count": 218,
     "metadata": {},
     "output_type": "execute_result"
    }
   ],
   "source": [
    "\"\"\"\n",
    "# ===================================================================\n",
    "#  model\n",
    "# ===================================================================\n",
    "preds, oof_df, feature_importance_df = [], pd.DataFrame(), pd.DataFrame()\n",
    "for fold in range(CFG.n_splits):\n",
    "    X_train = train[train[\"fold\"] != fold].reset_index(drop=True)\n",
    "    X_valid = train[train[\"fold\"] == fold].reset_index(drop=True)\n",
    "    test_df = test.copy()\n",
    "    \n",
    "    # odometerの補正\n",
    "    fillna_map = X_train[(X_train[\"odometer\"] > 100)&(X_train[\"odometer\"] < 400000)].groupby([\"year_map\"])[\"odometer\"].mean().reset_index()\n",
    "    def replace_odometer(df: pd.DataFrame, fillna_map: pd.DataFrame):\n",
    "        df_1 = df[(df[\"odometer\"] < 100)|(df[\"odometer\"] > 400000)].reset_index(drop=True)\n",
    "        df_2 = df[(df[\"odometer\"] >= 100)&(df[\"odometer\"] <= 400000)].reset_index(drop=True)\n",
    "        df_1.drop(\"odometer\", inplace=True, axis=1)\n",
    "        df_1 = pd.merge(df_1, fillna_map, on=\"year_map\", how=\"left\")\n",
    "        df = pd.concat([df_1, df_2])\n",
    "        return df.sort_values(\"id\", ignore_index=True)\n",
    "    X_train = replace_odometer(X_train, fillna_map)\n",
    "    X_valid = replace_odometer(X_valid, fillna_map)\n",
    "    test_df = replace_odometer(test_df, fillna_map)\n",
    "    \n",
    "    \n",
    "    def add_odometer_per_year(df: pd.DataFrame):\n",
    "        df[\"elapsed_year\"] = 2023 - df[\"year\"]\n",
    "        df[\"odometer_per_year\"] = df[\"odometer\"] / df[\"elapsed_year\"]\n",
    "        return df\n",
    "    X_train = add_odometer_per_year(X_train)\n",
    "    X_valid = add_odometer_per_year(X_valid) \n",
    "    test_df = add_odometer_per_year(test_df)\n",
    "        \n",
    "    # CFG.target_encoding_features\n",
    "    for col in CFG.target_encoding_features:\n",
    "        mean_map = X_train.groupby(col)[\"price\"].mean()\n",
    "        X_train[col+\"_target_encoding\"] = X_train[col].map(mean_map)\n",
    "        X_valid[col+\"_target_encoding\"] = X_valid[col].map(mean_map)\n",
    "        test_df[col+\"_target_encoding\"] = test_df[col].map(mean_map)\n",
    "        if fold == 0:\n",
    "            CFG.use_features.append(col+\"_target_encoding\")\n",
    "            \n",
    "        \n",
    "    # CFG.count_encoding_features\n",
    "    for col in CFG.count_encoding_features:\n",
    "        count_map = X_train[col].value_counts().to_dict()\n",
    "        X_train[col+\"_count_encoding\"] = X_train[col].map(count_map)\n",
    "        X_valid[col+\"_count_encoding\"] = X_valid[col].map(count_map)\n",
    "        test_df[col+\"_count_encoding\"] = test_df[col].map(count_map)\n",
    "        if fold == 0:\n",
    "            CFG.use_features.append(col+\"_count_encoding\")\n",
    "            \n",
    "    \n",
    "    # CFG.max_encoding_features\n",
    "    for col in CFG.max_encoding_features:\n",
    "        max_map = X_train.groupby(col)[\"price\"].max()\n",
    "        X_train[col+\"_max_encoding\"] = X_train[col].map(max_map)\n",
    "        X_valid[col+\"_max_encoding\"] = X_valid[col].map(max_map)\n",
    "        test_df[col+\"_max_encoding\"] = test_df[col].map(max_map)\n",
    "        if fold == 0:\n",
    "            CFG.use_features.append(col+\"_max_encoding\")\n",
    "            \n",
    "            \n",
    "    # CFG.min_encoding_features\n",
    "    for col in CFG.min_encoding_features:\n",
    "        min_map = X_train.groupby(col)[\"price\"].min()\n",
    "        X_train[col+\"_min_encoding\"] = X_train[col].map(min_map)\n",
    "        X_valid[col+\"_min_encoding\"] = X_valid[col].map(min_map)\n",
    "        test_df[col+\"_min_encoding\"] = test_df[col].map(min_map)\n",
    "        if fold == 0:\n",
    "            CFG.use_features.append(col+\"_min_encoding\")\n",
    "            \n",
    "            \n",
    "    # CFG.std_encoding_features\n",
    "    for col in CFG.std_encoding_features:\n",
    "        std_map = X_train.groupby(col)[\"price\"].std()\n",
    "        X_train[col+\"_std_encoding\"] = X_train[col].map(std_map)\n",
    "        X_valid[col+\"_std_encoding\"] = X_valid[col].map(std_map)\n",
    "        test_df[col+\"_std_encoding\"] = test_df[col].map(std_map)\n",
    "        if fold == 0:\n",
    "            CFG.use_features.append(col+\"_std_encoding\")\n",
    "            \n",
    "    \n",
    "    # CFG.median_encoding_features\n",
    "    for col in CFG.median_encoding_features:\n",
    "        median_map = X_train.groupby(col)[\"price\"].median()\n",
    "        X_train[col+\"_median_encoding\"] = X_train[col].map(median_map)\n",
    "        X_valid[col+\"_median_encoding\"] = X_valid[col].map(median_map)\n",
    "        test_df[col+\"_median_encoding\"] = test_df[col].map(median_map)\n",
    "        if fold == 0:\n",
    "            CFG.use_features.append(col+\"_median_encoding\")\n",
    "    \n",
    "    \n",
    "    # CFG.categorical_featuresをcategory型に変換\n",
    "    for col in CFG.categorical_features:\n",
    "        X_train[col] = X_train[col].astype(\"category\")\n",
    "        X_valid[col] = X_valid[col].astype(\"category\")\n",
    "        test_df[col] = test_df[col].astype(\"category\")\n",
    "        \n",
    "        \n",
    "\n",
    "\n",
    "    # train\n",
    "    lgb_train = lgb.Dataset(X_train[CFG.use_features], X_train[\"price\"], categorical_feature = CFG.categorical_features,)\n",
    "    lgb_valid = lgb.Dataset(X_valid[CFG.use_features], X_valid[\"price\"], categorical_feature = CFG.categorical_features,)\n",
    "\n",
    "\n",
    "    # params\n",
    "    lgb_param = {\n",
    "        \"task\":\"train\",\n",
    "        \"objective\": \"mape\",\n",
    "        \"boosting\":\"gbdt\",\n",
    "        \"num_iterations\": CFG.num_boost_round,\n",
    "        \"learning_rate\":0.1, # default: 0.1\n",
    "        \"num_leaves\":31, # max number of leaves in one tree ###\n",
    "        \"max_depth\":4, # default -1, int: limit the max depth for tree model ###\n",
    "        \"min_child_weight\":1e-3, # double: minimal sum hessian in one leaf\n",
    "        \"min_data_in_leaf\":20, # minimal number of data in one leaf\n",
    "        \"alpha\":0.9, # double, constraints, alpha > 0.0: \n",
    "        \"colsample_bytree\":1.0, # 0 < \"colsample_bytree\" < 1\n",
    "        #: LightGBM will randomly select a subset of features on each iteration (tree) if feature_fraction is smaller than 1.0\n",
    "        \"lambda\": 0, #lambda_l2 >= 0.0: L2 regularization\n",
    "        \"subsample\":1, #0.0 < bagging_fraction <= 1.0\n",
    "        \"num_threads\":1,\n",
    "        \"metric\": 'mape',\n",
    "        \"seed\" : CFG.seed,\n",
    "        \"verbosity\": -1,   \n",
    "    }\n",
    "    \n",
    "    lgbm_params = {\n",
    "        \"objective\": \"mape\",\n",
    "        \"metrics\": \"mape\",\n",
    "        \"n_estimators\": 10000,\n",
    "        \"learning_rate\": 0.01,\n",
    "        \"max_depth\": 5,\n",
    "        \"num_leaves\": 32,\n",
    "        \"colsample_bytree\": 0.446,\n",
    "        \"subsample\": 0.339,\n",
    "        \"importance_type\": \"gain\",\n",
    "        \"random_state\": 88,\n",
    "    }\n",
    "\n",
    "    model = lgb.train(\n",
    "                    lgb_param, \n",
    "                    lgb_train, \n",
    "                    valid_sets=[lgb_valid],\n",
    "                    categorical_feature = CFG.categorical_features,\n",
    "                    callbacks=[lgb.early_stopping(stopping_rounds=CFG.stopping_rounds, verbose=False),],\n",
    "                    )\n",
    "\n",
    "    # feature importance\n",
    "    feature_importance_df[f\"importance_fold{fold}\"] = model.feature_importance(importance_type='gain')\n",
    "\n",
    "    # eval\n",
    "    X_valid[f\"pred\"] = model.predict(X_valid[CFG.use_features], num_iteration=model.best_iteration)\n",
    "    print(f\"fold{fold}:\", get_score(y_true=X_valid[\"price\"], y_pred=X_valid[\"pred\"]))\n",
    "\n",
    "    # concat\n",
    "    oof_df = pd.concat([oof_df, X_valid], ignore_index=True)\n",
    "\n",
    "    # pred test\n",
    "    preds.append(model.predict(test_df[CFG.use_features]))\n",
    "    \n",
    "feature_importance_df[\"feature\"] = CFG.use_features\n",
    "print('\\033[32m'+\"====== CV score ======\"+'\\033[0m')\n",
    "print('\\033[32m'+f'{get_score(oof_df[\"price\"], oof_df[\"pred\"])}'+'\\033[0m')\n",
    "predictions = np.mean(preds, axis=0)\n",
    "\"\"\""
   ]
  },
  {
   "cell_type": "markdown",
   "metadata": {},
   "source": [
    "| max_depth | CV |\n",
    "| - | - |\n",
    "| -1 | 44.61912756990577 | \n",
    "| 1 | 46.26899471238079 |\n",
    "| 2 | 44.72894181750576 |\n",
    "| 3 | 44.300660325492025 |\n",
    "| 4 | 44.25284711315097 |\n",
    "| 5 | 44.3421206027383 |"
   ]
  },
  {
   "cell_type": "markdown",
   "metadata": {},
   "source": [
    "fold0: 44.81489170450998  \n",
    "fold1: 45.365720502207544  \n",
    "fold2: 44.12319504793524  \n",
    "fold3: 44.57536168304539  \n",
    "fold4: 44.21629776089228  \n",
    "====== CV score ======  \n",
    "44.61912756990577  \n"
   ]
  },
  {
   "cell_type": "code",
   "execution_count": 219,
   "metadata": {},
   "outputs": [],
   "source": [
    "for col in CFG.target_encoding_features:\n",
    "    CFG.use_features.append(col+\"_target_encoding\")\n",
    "for col in CFG.count_encoding_features:\n",
    "    CFG.use_features.append(col+\"_count_encoding\")\n",
    "for col in CFG.max_encoding_features:\n",
    "    CFG.use_features.append(col+\"_max_encoding\")\n",
    "for col in CFG.min_encoding_features:\n",
    "    CFG.use_features.append(col+\"_min_encoding\")\n",
    "for col in CFG.std_encoding_features:\n",
    "    CFG.use_features.append(col+\"_std_encoding\")\n",
    "for col in CFG.median_encoding_features:            \n",
    "    CFG.use_features.append(col+\"_median_encoding\")"
   ]
  },
  {
   "cell_type": "code",
   "execution_count": 220,
   "metadata": {},
   "outputs": [
    {
     "name": "stderr",
     "output_type": "stream",
     "text": [
      "  0%|          | 0/100 [00:00<?, ?it/s]"
     ]
    },
    {
     "name": "stderr",
     "output_type": "stream",
     "text": [
      "Best trial: 72. Best value: 44.2089: 100%|██████████| 100/100 [20:55<00:00, 12.55s/it]"
     ]
    },
    {
     "name": "stdout",
     "output_type": "stream",
     "text": [
      "{'max_depth': 5, 'num_leaves': 97, 'alpha': 3.0259790706186402, 'lambda': 7.646516124349529, 'colsample_bytree': 0.22199279683162915, 'min_child_samples': 81, 'feature_fraction': 0.4670722972795847, 'bagging_fraction': 0.98728869364854, 'bagging_freq': 3} 44.20890187548654\n"
     ]
    },
    {
     "name": "stderr",
     "output_type": "stream",
     "text": [
      "\n"
     ]
    }
   ],
   "source": [
    "# ===================================================================\n",
    "#  model\n",
    "# ===================================================================\n",
    "if CFG.debug:\n",
    "    train = train.sample(n=100, ignore_index=True)\n",
    "    \n",
    "def objective(trial):\n",
    "    oof_df =  pd.DataFrame()\n",
    "    for fold in range(CFG.n_splits):\n",
    "        X_train = train[train[\"fold\"] != fold].reset_index(drop=True)\n",
    "        X_valid = train[train[\"fold\"] == fold].reset_index(drop=True)\n",
    "        \n",
    "        # odometerの補正\n",
    "        fillna_map = X_train[(X_train[\"odometer\"] > 100)&(X_train[\"odometer\"] < 400000)].groupby([\"year_map\"])[\"odometer\"].mean().reset_index()\n",
    "        def replace_odometer(df: pd.DataFrame, fillna_map: pd.DataFrame):\n",
    "            df_1 = df[(df[\"odometer\"] < 100)|(df[\"odometer\"] > 400000)].reset_index(drop=True)\n",
    "            df_2 = df[(df[\"odometer\"] >= 100)&(df[\"odometer\"] <= 400000)].reset_index(drop=True)\n",
    "            df_1.drop(\"odometer\", inplace=True, axis=1)\n",
    "            df_1 = pd.merge(df_1, fillna_map, on=\"year_map\", how=\"left\")\n",
    "            df = pd.concat([df_1, df_2])\n",
    "            return df.sort_values(\"id\", ignore_index=True)\n",
    "        X_train = replace_odometer(X_train, fillna_map)\n",
    "        X_valid = replace_odometer(X_valid, fillna_map)\n",
    "        \n",
    "        \"\"\"\n",
    "        def add_odometer_per_year(df: pd.DataFrame):\n",
    "            df[\"elapsed_year\"] = 2023 - df[\"year\"]\n",
    "            df[\"odometer_per_year\"] = df[\"odometer\"] / df[\"elapsed_year\"]\n",
    "            return df\n",
    "        X_train = add_odometer_per_year(X_train)\n",
    "        X_valid = add_odometer_per_year(X_valid) \n",
    "        test_df = add_odometer_per_year(test_df)\n",
    "        \"\"\"\n",
    "            \n",
    "        # CFG.target_encoding_features\n",
    "        for col in CFG.target_encoding_features:\n",
    "            mean_map = X_train.groupby(col)[\"price\"].mean()\n",
    "            X_train[col+\"_target_encoding\"] = X_train[col].map(mean_map)\n",
    "            X_valid[col+\"_target_encoding\"] = X_valid[col].map(mean_map)\n",
    "            \n",
    "        # CFG.count_encoding_features\n",
    "        for col in CFG.count_encoding_features:\n",
    "            count_map = X_train[col].value_counts().to_dict()\n",
    "            X_train[col+\"_count_encoding\"] = X_train[col].map(count_map)\n",
    "            X_valid[col+\"_count_encoding\"] = X_valid[col].map(count_map)\n",
    "                \n",
    "        # CFG.max_encoding_features\n",
    "        for col in CFG.max_encoding_features:\n",
    "            max_map = X_train.groupby(col)[\"price\"].max()\n",
    "            X_train[col+\"_max_encoding\"] = X_train[col].map(max_map)\n",
    "            X_valid[col+\"_max_encoding\"] = X_valid[col].map(max_map)\n",
    "                \n",
    "        # CFG.min_encoding_features\n",
    "        for col in CFG.min_encoding_features:\n",
    "            min_map = X_train.groupby(col)[\"price\"].min()\n",
    "            X_train[col+\"_min_encoding\"] = X_train[col].map(min_map)\n",
    "            X_valid[col+\"_min_encoding\"] = X_valid[col].map(min_map)\n",
    "                \n",
    "        # CFG.std_encoding_features\n",
    "        for col in CFG.std_encoding_features:\n",
    "            std_map = X_train.groupby(col)[\"price\"].std()\n",
    "            X_train[col+\"_std_encoding\"] = X_train[col].map(std_map)\n",
    "            X_valid[col+\"_std_encoding\"] = X_valid[col].map(std_map)\n",
    "                        \n",
    "        # CFG.median_encoding_features\n",
    "        for col in CFG.median_encoding_features:\n",
    "            median_map = X_train.groupby(col)[\"price\"].median()\n",
    "            X_train[col+\"_median_encoding\"] = X_train[col].map(median_map)\n",
    "            X_valid[col+\"_median_encoding\"] = X_valid[col].map(median_map)        \n",
    "        \n",
    "        # CFG.categorical_featuresをcategory型に変換\n",
    "        for col in CFG.categorical_features:\n",
    "            X_train[col] = X_train[col].astype(\"category\")\n",
    "            X_valid[col] = X_valid[col].astype(\"category\")\n",
    "\n",
    "        # train\n",
    "        lgb_train = lgb.Dataset(X_train[CFG.use_features], X_train[\"price\"], categorical_feature = CFG.categorical_features,)\n",
    "        lgb_valid = lgb.Dataset(X_valid[CFG.use_features], X_valid[\"price\"], categorical_feature = CFG.categorical_features,)\n",
    "\n",
    "        lgb_param = {\n",
    "            \"task\":\"train\",\n",
    "            \"objective\": \"mape\",\n",
    "            \"boosting\":\"gbdt\",\n",
    "            \"num_iterations\": CFG.num_boost_round,\n",
    "            \"learning_rate\": 0.1, # default: 0.1\n",
    "            \"min_child_weight\":1e-3, # double: minimal sum hessian in one leaf\n",
    "            \"subsample\":1, #0.0 < bagging_fraction <= 1.0\n",
    "            \"num_threads\":NUM_CORES,\n",
    "            \"metric\": 'mape',\n",
    "            \"seed\" : CFG.seed,\n",
    "            \"verbosity\": -1,   \n",
    "            \"max_depth\": trial.suggest_int(\"max_depth\", 1, 10),\n",
    "            \"num_leaves\": trial.suggest_int(\"num_leaves\", 2, 100), # < 2**\"max_depth\"\n",
    "            \"alpha\": trial.suggest_float(\"alpha\", 1e-6, 10),\n",
    "            \"lambda\": trial.suggest_float(\"lambda\", 1e-6, 10),\n",
    "            \"colsample_bytree\":trial.suggest_float(\"colsample_bytree\", 0, 1),\n",
    "            \"min_child_samples\": trial.suggest_int(\"min_child_samples\", 5, 100),\n",
    "            \"feature_fraction\": trial.suggest_float(\"feature_fraction\", 0.4, 1.0),\n",
    "            \"bagging_fraction\": trial.suggest_float(\"bagging_fraction\", 0.4, 1.0),\n",
    "            \"bagging_freq\": trial.suggest_int(\"bagging_freq\", 1, 7),\n",
    "        }\n",
    "\n",
    "        model = lgb.train(\n",
    "                        lgb_param, \n",
    "                        lgb_train, \n",
    "                        valid_sets=[lgb_valid],\n",
    "                        categorical_feature = CFG.categorical_features,\n",
    "                        callbacks=[lgb.early_stopping(stopping_rounds=CFG.stopping_rounds, verbose=False),],\n",
    "                        )\n",
    "        # eval\n",
    "        X_valid[f\"pred\"] = model.predict(X_valid[CFG.use_features], num_iteration=model.best_iteration)\n",
    "        # concat\n",
    "        oof_df = pd.concat([oof_df, X_valid], ignore_index=True)\n",
    "    return get_score(oof_df[\"price\"], oof_df[\"pred\"])\n",
    "    \n",
    "optuna.logging.set_verbosity(optuna.logging.WARNING)\n",
    "study = optuna.create_study(direction=\"minimize\",\n",
    "                            sampler=optuna.samplers.TPESampler(seed=CFG.seed))\n",
    "study.optimize(objective, \n",
    "                n_trials=CFG.n_trials,\n",
    "                show_progress_bar=True)\n",
    "\n",
    "best_params = study.best_params\n",
    "best_value = study.best_value\n",
    "print(best_params, best_value)"
   ]
  },
  {
   "cell_type": "code",
   "execution_count": 229,
   "metadata": {},
   "outputs": [],
   "source": [
    "from optuna.visualization import plot_parallel_coordinate\n",
    "from optuna.visualization import plot_param_importances"
   ]
  },
  {
   "cell_type": "code",
   "execution_count": 230,
   "metadata": {},
   "outputs": [
    {
     "ename": "ValueError",
     "evalue": "Mime type rendering requires nbformat>=4.2.0 but it is not installed",
     "output_type": "error",
     "traceback": [
      "\u001b[1;31m---------------------------------------------------------------------------\u001b[0m",
      "\u001b[1;31mValueError\u001b[0m                                Traceback (most recent call last)",
      "File \u001b[1;32m~\\AppData\\Roaming\\Python\\Python311\\site-packages\\IPython\\core\\formatters.py:922\u001b[0m, in \u001b[0;36mIPythonDisplayFormatter.__call__\u001b[1;34m(self, obj)\u001b[0m\n\u001b[0;32m    920\u001b[0m method \u001b[39m=\u001b[39m get_real_method(obj, \u001b[39mself\u001b[39m\u001b[39m.\u001b[39mprint_method)\n\u001b[0;32m    921\u001b[0m \u001b[39mif\u001b[39;00m method \u001b[39mis\u001b[39;00m \u001b[39mnot\u001b[39;00m \u001b[39mNone\u001b[39;00m:\n\u001b[1;32m--> 922\u001b[0m     method()\n\u001b[0;32m    923\u001b[0m     \u001b[39mreturn\u001b[39;00m \u001b[39mTrue\u001b[39;00m\n",
      "File \u001b[1;32mc:\\Users\\Komiyama Yuji\\AppData\\Local\\Programs\\Python\\Python311\\Lib\\site-packages\\plotly\\basedatatypes.py:834\u001b[0m, in \u001b[0;36mBaseFigure._ipython_display_\u001b[1;34m(self)\u001b[0m\n\u001b[0;32m    831\u001b[0m \u001b[39mimport\u001b[39;00m \u001b[39mplotly\u001b[39;00m\u001b[39m.\u001b[39;00m\u001b[39mio\u001b[39;00m \u001b[39mas\u001b[39;00m \u001b[39mpio\u001b[39;00m\n\u001b[0;32m    833\u001b[0m \u001b[39mif\u001b[39;00m pio\u001b[39m.\u001b[39mrenderers\u001b[39m.\u001b[39mrender_on_display \u001b[39mand\u001b[39;00m pio\u001b[39m.\u001b[39mrenderers\u001b[39m.\u001b[39mdefault:\n\u001b[1;32m--> 834\u001b[0m     pio\u001b[39m.\u001b[39;49mshow(\u001b[39mself\u001b[39;49m)\n\u001b[0;32m    835\u001b[0m \u001b[39melse\u001b[39;00m:\n\u001b[0;32m    836\u001b[0m     \u001b[39mprint\u001b[39m(\u001b[39mrepr\u001b[39m(\u001b[39mself\u001b[39m))\n",
      "File \u001b[1;32mc:\\Users\\Komiyama Yuji\\AppData\\Local\\Programs\\Python\\Python311\\Lib\\site-packages\\plotly\\io\\_renderers.py:396\u001b[0m, in \u001b[0;36mshow\u001b[1;34m(fig, renderer, validate, **kwargs)\u001b[0m\n\u001b[0;32m    391\u001b[0m         \u001b[39mraise\u001b[39;00m \u001b[39mValueError\u001b[39;00m(\n\u001b[0;32m    392\u001b[0m             \u001b[39m\"\u001b[39m\u001b[39mMime type rendering requires ipython but it is not installed\u001b[39m\u001b[39m\"\u001b[39m\n\u001b[0;32m    393\u001b[0m         )\n\u001b[0;32m    395\u001b[0m     \u001b[39mif\u001b[39;00m \u001b[39mnot\u001b[39;00m nbformat \u001b[39mor\u001b[39;00m Version(nbformat\u001b[39m.\u001b[39m__version__) \u001b[39m<\u001b[39m Version(\u001b[39m\"\u001b[39m\u001b[39m4.2.0\u001b[39m\u001b[39m\"\u001b[39m):\n\u001b[1;32m--> 396\u001b[0m         \u001b[39mraise\u001b[39;00m \u001b[39mValueError\u001b[39;00m(\n\u001b[0;32m    397\u001b[0m             \u001b[39m\"\u001b[39m\u001b[39mMime type rendering requires nbformat>=4.2.0 but it is not installed\u001b[39m\u001b[39m\"\u001b[39m\n\u001b[0;32m    398\u001b[0m         )\n\u001b[0;32m    400\u001b[0m     ipython_display\u001b[39m.\u001b[39mdisplay(bundle, raw\u001b[39m=\u001b[39m\u001b[39mTrue\u001b[39;00m)\n\u001b[0;32m    402\u001b[0m \u001b[39m# external renderers\u001b[39;00m\n",
      "\u001b[1;31mValueError\u001b[0m: Mime type rendering requires nbformat>=4.2.0 but it is not installed"
     ]
    },
    {
     "data": {
      "application/vnd.plotly.v1+json": {
       "config": {
        "plotlyServerURL": "https://plot.ly"
       },
       "data": [
        {
         "dimensions": [
          {
           "label": "Objective Value",
           "range": [
            44.20890187548654,
            46.367573863616656
           ],
           "values": [
            44.26613191730135,
            45.02595587682659,
            44.3507389885141,
            44.38430020649219,
            44.418205242699,
            44.327342550037756,
            44.442141457015346,
            44.32869307991435,
            46.367573863616656,
            44.40978282279831,
            44.47992054012187,
            44.61304079800378,
            44.36020059537444,
            44.373764528891904,
            44.5395356233537,
            44.314663049064286,
            44.35348476325762,
            44.36271920065812,
            44.55213525788126,
            46.300811275935985,
            44.351285682643024,
            44.435519914370616,
            44.265832533382344,
            44.339290896284766,
            44.88094302258532,
            44.50467734916339,
            44.64835603322172,
            44.382850517492415,
            44.384499126099364,
            44.49817640049199,
            44.399062855017576,
            44.373601970793494,
            44.50824253106697,
            44.308260756203566,
            44.36919569080932,
            44.51017091086822,
            44.33667785196861,
            44.428516170458124,
            44.33580766594878,
            44.29610159158736,
            44.305054775659755,
            44.29244779011677,
            44.32581835637505,
            44.27736948785386,
            44.425281993826786,
            44.30550661113876,
            44.38370702918657,
            44.37172260200653,
            44.264447318962304,
            44.30355219670758,
            44.366254610670225,
            44.378070373083276,
            44.31774320028066,
            44.2566233586265,
            44.230726389720026,
            44.31598094137389,
            44.24205464287048,
            44.35209651162046,
            44.24495402041233,
            44.26200509604406,
            44.59993498878382,
            44.349131753798396,
            44.29349310178346,
            44.26997983168163,
            44.41449467649419,
            44.28730213561426,
            44.25107407134262,
            44.34539163497779,
            44.3075681882151,
            44.28663551979785,
            44.31969448860214,
            44.30523704097535,
            44.20890187548654,
            44.29855465355128,
            44.29168343763577,
            44.29371218925505,
            44.292049304641985,
            44.25195629470676,
            44.38570193041323,
            44.29648516462272,
            44.24275242779013,
            44.26204026890642,
            44.28217759512446,
            44.23107120959496,
            44.24315414534964,
            44.2209761407907,
            44.223314420925774,
            44.29378197708056,
            44.28709533155107,
            44.27777448977976,
            44.26597361752531,
            44.248030217267065,
            44.24402536673639,
            44.274638127775056,
            44.30857733484811,
            44.30201775381615,
            44.27609303711784,
            44.20909436811753,
            44.2784071705402,
            44.33453878783728
           ]
          },
          {
           "label": "alpha",
           "range": [
            0.045296428749976414,
            9.705168446912442
           ],
           "values": [
            7.31993968612011,
            9.69909855171009,
            6.1185293353709005,
            0.46450508074956454,
            6.842330580888543,
            5.200680691710088,
            0.884925932026693,
            5.426961288886402,
            7.068573731618828,
            0.6355844393018861,
            3.177322125807078,
            4.072251292579902,
            8.118882334891053,
            4.565434109966272,
            8.106416397027234,
            3.1478811679570398,
            2.744650777837532,
            2.285537486227825,
            3.7699603306678156,
            1.9037196260561495,
            4.619514006370311,
            5.406430588546718,
            3.4175029743819403,
            3.624526988594668,
            2.0341432093350487,
            2.848603055598944,
            4.00726501299396,
            1.3770786155803123,
            3.2432386236183497,
            9.705168446912442,
            4.500334551552887,
            5.659487220737763,
            5.010053761034512,
            6.164939230944935,
            5.947975053390385,
            6.462934435341695,
            6.082031477302849,
            7.127613051628342,
            4.914966037170723,
            0.2283941030485539,
            0.04842567598394387,
            0.47968907902112284,
            0.37699733943491864,
            0.05814605278934797,
            1.0295360442073904,
            1.236687678155974,
            0.045296428749976414,
            0.6972164401666754,
            1.414244836818616,
            1.5967325067352376,
            0.8009557919953982,
            1.1617219579563787,
            0.40238892425925643,
            1.5805819203121927,
            1.5400571926784374,
            1.6909505807188654,
            2.2734487857427745,
            2.1169540526941844,
            2.1755594073208986,
            2.3982950170173827,
            2.463646991491373,
            1.7814865186871234,
            2.5260846067352465,
            2.281346400779565,
            1.5838098445793563,
            1.9397970545711194,
            2.784196605913623,
            2.8560364400450218,
            1.4373804702081376,
            1.015447306673227,
            2.1150545516784764,
            2.5265234053093217,
            3.0259790706186402,
            2.8630811188917105,
            1.8349555792993577,
            1.4524057030671427,
            3.073455783007327,
            2.3783699682761092,
            2.3461736784605307,
            2.698034591012149,
            3.364934631113498,
            3.4092667453262298,
            3.115167614783119,
            2.2106919742501887,
            2.20606722263178,
            2.1216453999566918,
            2.6694087672241906,
            2.088319729644209,
            3.641634014102686,
            1.852089975616689,
            2.6827852763635427,
            2.9807503817625967,
            3.0220335745024194,
            2.2455541004281767,
            3.3470409549040454,
            2.61250828316427,
            3.1910367440224836,
            2.1453802989768396,
            1.965815905682995,
            2.986427846996275
           ]
          },
          {
           "label": "bagging_fraction",
           "range": [
            0.4695214357150779,
            0.9997370010210894
           ],
           "values": [
            0.9197056874649611,
            0.5825453457757226,
            0.8711055768358081,
            0.9793792198447356,
            0.9455922412472693,
            0.9636993649385135,
            0.5628094190643376,
            0.8633468615779945,
            0.4695214357150779,
            0.932327645545796,
            0.7740259111776793,
            0.9965143675475727,
            0.7789849317983945,
            0.8577881304845949,
            0.7423078087817518,
            0.9991876335952369,
            0.8892838006291816,
            0.999587038732524,
            0.6808149578508481,
            0.8227926068043568,
            0.9200883090509623,
            0.9369552558412391,
            0.9984818970885843,
            0.9159516357407355,
            0.9982414977657855,
            0.9423140247540576,
            0.9013504658653821,
            0.8347486056890672,
            0.8953875506067501,
            0.9643654122070866,
            0.9574222104676224,
            0.9645482813909818,
            0.9674955265743832,
            0.9997370010210894,
            0.9091334331270637,
            0.9970786864030147,
            0.8780423602337639,
            0.9423948354917683,
            0.9716247257338924,
            0.9284463757532526,
            0.8606300031554119,
            0.925841996730172,
            0.8668971526889194,
            0.9243520440709283,
            0.9254607775589998,
            0.9132329171227676,
            0.9411632536737653,
            0.88345332509868,
            0.8302309107543412,
            0.8430512300043952,
            0.8275315501213181,
            0.8894584198435438,
            0.9541647976012325,
            0.9260896870083998,
            0.9742389181390729,
            0.9763161608735873,
            0.977670007834245,
            0.9792175312471751,
            0.951285262108905,
            0.9788030399961961,
            0.9537867592439175,
            0.987540843390752,
            0.9770000174490728,
            0.9558242735945919,
            0.9001207136077677,
            0.9467745827257573,
            0.9807284713821851,
            0.981535732797023,
            0.9067307807262719,
            0.9389245796214958,
            0.9647302832621777,
            0.9811947431416321,
            0.98728869364854,
            0.9548818676602864,
            0.9867031542147506,
            0.9339878899714148,
            0.9679886671376365,
            0.9147784397420529,
            0.9124598948778029,
            0.9403964697571944,
            0.997951443811916,
            0.997051061898194,
            0.9641489630415879,
            0.9848705331995622,
            0.9873555531316862,
            0.9892708205205505,
            0.9992080194635914,
            0.9929803538079469,
            0.9654747440548928,
            0.9982914429344134,
            0.9502623738496369,
            0.9841757812799813,
            0.9890024635497492,
            0.9706569969770917,
            0.9909072261149323,
            0.951333364038866,
            0.9691470963321818,
            0.9869146437817662,
            0.9972737170371441,
            0.985657070664546
           ]
          },
          {
           "label": "bagging_freq",
           "range": [
            1,
            7
           ],
           "values": [
            5,
            4,
            2,
            6,
            2,
            7,
            6,
            2,
            7,
            4,
            5,
            7,
            5,
            5,
            3,
            6,
            6,
            3,
            5,
            1,
            6,
            7,
            7,
            6,
            5,
            7,
            6,
            4,
            6,
            4,
            7,
            7,
            7,
            6,
            6,
            5,
            6,
            5,
            4,
            6,
            7,
            7,
            7,
            7,
            7,
            7,
            7,
            6,
            5,
            3,
            5,
            5,
            6,
            7,
            7,
            1,
            3,
            2,
            3,
            3,
            3,
            3,
            2,
            3,
            2,
            4,
            3,
            3,
            2,
            4,
            3,
            3,
            3,
            3,
            2,
            3,
            4,
            4,
            4,
            3,
            4,
            4,
            3,
            3,
            4,
            4,
            4,
            4,
            4,
            4,
            4,
            3,
            4,
            4,
            4,
            4,
            4,
            5,
            5,
            5
           ]
          },
          {
           "label": "colsample_bytree",
           "range": [
            0.0005339474397725863,
            0.8021969807540397
           ],
           "values": [
            0.15601864044243652,
            0.21233911067827616,
            0.29214464853521815,
            0.17052412368729153,
            0.12203823484477883,
            0.18485445552552704,
            0.045227288910538066,
            0.8021969807540397,
            0.7712703466859457,
            0.32518332202674705,
            0.5025312176747964,
            0.05353757815544402,
            0.36306940056743026,
            0.005059782205534352,
            0.413414099692713,
            0.20799541072729683,
            0.4816563701627079,
            0.24924192834529788,
            0.11810406985098587,
            0.5936216648840692,
            0.2731725619484715,
            0.18984370043381765,
            0.1112271159575583,
            0.09941750363166746,
            0.026389906619499914,
            0.14064671976185683,
            0.2555366235349953,
            0.0005339474397725863,
            0.09575138503109046,
            0.23836676563828596,
            0.18754106958586853,
            0.19461516002781903,
            0.32561636618709855,
            0.16422483302601676,
            0.08699879477897737,
            0.1519307182373177,
            0.23190682497258802,
            0.15730478443330856,
            0.06596444471520745,
            0.13399166375833044,
            0.11811460040158994,
            0.12668691367097684,
            0.06306146130636225,
            0.11433339034977416,
            0.047247753296695075,
            0.13071116753940287,
            0.038268139868481044,
            0.2892932353615438,
            0.09140646474643262,
            0.22092177942079136,
            0.08030886187510089,
            0.12642632532055287,
            0.003782540070350185,
            0.17362126977114148,
            0.17622927450110096,
            0.1781082613221281,
            0.21523896142979804,
            0.20584857197255563,
            0.268844445893998,
            0.30719999089717664,
            0.2658695839077458,
            0.29865343818921064,
            0.22682364587307952,
            0.33582133207950654,
            0.17088882135409322,
            0.3681286540312066,
            0.2721451441002152,
            0.253667261572389,
            0.2996040883103251,
            0.20652738974598592,
            0.2762010734288135,
            0.17060728127441652,
            0.22199279683162915,
            0.2364191411072588,
            0.2084796792673203,
            0.24572774464491215,
            0.15147374279337855,
            0.19201984086148283,
            0.2679753849290147,
            0.309427173968878,
            0.18351587034815403,
            0.190858333421885,
            0.22314065402947098,
            0.1866995941496138,
            0.15622890264163902,
            0.15317171096248813,
            0.15327247969471786,
            0.14345539412625144,
            0.10731975244654245,
            0.14962083648347616,
            0.06669443003092823,
            0.2161057970076296,
            0.20453400311589848,
            0.15840816564946003,
            0.1027490798804173,
            0.18806590150460167,
            0.2434524920839451,
            0.13923901735010571,
            0.0862852199303866,
            0.1336985509734188
           ]
          },
          {
           "label": "feature_fraction",
           "range": [
            0.4008700070756521,
            0.9921321619603104
           ],
           "values": [
            0.4348501673009197,
            0.5100427059120604,
            0.6736419905302216,
            0.9693313223519999,
            0.42063311266913106,
            0.8650796940166687,
            0.6332063738136893,
            0.9921321619603104,
            0.6150794371265635,
            0.7825344828131279,
            0.40908654226165414,
            0.8255046987084346,
            0.5249681596652943,
            0.7980438571671898,
            0.8780938131142046,
            0.7375837746828967,
            0.746275627121249,
            0.7144856522817241,
            0.5710789603720413,
            0.6876119064341457,
            0.4832619636583593,
            0.8563577551886266,
            0.735921305357069,
            0.6412141774758775,
            0.7368900976666511,
            0.5830058011541122,
            0.6865475693429461,
            0.7424502587175147,
            0.66586175368912,
            0.49020018916869673,
            0.7112319742835453,
            0.7820255718423798,
            0.9236063141716413,
            0.8483515527470511,
            0.8184737089261643,
            0.7775183987242034,
            0.6693944258196824,
            0.455523922501682,
            0.5331415946439793,
            0.7546958689088018,
            0.4008700070756521,
            0.4302492471762759,
            0.40656181796993807,
            0.43204033368750566,
            0.42747035119964294,
            0.4439739466160631,
            0.4599160201081638,
            0.4414728185307831,
            0.426111137953953,
            0.4791092926798009,
            0.42606463139736966,
            0.5053822994671855,
            0.4574667097419035,
            0.430390639343767,
            0.42853567509907375,
            0.406766908863416,
            0.4632648029196641,
            0.4770348399229642,
            0.46675249619533643,
            0.5097394967947592,
            0.5199445024973516,
            0.47087598339390546,
            0.4509660295456932,
            0.5049074530949783,
            0.41606114261123844,
            0.5392807443561489,
            0.502368460632272,
            0.4899449156105249,
            0.46886596190905294,
            0.49711813846946284,
            0.44483136502303594,
            0.4205483379778224,
            0.4670722972795847,
            0.4638557253935609,
            0.5142838562806438,
            0.48548691686178597,
            0.43758189497321154,
            0.539141718368751,
            0.5459073570433265,
            0.4974169046718454,
            0.558155140609239,
            0.5543824648124211,
            0.5110553597846814,
            0.526753072038413,
            0.5331510189726362,
            0.5250275209321329,
            0.5261477018465706,
            0.5301915782081995,
            0.5683173908348137,
            0.5934506930923926,
            0.5302097120324003,
            0.4843172104855176,
            0.5210375949726761,
            0.5212792102310018,
            0.5475158811596395,
            0.5569628559120734,
            0.5209186934840971,
            0.47460714683597927,
            0.4927558000126522,
            0.5623941121480248
           ]
          },
          {
           "label": "lambda",
           "range": [
            0.04685731490615448,
            9.69693463915128
           ],
           "values": [
            5.9865852433118825,
            8.324426575561576,
            1.3949394670265578,
            6.0754489114695325,
            4.40152549724352,
            5.467103246722518,
            1.9598294282085895,
            1.4092431088234014,
            7.290071951402706,
            3.1098239061743005,
            9.322903486827535,
            5.423144543084375,
            6.58814003188102,
            4.381302236781178,
            7.380983683163985,
            0.10989288144852694,
            0.04685731490615448,
            3.575581347729561,
            0.06542180376277607,
            3.01030563222218,
            4.325073836259271,
            5.762335494100566,
            5.145586416552905,
            5.153393505897634,
            7.002383271271844,
            4.850276391584219,
            6.140709488163226,
            3.7408752640673972,
            6.552882597828336,
            7.923992949509288,
            8.717187345470863,
            5.5431488162283316,
            5.032599079210779,
            6.036215590402632,
            6.059307125224936,
            6.40303261405777,
            4.7170149646325195,
            7.893390229758678,
            5.5712652492401675,
            6.937818236387808,
            6.909653822146368,
            6.665828418076071,
            7.044963730380966,
            6.757016373726822,
            7.576116708885911,
            6.693626585554315,
            6.201124200964282,
            7.291159987273863,
            6.663877086365325,
            5.843445365789423,
            6.6111390899220215,
            6.386037242837815,
            5.360483060039332,
            6.932678453481653,
            7.608116988724246,
            8.355454724349704,
            7.603924103490517,
            7.550567422439524,
            7.292470388900721,
            8.903638793678716,
            9.383450484937487,
            8.915163875554098,
            9.69693463915128,
            8.114545519520252,
            7.675606533944866,
            8.388143493674383,
            7.489880075839772,
            7.326595874968607,
            7.84169462353307,
            7.190460367103964,
            8.112572966429873,
            7.26114756563111,
            7.646516124349529,
            7.5942031479204894,
            8.605006154286691,
            7.8267085231069835,
            8.103304350833206,
            7.452409238434383,
            8.852117742387037,
            7.511698979058752,
            7.0459229439325615,
            7.070075059910604,
            7.371037442448027,
            6.97062092953781,
            6.955428960316583,
            7.722140161016935,
            7.82241051539538,
            7.721288388996517,
            7.100997855615312,
            7.978392949304747,
            6.909372345388704,
            7.734032419381153,
            7.814781885710721,
            8.126798957180933,
            6.386199572217883,
            8.374416265646634,
            7.213064685185137,
            6.8522998176035195,
            6.928131269636145,
            6.786363449107558
           ]
          },
          {
           "label": "max_depth",
           "range": [
            1,
            10
           ],
           "values": [
            4,
            8,
            5,
            6,
            4,
            7,
            6,
            4,
            1,
            7,
            10,
            2,
            9,
            3,
            7,
            5,
            4,
            3,
            5,
            1,
            3,
            7,
            5,
            5,
            4,
            6,
            2,
            5,
            3,
            8,
            6,
            8,
            7,
            5,
            5,
            4,
            5,
            6,
            4,
            6,
            6,
            6,
            6,
            7,
            8,
            7,
            7,
            9,
            6,
            4,
            9,
            6,
            7,
            6,
            5,
            5,
            4,
            3,
            4,
            4,
            2,
            4,
            4,
            5,
            3,
            4,
            5,
            3,
            4,
            5,
            4,
            5,
            5,
            5,
            6,
            5,
            4,
            5,
            3,
            4,
            5,
            5,
            5,
            5,
            5,
            5,
            5,
            5,
            5,
            4,
            6,
            5,
            5,
            5,
            5,
            4,
            6,
            4,
            5,
            5
           ]
          },
          {
           "label": "min_child_samples",
           "range": [
            7,
            100
           ],
           "values": [
            19,
            22,
            40,
            11,
            52,
            98,
            36,
            12,
            12,
            75,
            71,
            96,
            93,
            67,
            32,
            54,
            54,
            56,
            46,
            25,
            82,
            86,
            60,
            62,
            44,
            28,
            60,
            48,
            19,
            77,
            65,
            100,
            37,
            90,
            90,
            18,
            50,
            42,
            7,
            58,
            71,
            72,
            71,
            78,
            79,
            67,
            60,
            83,
            74,
            73,
            79,
            57,
            65,
            74,
            74,
            75,
            84,
            86,
            84,
            83,
            96,
            83,
            81,
            88,
            94,
            67,
            86,
            85,
            91,
            75,
            87,
            76,
            81,
            80,
            84,
            93,
            81,
            69,
            91,
            88,
            69,
            68,
            63,
            69,
            70,
            70,
            70,
            63,
            69,
            77,
            71,
            65,
            65,
            70,
            53,
            73,
            65,
            78,
            61,
            78
           ]
          },
          {
           "label": "num_leaves",
           "range": [
            3,
            100
           ],
           "values": [
            96,
            4,
            30,
            60,
            11,
            32,
            93,
            29,
            82,
            34,
            69,
            46,
            95,
            52,
            77,
            21,
            16,
            45,
            16,
            62,
            100,
            37,
            24,
            21,
            3,
            20,
            24,
            43,
            84,
            9,
            55,
            38,
            27,
            34,
            42,
            10,
            30,
            16,
            25,
            61,
            70,
            65,
            69,
            63,
            61,
            75,
            55,
            81,
            88,
            93,
            89,
            65,
            87,
            99,
            97,
            100,
            98,
            96,
            90,
            92,
            90,
            93,
            97,
            85,
            80,
            91,
            100,
            98,
            94,
            100,
            85,
            89,
            97,
            96,
            92,
            98,
            87,
            76,
            79,
            75,
            95,
            95,
            100,
            92,
            83,
            82,
            83,
            84,
            82,
            78,
            86,
            72,
            73,
            83,
            91,
            95,
            89,
            94,
            97,
            72
           ]
          }
         ],
         "labelangle": 30,
         "labelside": "bottom",
         "line": {
          "color": [
           44.26613191730135,
           45.02595587682659,
           44.3507389885141,
           44.38430020649219,
           44.418205242699,
           44.327342550037756,
           44.442141457015346,
           44.32869307991435,
           46.367573863616656,
           44.40978282279831,
           44.47992054012187,
           44.61304079800378,
           44.36020059537444,
           44.373764528891904,
           44.5395356233537,
           44.314663049064286,
           44.35348476325762,
           44.36271920065812,
           44.55213525788126,
           46.300811275935985,
           44.351285682643024,
           44.435519914370616,
           44.265832533382344,
           44.339290896284766,
           44.88094302258532,
           44.50467734916339,
           44.64835603322172,
           44.382850517492415,
           44.384499126099364,
           44.49817640049199,
           44.399062855017576,
           44.373601970793494,
           44.50824253106697,
           44.308260756203566,
           44.36919569080932,
           44.51017091086822,
           44.33667785196861,
           44.428516170458124,
           44.33580766594878,
           44.29610159158736,
           44.305054775659755,
           44.29244779011677,
           44.32581835637505,
           44.27736948785386,
           44.425281993826786,
           44.30550661113876,
           44.38370702918657,
           44.37172260200653,
           44.264447318962304,
           44.30355219670758,
           44.366254610670225,
           44.378070373083276,
           44.31774320028066,
           44.2566233586265,
           44.230726389720026,
           44.31598094137389,
           44.24205464287048,
           44.35209651162046,
           44.24495402041233,
           44.26200509604406,
           44.59993498878382,
           44.349131753798396,
           44.29349310178346,
           44.26997983168163,
           44.41449467649419,
           44.28730213561426,
           44.25107407134262,
           44.34539163497779,
           44.3075681882151,
           44.28663551979785,
           44.31969448860214,
           44.30523704097535,
           44.20890187548654,
           44.29855465355128,
           44.29168343763577,
           44.29371218925505,
           44.292049304641985,
           44.25195629470676,
           44.38570193041323,
           44.29648516462272,
           44.24275242779013,
           44.26204026890642,
           44.28217759512446,
           44.23107120959496,
           44.24315414534964,
           44.2209761407907,
           44.223314420925774,
           44.29378197708056,
           44.28709533155107,
           44.27777448977976,
           44.26597361752531,
           44.248030217267065,
           44.24402536673639,
           44.274638127775056,
           44.30857733484811,
           44.30201775381615,
           44.27609303711784,
           44.20909436811753,
           44.2784071705402,
           44.33453878783728
          ],
          "colorbar": {
           "title": {
            "text": "Objective Value"
           }
          },
          "colorscale": [
           [
            0,
            "rgb(247,251,255)"
           ],
           [
            0.125,
            "rgb(222,235,247)"
           ],
           [
            0.25,
            "rgb(198,219,239)"
           ],
           [
            0.375,
            "rgb(158,202,225)"
           ],
           [
            0.5,
            "rgb(107,174,214)"
           ],
           [
            0.625,
            "rgb(66,146,198)"
           ],
           [
            0.75,
            "rgb(33,113,181)"
           ],
           [
            0.875,
            "rgb(8,81,156)"
           ],
           [
            1,
            "rgb(8,48,107)"
           ]
          ],
          "reversescale": true,
          "showscale": true
         },
         "type": "parcoords"
        }
       ],
       "layout": {
        "template": {
         "data": {
          "bar": [
           {
            "error_x": {
             "color": "#2a3f5f"
            },
            "error_y": {
             "color": "#2a3f5f"
            },
            "marker": {
             "line": {
              "color": "#E5ECF6",
              "width": 0.5
             },
             "pattern": {
              "fillmode": "overlay",
              "size": 10,
              "solidity": 0.2
             }
            },
            "type": "bar"
           }
          ],
          "barpolar": [
           {
            "marker": {
             "line": {
              "color": "#E5ECF6",
              "width": 0.5
             },
             "pattern": {
              "fillmode": "overlay",
              "size": 10,
              "solidity": 0.2
             }
            },
            "type": "barpolar"
           }
          ],
          "carpet": [
           {
            "aaxis": {
             "endlinecolor": "#2a3f5f",
             "gridcolor": "white",
             "linecolor": "white",
             "minorgridcolor": "white",
             "startlinecolor": "#2a3f5f"
            },
            "baxis": {
             "endlinecolor": "#2a3f5f",
             "gridcolor": "white",
             "linecolor": "white",
             "minorgridcolor": "white",
             "startlinecolor": "#2a3f5f"
            },
            "type": "carpet"
           }
          ],
          "choropleth": [
           {
            "colorbar": {
             "outlinewidth": 0,
             "ticks": ""
            },
            "type": "choropleth"
           }
          ],
          "contour": [
           {
            "colorbar": {
             "outlinewidth": 0,
             "ticks": ""
            },
            "colorscale": [
             [
              0,
              "#0d0887"
             ],
             [
              0.1111111111111111,
              "#46039f"
             ],
             [
              0.2222222222222222,
              "#7201a8"
             ],
             [
              0.3333333333333333,
              "#9c179e"
             ],
             [
              0.4444444444444444,
              "#bd3786"
             ],
             [
              0.5555555555555556,
              "#d8576b"
             ],
             [
              0.6666666666666666,
              "#ed7953"
             ],
             [
              0.7777777777777778,
              "#fb9f3a"
             ],
             [
              0.8888888888888888,
              "#fdca26"
             ],
             [
              1,
              "#f0f921"
             ]
            ],
            "type": "contour"
           }
          ],
          "contourcarpet": [
           {
            "colorbar": {
             "outlinewidth": 0,
             "ticks": ""
            },
            "type": "contourcarpet"
           }
          ],
          "heatmap": [
           {
            "colorbar": {
             "outlinewidth": 0,
             "ticks": ""
            },
            "colorscale": [
             [
              0,
              "#0d0887"
             ],
             [
              0.1111111111111111,
              "#46039f"
             ],
             [
              0.2222222222222222,
              "#7201a8"
             ],
             [
              0.3333333333333333,
              "#9c179e"
             ],
             [
              0.4444444444444444,
              "#bd3786"
             ],
             [
              0.5555555555555556,
              "#d8576b"
             ],
             [
              0.6666666666666666,
              "#ed7953"
             ],
             [
              0.7777777777777778,
              "#fb9f3a"
             ],
             [
              0.8888888888888888,
              "#fdca26"
             ],
             [
              1,
              "#f0f921"
             ]
            ],
            "type": "heatmap"
           }
          ],
          "heatmapgl": [
           {
            "colorbar": {
             "outlinewidth": 0,
             "ticks": ""
            },
            "colorscale": [
             [
              0,
              "#0d0887"
             ],
             [
              0.1111111111111111,
              "#46039f"
             ],
             [
              0.2222222222222222,
              "#7201a8"
             ],
             [
              0.3333333333333333,
              "#9c179e"
             ],
             [
              0.4444444444444444,
              "#bd3786"
             ],
             [
              0.5555555555555556,
              "#d8576b"
             ],
             [
              0.6666666666666666,
              "#ed7953"
             ],
             [
              0.7777777777777778,
              "#fb9f3a"
             ],
             [
              0.8888888888888888,
              "#fdca26"
             ],
             [
              1,
              "#f0f921"
             ]
            ],
            "type": "heatmapgl"
           }
          ],
          "histogram": [
           {
            "marker": {
             "pattern": {
              "fillmode": "overlay",
              "size": 10,
              "solidity": 0.2
             }
            },
            "type": "histogram"
           }
          ],
          "histogram2d": [
           {
            "colorbar": {
             "outlinewidth": 0,
             "ticks": ""
            },
            "colorscale": [
             [
              0,
              "#0d0887"
             ],
             [
              0.1111111111111111,
              "#46039f"
             ],
             [
              0.2222222222222222,
              "#7201a8"
             ],
             [
              0.3333333333333333,
              "#9c179e"
             ],
             [
              0.4444444444444444,
              "#bd3786"
             ],
             [
              0.5555555555555556,
              "#d8576b"
             ],
             [
              0.6666666666666666,
              "#ed7953"
             ],
             [
              0.7777777777777778,
              "#fb9f3a"
             ],
             [
              0.8888888888888888,
              "#fdca26"
             ],
             [
              1,
              "#f0f921"
             ]
            ],
            "type": "histogram2d"
           }
          ],
          "histogram2dcontour": [
           {
            "colorbar": {
             "outlinewidth": 0,
             "ticks": ""
            },
            "colorscale": [
             [
              0,
              "#0d0887"
             ],
             [
              0.1111111111111111,
              "#46039f"
             ],
             [
              0.2222222222222222,
              "#7201a8"
             ],
             [
              0.3333333333333333,
              "#9c179e"
             ],
             [
              0.4444444444444444,
              "#bd3786"
             ],
             [
              0.5555555555555556,
              "#d8576b"
             ],
             [
              0.6666666666666666,
              "#ed7953"
             ],
             [
              0.7777777777777778,
              "#fb9f3a"
             ],
             [
              0.8888888888888888,
              "#fdca26"
             ],
             [
              1,
              "#f0f921"
             ]
            ],
            "type": "histogram2dcontour"
           }
          ],
          "mesh3d": [
           {
            "colorbar": {
             "outlinewidth": 0,
             "ticks": ""
            },
            "type": "mesh3d"
           }
          ],
          "parcoords": [
           {
            "line": {
             "colorbar": {
              "outlinewidth": 0,
              "ticks": ""
             }
            },
            "type": "parcoords"
           }
          ],
          "pie": [
           {
            "automargin": true,
            "type": "pie"
           }
          ],
          "scatter": [
           {
            "fillpattern": {
             "fillmode": "overlay",
             "size": 10,
             "solidity": 0.2
            },
            "type": "scatter"
           }
          ],
          "scatter3d": [
           {
            "line": {
             "colorbar": {
              "outlinewidth": 0,
              "ticks": ""
             }
            },
            "marker": {
             "colorbar": {
              "outlinewidth": 0,
              "ticks": ""
             }
            },
            "type": "scatter3d"
           }
          ],
          "scattercarpet": [
           {
            "marker": {
             "colorbar": {
              "outlinewidth": 0,
              "ticks": ""
             }
            },
            "type": "scattercarpet"
           }
          ],
          "scattergeo": [
           {
            "marker": {
             "colorbar": {
              "outlinewidth": 0,
              "ticks": ""
             }
            },
            "type": "scattergeo"
           }
          ],
          "scattergl": [
           {
            "marker": {
             "colorbar": {
              "outlinewidth": 0,
              "ticks": ""
             }
            },
            "type": "scattergl"
           }
          ],
          "scattermapbox": [
           {
            "marker": {
             "colorbar": {
              "outlinewidth": 0,
              "ticks": ""
             }
            },
            "type": "scattermapbox"
           }
          ],
          "scatterpolar": [
           {
            "marker": {
             "colorbar": {
              "outlinewidth": 0,
              "ticks": ""
             }
            },
            "type": "scatterpolar"
           }
          ],
          "scatterpolargl": [
           {
            "marker": {
             "colorbar": {
              "outlinewidth": 0,
              "ticks": ""
             }
            },
            "type": "scatterpolargl"
           }
          ],
          "scatterternary": [
           {
            "marker": {
             "colorbar": {
              "outlinewidth": 0,
              "ticks": ""
             }
            },
            "type": "scatterternary"
           }
          ],
          "surface": [
           {
            "colorbar": {
             "outlinewidth": 0,
             "ticks": ""
            },
            "colorscale": [
             [
              0,
              "#0d0887"
             ],
             [
              0.1111111111111111,
              "#46039f"
             ],
             [
              0.2222222222222222,
              "#7201a8"
             ],
             [
              0.3333333333333333,
              "#9c179e"
             ],
             [
              0.4444444444444444,
              "#bd3786"
             ],
             [
              0.5555555555555556,
              "#d8576b"
             ],
             [
              0.6666666666666666,
              "#ed7953"
             ],
             [
              0.7777777777777778,
              "#fb9f3a"
             ],
             [
              0.8888888888888888,
              "#fdca26"
             ],
             [
              1,
              "#f0f921"
             ]
            ],
            "type": "surface"
           }
          ],
          "table": [
           {
            "cells": {
             "fill": {
              "color": "#EBF0F8"
             },
             "line": {
              "color": "white"
             }
            },
            "header": {
             "fill": {
              "color": "#C8D4E3"
             },
             "line": {
              "color": "white"
             }
            },
            "type": "table"
           }
          ]
         },
         "layout": {
          "annotationdefaults": {
           "arrowcolor": "#2a3f5f",
           "arrowhead": 0,
           "arrowwidth": 1
          },
          "autotypenumbers": "strict",
          "coloraxis": {
           "colorbar": {
            "outlinewidth": 0,
            "ticks": ""
           }
          },
          "colorscale": {
           "diverging": [
            [
             0,
             "#8e0152"
            ],
            [
             0.1,
             "#c51b7d"
            ],
            [
             0.2,
             "#de77ae"
            ],
            [
             0.3,
             "#f1b6da"
            ],
            [
             0.4,
             "#fde0ef"
            ],
            [
             0.5,
             "#f7f7f7"
            ],
            [
             0.6,
             "#e6f5d0"
            ],
            [
             0.7,
             "#b8e186"
            ],
            [
             0.8,
             "#7fbc41"
            ],
            [
             0.9,
             "#4d9221"
            ],
            [
             1,
             "#276419"
            ]
           ],
           "sequential": [
            [
             0,
             "#0d0887"
            ],
            [
             0.1111111111111111,
             "#46039f"
            ],
            [
             0.2222222222222222,
             "#7201a8"
            ],
            [
             0.3333333333333333,
             "#9c179e"
            ],
            [
             0.4444444444444444,
             "#bd3786"
            ],
            [
             0.5555555555555556,
             "#d8576b"
            ],
            [
             0.6666666666666666,
             "#ed7953"
            ],
            [
             0.7777777777777778,
             "#fb9f3a"
            ],
            [
             0.8888888888888888,
             "#fdca26"
            ],
            [
             1,
             "#f0f921"
            ]
           ],
           "sequentialminus": [
            [
             0,
             "#0d0887"
            ],
            [
             0.1111111111111111,
             "#46039f"
            ],
            [
             0.2222222222222222,
             "#7201a8"
            ],
            [
             0.3333333333333333,
             "#9c179e"
            ],
            [
             0.4444444444444444,
             "#bd3786"
            ],
            [
             0.5555555555555556,
             "#d8576b"
            ],
            [
             0.6666666666666666,
             "#ed7953"
            ],
            [
             0.7777777777777778,
             "#fb9f3a"
            ],
            [
             0.8888888888888888,
             "#fdca26"
            ],
            [
             1,
             "#f0f921"
            ]
           ]
          },
          "colorway": [
           "#636efa",
           "#EF553B",
           "#00cc96",
           "#ab63fa",
           "#FFA15A",
           "#19d3f3",
           "#FF6692",
           "#B6E880",
           "#FF97FF",
           "#FECB52"
          ],
          "font": {
           "color": "#2a3f5f"
          },
          "geo": {
           "bgcolor": "white",
           "lakecolor": "white",
           "landcolor": "#E5ECF6",
           "showlakes": true,
           "showland": true,
           "subunitcolor": "white"
          },
          "hoverlabel": {
           "align": "left"
          },
          "hovermode": "closest",
          "mapbox": {
           "style": "light"
          },
          "paper_bgcolor": "white",
          "plot_bgcolor": "#E5ECF6",
          "polar": {
           "angularaxis": {
            "gridcolor": "white",
            "linecolor": "white",
            "ticks": ""
           },
           "bgcolor": "#E5ECF6",
           "radialaxis": {
            "gridcolor": "white",
            "linecolor": "white",
            "ticks": ""
           }
          },
          "scene": {
           "xaxis": {
            "backgroundcolor": "#E5ECF6",
            "gridcolor": "white",
            "gridwidth": 2,
            "linecolor": "white",
            "showbackground": true,
            "ticks": "",
            "zerolinecolor": "white"
           },
           "yaxis": {
            "backgroundcolor": "#E5ECF6",
            "gridcolor": "white",
            "gridwidth": 2,
            "linecolor": "white",
            "showbackground": true,
            "ticks": "",
            "zerolinecolor": "white"
           },
           "zaxis": {
            "backgroundcolor": "#E5ECF6",
            "gridcolor": "white",
            "gridwidth": 2,
            "linecolor": "white",
            "showbackground": true,
            "ticks": "",
            "zerolinecolor": "white"
           }
          },
          "shapedefaults": {
           "line": {
            "color": "#2a3f5f"
           }
          },
          "ternary": {
           "aaxis": {
            "gridcolor": "white",
            "linecolor": "white",
            "ticks": ""
           },
           "baxis": {
            "gridcolor": "white",
            "linecolor": "white",
            "ticks": ""
           },
           "bgcolor": "#E5ECF6",
           "caxis": {
            "gridcolor": "white",
            "linecolor": "white",
            "ticks": ""
           }
          },
          "title": {
           "x": 0.05
          },
          "xaxis": {
           "automargin": true,
           "gridcolor": "white",
           "linecolor": "white",
           "ticks": "",
           "title": {
            "standoff": 15
           },
           "zerolinecolor": "white",
           "zerolinewidth": 2
          },
          "yaxis": {
           "automargin": true,
           "gridcolor": "white",
           "linecolor": "white",
           "ticks": "",
           "title": {
            "standoff": 15
           },
           "zerolinecolor": "white",
           "zerolinewidth": 2
          }
         }
        },
        "title": {
         "text": "Parallel Coordinate Plot"
        }
       }
      },
      "text/html": [
       "<div>                        <script type=\"text/javascript\">window.PlotlyConfig = {MathJaxConfig: 'local'};</script>\n",
       "        <script charset=\"utf-8\" src=\"https://cdn.plot.ly/plotly-2.24.1.min.js\"></script>                <div id=\"a36f57e8-0fb9-4db6-828c-562266d16efc\" class=\"plotly-graph-div\" style=\"height:100%; width:100%;\"></div>            <script type=\"text/javascript\">                                    window.PLOTLYENV=window.PLOTLYENV || {};                                    if (document.getElementById(\"a36f57e8-0fb9-4db6-828c-562266d16efc\")) {                    Plotly.newPlot(                        \"a36f57e8-0fb9-4db6-828c-562266d16efc\",                        [{\"dimensions\":[{\"label\":\"Objective Value\",\"range\":[44.20890187548654,46.367573863616656],\"values\":[44.26613191730135,45.02595587682659,44.3507389885141,44.38430020649219,44.418205242699,44.327342550037756,44.442141457015346,44.32869307991435,46.367573863616656,44.40978282279831,44.47992054012187,44.61304079800378,44.36020059537444,44.373764528891904,44.5395356233537,44.314663049064286,44.35348476325762,44.36271920065812,44.55213525788126,46.300811275935985,44.351285682643024,44.435519914370616,44.265832533382344,44.339290896284766,44.88094302258532,44.50467734916339,44.64835603322172,44.382850517492415,44.384499126099364,44.49817640049199,44.399062855017576,44.373601970793494,44.50824253106697,44.308260756203566,44.36919569080932,44.51017091086822,44.33667785196861,44.428516170458124,44.33580766594878,44.29610159158736,44.305054775659755,44.29244779011677,44.32581835637505,44.27736948785386,44.425281993826786,44.30550661113876,44.38370702918657,44.37172260200653,44.264447318962304,44.30355219670758,44.366254610670225,44.378070373083276,44.31774320028066,44.2566233586265,44.230726389720026,44.31598094137389,44.24205464287048,44.35209651162046,44.24495402041233,44.26200509604406,44.59993498878382,44.349131753798396,44.29349310178346,44.26997983168163,44.41449467649419,44.28730213561426,44.25107407134262,44.34539163497779,44.3075681882151,44.28663551979785,44.31969448860214,44.30523704097535,44.20890187548654,44.29855465355128,44.29168343763577,44.29371218925505,44.292049304641985,44.25195629470676,44.38570193041323,44.29648516462272,44.24275242779013,44.26204026890642,44.28217759512446,44.23107120959496,44.24315414534964,44.2209761407907,44.223314420925774,44.29378197708056,44.28709533155107,44.27777448977976,44.26597361752531,44.248030217267065,44.24402536673639,44.274638127775056,44.30857733484811,44.30201775381615,44.27609303711784,44.20909436811753,44.2784071705402,44.33453878783728]},{\"label\":\"alpha\",\"range\":[0.045296428749976414,9.705168446912442],\"values\":[7.31993968612011,9.69909855171009,6.1185293353709005,0.46450508074956454,6.842330580888543,5.200680691710088,0.884925932026693,5.426961288886402,7.068573731618828,0.6355844393018861,3.177322125807078,4.072251292579902,8.118882334891053,4.565434109966272,8.106416397027234,3.1478811679570398,2.744650777837532,2.285537486227825,3.7699603306678156,1.9037196260561495,4.619514006370311,5.406430588546718,3.4175029743819403,3.624526988594668,2.0341432093350487,2.848603055598944,4.00726501299396,1.3770786155803123,3.2432386236183497,9.705168446912442,4.500334551552887,5.659487220737763,5.010053761034512,6.164939230944935,5.947975053390385,6.462934435341695,6.082031477302849,7.127613051628342,4.914966037170723,0.2283941030485539,0.04842567598394387,0.47968907902112284,0.37699733943491864,0.05814605278934797,1.0295360442073904,1.236687678155974,0.045296428749976414,0.6972164401666754,1.414244836818616,1.5967325067352376,0.8009557919953982,1.1617219579563787,0.40238892425925643,1.5805819203121927,1.5400571926784374,1.6909505807188654,2.2734487857427745,2.1169540526941844,2.1755594073208986,2.3982950170173827,2.463646991491373,1.7814865186871234,2.5260846067352465,2.281346400779565,1.5838098445793563,1.9397970545711194,2.784196605913623,2.8560364400450218,1.4373804702081376,1.015447306673227,2.1150545516784764,2.5265234053093217,3.0259790706186402,2.8630811188917105,1.8349555792993577,1.4524057030671427,3.073455783007327,2.3783699682761092,2.3461736784605307,2.698034591012149,3.364934631113498,3.4092667453262298,3.115167614783119,2.2106919742501887,2.20606722263178,2.1216453999566918,2.6694087672241906,2.088319729644209,3.641634014102686,1.852089975616689,2.6827852763635427,2.9807503817625967,3.0220335745024194,2.2455541004281767,3.3470409549040454,2.61250828316427,3.1910367440224836,2.1453802989768396,1.965815905682995,2.986427846996275]},{\"label\":\"bagging_fraction\",\"range\":[0.4695214357150779,0.9997370010210894],\"values\":[0.9197056874649611,0.5825453457757226,0.8711055768358081,0.9793792198447356,0.9455922412472693,0.9636993649385135,0.5628094190643376,0.8633468615779945,0.4695214357150779,0.932327645545796,0.7740259111776793,0.9965143675475727,0.7789849317983945,0.8577881304845949,0.7423078087817518,0.9991876335952369,0.8892838006291816,0.999587038732524,0.6808149578508481,0.8227926068043568,0.9200883090509623,0.9369552558412391,0.9984818970885843,0.9159516357407355,0.9982414977657855,0.9423140247540576,0.9013504658653821,0.8347486056890672,0.8953875506067501,0.9643654122070866,0.9574222104676224,0.9645482813909818,0.9674955265743832,0.9997370010210894,0.9091334331270637,0.9970786864030147,0.8780423602337639,0.9423948354917683,0.9716247257338924,0.9284463757532526,0.8606300031554119,0.925841996730172,0.8668971526889194,0.9243520440709283,0.9254607775589998,0.9132329171227676,0.9411632536737653,0.88345332509868,0.8302309107543412,0.8430512300043952,0.8275315501213181,0.8894584198435438,0.9541647976012325,0.9260896870083998,0.9742389181390729,0.9763161608735873,0.977670007834245,0.9792175312471751,0.951285262108905,0.9788030399961961,0.9537867592439175,0.987540843390752,0.9770000174490728,0.9558242735945919,0.9001207136077677,0.9467745827257573,0.9807284713821851,0.981535732797023,0.9067307807262719,0.9389245796214958,0.9647302832621777,0.9811947431416321,0.98728869364854,0.9548818676602864,0.9867031542147506,0.9339878899714148,0.9679886671376365,0.9147784397420529,0.9124598948778029,0.9403964697571944,0.997951443811916,0.997051061898194,0.9641489630415879,0.9848705331995622,0.9873555531316862,0.9892708205205505,0.9992080194635914,0.9929803538079469,0.9654747440548928,0.9982914429344134,0.9502623738496369,0.9841757812799813,0.9890024635497492,0.9706569969770917,0.9909072261149323,0.951333364038866,0.9691470963321818,0.9869146437817662,0.9972737170371441,0.985657070664546]},{\"label\":\"bagging_freq\",\"range\":[1,7],\"values\":[5,4,2,6,2,7,6,2,7,4,5,7,5,5,3,6,6,3,5,1,6,7,7,6,5,7,6,4,6,4,7,7,7,6,6,5,6,5,4,6,7,7,7,7,7,7,7,6,5,3,5,5,6,7,7,1,3,2,3,3,3,3,2,3,2,4,3,3,2,4,3,3,3,3,2,3,4,4,4,3,4,4,3,3,4,4,4,4,4,4,4,3,4,4,4,4,4,5,5,5]},{\"label\":\"colsample_bytree\",\"range\":[0.0005339474397725863,0.8021969807540397],\"values\":[0.15601864044243652,0.21233911067827616,0.29214464853521815,0.17052412368729153,0.12203823484477883,0.18485445552552704,0.045227288910538066,0.8021969807540397,0.7712703466859457,0.32518332202674705,0.5025312176747964,0.05353757815544402,0.36306940056743026,0.005059782205534352,0.413414099692713,0.20799541072729683,0.4816563701627079,0.24924192834529788,0.11810406985098587,0.5936216648840692,0.2731725619484715,0.18984370043381765,0.1112271159575583,0.09941750363166746,0.026389906619499914,0.14064671976185683,0.2555366235349953,0.0005339474397725863,0.09575138503109046,0.23836676563828596,0.18754106958586853,0.19461516002781903,0.32561636618709855,0.16422483302601676,0.08699879477897737,0.1519307182373177,0.23190682497258802,0.15730478443330856,0.06596444471520745,0.13399166375833044,0.11811460040158994,0.12668691367097684,0.06306146130636225,0.11433339034977416,0.047247753296695075,0.13071116753940287,0.038268139868481044,0.2892932353615438,0.09140646474643262,0.22092177942079136,0.08030886187510089,0.12642632532055287,0.003782540070350185,0.17362126977114148,0.17622927450110096,0.1781082613221281,0.21523896142979804,0.20584857197255563,0.268844445893998,0.30719999089717664,0.2658695839077458,0.29865343818921064,0.22682364587307952,0.33582133207950654,0.17088882135409322,0.3681286540312066,0.2721451441002152,0.253667261572389,0.2996040883103251,0.20652738974598592,0.2762010734288135,0.17060728127441652,0.22199279683162915,0.2364191411072588,0.2084796792673203,0.24572774464491215,0.15147374279337855,0.19201984086148283,0.2679753849290147,0.309427173968878,0.18351587034815403,0.190858333421885,0.22314065402947098,0.1866995941496138,0.15622890264163902,0.15317171096248813,0.15327247969471786,0.14345539412625144,0.10731975244654245,0.14962083648347616,0.06669443003092823,0.2161057970076296,0.20453400311589848,0.15840816564946003,0.1027490798804173,0.18806590150460167,0.2434524920839451,0.13923901735010571,0.0862852199303866,0.1336985509734188]},{\"label\":\"feature_fraction\",\"range\":[0.4008700070756521,0.9921321619603104],\"values\":[0.4348501673009197,0.5100427059120604,0.6736419905302216,0.9693313223519999,0.42063311266913106,0.8650796940166687,0.6332063738136893,0.9921321619603104,0.6150794371265635,0.7825344828131279,0.40908654226165414,0.8255046987084346,0.5249681596652943,0.7980438571671898,0.8780938131142046,0.7375837746828967,0.746275627121249,0.7144856522817241,0.5710789603720413,0.6876119064341457,0.4832619636583593,0.8563577551886266,0.735921305357069,0.6412141774758775,0.7368900976666511,0.5830058011541122,0.6865475693429461,0.7424502587175147,0.66586175368912,0.49020018916869673,0.7112319742835453,0.7820255718423798,0.9236063141716413,0.8483515527470511,0.8184737089261643,0.7775183987242034,0.6693944258196824,0.455523922501682,0.5331415946439793,0.7546958689088018,0.4008700070756521,0.4302492471762759,0.40656181796993807,0.43204033368750566,0.42747035119964294,0.4439739466160631,0.4599160201081638,0.4414728185307831,0.426111137953953,0.4791092926798009,0.42606463139736966,0.5053822994671855,0.4574667097419035,0.430390639343767,0.42853567509907375,0.406766908863416,0.4632648029196641,0.4770348399229642,0.46675249619533643,0.5097394967947592,0.5199445024973516,0.47087598339390546,0.4509660295456932,0.5049074530949783,0.41606114261123844,0.5392807443561489,0.502368460632272,0.4899449156105249,0.46886596190905294,0.49711813846946284,0.44483136502303594,0.4205483379778224,0.4670722972795847,0.4638557253935609,0.5142838562806438,0.48548691686178597,0.43758189497321154,0.539141718368751,0.5459073570433265,0.4974169046718454,0.558155140609239,0.5543824648124211,0.5110553597846814,0.526753072038413,0.5331510189726362,0.5250275209321329,0.5261477018465706,0.5301915782081995,0.5683173908348137,0.5934506930923926,0.5302097120324003,0.4843172104855176,0.5210375949726761,0.5212792102310018,0.5475158811596395,0.5569628559120734,0.5209186934840971,0.47460714683597927,0.4927558000126522,0.5623941121480248]},{\"label\":\"lambda\",\"range\":[0.04685731490615448,9.69693463915128],\"values\":[5.9865852433118825,8.324426575561576,1.3949394670265578,6.0754489114695325,4.40152549724352,5.467103246722518,1.9598294282085895,1.4092431088234014,7.290071951402706,3.1098239061743005,9.322903486827535,5.423144543084375,6.58814003188102,4.381302236781178,7.380983683163985,0.10989288144852694,0.04685731490615448,3.575581347729561,0.06542180376277607,3.01030563222218,4.325073836259271,5.762335494100566,5.145586416552905,5.153393505897634,7.002383271271844,4.850276391584219,6.140709488163226,3.7408752640673972,6.552882597828336,7.923992949509288,8.717187345470863,5.5431488162283316,5.032599079210779,6.036215590402632,6.059307125224936,6.40303261405777,4.7170149646325195,7.893390229758678,5.5712652492401675,6.937818236387808,6.909653822146368,6.665828418076071,7.044963730380966,6.757016373726822,7.576116708885911,6.693626585554315,6.201124200964282,7.291159987273863,6.663877086365325,5.843445365789423,6.6111390899220215,6.386037242837815,5.360483060039332,6.932678453481653,7.608116988724246,8.355454724349704,7.603924103490517,7.550567422439524,7.292470388900721,8.903638793678716,9.383450484937487,8.915163875554098,9.69693463915128,8.114545519520252,7.675606533944866,8.388143493674383,7.489880075839772,7.326595874968607,7.84169462353307,7.190460367103964,8.112572966429873,7.26114756563111,7.646516124349529,7.5942031479204894,8.605006154286691,7.8267085231069835,8.103304350833206,7.452409238434383,8.852117742387037,7.511698979058752,7.0459229439325615,7.070075059910604,7.371037442448027,6.97062092953781,6.955428960316583,7.722140161016935,7.82241051539538,7.721288388996517,7.100997855615312,7.978392949304747,6.909372345388704,7.734032419381153,7.814781885710721,8.126798957180933,6.386199572217883,8.374416265646634,7.213064685185137,6.8522998176035195,6.928131269636145,6.786363449107558]},{\"label\":\"max_depth\",\"range\":[1,10],\"values\":[4,8,5,6,4,7,6,4,1,7,10,2,9,3,7,5,4,3,5,1,3,7,5,5,4,6,2,5,3,8,6,8,7,5,5,4,5,6,4,6,6,6,6,7,8,7,7,9,6,4,9,6,7,6,5,5,4,3,4,4,2,4,4,5,3,4,5,3,4,5,4,5,5,5,6,5,4,5,3,4,5,5,5,5,5,5,5,5,5,4,6,5,5,5,5,4,6,4,5,5]},{\"label\":\"min_child_samples\",\"range\":[7,100],\"values\":[19,22,40,11,52,98,36,12,12,75,71,96,93,67,32,54,54,56,46,25,82,86,60,62,44,28,60,48,19,77,65,100,37,90,90,18,50,42,7,58,71,72,71,78,79,67,60,83,74,73,79,57,65,74,74,75,84,86,84,83,96,83,81,88,94,67,86,85,91,75,87,76,81,80,84,93,81,69,91,88,69,68,63,69,70,70,70,63,69,77,71,65,65,70,53,73,65,78,61,78]},{\"label\":\"num_leaves\",\"range\":[3,100],\"values\":[96,4,30,60,11,32,93,29,82,34,69,46,95,52,77,21,16,45,16,62,100,37,24,21,3,20,24,43,84,9,55,38,27,34,42,10,30,16,25,61,70,65,69,63,61,75,55,81,88,93,89,65,87,99,97,100,98,96,90,92,90,93,97,85,80,91,100,98,94,100,85,89,97,96,92,98,87,76,79,75,95,95,100,92,83,82,83,84,82,78,86,72,73,83,91,95,89,94,97,72]}],\"labelangle\":30,\"labelside\":\"bottom\",\"line\":{\"color\":[44.26613191730135,45.02595587682659,44.3507389885141,44.38430020649219,44.418205242699,44.327342550037756,44.442141457015346,44.32869307991435,46.367573863616656,44.40978282279831,44.47992054012187,44.61304079800378,44.36020059537444,44.373764528891904,44.5395356233537,44.314663049064286,44.35348476325762,44.36271920065812,44.55213525788126,46.300811275935985,44.351285682643024,44.435519914370616,44.265832533382344,44.339290896284766,44.88094302258532,44.50467734916339,44.64835603322172,44.382850517492415,44.384499126099364,44.49817640049199,44.399062855017576,44.373601970793494,44.50824253106697,44.308260756203566,44.36919569080932,44.51017091086822,44.33667785196861,44.428516170458124,44.33580766594878,44.29610159158736,44.305054775659755,44.29244779011677,44.32581835637505,44.27736948785386,44.425281993826786,44.30550661113876,44.38370702918657,44.37172260200653,44.264447318962304,44.30355219670758,44.366254610670225,44.378070373083276,44.31774320028066,44.2566233586265,44.230726389720026,44.31598094137389,44.24205464287048,44.35209651162046,44.24495402041233,44.26200509604406,44.59993498878382,44.349131753798396,44.29349310178346,44.26997983168163,44.41449467649419,44.28730213561426,44.25107407134262,44.34539163497779,44.3075681882151,44.28663551979785,44.31969448860214,44.30523704097535,44.20890187548654,44.29855465355128,44.29168343763577,44.29371218925505,44.292049304641985,44.25195629470676,44.38570193041323,44.29648516462272,44.24275242779013,44.26204026890642,44.28217759512446,44.23107120959496,44.24315414534964,44.2209761407907,44.223314420925774,44.29378197708056,44.28709533155107,44.27777448977976,44.26597361752531,44.248030217267065,44.24402536673639,44.274638127775056,44.30857733484811,44.30201775381615,44.27609303711784,44.20909436811753,44.2784071705402,44.33453878783728],\"colorbar\":{\"title\":{\"text\":\"Objective Value\"}},\"colorscale\":[[0.0,\"rgb(247,251,255)\"],[0.125,\"rgb(222,235,247)\"],[0.25,\"rgb(198,219,239)\"],[0.375,\"rgb(158,202,225)\"],[0.5,\"rgb(107,174,214)\"],[0.625,\"rgb(66,146,198)\"],[0.75,\"rgb(33,113,181)\"],[0.875,\"rgb(8,81,156)\"],[1.0,\"rgb(8,48,107)\"]],\"reversescale\":true,\"showscale\":true},\"type\":\"parcoords\"}],                        {\"title\":{\"text\":\"Parallel Coordinate Plot\"},\"template\":{\"data\":{\"histogram2dcontour\":[{\"type\":\"histogram2dcontour\",\"colorbar\":{\"outlinewidth\":0,\"ticks\":\"\"},\"colorscale\":[[0.0,\"#0d0887\"],[0.1111111111111111,\"#46039f\"],[0.2222222222222222,\"#7201a8\"],[0.3333333333333333,\"#9c179e\"],[0.4444444444444444,\"#bd3786\"],[0.5555555555555556,\"#d8576b\"],[0.6666666666666666,\"#ed7953\"],[0.7777777777777778,\"#fb9f3a\"],[0.8888888888888888,\"#fdca26\"],[1.0,\"#f0f921\"]]}],\"choropleth\":[{\"type\":\"choropleth\",\"colorbar\":{\"outlinewidth\":0,\"ticks\":\"\"}}],\"histogram2d\":[{\"type\":\"histogram2d\",\"colorbar\":{\"outlinewidth\":0,\"ticks\":\"\"},\"colorscale\":[[0.0,\"#0d0887\"],[0.1111111111111111,\"#46039f\"],[0.2222222222222222,\"#7201a8\"],[0.3333333333333333,\"#9c179e\"],[0.4444444444444444,\"#bd3786\"],[0.5555555555555556,\"#d8576b\"],[0.6666666666666666,\"#ed7953\"],[0.7777777777777778,\"#fb9f3a\"],[0.8888888888888888,\"#fdca26\"],[1.0,\"#f0f921\"]]}],\"heatmap\":[{\"type\":\"heatmap\",\"colorbar\":{\"outlinewidth\":0,\"ticks\":\"\"},\"colorscale\":[[0.0,\"#0d0887\"],[0.1111111111111111,\"#46039f\"],[0.2222222222222222,\"#7201a8\"],[0.3333333333333333,\"#9c179e\"],[0.4444444444444444,\"#bd3786\"],[0.5555555555555556,\"#d8576b\"],[0.6666666666666666,\"#ed7953\"],[0.7777777777777778,\"#fb9f3a\"],[0.8888888888888888,\"#fdca26\"],[1.0,\"#f0f921\"]]}],\"heatmapgl\":[{\"type\":\"heatmapgl\",\"colorbar\":{\"outlinewidth\":0,\"ticks\":\"\"},\"colorscale\":[[0.0,\"#0d0887\"],[0.1111111111111111,\"#46039f\"],[0.2222222222222222,\"#7201a8\"],[0.3333333333333333,\"#9c179e\"],[0.4444444444444444,\"#bd3786\"],[0.5555555555555556,\"#d8576b\"],[0.6666666666666666,\"#ed7953\"],[0.7777777777777778,\"#fb9f3a\"],[0.8888888888888888,\"#fdca26\"],[1.0,\"#f0f921\"]]}],\"contourcarpet\":[{\"type\":\"contourcarpet\",\"colorbar\":{\"outlinewidth\":0,\"ticks\":\"\"}}],\"contour\":[{\"type\":\"contour\",\"colorbar\":{\"outlinewidth\":0,\"ticks\":\"\"},\"colorscale\":[[0.0,\"#0d0887\"],[0.1111111111111111,\"#46039f\"],[0.2222222222222222,\"#7201a8\"],[0.3333333333333333,\"#9c179e\"],[0.4444444444444444,\"#bd3786\"],[0.5555555555555556,\"#d8576b\"],[0.6666666666666666,\"#ed7953\"],[0.7777777777777778,\"#fb9f3a\"],[0.8888888888888888,\"#fdca26\"],[1.0,\"#f0f921\"]]}],\"surface\":[{\"type\":\"surface\",\"colorbar\":{\"outlinewidth\":0,\"ticks\":\"\"},\"colorscale\":[[0.0,\"#0d0887\"],[0.1111111111111111,\"#46039f\"],[0.2222222222222222,\"#7201a8\"],[0.3333333333333333,\"#9c179e\"],[0.4444444444444444,\"#bd3786\"],[0.5555555555555556,\"#d8576b\"],[0.6666666666666666,\"#ed7953\"],[0.7777777777777778,\"#fb9f3a\"],[0.8888888888888888,\"#fdca26\"],[1.0,\"#f0f921\"]]}],\"mesh3d\":[{\"type\":\"mesh3d\",\"colorbar\":{\"outlinewidth\":0,\"ticks\":\"\"}}],\"scatter\":[{\"fillpattern\":{\"fillmode\":\"overlay\",\"size\":10,\"solidity\":0.2},\"type\":\"scatter\"}],\"parcoords\":[{\"type\":\"parcoords\",\"line\":{\"colorbar\":{\"outlinewidth\":0,\"ticks\":\"\"}}}],\"scatterpolargl\":[{\"type\":\"scatterpolargl\",\"marker\":{\"colorbar\":{\"outlinewidth\":0,\"ticks\":\"\"}}}],\"bar\":[{\"error_x\":{\"color\":\"#2a3f5f\"},\"error_y\":{\"color\":\"#2a3f5f\"},\"marker\":{\"line\":{\"color\":\"#E5ECF6\",\"width\":0.5},\"pattern\":{\"fillmode\":\"overlay\",\"size\":10,\"solidity\":0.2}},\"type\":\"bar\"}],\"scattergeo\":[{\"type\":\"scattergeo\",\"marker\":{\"colorbar\":{\"outlinewidth\":0,\"ticks\":\"\"}}}],\"scatterpolar\":[{\"type\":\"scatterpolar\",\"marker\":{\"colorbar\":{\"outlinewidth\":0,\"ticks\":\"\"}}}],\"histogram\":[{\"marker\":{\"pattern\":{\"fillmode\":\"overlay\",\"size\":10,\"solidity\":0.2}},\"type\":\"histogram\"}],\"scattergl\":[{\"type\":\"scattergl\",\"marker\":{\"colorbar\":{\"outlinewidth\":0,\"ticks\":\"\"}}}],\"scatter3d\":[{\"type\":\"scatter3d\",\"line\":{\"colorbar\":{\"outlinewidth\":0,\"ticks\":\"\"}},\"marker\":{\"colorbar\":{\"outlinewidth\":0,\"ticks\":\"\"}}}],\"scattermapbox\":[{\"type\":\"scattermapbox\",\"marker\":{\"colorbar\":{\"outlinewidth\":0,\"ticks\":\"\"}}}],\"scatterternary\":[{\"type\":\"scatterternary\",\"marker\":{\"colorbar\":{\"outlinewidth\":0,\"ticks\":\"\"}}}],\"scattercarpet\":[{\"type\":\"scattercarpet\",\"marker\":{\"colorbar\":{\"outlinewidth\":0,\"ticks\":\"\"}}}],\"carpet\":[{\"aaxis\":{\"endlinecolor\":\"#2a3f5f\",\"gridcolor\":\"white\",\"linecolor\":\"white\",\"minorgridcolor\":\"white\",\"startlinecolor\":\"#2a3f5f\"},\"baxis\":{\"endlinecolor\":\"#2a3f5f\",\"gridcolor\":\"white\",\"linecolor\":\"white\",\"minorgridcolor\":\"white\",\"startlinecolor\":\"#2a3f5f\"},\"type\":\"carpet\"}],\"table\":[{\"cells\":{\"fill\":{\"color\":\"#EBF0F8\"},\"line\":{\"color\":\"white\"}},\"header\":{\"fill\":{\"color\":\"#C8D4E3\"},\"line\":{\"color\":\"white\"}},\"type\":\"table\"}],\"barpolar\":[{\"marker\":{\"line\":{\"color\":\"#E5ECF6\",\"width\":0.5},\"pattern\":{\"fillmode\":\"overlay\",\"size\":10,\"solidity\":0.2}},\"type\":\"barpolar\"}],\"pie\":[{\"automargin\":true,\"type\":\"pie\"}]},\"layout\":{\"autotypenumbers\":\"strict\",\"colorway\":[\"#636efa\",\"#EF553B\",\"#00cc96\",\"#ab63fa\",\"#FFA15A\",\"#19d3f3\",\"#FF6692\",\"#B6E880\",\"#FF97FF\",\"#FECB52\"],\"font\":{\"color\":\"#2a3f5f\"},\"hovermode\":\"closest\",\"hoverlabel\":{\"align\":\"left\"},\"paper_bgcolor\":\"white\",\"plot_bgcolor\":\"#E5ECF6\",\"polar\":{\"bgcolor\":\"#E5ECF6\",\"angularaxis\":{\"gridcolor\":\"white\",\"linecolor\":\"white\",\"ticks\":\"\"},\"radialaxis\":{\"gridcolor\":\"white\",\"linecolor\":\"white\",\"ticks\":\"\"}},\"ternary\":{\"bgcolor\":\"#E5ECF6\",\"aaxis\":{\"gridcolor\":\"white\",\"linecolor\":\"white\",\"ticks\":\"\"},\"baxis\":{\"gridcolor\":\"white\",\"linecolor\":\"white\",\"ticks\":\"\"},\"caxis\":{\"gridcolor\":\"white\",\"linecolor\":\"white\",\"ticks\":\"\"}},\"coloraxis\":{\"colorbar\":{\"outlinewidth\":0,\"ticks\":\"\"}},\"colorscale\":{\"sequential\":[[0.0,\"#0d0887\"],[0.1111111111111111,\"#46039f\"],[0.2222222222222222,\"#7201a8\"],[0.3333333333333333,\"#9c179e\"],[0.4444444444444444,\"#bd3786\"],[0.5555555555555556,\"#d8576b\"],[0.6666666666666666,\"#ed7953\"],[0.7777777777777778,\"#fb9f3a\"],[0.8888888888888888,\"#fdca26\"],[1.0,\"#f0f921\"]],\"sequentialminus\":[[0.0,\"#0d0887\"],[0.1111111111111111,\"#46039f\"],[0.2222222222222222,\"#7201a8\"],[0.3333333333333333,\"#9c179e\"],[0.4444444444444444,\"#bd3786\"],[0.5555555555555556,\"#d8576b\"],[0.6666666666666666,\"#ed7953\"],[0.7777777777777778,\"#fb9f3a\"],[0.8888888888888888,\"#fdca26\"],[1.0,\"#f0f921\"]],\"diverging\":[[0,\"#8e0152\"],[0.1,\"#c51b7d\"],[0.2,\"#de77ae\"],[0.3,\"#f1b6da\"],[0.4,\"#fde0ef\"],[0.5,\"#f7f7f7\"],[0.6,\"#e6f5d0\"],[0.7,\"#b8e186\"],[0.8,\"#7fbc41\"],[0.9,\"#4d9221\"],[1,\"#276419\"]]},\"xaxis\":{\"gridcolor\":\"white\",\"linecolor\":\"white\",\"ticks\":\"\",\"title\":{\"standoff\":15},\"zerolinecolor\":\"white\",\"automargin\":true,\"zerolinewidth\":2},\"yaxis\":{\"gridcolor\":\"white\",\"linecolor\":\"white\",\"ticks\":\"\",\"title\":{\"standoff\":15},\"zerolinecolor\":\"white\",\"automargin\":true,\"zerolinewidth\":2},\"scene\":{\"xaxis\":{\"backgroundcolor\":\"#E5ECF6\",\"gridcolor\":\"white\",\"linecolor\":\"white\",\"showbackground\":true,\"ticks\":\"\",\"zerolinecolor\":\"white\",\"gridwidth\":2},\"yaxis\":{\"backgroundcolor\":\"#E5ECF6\",\"gridcolor\":\"white\",\"linecolor\":\"white\",\"showbackground\":true,\"ticks\":\"\",\"zerolinecolor\":\"white\",\"gridwidth\":2},\"zaxis\":{\"backgroundcolor\":\"#E5ECF6\",\"gridcolor\":\"white\",\"linecolor\":\"white\",\"showbackground\":true,\"ticks\":\"\",\"zerolinecolor\":\"white\",\"gridwidth\":2}},\"shapedefaults\":{\"line\":{\"color\":\"#2a3f5f\"}},\"annotationdefaults\":{\"arrowcolor\":\"#2a3f5f\",\"arrowhead\":0,\"arrowwidth\":1},\"geo\":{\"bgcolor\":\"white\",\"landcolor\":\"#E5ECF6\",\"subunitcolor\":\"white\",\"showland\":true,\"showlakes\":true,\"lakecolor\":\"white\"},\"title\":{\"x\":0.05},\"mapbox\":{\"style\":\"light\"}}}},                        {\"responsive\": true}                    )                };                            </script>        </div>"
      ],
      "text/plain": [
       "Figure({\n",
       "    'data': [{'dimensions': [{'label': 'Objective Value',\n",
       "                              'range': [44.20890187548654, 46.367573863616656],\n",
       "                              'values': [44.26613191730135, 45.02595587682659,\n",
       "                                         44.3507389885141, 44.38430020649219,\n",
       "                                         44.418205242699, 44.327342550037756,\n",
       "                                         44.442141457015346, 44.32869307991435,\n",
       "                                         46.367573863616656, 44.40978282279831,\n",
       "                                         44.47992054012187, 44.61304079800378,\n",
       "                                         44.36020059537444, 44.373764528891904,\n",
       "                                         44.5395356233537, 44.314663049064286,\n",
       "                                         44.35348476325762, 44.36271920065812,\n",
       "                                         44.55213525788126, 46.300811275935985,\n",
       "                                         44.351285682643024, 44.435519914370616,\n",
       "                                         44.265832533382344, 44.339290896284766,\n",
       "                                         44.88094302258532, 44.50467734916339,\n",
       "                                         44.64835603322172, 44.382850517492415,\n",
       "                                         44.384499126099364, 44.49817640049199,\n",
       "                                         44.399062855017576, 44.373601970793494,\n",
       "                                         44.50824253106697, 44.308260756203566,\n",
       "                                         44.36919569080932, 44.51017091086822,\n",
       "                                         44.33667785196861, 44.428516170458124,\n",
       "                                         44.33580766594878, 44.29610159158736,\n",
       "                                         44.305054775659755, 44.29244779011677,\n",
       "                                         44.32581835637505, 44.27736948785386,\n",
       "                                         44.425281993826786, 44.30550661113876,\n",
       "                                         44.38370702918657, 44.37172260200653,\n",
       "                                         44.264447318962304, 44.30355219670758,\n",
       "                                         44.366254610670225, 44.378070373083276,\n",
       "                                         44.31774320028066, 44.2566233586265,\n",
       "                                         44.230726389720026, 44.31598094137389,\n",
       "                                         44.24205464287048, 44.35209651162046,\n",
       "                                         44.24495402041233, 44.26200509604406,\n",
       "                                         44.59993498878382, 44.349131753798396,\n",
       "                                         44.29349310178346, 44.26997983168163,\n",
       "                                         44.41449467649419, 44.28730213561426,\n",
       "                                         44.25107407134262, 44.34539163497779,\n",
       "                                         44.3075681882151, 44.28663551979785,\n",
       "                                         44.31969448860214, 44.30523704097535,\n",
       "                                         44.20890187548654, 44.29855465355128,\n",
       "                                         44.29168343763577, 44.29371218925505,\n",
       "                                         44.292049304641985, 44.25195629470676,\n",
       "                                         44.38570193041323, 44.29648516462272,\n",
       "                                         44.24275242779013, 44.26204026890642,\n",
       "                                         44.28217759512446, 44.23107120959496,\n",
       "                                         44.24315414534964, 44.2209761407907,\n",
       "                                         44.223314420925774, 44.29378197708056,\n",
       "                                         44.28709533155107, 44.27777448977976,\n",
       "                                         44.26597361752531, 44.248030217267065,\n",
       "                                         44.24402536673639, 44.274638127775056,\n",
       "                                         44.30857733484811, 44.30201775381615,\n",
       "                                         44.27609303711784, 44.20909436811753,\n",
       "                                         44.2784071705402, 44.33453878783728]},\n",
       "                             {'label': 'alpha',\n",
       "                              'range': [0.045296428749976414, 9.705168446912442],\n",
       "                              'values': [7.31993968612011, 9.69909855171009,\n",
       "                                         6.1185293353709005, 0.46450508074956454,\n",
       "                                         6.842330580888543, 5.200680691710088,\n",
       "                                         0.884925932026693, 5.426961288886402,\n",
       "                                         7.068573731618828, 0.6355844393018861,\n",
       "                                         3.177322125807078, 4.072251292579902,\n",
       "                                         8.118882334891053, 4.565434109966272,\n",
       "                                         8.106416397027234, 3.1478811679570398,\n",
       "                                         2.744650777837532, 2.285537486227825,\n",
       "                                         3.7699603306678156, 1.9037196260561495,\n",
       "                                         4.619514006370311, 5.406430588546718,\n",
       "                                         3.4175029743819403, 3.624526988594668,\n",
       "                                         2.0341432093350487, 2.848603055598944,\n",
       "                                         4.00726501299396, 1.3770786155803123,\n",
       "                                         3.2432386236183497, 9.705168446912442,\n",
       "                                         4.500334551552887, 5.659487220737763,\n",
       "                                         5.010053761034512, 6.164939230944935,\n",
       "                                         5.947975053390385, 6.462934435341695,\n",
       "                                         6.082031477302849, 7.127613051628342,\n",
       "                                         4.914966037170723, 0.2283941030485539,\n",
       "                                         0.04842567598394387, 0.47968907902112284,\n",
       "                                         0.37699733943491864, 0.05814605278934797,\n",
       "                                         1.0295360442073904, 1.236687678155974,\n",
       "                                         0.045296428749976414, 0.6972164401666754,\n",
       "                                         1.414244836818616, 1.5967325067352376,\n",
       "                                         0.8009557919953982, 1.1617219579563787,\n",
       "                                         0.40238892425925643, 1.5805819203121927,\n",
       "                                         1.5400571926784374, 1.6909505807188654,\n",
       "                                         2.2734487857427745, 2.1169540526941844,\n",
       "                                         2.1755594073208986, 2.3982950170173827,\n",
       "                                         2.463646991491373, 1.7814865186871234,\n",
       "                                         2.5260846067352465, 2.281346400779565,\n",
       "                                         1.5838098445793563, 1.9397970545711194,\n",
       "                                         2.784196605913623, 2.8560364400450218,\n",
       "                                         1.4373804702081376, 1.015447306673227,\n",
       "                                         2.1150545516784764, 2.5265234053093217,\n",
       "                                         3.0259790706186402, 2.8630811188917105,\n",
       "                                         1.8349555792993577, 1.4524057030671427,\n",
       "                                         3.073455783007327, 2.3783699682761092,\n",
       "                                         2.3461736784605307, 2.698034591012149,\n",
       "                                         3.364934631113498, 3.4092667453262298,\n",
       "                                         3.115167614783119, 2.2106919742501887,\n",
       "                                         2.20606722263178, 2.1216453999566918,\n",
       "                                         2.6694087672241906, 2.088319729644209,\n",
       "                                         3.641634014102686, 1.852089975616689,\n",
       "                                         2.6827852763635427, 2.9807503817625967,\n",
       "                                         3.0220335745024194, 2.2455541004281767,\n",
       "                                         3.3470409549040454, 2.61250828316427,\n",
       "                                         3.1910367440224836, 2.1453802989768396,\n",
       "                                         1.965815905682995, 2.986427846996275]},\n",
       "                             {'label': 'bagging_fraction',\n",
       "                              'range': [0.4695214357150779, 0.9997370010210894],\n",
       "                              'values': [0.9197056874649611, 0.5825453457757226,\n",
       "                                         0.8711055768358081, 0.9793792198447356,\n",
       "                                         0.9455922412472693, 0.9636993649385135,\n",
       "                                         0.5628094190643376, 0.8633468615779945,\n",
       "                                         0.4695214357150779, 0.932327645545796,\n",
       "                                         0.7740259111776793, 0.9965143675475727,\n",
       "                                         0.7789849317983945, 0.8577881304845949,\n",
       "                                         0.7423078087817518, 0.9991876335952369,\n",
       "                                         0.8892838006291816, 0.999587038732524,\n",
       "                                         0.6808149578508481, 0.8227926068043568,\n",
       "                                         0.9200883090509623, 0.9369552558412391,\n",
       "                                         0.9984818970885843, 0.9159516357407355,\n",
       "                                         0.9982414977657855, 0.9423140247540576,\n",
       "                                         0.9013504658653821, 0.8347486056890672,\n",
       "                                         0.8953875506067501, 0.9643654122070866,\n",
       "                                         0.9574222104676224, 0.9645482813909818,\n",
       "                                         0.9674955265743832, 0.9997370010210894,\n",
       "                                         0.9091334331270637, 0.9970786864030147,\n",
       "                                         0.8780423602337639, 0.9423948354917683,\n",
       "                                         0.9716247257338924, 0.9284463757532526,\n",
       "                                         0.8606300031554119, 0.925841996730172,\n",
       "                                         0.8668971526889194, 0.9243520440709283,\n",
       "                                         0.9254607775589998, 0.9132329171227676,\n",
       "                                         0.9411632536737653, 0.88345332509868,\n",
       "                                         0.8302309107543412, 0.8430512300043952,\n",
       "                                         0.8275315501213181, 0.8894584198435438,\n",
       "                                         0.9541647976012325, 0.9260896870083998,\n",
       "                                         0.9742389181390729, 0.9763161608735873,\n",
       "                                         0.977670007834245, 0.9792175312471751,\n",
       "                                         0.951285262108905, 0.9788030399961961,\n",
       "                                         0.9537867592439175, 0.987540843390752,\n",
       "                                         0.9770000174490728, 0.9558242735945919,\n",
       "                                         0.9001207136077677, 0.9467745827257573,\n",
       "                                         0.9807284713821851, 0.981535732797023,\n",
       "                                         0.9067307807262719, 0.9389245796214958,\n",
       "                                         0.9647302832621777, 0.9811947431416321,\n",
       "                                         0.98728869364854, 0.9548818676602864,\n",
       "                                         0.9867031542147506, 0.9339878899714148,\n",
       "                                         0.9679886671376365, 0.9147784397420529,\n",
       "                                         0.9124598948778029, 0.9403964697571944,\n",
       "                                         0.997951443811916, 0.997051061898194,\n",
       "                                         0.9641489630415879, 0.9848705331995622,\n",
       "                                         0.9873555531316862, 0.9892708205205505,\n",
       "                                         0.9992080194635914, 0.9929803538079469,\n",
       "                                         0.9654747440548928, 0.9982914429344134,\n",
       "                                         0.9502623738496369, 0.9841757812799813,\n",
       "                                         0.9890024635497492, 0.9706569969770917,\n",
       "                                         0.9909072261149323, 0.951333364038866,\n",
       "                                         0.9691470963321818, 0.9869146437817662,\n",
       "                                         0.9972737170371441, 0.985657070664546]},\n",
       "                             {'label': 'bagging_freq',\n",
       "                              'range': [1, 7],\n",
       "                              'values': [5, 4, 2, 6, 2, 7, 6, 2, 7, 4, 5, 7, 5, 5,\n",
       "                                         3, 6, 6, 3, 5, 1, 6, 7, 7, 6, 5, 7, 6, 4,\n",
       "                                         6, 4, 7, 7, 7, 6, 6, 5, 6, 5, 4, 6, 7, 7,\n",
       "                                         7, 7, 7, 7, 7, 6, 5, 3, 5, 5, 6, 7, 7, 1,\n",
       "                                         3, 2, 3, 3, 3, 3, 2, 3, 2, 4, 3, 3, 2, 4,\n",
       "                                         3, 3, 3, 3, 2, 3, 4, 4, 4, 3, 4, 4, 3, 3,\n",
       "                                         4, 4, 4, 4, 4, 4, 4, 3, 4, 4, 4, 4, 4, 5,\n",
       "                                         5, 5]},\n",
       "                             {'label': 'colsample_bytree',\n",
       "                              'range': [0.0005339474397725863, 0.8021969807540397],\n",
       "                              'values': [0.15601864044243652, 0.21233911067827616,\n",
       "                                         0.29214464853521815, 0.17052412368729153,\n",
       "                                         0.12203823484477883, 0.18485445552552704,\n",
       "                                         0.045227288910538066, 0.8021969807540397,\n",
       "                                         0.7712703466859457, 0.32518332202674705,\n",
       "                                         0.5025312176747964, 0.05353757815544402,\n",
       "                                         0.36306940056743026, 0.005059782205534352,\n",
       "                                         0.413414099692713, 0.20799541072729683,\n",
       "                                         0.4816563701627079, 0.24924192834529788,\n",
       "                                         0.11810406985098587, 0.5936216648840692,\n",
       "                                         0.2731725619484715, 0.18984370043381765,\n",
       "                                         0.1112271159575583, 0.09941750363166746,\n",
       "                                         0.026389906619499914, 0.14064671976185683,\n",
       "                                         0.2555366235349953, 0.0005339474397725863,\n",
       "                                         0.09575138503109046, 0.23836676563828596,\n",
       "                                         0.18754106958586853, 0.19461516002781903,\n",
       "                                         0.32561636618709855, 0.16422483302601676,\n",
       "                                         0.08699879477897737, 0.1519307182373177,\n",
       "                                         0.23190682497258802, 0.15730478443330856,\n",
       "                                         0.06596444471520745, 0.13399166375833044,\n",
       "                                         0.11811460040158994, 0.12668691367097684,\n",
       "                                         0.06306146130636225, 0.11433339034977416,\n",
       "                                         0.047247753296695075, 0.13071116753940287,\n",
       "                                         0.038268139868481044, 0.2892932353615438,\n",
       "                                         0.09140646474643262, 0.22092177942079136,\n",
       "                                         0.08030886187510089, 0.12642632532055287,\n",
       "                                         0.003782540070350185, 0.17362126977114148,\n",
       "                                         0.17622927450110096, 0.1781082613221281,\n",
       "                                         0.21523896142979804, 0.20584857197255563,\n",
       "                                         0.268844445893998, 0.30719999089717664,\n",
       "                                         0.2658695839077458, 0.29865343818921064,\n",
       "                                         0.22682364587307952, 0.33582133207950654,\n",
       "                                         0.17088882135409322, 0.3681286540312066,\n",
       "                                         0.2721451441002152, 0.253667261572389,\n",
       "                                         0.2996040883103251, 0.20652738974598592,\n",
       "                                         0.2762010734288135, 0.17060728127441652,\n",
       "                                         0.22199279683162915, 0.2364191411072588,\n",
       "                                         0.2084796792673203, 0.24572774464491215,\n",
       "                                         0.15147374279337855, 0.19201984086148283,\n",
       "                                         0.2679753849290147, 0.309427173968878,\n",
       "                                         0.18351587034815403, 0.190858333421885,\n",
       "                                         0.22314065402947098, 0.1866995941496138,\n",
       "                                         0.15622890264163902, 0.15317171096248813,\n",
       "                                         0.15327247969471786, 0.14345539412625144,\n",
       "                                         0.10731975244654245, 0.14962083648347616,\n",
       "                                         0.06669443003092823, 0.2161057970076296,\n",
       "                                         0.20453400311589848, 0.15840816564946003,\n",
       "                                         0.1027490798804173, 0.18806590150460167,\n",
       "                                         0.2434524920839451, 0.13923901735010571,\n",
       "                                         0.0862852199303866, 0.1336985509734188]},\n",
       "                             {'label': 'feature_fraction',\n",
       "                              'range': [0.4008700070756521, 0.9921321619603104],\n",
       "                              'values': [0.4348501673009197, 0.5100427059120604,\n",
       "                                         0.6736419905302216, 0.9693313223519999,\n",
       "                                         0.42063311266913106, 0.8650796940166687,\n",
       "                                         0.6332063738136893, 0.9921321619603104,\n",
       "                                         0.6150794371265635, 0.7825344828131279,\n",
       "                                         0.40908654226165414, 0.8255046987084346,\n",
       "                                         0.5249681596652943, 0.7980438571671898,\n",
       "                                         0.8780938131142046, 0.7375837746828967,\n",
       "                                         0.746275627121249, 0.7144856522817241,\n",
       "                                         0.5710789603720413, 0.6876119064341457,\n",
       "                                         0.4832619636583593, 0.8563577551886266,\n",
       "                                         0.735921305357069, 0.6412141774758775,\n",
       "                                         0.7368900976666511, 0.5830058011541122,\n",
       "                                         0.6865475693429461, 0.7424502587175147,\n",
       "                                         0.66586175368912, 0.49020018916869673,\n",
       "                                         0.7112319742835453, 0.7820255718423798,\n",
       "                                         0.9236063141716413, 0.8483515527470511,\n",
       "                                         0.8184737089261643, 0.7775183987242034,\n",
       "                                         0.6693944258196824, 0.455523922501682,\n",
       "                                         0.5331415946439793, 0.7546958689088018,\n",
       "                                         0.4008700070756521, 0.4302492471762759,\n",
       "                                         0.40656181796993807, 0.43204033368750566,\n",
       "                                         0.42747035119964294, 0.4439739466160631,\n",
       "                                         0.4599160201081638, 0.4414728185307831,\n",
       "                                         0.426111137953953, 0.4791092926798009,\n",
       "                                         0.42606463139736966, 0.5053822994671855,\n",
       "                                         0.4574667097419035, 0.430390639343767,\n",
       "                                         0.42853567509907375, 0.406766908863416,\n",
       "                                         0.4632648029196641, 0.4770348399229642,\n",
       "                                         0.46675249619533643, 0.5097394967947592,\n",
       "                                         0.5199445024973516, 0.47087598339390546,\n",
       "                                         0.4509660295456932, 0.5049074530949783,\n",
       "                                         0.41606114261123844, 0.5392807443561489,\n",
       "                                         0.502368460632272, 0.4899449156105249,\n",
       "                                         0.46886596190905294, 0.49711813846946284,\n",
       "                                         0.44483136502303594, 0.4205483379778224,\n",
       "                                         0.4670722972795847, 0.4638557253935609,\n",
       "                                         0.5142838562806438, 0.48548691686178597,\n",
       "                                         0.43758189497321154, 0.539141718368751,\n",
       "                                         0.5459073570433265, 0.4974169046718454,\n",
       "                                         0.558155140609239, 0.5543824648124211,\n",
       "                                         0.5110553597846814, 0.526753072038413,\n",
       "                                         0.5331510189726362, 0.5250275209321329,\n",
       "                                         0.5261477018465706, 0.5301915782081995,\n",
       "                                         0.5683173908348137, 0.5934506930923926,\n",
       "                                         0.5302097120324003, 0.4843172104855176,\n",
       "                                         0.5210375949726761, 0.5212792102310018,\n",
       "                                         0.5475158811596395, 0.5569628559120734,\n",
       "                                         0.5209186934840971, 0.47460714683597927,\n",
       "                                         0.4927558000126522, 0.5623941121480248]},\n",
       "                             {'label': 'lambda',\n",
       "                              'range': [0.04685731490615448, 9.69693463915128],\n",
       "                              'values': [5.9865852433118825, 8.324426575561576,\n",
       "                                         1.3949394670265578, 6.0754489114695325,\n",
       "                                         4.40152549724352, 5.467103246722518,\n",
       "                                         1.9598294282085895, 1.4092431088234014,\n",
       "                                         7.290071951402706, 3.1098239061743005,\n",
       "                                         9.322903486827535, 5.423144543084375,\n",
       "                                         6.58814003188102, 4.381302236781178,\n",
       "                                         7.380983683163985, 0.10989288144852694,\n",
       "                                         0.04685731490615448, 3.575581347729561,\n",
       "                                         0.06542180376277607, 3.01030563222218,\n",
       "                                         4.325073836259271, 5.762335494100566,\n",
       "                                         5.145586416552905, 5.153393505897634,\n",
       "                                         7.002383271271844, 4.850276391584219,\n",
       "                                         6.140709488163226, 3.7408752640673972,\n",
       "                                         6.552882597828336, 7.923992949509288,\n",
       "                                         8.717187345470863, 5.5431488162283316,\n",
       "                                         5.032599079210779, 6.036215590402632,\n",
       "                                         6.059307125224936, 6.40303261405777,\n",
       "                                         4.7170149646325195, 7.893390229758678,\n",
       "                                         5.5712652492401675, 6.937818236387808,\n",
       "                                         6.909653822146368, 6.665828418076071,\n",
       "                                         7.044963730380966, 6.757016373726822,\n",
       "                                         7.576116708885911, 6.693626585554315,\n",
       "                                         6.201124200964282, 7.291159987273863,\n",
       "                                         6.663877086365325, 5.843445365789423,\n",
       "                                         6.6111390899220215, 6.386037242837815,\n",
       "                                         5.360483060039332, 6.932678453481653,\n",
       "                                         7.608116988724246, 8.355454724349704,\n",
       "                                         7.603924103490517, 7.550567422439524,\n",
       "                                         7.292470388900721, 8.903638793678716,\n",
       "                                         9.383450484937487, 8.915163875554098,\n",
       "                                         9.69693463915128, 8.114545519520252,\n",
       "                                         7.675606533944866, 8.388143493674383,\n",
       "                                         7.489880075839772, 7.326595874968607,\n",
       "                                         7.84169462353307, 7.190460367103964,\n",
       "                                         8.112572966429873, 7.26114756563111,\n",
       "                                         7.646516124349529, 7.5942031479204894,\n",
       "                                         8.605006154286691, 7.8267085231069835,\n",
       "                                         8.103304350833206, 7.452409238434383,\n",
       "                                         8.852117742387037, 7.511698979058752,\n",
       "                                         7.0459229439325615, 7.070075059910604,\n",
       "                                         7.371037442448027, 6.97062092953781,\n",
       "                                         6.955428960316583, 7.722140161016935,\n",
       "                                         7.82241051539538, 7.721288388996517,\n",
       "                                         7.100997855615312, 7.978392949304747,\n",
       "                                         6.909372345388704, 7.734032419381153,\n",
       "                                         7.814781885710721, 8.126798957180933,\n",
       "                                         6.386199572217883, 8.374416265646634,\n",
       "                                         7.213064685185137, 6.8522998176035195,\n",
       "                                         6.928131269636145, 6.786363449107558]},\n",
       "                             {'label': 'max_depth',\n",
       "                              'range': [1, 10],\n",
       "                              'values': [4, 8, 5, 6, 4, 7, 6, 4, 1, 7, 10, 2, 9,\n",
       "                                         3, 7, 5, 4, 3, 5, 1, 3, 7, 5, 5, 4, 6, 2,\n",
       "                                         5, 3, 8, 6, 8, 7, 5, 5, 4, 5, 6, 4, 6, 6,\n",
       "                                         6, 6, 7, 8, 7, 7, 9, 6, 4, 9, 6, 7, 6, 5,\n",
       "                                         5, 4, 3, 4, 4, 2, 4, 4, 5, 3, 4, 5, 3, 4,\n",
       "                                         5, 4, 5, 5, 5, 6, 5, 4, 5, 3, 4, 5, 5, 5,\n",
       "                                         5, 5, 5, 5, 5, 5, 4, 6, 5, 5, 5, 5, 4, 6,\n",
       "                                         4, 5, 5]},\n",
       "                             {'label': 'min_child_samples',\n",
       "                              'range': [7, 100],\n",
       "                              'values': [19, 22, 40, 11, 52, 98, 36, 12, 12, 75,\n",
       "                                         71, 96, 93, 67, 32, 54, 54, 56, 46, 25,\n",
       "                                         82, 86, 60, 62, 44, 28, 60, 48, 19, 77,\n",
       "                                         65, 100, 37, 90, 90, 18, 50, 42, 7, 58,\n",
       "                                         71, 72, 71, 78, 79, 67, 60, 83, 74, 73,\n",
       "                                         79, 57, 65, 74, 74, 75, 84, 86, 84, 83,\n",
       "                                         96, 83, 81, 88, 94, 67, 86, 85, 91, 75,\n",
       "                                         87, 76, 81, 80, 84, 93, 81, 69, 91, 88,\n",
       "                                         69, 68, 63, 69, 70, 70, 70, 63, 69, 77,\n",
       "                                         71, 65, 65, 70, 53, 73, 65, 78, 61, 78]},\n",
       "                             {'label': 'num_leaves',\n",
       "                              'range': [3, 100],\n",
       "                              'values': [96, 4, 30, 60, 11, 32, 93, 29, 82, 34,\n",
       "                                         69, 46, 95, 52, 77, 21, 16, 45, 16, 62,\n",
       "                                         100, 37, 24, 21, 3, 20, 24, 43, 84, 9, 55,\n",
       "                                         38, 27, 34, 42, 10, 30, 16, 25, 61, 70,\n",
       "                                         65, 69, 63, 61, 75, 55, 81, 88, 93, 89,\n",
       "                                         65, 87, 99, 97, 100, 98, 96, 90, 92, 90,\n",
       "                                         93, 97, 85, 80, 91, 100, 98, 94, 100, 85,\n",
       "                                         89, 97, 96, 92, 98, 87, 76, 79, 75, 95,\n",
       "                                         95, 100, 92, 83, 82, 83, 84, 82, 78, 86,\n",
       "                                         72, 73, 83, 91, 95, 89, 94, 97, 72]}],\n",
       "              'labelangle': 30,\n",
       "              'labelside': 'bottom',\n",
       "              'line': {'color': [44.26613191730135, 45.02595587682659,\n",
       "                                 44.3507389885141, 44.38430020649219,\n",
       "                                 44.418205242699, 44.327342550037756,\n",
       "                                 44.442141457015346, 44.32869307991435,\n",
       "                                 46.367573863616656, 44.40978282279831,\n",
       "                                 44.47992054012187, 44.61304079800378,\n",
       "                                 44.36020059537444, 44.373764528891904,\n",
       "                                 44.5395356233537, 44.314663049064286,\n",
       "                                 44.35348476325762, 44.36271920065812,\n",
       "                                 44.55213525788126, 46.300811275935985,\n",
       "                                 44.351285682643024, 44.435519914370616,\n",
       "                                 44.265832533382344, 44.339290896284766,\n",
       "                                 44.88094302258532, 44.50467734916339,\n",
       "                                 44.64835603322172, 44.382850517492415,\n",
       "                                 44.384499126099364, 44.49817640049199,\n",
       "                                 44.399062855017576, 44.373601970793494,\n",
       "                                 44.50824253106697, 44.308260756203566,\n",
       "                                 44.36919569080932, 44.51017091086822,\n",
       "                                 44.33667785196861, 44.428516170458124,\n",
       "                                 44.33580766594878, 44.29610159158736,\n",
       "                                 44.305054775659755, 44.29244779011677,\n",
       "                                 44.32581835637505, 44.27736948785386,\n",
       "                                 44.425281993826786, 44.30550661113876,\n",
       "                                 44.38370702918657, 44.37172260200653,\n",
       "                                 44.264447318962304, 44.30355219670758,\n",
       "                                 44.366254610670225, 44.378070373083276,\n",
       "                                 44.31774320028066, 44.2566233586265,\n",
       "                                 44.230726389720026, 44.31598094137389,\n",
       "                                 44.24205464287048, 44.35209651162046,\n",
       "                                 44.24495402041233, 44.26200509604406,\n",
       "                                 44.59993498878382, 44.349131753798396,\n",
       "                                 44.29349310178346, 44.26997983168163,\n",
       "                                 44.41449467649419, 44.28730213561426,\n",
       "                                 44.25107407134262, 44.34539163497779,\n",
       "                                 44.3075681882151, 44.28663551979785,\n",
       "                                 44.31969448860214, 44.30523704097535,\n",
       "                                 44.20890187548654, 44.29855465355128,\n",
       "                                 44.29168343763577, 44.29371218925505,\n",
       "                                 44.292049304641985, 44.25195629470676,\n",
       "                                 44.38570193041323, 44.29648516462272,\n",
       "                                 44.24275242779013, 44.26204026890642,\n",
       "                                 44.28217759512446, 44.23107120959496,\n",
       "                                 44.24315414534964, 44.2209761407907,\n",
       "                                 44.223314420925774, 44.29378197708056,\n",
       "                                 44.28709533155107, 44.27777448977976,\n",
       "                                 44.26597361752531, 44.248030217267065,\n",
       "                                 44.24402536673639, 44.274638127775056,\n",
       "                                 44.30857733484811, 44.30201775381615,\n",
       "                                 44.27609303711784, 44.20909436811753,\n",
       "                                 44.2784071705402, 44.33453878783728],\n",
       "                       'colorbar': {'title': {'text': 'Objective Value'}},\n",
       "                       'colorscale': [[0.0, 'rgb(247,251,255)'], [0.125,\n",
       "                                      'rgb(222,235,247)'], [0.25,\n",
       "                                      'rgb(198,219,239)'], [0.375,\n",
       "                                      'rgb(158,202,225)'], [0.5,\n",
       "                                      'rgb(107,174,214)'], [0.625,\n",
       "                                      'rgb(66,146,198)'], [0.75,\n",
       "                                      'rgb(33,113,181)'], [0.875, 'rgb(8,81,156)'],\n",
       "                                      [1.0, 'rgb(8,48,107)']],\n",
       "                       'reversescale': True,\n",
       "                       'showscale': True},\n",
       "              'type': 'parcoords'}],\n",
       "    'layout': {'template': '...', 'title': {'text': 'Parallel Coordinate Plot'}}\n",
       "})"
      ]
     },
     "execution_count": 230,
     "metadata": {},
     "output_type": "execute_result"
    }
   ],
   "source": [
    "plot_parallel_coordinate(study)"
   ]
  },
  {
   "cell_type": "code",
   "execution_count": 231,
   "metadata": {},
   "outputs": [
    {
     "ename": "ValueError",
     "evalue": "Mime type rendering requires nbformat>=4.2.0 but it is not installed",
     "output_type": "error",
     "traceback": [
      "\u001b[1;31m---------------------------------------------------------------------------\u001b[0m",
      "\u001b[1;31mValueError\u001b[0m                                Traceback (most recent call last)",
      "File \u001b[1;32m~\\AppData\\Roaming\\Python\\Python311\\site-packages\\IPython\\core\\formatters.py:922\u001b[0m, in \u001b[0;36mIPythonDisplayFormatter.__call__\u001b[1;34m(self, obj)\u001b[0m\n\u001b[0;32m    920\u001b[0m method \u001b[39m=\u001b[39m get_real_method(obj, \u001b[39mself\u001b[39m\u001b[39m.\u001b[39mprint_method)\n\u001b[0;32m    921\u001b[0m \u001b[39mif\u001b[39;00m method \u001b[39mis\u001b[39;00m \u001b[39mnot\u001b[39;00m \u001b[39mNone\u001b[39;00m:\n\u001b[1;32m--> 922\u001b[0m     method()\n\u001b[0;32m    923\u001b[0m     \u001b[39mreturn\u001b[39;00m \u001b[39mTrue\u001b[39;00m\n",
      "File \u001b[1;32mc:\\Users\\Komiyama Yuji\\AppData\\Local\\Programs\\Python\\Python311\\Lib\\site-packages\\plotly\\basedatatypes.py:834\u001b[0m, in \u001b[0;36mBaseFigure._ipython_display_\u001b[1;34m(self)\u001b[0m\n\u001b[0;32m    831\u001b[0m \u001b[39mimport\u001b[39;00m \u001b[39mplotly\u001b[39;00m\u001b[39m.\u001b[39;00m\u001b[39mio\u001b[39;00m \u001b[39mas\u001b[39;00m \u001b[39mpio\u001b[39;00m\n\u001b[0;32m    833\u001b[0m \u001b[39mif\u001b[39;00m pio\u001b[39m.\u001b[39mrenderers\u001b[39m.\u001b[39mrender_on_display \u001b[39mand\u001b[39;00m pio\u001b[39m.\u001b[39mrenderers\u001b[39m.\u001b[39mdefault:\n\u001b[1;32m--> 834\u001b[0m     pio\u001b[39m.\u001b[39;49mshow(\u001b[39mself\u001b[39;49m)\n\u001b[0;32m    835\u001b[0m \u001b[39melse\u001b[39;00m:\n\u001b[0;32m    836\u001b[0m     \u001b[39mprint\u001b[39m(\u001b[39mrepr\u001b[39m(\u001b[39mself\u001b[39m))\n",
      "File \u001b[1;32mc:\\Users\\Komiyama Yuji\\AppData\\Local\\Programs\\Python\\Python311\\Lib\\site-packages\\plotly\\io\\_renderers.py:396\u001b[0m, in \u001b[0;36mshow\u001b[1;34m(fig, renderer, validate, **kwargs)\u001b[0m\n\u001b[0;32m    391\u001b[0m         \u001b[39mraise\u001b[39;00m \u001b[39mValueError\u001b[39;00m(\n\u001b[0;32m    392\u001b[0m             \u001b[39m\"\u001b[39m\u001b[39mMime type rendering requires ipython but it is not installed\u001b[39m\u001b[39m\"\u001b[39m\n\u001b[0;32m    393\u001b[0m         )\n\u001b[0;32m    395\u001b[0m     \u001b[39mif\u001b[39;00m \u001b[39mnot\u001b[39;00m nbformat \u001b[39mor\u001b[39;00m Version(nbformat\u001b[39m.\u001b[39m__version__) \u001b[39m<\u001b[39m Version(\u001b[39m\"\u001b[39m\u001b[39m4.2.0\u001b[39m\u001b[39m\"\u001b[39m):\n\u001b[1;32m--> 396\u001b[0m         \u001b[39mraise\u001b[39;00m \u001b[39mValueError\u001b[39;00m(\n\u001b[0;32m    397\u001b[0m             \u001b[39m\"\u001b[39m\u001b[39mMime type rendering requires nbformat>=4.2.0 but it is not installed\u001b[39m\u001b[39m\"\u001b[39m\n\u001b[0;32m    398\u001b[0m         )\n\u001b[0;32m    400\u001b[0m     ipython_display\u001b[39m.\u001b[39mdisplay(bundle, raw\u001b[39m=\u001b[39m\u001b[39mTrue\u001b[39;00m)\n\u001b[0;32m    402\u001b[0m \u001b[39m# external renderers\u001b[39;00m\n",
      "\u001b[1;31mValueError\u001b[0m: Mime type rendering requires nbformat>=4.2.0 but it is not installed"
     ]
    },
    {
     "data": {
      "application/vnd.plotly.v1+json": {
       "config": {
        "plotlyServerURL": "https://plot.ly"
       },
       "data": [
        {
         "cliponaxis": false,
         "hovertemplate": [
          "lambda (FloatDistribution): 0.0013963320571787712<extra></extra>",
          "feature_fraction (FloatDistribution): 0.003124326665495751<extra></extra>",
          "min_child_samples (IntDistribution): 0.008426470469576966<extra></extra>",
          "alpha (FloatDistribution): 0.030645985473193027<extra></extra>",
          "bagging_freq (IntDistribution): 0.060808640625163723<extra></extra>",
          "num_leaves (IntDistribution): 0.06632607874069955<extra></extra>",
          "bagging_fraction (FloatDistribution): 0.09297402763217748<extra></extra>",
          "colsample_bytree (FloatDistribution): 0.1785646595657753<extra></extra>",
          "max_depth (IntDistribution): 0.5577334787707392<extra></extra>"
         ],
         "marker": {
          "color": "rgb(66,146,198)"
         },
         "orientation": "h",
         "text": [
          "<0.01",
          "<0.01",
          "<0.01",
          "0.03",
          "0.06",
          "0.07",
          "0.09",
          "0.18",
          "0.56"
         ],
         "textposition": "outside",
         "type": "bar",
         "x": [
          0.0013963320571787712,
          0.003124326665495751,
          0.008426470469576966,
          0.030645985473193027,
          0.060808640625163723,
          0.06632607874069955,
          0.09297402763217748,
          0.1785646595657753,
          0.5577334787707392
         ],
         "y": [
          "lambda",
          "feature_fraction",
          "min_child_samples",
          "alpha",
          "bagging_freq",
          "num_leaves",
          "bagging_fraction",
          "colsample_bytree",
          "max_depth"
         ]
        }
       ],
       "layout": {
        "showlegend": false,
        "template": {
         "data": {
          "bar": [
           {
            "error_x": {
             "color": "#2a3f5f"
            },
            "error_y": {
             "color": "#2a3f5f"
            },
            "marker": {
             "line": {
              "color": "#E5ECF6",
              "width": 0.5
             },
             "pattern": {
              "fillmode": "overlay",
              "size": 10,
              "solidity": 0.2
             }
            },
            "type": "bar"
           }
          ],
          "barpolar": [
           {
            "marker": {
             "line": {
              "color": "#E5ECF6",
              "width": 0.5
             },
             "pattern": {
              "fillmode": "overlay",
              "size": 10,
              "solidity": 0.2
             }
            },
            "type": "barpolar"
           }
          ],
          "carpet": [
           {
            "aaxis": {
             "endlinecolor": "#2a3f5f",
             "gridcolor": "white",
             "linecolor": "white",
             "minorgridcolor": "white",
             "startlinecolor": "#2a3f5f"
            },
            "baxis": {
             "endlinecolor": "#2a3f5f",
             "gridcolor": "white",
             "linecolor": "white",
             "minorgridcolor": "white",
             "startlinecolor": "#2a3f5f"
            },
            "type": "carpet"
           }
          ],
          "choropleth": [
           {
            "colorbar": {
             "outlinewidth": 0,
             "ticks": ""
            },
            "type": "choropleth"
           }
          ],
          "contour": [
           {
            "colorbar": {
             "outlinewidth": 0,
             "ticks": ""
            },
            "colorscale": [
             [
              0,
              "#0d0887"
             ],
             [
              0.1111111111111111,
              "#46039f"
             ],
             [
              0.2222222222222222,
              "#7201a8"
             ],
             [
              0.3333333333333333,
              "#9c179e"
             ],
             [
              0.4444444444444444,
              "#bd3786"
             ],
             [
              0.5555555555555556,
              "#d8576b"
             ],
             [
              0.6666666666666666,
              "#ed7953"
             ],
             [
              0.7777777777777778,
              "#fb9f3a"
             ],
             [
              0.8888888888888888,
              "#fdca26"
             ],
             [
              1,
              "#f0f921"
             ]
            ],
            "type": "contour"
           }
          ],
          "contourcarpet": [
           {
            "colorbar": {
             "outlinewidth": 0,
             "ticks": ""
            },
            "type": "contourcarpet"
           }
          ],
          "heatmap": [
           {
            "colorbar": {
             "outlinewidth": 0,
             "ticks": ""
            },
            "colorscale": [
             [
              0,
              "#0d0887"
             ],
             [
              0.1111111111111111,
              "#46039f"
             ],
             [
              0.2222222222222222,
              "#7201a8"
             ],
             [
              0.3333333333333333,
              "#9c179e"
             ],
             [
              0.4444444444444444,
              "#bd3786"
             ],
             [
              0.5555555555555556,
              "#d8576b"
             ],
             [
              0.6666666666666666,
              "#ed7953"
             ],
             [
              0.7777777777777778,
              "#fb9f3a"
             ],
             [
              0.8888888888888888,
              "#fdca26"
             ],
             [
              1,
              "#f0f921"
             ]
            ],
            "type": "heatmap"
           }
          ],
          "heatmapgl": [
           {
            "colorbar": {
             "outlinewidth": 0,
             "ticks": ""
            },
            "colorscale": [
             [
              0,
              "#0d0887"
             ],
             [
              0.1111111111111111,
              "#46039f"
             ],
             [
              0.2222222222222222,
              "#7201a8"
             ],
             [
              0.3333333333333333,
              "#9c179e"
             ],
             [
              0.4444444444444444,
              "#bd3786"
             ],
             [
              0.5555555555555556,
              "#d8576b"
             ],
             [
              0.6666666666666666,
              "#ed7953"
             ],
             [
              0.7777777777777778,
              "#fb9f3a"
             ],
             [
              0.8888888888888888,
              "#fdca26"
             ],
             [
              1,
              "#f0f921"
             ]
            ],
            "type": "heatmapgl"
           }
          ],
          "histogram": [
           {
            "marker": {
             "pattern": {
              "fillmode": "overlay",
              "size": 10,
              "solidity": 0.2
             }
            },
            "type": "histogram"
           }
          ],
          "histogram2d": [
           {
            "colorbar": {
             "outlinewidth": 0,
             "ticks": ""
            },
            "colorscale": [
             [
              0,
              "#0d0887"
             ],
             [
              0.1111111111111111,
              "#46039f"
             ],
             [
              0.2222222222222222,
              "#7201a8"
             ],
             [
              0.3333333333333333,
              "#9c179e"
             ],
             [
              0.4444444444444444,
              "#bd3786"
             ],
             [
              0.5555555555555556,
              "#d8576b"
             ],
             [
              0.6666666666666666,
              "#ed7953"
             ],
             [
              0.7777777777777778,
              "#fb9f3a"
             ],
             [
              0.8888888888888888,
              "#fdca26"
             ],
             [
              1,
              "#f0f921"
             ]
            ],
            "type": "histogram2d"
           }
          ],
          "histogram2dcontour": [
           {
            "colorbar": {
             "outlinewidth": 0,
             "ticks": ""
            },
            "colorscale": [
             [
              0,
              "#0d0887"
             ],
             [
              0.1111111111111111,
              "#46039f"
             ],
             [
              0.2222222222222222,
              "#7201a8"
             ],
             [
              0.3333333333333333,
              "#9c179e"
             ],
             [
              0.4444444444444444,
              "#bd3786"
             ],
             [
              0.5555555555555556,
              "#d8576b"
             ],
             [
              0.6666666666666666,
              "#ed7953"
             ],
             [
              0.7777777777777778,
              "#fb9f3a"
             ],
             [
              0.8888888888888888,
              "#fdca26"
             ],
             [
              1,
              "#f0f921"
             ]
            ],
            "type": "histogram2dcontour"
           }
          ],
          "mesh3d": [
           {
            "colorbar": {
             "outlinewidth": 0,
             "ticks": ""
            },
            "type": "mesh3d"
           }
          ],
          "parcoords": [
           {
            "line": {
             "colorbar": {
              "outlinewidth": 0,
              "ticks": ""
             }
            },
            "type": "parcoords"
           }
          ],
          "pie": [
           {
            "automargin": true,
            "type": "pie"
           }
          ],
          "scatter": [
           {
            "fillpattern": {
             "fillmode": "overlay",
             "size": 10,
             "solidity": 0.2
            },
            "type": "scatter"
           }
          ],
          "scatter3d": [
           {
            "line": {
             "colorbar": {
              "outlinewidth": 0,
              "ticks": ""
             }
            },
            "marker": {
             "colorbar": {
              "outlinewidth": 0,
              "ticks": ""
             }
            },
            "type": "scatter3d"
           }
          ],
          "scattercarpet": [
           {
            "marker": {
             "colorbar": {
              "outlinewidth": 0,
              "ticks": ""
             }
            },
            "type": "scattercarpet"
           }
          ],
          "scattergeo": [
           {
            "marker": {
             "colorbar": {
              "outlinewidth": 0,
              "ticks": ""
             }
            },
            "type": "scattergeo"
           }
          ],
          "scattergl": [
           {
            "marker": {
             "colorbar": {
              "outlinewidth": 0,
              "ticks": ""
             }
            },
            "type": "scattergl"
           }
          ],
          "scattermapbox": [
           {
            "marker": {
             "colorbar": {
              "outlinewidth": 0,
              "ticks": ""
             }
            },
            "type": "scattermapbox"
           }
          ],
          "scatterpolar": [
           {
            "marker": {
             "colorbar": {
              "outlinewidth": 0,
              "ticks": ""
             }
            },
            "type": "scatterpolar"
           }
          ],
          "scatterpolargl": [
           {
            "marker": {
             "colorbar": {
              "outlinewidth": 0,
              "ticks": ""
             }
            },
            "type": "scatterpolargl"
           }
          ],
          "scatterternary": [
           {
            "marker": {
             "colorbar": {
              "outlinewidth": 0,
              "ticks": ""
             }
            },
            "type": "scatterternary"
           }
          ],
          "surface": [
           {
            "colorbar": {
             "outlinewidth": 0,
             "ticks": ""
            },
            "colorscale": [
             [
              0,
              "#0d0887"
             ],
             [
              0.1111111111111111,
              "#46039f"
             ],
             [
              0.2222222222222222,
              "#7201a8"
             ],
             [
              0.3333333333333333,
              "#9c179e"
             ],
             [
              0.4444444444444444,
              "#bd3786"
             ],
             [
              0.5555555555555556,
              "#d8576b"
             ],
             [
              0.6666666666666666,
              "#ed7953"
             ],
             [
              0.7777777777777778,
              "#fb9f3a"
             ],
             [
              0.8888888888888888,
              "#fdca26"
             ],
             [
              1,
              "#f0f921"
             ]
            ],
            "type": "surface"
           }
          ],
          "table": [
           {
            "cells": {
             "fill": {
              "color": "#EBF0F8"
             },
             "line": {
              "color": "white"
             }
            },
            "header": {
             "fill": {
              "color": "#C8D4E3"
             },
             "line": {
              "color": "white"
             }
            },
            "type": "table"
           }
          ]
         },
         "layout": {
          "annotationdefaults": {
           "arrowcolor": "#2a3f5f",
           "arrowhead": 0,
           "arrowwidth": 1
          },
          "autotypenumbers": "strict",
          "coloraxis": {
           "colorbar": {
            "outlinewidth": 0,
            "ticks": ""
           }
          },
          "colorscale": {
           "diverging": [
            [
             0,
             "#8e0152"
            ],
            [
             0.1,
             "#c51b7d"
            ],
            [
             0.2,
             "#de77ae"
            ],
            [
             0.3,
             "#f1b6da"
            ],
            [
             0.4,
             "#fde0ef"
            ],
            [
             0.5,
             "#f7f7f7"
            ],
            [
             0.6,
             "#e6f5d0"
            ],
            [
             0.7,
             "#b8e186"
            ],
            [
             0.8,
             "#7fbc41"
            ],
            [
             0.9,
             "#4d9221"
            ],
            [
             1,
             "#276419"
            ]
           ],
           "sequential": [
            [
             0,
             "#0d0887"
            ],
            [
             0.1111111111111111,
             "#46039f"
            ],
            [
             0.2222222222222222,
             "#7201a8"
            ],
            [
             0.3333333333333333,
             "#9c179e"
            ],
            [
             0.4444444444444444,
             "#bd3786"
            ],
            [
             0.5555555555555556,
             "#d8576b"
            ],
            [
             0.6666666666666666,
             "#ed7953"
            ],
            [
             0.7777777777777778,
             "#fb9f3a"
            ],
            [
             0.8888888888888888,
             "#fdca26"
            ],
            [
             1,
             "#f0f921"
            ]
           ],
           "sequentialminus": [
            [
             0,
             "#0d0887"
            ],
            [
             0.1111111111111111,
             "#46039f"
            ],
            [
             0.2222222222222222,
             "#7201a8"
            ],
            [
             0.3333333333333333,
             "#9c179e"
            ],
            [
             0.4444444444444444,
             "#bd3786"
            ],
            [
             0.5555555555555556,
             "#d8576b"
            ],
            [
             0.6666666666666666,
             "#ed7953"
            ],
            [
             0.7777777777777778,
             "#fb9f3a"
            ],
            [
             0.8888888888888888,
             "#fdca26"
            ],
            [
             1,
             "#f0f921"
            ]
           ]
          },
          "colorway": [
           "#636efa",
           "#EF553B",
           "#00cc96",
           "#ab63fa",
           "#FFA15A",
           "#19d3f3",
           "#FF6692",
           "#B6E880",
           "#FF97FF",
           "#FECB52"
          ],
          "font": {
           "color": "#2a3f5f"
          },
          "geo": {
           "bgcolor": "white",
           "lakecolor": "white",
           "landcolor": "#E5ECF6",
           "showlakes": true,
           "showland": true,
           "subunitcolor": "white"
          },
          "hoverlabel": {
           "align": "left"
          },
          "hovermode": "closest",
          "mapbox": {
           "style": "light"
          },
          "paper_bgcolor": "white",
          "plot_bgcolor": "#E5ECF6",
          "polar": {
           "angularaxis": {
            "gridcolor": "white",
            "linecolor": "white",
            "ticks": ""
           },
           "bgcolor": "#E5ECF6",
           "radialaxis": {
            "gridcolor": "white",
            "linecolor": "white",
            "ticks": ""
           }
          },
          "scene": {
           "xaxis": {
            "backgroundcolor": "#E5ECF6",
            "gridcolor": "white",
            "gridwidth": 2,
            "linecolor": "white",
            "showbackground": true,
            "ticks": "",
            "zerolinecolor": "white"
           },
           "yaxis": {
            "backgroundcolor": "#E5ECF6",
            "gridcolor": "white",
            "gridwidth": 2,
            "linecolor": "white",
            "showbackground": true,
            "ticks": "",
            "zerolinecolor": "white"
           },
           "zaxis": {
            "backgroundcolor": "#E5ECF6",
            "gridcolor": "white",
            "gridwidth": 2,
            "linecolor": "white",
            "showbackground": true,
            "ticks": "",
            "zerolinecolor": "white"
           }
          },
          "shapedefaults": {
           "line": {
            "color": "#2a3f5f"
           }
          },
          "ternary": {
           "aaxis": {
            "gridcolor": "white",
            "linecolor": "white",
            "ticks": ""
           },
           "baxis": {
            "gridcolor": "white",
            "linecolor": "white",
            "ticks": ""
           },
           "bgcolor": "#E5ECF6",
           "caxis": {
            "gridcolor": "white",
            "linecolor": "white",
            "ticks": ""
           }
          },
          "title": {
           "x": 0.05
          },
          "xaxis": {
           "automargin": true,
           "gridcolor": "white",
           "linecolor": "white",
           "ticks": "",
           "title": {
            "standoff": 15
           },
           "zerolinecolor": "white",
           "zerolinewidth": 2
          },
          "yaxis": {
           "automargin": true,
           "gridcolor": "white",
           "linecolor": "white",
           "ticks": "",
           "title": {
            "standoff": 15
           },
           "zerolinecolor": "white",
           "zerolinewidth": 2
          }
         }
        },
        "title": {
         "text": "Hyperparameter Importances"
        },
        "xaxis": {
         "title": {
          "text": "Importance for Objective Value"
         }
        },
        "yaxis": {
         "title": {
          "text": "Hyperparameter"
         }
        }
       }
      },
      "text/html": [
       "<div>                        <script type=\"text/javascript\">window.PlotlyConfig = {MathJaxConfig: 'local'};</script>\n",
       "        <script charset=\"utf-8\" src=\"https://cdn.plot.ly/plotly-2.24.1.min.js\"></script>                <div id=\"c873cfe0-ca5d-461c-b492-efa14737da90\" class=\"plotly-graph-div\" style=\"height:100%; width:100%;\"></div>            <script type=\"text/javascript\">                                    window.PLOTLYENV=window.PLOTLYENV || {};                                    if (document.getElementById(\"c873cfe0-ca5d-461c-b492-efa14737da90\")) {                    Plotly.newPlot(                        \"c873cfe0-ca5d-461c-b492-efa14737da90\",                        [{\"cliponaxis\":false,\"hovertemplate\":[\"lambda (FloatDistribution): 0.0013963320571787712\\u003cextra\\u003e\\u003c\\u002fextra\\u003e\",\"feature_fraction (FloatDistribution): 0.003124326665495751\\u003cextra\\u003e\\u003c\\u002fextra\\u003e\",\"min_child_samples (IntDistribution): 0.008426470469576966\\u003cextra\\u003e\\u003c\\u002fextra\\u003e\",\"alpha (FloatDistribution): 0.030645985473193027\\u003cextra\\u003e\\u003c\\u002fextra\\u003e\",\"bagging_freq (IntDistribution): 0.060808640625163723\\u003cextra\\u003e\\u003c\\u002fextra\\u003e\",\"num_leaves (IntDistribution): 0.06632607874069955\\u003cextra\\u003e\\u003c\\u002fextra\\u003e\",\"bagging_fraction (FloatDistribution): 0.09297402763217748\\u003cextra\\u003e\\u003c\\u002fextra\\u003e\",\"colsample_bytree (FloatDistribution): 0.1785646595657753\\u003cextra\\u003e\\u003c\\u002fextra\\u003e\",\"max_depth (IntDistribution): 0.5577334787707392\\u003cextra\\u003e\\u003c\\u002fextra\\u003e\"],\"marker\":{\"color\":\"rgb(66,146,198)\"},\"orientation\":\"h\",\"text\":[\"\\u003c0.01\",\"\\u003c0.01\",\"\\u003c0.01\",\"0.03\",\"0.06\",\"0.07\",\"0.09\",\"0.18\",\"0.56\"],\"textposition\":\"outside\",\"x\":[0.0013963320571787712,0.003124326665495751,0.008426470469576966,0.030645985473193027,0.060808640625163723,0.06632607874069955,0.09297402763217748,0.1785646595657753,0.5577334787707392],\"y\":[\"lambda\",\"feature_fraction\",\"min_child_samples\",\"alpha\",\"bagging_freq\",\"num_leaves\",\"bagging_fraction\",\"colsample_bytree\",\"max_depth\"],\"type\":\"bar\"}],                        {\"showlegend\":false,\"title\":{\"text\":\"Hyperparameter Importances\"},\"xaxis\":{\"title\":{\"text\":\"Importance for Objective Value\"}},\"yaxis\":{\"title\":{\"text\":\"Hyperparameter\"}},\"template\":{\"data\":{\"histogram2dcontour\":[{\"type\":\"histogram2dcontour\",\"colorbar\":{\"outlinewidth\":0,\"ticks\":\"\"},\"colorscale\":[[0.0,\"#0d0887\"],[0.1111111111111111,\"#46039f\"],[0.2222222222222222,\"#7201a8\"],[0.3333333333333333,\"#9c179e\"],[0.4444444444444444,\"#bd3786\"],[0.5555555555555556,\"#d8576b\"],[0.6666666666666666,\"#ed7953\"],[0.7777777777777778,\"#fb9f3a\"],[0.8888888888888888,\"#fdca26\"],[1.0,\"#f0f921\"]]}],\"choropleth\":[{\"type\":\"choropleth\",\"colorbar\":{\"outlinewidth\":0,\"ticks\":\"\"}}],\"histogram2d\":[{\"type\":\"histogram2d\",\"colorbar\":{\"outlinewidth\":0,\"ticks\":\"\"},\"colorscale\":[[0.0,\"#0d0887\"],[0.1111111111111111,\"#46039f\"],[0.2222222222222222,\"#7201a8\"],[0.3333333333333333,\"#9c179e\"],[0.4444444444444444,\"#bd3786\"],[0.5555555555555556,\"#d8576b\"],[0.6666666666666666,\"#ed7953\"],[0.7777777777777778,\"#fb9f3a\"],[0.8888888888888888,\"#fdca26\"],[1.0,\"#f0f921\"]]}],\"heatmap\":[{\"type\":\"heatmap\",\"colorbar\":{\"outlinewidth\":0,\"ticks\":\"\"},\"colorscale\":[[0.0,\"#0d0887\"],[0.1111111111111111,\"#46039f\"],[0.2222222222222222,\"#7201a8\"],[0.3333333333333333,\"#9c179e\"],[0.4444444444444444,\"#bd3786\"],[0.5555555555555556,\"#d8576b\"],[0.6666666666666666,\"#ed7953\"],[0.7777777777777778,\"#fb9f3a\"],[0.8888888888888888,\"#fdca26\"],[1.0,\"#f0f921\"]]}],\"heatmapgl\":[{\"type\":\"heatmapgl\",\"colorbar\":{\"outlinewidth\":0,\"ticks\":\"\"},\"colorscale\":[[0.0,\"#0d0887\"],[0.1111111111111111,\"#46039f\"],[0.2222222222222222,\"#7201a8\"],[0.3333333333333333,\"#9c179e\"],[0.4444444444444444,\"#bd3786\"],[0.5555555555555556,\"#d8576b\"],[0.6666666666666666,\"#ed7953\"],[0.7777777777777778,\"#fb9f3a\"],[0.8888888888888888,\"#fdca26\"],[1.0,\"#f0f921\"]]}],\"contourcarpet\":[{\"type\":\"contourcarpet\",\"colorbar\":{\"outlinewidth\":0,\"ticks\":\"\"}}],\"contour\":[{\"type\":\"contour\",\"colorbar\":{\"outlinewidth\":0,\"ticks\":\"\"},\"colorscale\":[[0.0,\"#0d0887\"],[0.1111111111111111,\"#46039f\"],[0.2222222222222222,\"#7201a8\"],[0.3333333333333333,\"#9c179e\"],[0.4444444444444444,\"#bd3786\"],[0.5555555555555556,\"#d8576b\"],[0.6666666666666666,\"#ed7953\"],[0.7777777777777778,\"#fb9f3a\"],[0.8888888888888888,\"#fdca26\"],[1.0,\"#f0f921\"]]}],\"surface\":[{\"type\":\"surface\",\"colorbar\":{\"outlinewidth\":0,\"ticks\":\"\"},\"colorscale\":[[0.0,\"#0d0887\"],[0.1111111111111111,\"#46039f\"],[0.2222222222222222,\"#7201a8\"],[0.3333333333333333,\"#9c179e\"],[0.4444444444444444,\"#bd3786\"],[0.5555555555555556,\"#d8576b\"],[0.6666666666666666,\"#ed7953\"],[0.7777777777777778,\"#fb9f3a\"],[0.8888888888888888,\"#fdca26\"],[1.0,\"#f0f921\"]]}],\"mesh3d\":[{\"type\":\"mesh3d\",\"colorbar\":{\"outlinewidth\":0,\"ticks\":\"\"}}],\"scatter\":[{\"fillpattern\":{\"fillmode\":\"overlay\",\"size\":10,\"solidity\":0.2},\"type\":\"scatter\"}],\"parcoords\":[{\"type\":\"parcoords\",\"line\":{\"colorbar\":{\"outlinewidth\":0,\"ticks\":\"\"}}}],\"scatterpolargl\":[{\"type\":\"scatterpolargl\",\"marker\":{\"colorbar\":{\"outlinewidth\":0,\"ticks\":\"\"}}}],\"bar\":[{\"error_x\":{\"color\":\"#2a3f5f\"},\"error_y\":{\"color\":\"#2a3f5f\"},\"marker\":{\"line\":{\"color\":\"#E5ECF6\",\"width\":0.5},\"pattern\":{\"fillmode\":\"overlay\",\"size\":10,\"solidity\":0.2}},\"type\":\"bar\"}],\"scattergeo\":[{\"type\":\"scattergeo\",\"marker\":{\"colorbar\":{\"outlinewidth\":0,\"ticks\":\"\"}}}],\"scatterpolar\":[{\"type\":\"scatterpolar\",\"marker\":{\"colorbar\":{\"outlinewidth\":0,\"ticks\":\"\"}}}],\"histogram\":[{\"marker\":{\"pattern\":{\"fillmode\":\"overlay\",\"size\":10,\"solidity\":0.2}},\"type\":\"histogram\"}],\"scattergl\":[{\"type\":\"scattergl\",\"marker\":{\"colorbar\":{\"outlinewidth\":0,\"ticks\":\"\"}}}],\"scatter3d\":[{\"type\":\"scatter3d\",\"line\":{\"colorbar\":{\"outlinewidth\":0,\"ticks\":\"\"}},\"marker\":{\"colorbar\":{\"outlinewidth\":0,\"ticks\":\"\"}}}],\"scattermapbox\":[{\"type\":\"scattermapbox\",\"marker\":{\"colorbar\":{\"outlinewidth\":0,\"ticks\":\"\"}}}],\"scatterternary\":[{\"type\":\"scatterternary\",\"marker\":{\"colorbar\":{\"outlinewidth\":0,\"ticks\":\"\"}}}],\"scattercarpet\":[{\"type\":\"scattercarpet\",\"marker\":{\"colorbar\":{\"outlinewidth\":0,\"ticks\":\"\"}}}],\"carpet\":[{\"aaxis\":{\"endlinecolor\":\"#2a3f5f\",\"gridcolor\":\"white\",\"linecolor\":\"white\",\"minorgridcolor\":\"white\",\"startlinecolor\":\"#2a3f5f\"},\"baxis\":{\"endlinecolor\":\"#2a3f5f\",\"gridcolor\":\"white\",\"linecolor\":\"white\",\"minorgridcolor\":\"white\",\"startlinecolor\":\"#2a3f5f\"},\"type\":\"carpet\"}],\"table\":[{\"cells\":{\"fill\":{\"color\":\"#EBF0F8\"},\"line\":{\"color\":\"white\"}},\"header\":{\"fill\":{\"color\":\"#C8D4E3\"},\"line\":{\"color\":\"white\"}},\"type\":\"table\"}],\"barpolar\":[{\"marker\":{\"line\":{\"color\":\"#E5ECF6\",\"width\":0.5},\"pattern\":{\"fillmode\":\"overlay\",\"size\":10,\"solidity\":0.2}},\"type\":\"barpolar\"}],\"pie\":[{\"automargin\":true,\"type\":\"pie\"}]},\"layout\":{\"autotypenumbers\":\"strict\",\"colorway\":[\"#636efa\",\"#EF553B\",\"#00cc96\",\"#ab63fa\",\"#FFA15A\",\"#19d3f3\",\"#FF6692\",\"#B6E880\",\"#FF97FF\",\"#FECB52\"],\"font\":{\"color\":\"#2a3f5f\"},\"hovermode\":\"closest\",\"hoverlabel\":{\"align\":\"left\"},\"paper_bgcolor\":\"white\",\"plot_bgcolor\":\"#E5ECF6\",\"polar\":{\"bgcolor\":\"#E5ECF6\",\"angularaxis\":{\"gridcolor\":\"white\",\"linecolor\":\"white\",\"ticks\":\"\"},\"radialaxis\":{\"gridcolor\":\"white\",\"linecolor\":\"white\",\"ticks\":\"\"}},\"ternary\":{\"bgcolor\":\"#E5ECF6\",\"aaxis\":{\"gridcolor\":\"white\",\"linecolor\":\"white\",\"ticks\":\"\"},\"baxis\":{\"gridcolor\":\"white\",\"linecolor\":\"white\",\"ticks\":\"\"},\"caxis\":{\"gridcolor\":\"white\",\"linecolor\":\"white\",\"ticks\":\"\"}},\"coloraxis\":{\"colorbar\":{\"outlinewidth\":0,\"ticks\":\"\"}},\"colorscale\":{\"sequential\":[[0.0,\"#0d0887\"],[0.1111111111111111,\"#46039f\"],[0.2222222222222222,\"#7201a8\"],[0.3333333333333333,\"#9c179e\"],[0.4444444444444444,\"#bd3786\"],[0.5555555555555556,\"#d8576b\"],[0.6666666666666666,\"#ed7953\"],[0.7777777777777778,\"#fb9f3a\"],[0.8888888888888888,\"#fdca26\"],[1.0,\"#f0f921\"]],\"sequentialminus\":[[0.0,\"#0d0887\"],[0.1111111111111111,\"#46039f\"],[0.2222222222222222,\"#7201a8\"],[0.3333333333333333,\"#9c179e\"],[0.4444444444444444,\"#bd3786\"],[0.5555555555555556,\"#d8576b\"],[0.6666666666666666,\"#ed7953\"],[0.7777777777777778,\"#fb9f3a\"],[0.8888888888888888,\"#fdca26\"],[1.0,\"#f0f921\"]],\"diverging\":[[0,\"#8e0152\"],[0.1,\"#c51b7d\"],[0.2,\"#de77ae\"],[0.3,\"#f1b6da\"],[0.4,\"#fde0ef\"],[0.5,\"#f7f7f7\"],[0.6,\"#e6f5d0\"],[0.7,\"#b8e186\"],[0.8,\"#7fbc41\"],[0.9,\"#4d9221\"],[1,\"#276419\"]]},\"xaxis\":{\"gridcolor\":\"white\",\"linecolor\":\"white\",\"ticks\":\"\",\"title\":{\"standoff\":15},\"zerolinecolor\":\"white\",\"automargin\":true,\"zerolinewidth\":2},\"yaxis\":{\"gridcolor\":\"white\",\"linecolor\":\"white\",\"ticks\":\"\",\"title\":{\"standoff\":15},\"zerolinecolor\":\"white\",\"automargin\":true,\"zerolinewidth\":2},\"scene\":{\"xaxis\":{\"backgroundcolor\":\"#E5ECF6\",\"gridcolor\":\"white\",\"linecolor\":\"white\",\"showbackground\":true,\"ticks\":\"\",\"zerolinecolor\":\"white\",\"gridwidth\":2},\"yaxis\":{\"backgroundcolor\":\"#E5ECF6\",\"gridcolor\":\"white\",\"linecolor\":\"white\",\"showbackground\":true,\"ticks\":\"\",\"zerolinecolor\":\"white\",\"gridwidth\":2},\"zaxis\":{\"backgroundcolor\":\"#E5ECF6\",\"gridcolor\":\"white\",\"linecolor\":\"white\",\"showbackground\":true,\"ticks\":\"\",\"zerolinecolor\":\"white\",\"gridwidth\":2}},\"shapedefaults\":{\"line\":{\"color\":\"#2a3f5f\"}},\"annotationdefaults\":{\"arrowcolor\":\"#2a3f5f\",\"arrowhead\":0,\"arrowwidth\":1},\"geo\":{\"bgcolor\":\"white\",\"landcolor\":\"#E5ECF6\",\"subunitcolor\":\"white\",\"showland\":true,\"showlakes\":true,\"lakecolor\":\"white\"},\"title\":{\"x\":0.05},\"mapbox\":{\"style\":\"light\"}}}},                        {\"responsive\": true}                    )                };                            </script>        </div>"
      ],
      "text/plain": [
       "Figure({\n",
       "    'data': [{'cliponaxis': False,\n",
       "              'hovertemplate': [lambda (FloatDistribution):\n",
       "                                0.0013963320571787712<extra></extra>,\n",
       "                                feature_fraction (FloatDistribution):\n",
       "                                0.003124326665495751<extra></extra>,\n",
       "                                min_child_samples (IntDistribution):\n",
       "                                0.008426470469576966<extra></extra>, alpha\n",
       "                                (FloatDistribution):\n",
       "                                0.030645985473193027<extra></extra>, bagging_freq\n",
       "                                (IntDistribution):\n",
       "                                0.060808640625163723<extra></extra>, num_leaves\n",
       "                                (IntDistribution):\n",
       "                                0.06632607874069955<extra></extra>,\n",
       "                                bagging_fraction (FloatDistribution):\n",
       "                                0.09297402763217748<extra></extra>,\n",
       "                                colsample_bytree (FloatDistribution):\n",
       "                                0.1785646595657753<extra></extra>, max_depth\n",
       "                                (IntDistribution):\n",
       "                                0.5577334787707392<extra></extra>],\n",
       "              'marker': {'color': 'rgb(66,146,198)'},\n",
       "              'orientation': 'h',\n",
       "              'text': [<0.01, <0.01, <0.01, 0.03, 0.06, 0.07, 0.09, 0.18, 0.56],\n",
       "              'textposition': 'outside',\n",
       "              'type': 'bar',\n",
       "              'x': [0.0013963320571787712, 0.003124326665495751,\n",
       "                    0.008426470469576966, 0.030645985473193027,\n",
       "                    0.060808640625163723, 0.06632607874069955, 0.09297402763217748,\n",
       "                    0.1785646595657753, 0.5577334787707392],\n",
       "              'y': [lambda, feature_fraction, min_child_samples, alpha,\n",
       "                    bagging_freq, num_leaves, bagging_fraction, colsample_bytree,\n",
       "                    max_depth]}],\n",
       "    'layout': {'showlegend': False,\n",
       "               'template': '...',\n",
       "               'title': {'text': 'Hyperparameter Importances'},\n",
       "               'xaxis': {'title': {'text': 'Importance for Objective Value'}},\n",
       "               'yaxis': {'title': {'text': 'Hyperparameter'}}}\n",
       "})"
      ]
     },
     "execution_count": 231,
     "metadata": {},
     "output_type": "execute_result"
    }
   ],
   "source": [
    "plot_param_importances(study)"
   ]
  },
  {
   "cell_type": "code",
   "execution_count": 232,
   "metadata": {},
   "outputs": [
    {
     "name": "stdout",
     "output_type": "stream",
     "text": [
      "{'max_depth': 5, 'num_leaves': 97, 'alpha': 3.0259790706186402, 'lambda': 7.646516124349529, 'colsample_bytree': 0.22199279683162915, 'min_child_samples': 81, 'feature_fraction': 0.4670722972795847, 'bagging_fraction': 0.98728869364854, 'bagging_freq': 3} 44.20890187548654\n"
     ]
    }
   ],
   "source": [
    "print(best_params, best_value)"
   ]
  },
  {
   "cell_type": "code",
   "execution_count": 222,
   "metadata": {},
   "outputs": [
    {
     "data": {
      "text/plain": [
       "'\\nfeature_importance_df.fillna(value=0, inplace=True)\\nfeature_importance_df[\"average\"] = feature_importance_df.loc[:, \\'importance_fold0\\':f\\'importance_fold{CFG.n_splits-1}\\'].mean(axis=1)\\nbest_features = feature_importance_df[[\"feature\", \"average\"]].groupby(\"feature\", as_index=False).mean().sort_values(by=\"average\", ascending=False).head(50)\\nplt.figure(figsize=(8, 16))\\nsns.barplot(x=\"average\", y=\"feature\", data=best_features)\\nplt.title(\\'Features importance (averaged/folds)\\')\\nplt.tight_layout()\\n'"
      ]
     },
     "execution_count": 222,
     "metadata": {},
     "output_type": "execute_result"
    }
   ],
   "source": [
    "# ===================================================================\n",
    "#  plot feature importance\n",
    "# ===================================================================\n",
    "\"\"\"\n",
    "feature_importance_df.fillna(value=0, inplace=True)\n",
    "feature_importance_df[\"average\"] = feature_importance_df.loc[:, 'importance_fold0':f'importance_fold{CFG.n_splits-1}'].mean(axis=1)\n",
    "best_features = feature_importance_df[[\"feature\", \"average\"]].groupby(\"feature\", as_index=False).mean().sort_values(by=\"average\", ascending=False).head(50)\n",
    "plt.figure(figsize=(8, 16))\n",
    "sns.barplot(x=\"average\", y=\"feature\", data=best_features)\n",
    "plt.title('Features importance (averaged/folds)')\n",
    "plt.tight_layout()\n",
    "\"\"\""
   ]
  },
  {
   "cell_type": "code",
   "execution_count": 223,
   "metadata": {},
   "outputs": [
    {
     "data": {
      "text/plain": [
       "'\\ndef objective(trial):\\n    a = trial.suggest_float(\"a\", 0, 1)\\n    \\n    oof_df[f\"pred_1\"] = oof_df[f\"pred\"] * a\\n    score = get_score(y_true=oof_df[\"price\"], y_pred = oof_df[f\"pred_1\"])\\n    return score\\n    \\noptuna.logging.set_verbosity(optuna.logging.WARNING)\\nstudy = optuna.create_study(direction=\"minimize\",\\n                            sampler=optuna.samplers.TPESampler(seed=CFG.seed))\\nstudy.optimize(objective, \\n                n_trials=CFG.n_trials,\\n                show_progress_bar=True)\\n\\nbest_params = study.best_params\\nbest_value = study.best_value\\nprint(best_params, best_value)\\n'"
      ]
     },
     "execution_count": 223,
     "metadata": {},
     "output_type": "execute_result"
    }
   ],
   "source": [
    "# ===================================================================\n",
    "#  optuna\n",
    "# ===================================================================\n",
    "\"\"\"\n",
    "def objective(trial):\n",
    "    a = trial.suggest_float(\"a\", 0, 1)\n",
    "    \n",
    "    oof_df[f\"pred_1\"] = oof_df[f\"pred\"] * a\n",
    "    score = get_score(y_true=oof_df[\"price\"], y_pred = oof_df[f\"pred_1\"])\n",
    "    return score\n",
    "    \n",
    "optuna.logging.set_verbosity(optuna.logging.WARNING)\n",
    "study = optuna.create_study(direction=\"minimize\",\n",
    "                            sampler=optuna.samplers.TPESampler(seed=CFG.seed))\n",
    "study.optimize(objective, \n",
    "                n_trials=CFG.n_trials,\n",
    "                show_progress_bar=True)\n",
    "\n",
    "best_params = study.best_params\n",
    "best_value = study.best_value\n",
    "print(best_params, best_value)\n",
    "\"\"\""
   ]
  },
  {
   "cell_type": "code",
   "execution_count": 224,
   "metadata": {},
   "outputs": [
    {
     "data": {
      "text/plain": [
       "'\\n# ===================================================================\\n#  prediction\\n# ===================================================================\\ntest[\"pred\"] = predictions * best_params[\"a\"]\\nprint(test[\"pred\"].min(), test[\"pred\"].max())\\ntest[[\"id\", \"pred\"]].to_csv(CFG.save_dir+\"exp004.csv\", index=False, header=None)\\n'"
      ]
     },
     "execution_count": 224,
     "metadata": {},
     "output_type": "execute_result"
    }
   ],
   "source": [
    "\"\"\"\n",
    "# ===================================================================\n",
    "#  prediction\n",
    "# ===================================================================\n",
    "test[\"pred\"] = predictions * best_params[\"a\"]\n",
    "print(test[\"pred\"].min(), test[\"pred\"].max())\n",
    "test[[\"id\", \"pred\"]].to_csv(CFG.save_dir+\"exp004.csv\", index=False, header=None)\n",
    "\"\"\""
   ]
  }
 ],
 "metadata": {
  "kernelspec": {
   "display_name": "Python 3",
   "language": "python",
   "name": "python3"
  },
  "language_info": {
   "codemirror_mode": {
    "name": "ipython",
    "version": 3
   },
   "file_extension": ".py",
   "mimetype": "text/x-python",
   "name": "python",
   "nbconvert_exporter": "python",
   "pygments_lexer": "ipython3",
   "version": "3.11.4"
  },
  "orig_nbformat": 4
 },
 "nbformat": 4,
 "nbformat_minor": 2
}
