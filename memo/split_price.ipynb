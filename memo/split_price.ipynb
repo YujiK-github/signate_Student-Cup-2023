{
 "cells": [
  {
   "cell_type": "code",
   "execution_count": 152,
   "metadata": {},
   "outputs": [],
   "source": [
    "# ===================================================================\n",
    "#  Library\n",
    "# ===================================================================\n",
    "import os\n",
    "import random\n",
    "import numpy as np\n",
    "import pandas as pd\n",
    "import matplotlib.pyplot as plt\n",
    "import seaborn as sns\n",
    "\n",
    "from sklearn.model_selection import StratifiedKFold\n",
    "from sklearn.metrics import mean_absolute_percentage_error, fbeta_score\n",
    "\n",
    "import warnings\n",
    "warnings.simplefilter(\"ignore\")\n",
    "\n",
    "from tqdm.auto import tqdm\n",
    "import optuna\n",
    "import unicodedata\n",
    "\n",
    "import lightgbm as lgb"
   ]
  },
  {
   "cell_type": "code",
   "execution_count": 153,
   "metadata": {},
   "outputs": [],
   "source": [
    "# ===================================================================\n",
    "#  CFG\n",
    "# ===================================================================\n",
    "class CFG:\n",
    "    seed = 42\n",
    "    #seed = 2023\n",
    "    #seed = 1111\n",
    "    n_splits = 5\n",
    "    data_dir = \"G:/マイドライブ/signate_StudentCup2023/data/\"\n",
    "    target_bins = 20\n",
    "    year_bins = 20\n",
    "    num_boost_round = 10000\n",
    "    stopping_rounds = 1500\n",
    "    n_trials = 1500\n",
    "    save_dir = \"G:/マイドライブ/signate_StudentCup2023/exp/\""
   ]
  },
  {
   "cell_type": "code",
   "execution_count": 154,
   "metadata": {},
   "outputs": [],
   "source": [
    "# ===================================================================\n",
    "#  Utils\n",
    "# ===================================================================\n",
    "def seed_everything(seed):\n",
    "    \"\"\"fix random factors\"\"\"\n",
    "    random.seed(seed)\n",
    "    np.random.seed(seed)\n",
    "    os.environ['PYTHONHASHSEED'] = str(seed)\n",
    "seed_everything(CFG.seed)\n",
    "    \n",
    "\n",
    "def get_score(y_true, y_pred):\n",
    "    \"\"\"get MAPE score\"\"\"\n",
    "    score = mean_absolute_percentage_error(y_true, y_pred)\n",
    "    return score * 100\n",
    "\n",
    "def get_score(y_true, y_pred):\n",
    "    best_score = -np.inf\n",
    "    for i in tqdm(np.arange(0, 1, 0.001)):\n",
    "        y_pred_class = [1 if p >= i else 0 for p in y_pred]\n",
    "        score = fbeta_score(y_true, y_pred_class, beta=2)\n",
    "        if score > best_score:\n",
    "            best_score = score\n",
    "            best_threshold = i\n",
    "    return best_score, best_threshold"
   ]
  },
  {
   "cell_type": "code",
   "execution_count": 155,
   "metadata": {},
   "outputs": [],
   "source": [
    "# ===================================================================\n",
    "#  Data Loading\n",
    "# ===================================================================\n",
    "train = pd.read_csv(CFG.data_dir+\"train.csv\")\n",
    "test = pd.read_csv(CFG.data_dir+\"test.csv\")\n",
    "\n",
    "train[\"flag\"] = \"train\"\n",
    "test[\"flag\"] = \"test\"\n",
    "all_data = pd.concat([train, test], ignore_index=True)"
   ]
  },
  {
   "cell_type": "code",
   "execution_count": 156,
   "metadata": {},
   "outputs": [],
   "source": [
    "# ===================================================================\n",
    "#  preprocessing\n",
    "# ===================================================================\n",
    "# year\n",
    "def pre_year(df: pd.DataFrame):\n",
    "    year_dict = {\n",
    "        2999:1999,\n",
    "        3008:2008,\n",
    "        3011:2011,\n",
    "        3015:2015,\n",
    "        3017:2017,\n",
    "        3019:2019,\n",
    "    }\n",
    "    df[\"year\"] = df[\"year\"].replace(year_dict)\n",
    "    return df\n",
    "all_data = pre_year(all_data)\n",
    "\n",
    "# manufacturer\n",
    "all_data[\"manufacturer\"] = all_data[\"manufacturer\"].str.lower().apply(lambda x: unicodedata.normalize('NFKC', x))\n",
    "manufacturer_map = {\n",
    "    'niѕsan':'nissan',\n",
    "    'nisѕan':'nissan',\n",
    "    'subαru':'subaru',\n",
    "    'toyotа':'toyota',\n",
    "    'sαturn':'saturn',\n",
    "    'аcura':'acura',\n",
    "    'vоlkswagen':'volkswagen',\n",
    "    'lexuѕ':'lexus',\n",
    "    'ᴄhrysler':'chrysler',\n",
    "}\n",
    "all_data[\"manufacturer\"] = all_data[\"manufacturer\"].replace(manufacturer_map)\n",
    "\n",
    "# fuel\n",
    "## 欠損値 train: 1239, test, 1495 \n",
    "## わざと欠損値にしている訳ではなさそう？\n",
    "all_data[\"fuel\"].fillna(value=\"Unknown\", inplace=True)\n",
    "\n",
    "\n",
    "# odometer\n",
    "## 後でvalidationを作るときに直そう\n",
    "\n",
    "# title_status\n",
    "## 欠損値 train: 456, test: 229\n",
    "all_data[\"title_status\"].fillna(value=\"Unknown\", inplace=True)\n",
    "\n",
    "# size\n",
    "def pre_size(df: pd.DataFrame):\n",
    "    size_dict = {\n",
    "        \"fullーsize\":\"full-size\",\n",
    "        \"midーsize\":\"mid-size\",\n",
    "        \"subーcompact\":\"sub-compact\",\n",
    "        \"full−size\":\"full-size\",\n",
    "        \"mid−size\":\"mid-size\"\n",
    "    }\n",
    "    df[\"size\"] = df[\"size\"].replace(size_dict)\n",
    "    return df\n",
    "all_data = pre_size(all_data)\n",
    "\n",
    "# type\n",
    "## 欠損値 train: 456, test: 229\n",
    "all_data[\"type\"].fillna(value=\"Unknown\", inplace=True)\n",
    "\n",
    "\n",
    "# state\n",
    "## 欠損値 train: 3304, test: 3029\n",
    "all_data[\"state\"].fillna(value=\"Unknown\", inplace=True)"
   ]
  },
  {
   "cell_type": "code",
   "execution_count": 157,
   "metadata": {},
   "outputs": [
    {
     "name": "stdout",
     "output_type": "stream",
     "text": [
      "fold\n",
      "1.0    5507\n",
      "0.0    5507\n",
      "2.0    5506\n",
      "4.0    5506\n",
      "3.0    5506\n",
      "Name: count, dtype: int64\n",
      "8.784566908616718\n"
     ]
    }
   ],
   "source": [
    "# ===================================================================\n",
    "#  Cross Validation\n",
    "# ===================================================================\n",
    "train = all_data[all_data[\"flag\"] == \"train\"].reset_index(drop=True)\n",
    "test = all_data[all_data[\"flag\"] == \"test\"].reset_index(drop=True)\n",
    "\n",
    "train.sort_values(by=\"id\", ignore_index=True, inplace=True)\n",
    "\n",
    "train[\"year_map\"], bins = pd.cut(train[\"year\"], bins=20, labels=False, retbins=True)\n",
    "test[\"year_map\"] = pd.cut(test[\"year\"], bins=bins, labels=False)\n",
    "train[\"price_map\"] = pd.cut(train[\"price\"], bins=CFG.target_bins, labels=False)\n",
    "\n",
    "skf = StratifiedKFold(n_splits=CFG.n_splits, shuffle=True, random_state=CFG.seed)\n",
    "for i, (_, val) in enumerate(skf.split(X=train, y=train[\"price_map\"])):\n",
    "    train.loc[val, \"fold\"] = i\n",
    "print(train[\"fold\"].value_counts())\n",
    "print(train.groupby(\"fold\")[\"price\"].mean().std())"
   ]
  },
  {
   "cell_type": "code",
   "execution_count": 158,
   "metadata": {},
   "outputs": [
    {
     "data": {
      "text/html": [
       "<div>\n",
       "<style scoped>\n",
       "    .dataframe tbody tr th:only-of-type {\n",
       "        vertical-align: middle;\n",
       "    }\n",
       "\n",
       "    .dataframe tbody tr th {\n",
       "        vertical-align: top;\n",
       "    }\n",
       "\n",
       "    .dataframe thead th {\n",
       "        text-align: right;\n",
       "    }\n",
       "</style>\n",
       "<table border=\"1\" class=\"dataframe\">\n",
       "  <thead>\n",
       "    <tr style=\"text-align: right;\">\n",
       "      <th></th>\n",
       "      <th>feature</th>\n",
       "      <th>std</th>\n",
       "      <th>len</th>\n",
       "    </tr>\n",
       "  </thead>\n",
       "  <tbody>\n",
       "    <tr>\n",
       "      <th>0</th>\n",
       "      <td>year_map</td>\n",
       "      <td>33400.067098</td>\n",
       "      <td>20</td>\n",
       "    </tr>\n",
       "    <tr>\n",
       "      <th>1</th>\n",
       "      <td>condition</td>\n",
       "      <td>26899.720306</td>\n",
       "      <td>6</td>\n",
       "    </tr>\n",
       "    <tr>\n",
       "      <th>2</th>\n",
       "      <td>fuel</td>\n",
       "      <td>19292.666186</td>\n",
       "      <td>6</td>\n",
       "    </tr>\n",
       "    <tr>\n",
       "      <th>3</th>\n",
       "      <td>region</td>\n",
       "      <td>17761.052586</td>\n",
       "      <td>372</td>\n",
       "    </tr>\n",
       "    <tr>\n",
       "      <th>4</th>\n",
       "      <td>manufacturer</td>\n",
       "      <td>16545.615833</td>\n",
       "      <td>37</td>\n",
       "    </tr>\n",
       "    <tr>\n",
       "      <th>5</th>\n",
       "      <td>paint_color</td>\n",
       "      <td>16320.395312</td>\n",
       "      <td>12</td>\n",
       "    </tr>\n",
       "    <tr>\n",
       "      <th>6</th>\n",
       "      <td>type</td>\n",
       "      <td>16318.821524</td>\n",
       "      <td>14</td>\n",
       "    </tr>\n",
       "    <tr>\n",
       "      <th>7</th>\n",
       "      <td>cylinders</td>\n",
       "      <td>13385.064899</td>\n",
       "      <td>8</td>\n",
       "    </tr>\n",
       "    <tr>\n",
       "      <th>8</th>\n",
       "      <td>drive</td>\n",
       "      <td>12651.327741</td>\n",
       "      <td>3</td>\n",
       "    </tr>\n",
       "    <tr>\n",
       "      <th>9</th>\n",
       "      <td>title_status</td>\n",
       "      <td>11325.772185</td>\n",
       "      <td>7</td>\n",
       "    </tr>\n",
       "    <tr>\n",
       "      <th>10</th>\n",
       "      <td>transmission</td>\n",
       "      <td>9557.767204</td>\n",
       "      <td>3</td>\n",
       "    </tr>\n",
       "    <tr>\n",
       "      <th>11</th>\n",
       "      <td>state</td>\n",
       "      <td>8356.598407</td>\n",
       "      <td>52</td>\n",
       "    </tr>\n",
       "    <tr>\n",
       "      <th>12</th>\n",
       "      <td>size</td>\n",
       "      <td>3404.428906</td>\n",
       "      <td>4</td>\n",
       "    </tr>\n",
       "  </tbody>\n",
       "</table>\n",
       "</div>"
      ],
      "text/plain": [
       "         feature           std  len\n",
       "0       year_map  33400.067098   20\n",
       "1      condition  26899.720306    6\n",
       "2           fuel  19292.666186    6\n",
       "3         region  17761.052586  372\n",
       "4   manufacturer  16545.615833   37\n",
       "5    paint_color  16320.395312   12\n",
       "6           type  16318.821524   14\n",
       "7      cylinders  13385.064899    8\n",
       "8          drive  12651.327741    3\n",
       "9   title_status  11325.772185    7\n",
       "10  transmission   9557.767204    3\n",
       "11         state   8356.598407   52\n",
       "12          size   3404.428906    4"
      ]
     },
     "metadata": {},
     "output_type": "display_data"
    }
   ],
   "source": [
    "# ===================================================================\n",
    "#  Variance by category\n",
    "# ===================================================================\n",
    "all_data = pd.concat([train, test], ignore_index=True)\n",
    "tmp_ = ['region',  'manufacturer', 'condition', 'cylinders',\n",
    "       'fuel',  'title_status', 'transmission', 'drive', 'size',\n",
    "       'type', 'paint_color', 'state',  'year_map',]\n",
    "df = all_data[(all_data[\"odometer\"] > 100)&(all_data[\"odometer\"] < 400000)].reset_index(drop=True)\n",
    "tmp = []\n",
    "for col in tmp_:\n",
    "    tmp.append(df.groupby(col)[\"odometer\"].mean().std())\n",
    "df = pd.DataFrame(zip(tmp_, tmp, [len(train[col].unique()) for col in tmp_]), columns=[\"feature\", \"std\", \"len\"],)\n",
    "display(df.sort_values(\"std\", ascending=False, ignore_index=True))"
   ]
  },
  {
   "cell_type": "code",
   "execution_count": 159,
   "metadata": {},
   "outputs": [
    {
     "data": {
      "text/plain": [
       "Index(['id', 'region', 'year', 'manufacturer', 'condition', 'cylinders',\n",
       "       'fuel', 'odometer', 'title_status', 'transmission', 'drive', 'size',\n",
       "       'type', 'paint_color', 'state', 'price', 'flag', 'year_map',\n",
       "       'price_map', 'fold'],\n",
       "      dtype='object')"
      ]
     },
     "execution_count": 159,
     "metadata": {},
     "output_type": "execute_result"
    }
   ],
   "source": [
    "all_data.columns"
   ]
  },
  {
   "cell_type": "code",
   "execution_count": 160,
   "metadata": {},
   "outputs": [],
   "source": [
    "# ===================================================================\n",
    "#  use features\n",
    "# =================================================================== \n",
    "## numerical\n",
    "CFG.numerical_features = ['year', \"odometer\"]\n",
    "\n",
    "## category\n",
    "CFG.categorical_features = ['region','manufacturer', 'condition', 'cylinders','fuel', 'title_status', 'transmission', 'drive', 'size',\n",
    "                            'type', 'paint_color', 'state'\n",
    "                            ]\n",
    "CFG.target_encoding_features = ['manufacturer','condition', 'transmission',]\n",
    "CFG.count_encoding_features = [\"region\",'cylinders',\"state\"]\n",
    "CFG.max_encoding_features = ['cylinders']\n",
    "CFG.std_encoding_features = [\"fuel\"]\n",
    "CFG.min_encoding_features = []\n",
    "CFG.median_encoding_features = [\"manufacturer\", \"condition\"]\n",
    "\n",
    "\n",
    "## use_features\n",
    "CFG.use_features = list(set(CFG.numerical_features) | set(CFG.categorical_features))"
   ]
  },
  {
   "cell_type": "code",
   "execution_count": 161,
   "metadata": {},
   "outputs": [
    {
     "name": "stdout",
     "output_type": "stream",
     "text": [
      "0.36074386168821737\n"
     ]
    }
   ],
   "source": [
    "train[\"label\"] = np.where(train[\"price\"]>15000, 1, 0)\n",
    "print(train[\"label\"].mean())"
   ]
  },
  {
   "cell_type": "code",
   "execution_count": 162,
   "metadata": {},
   "outputs": [
    {
     "name": "stderr",
     "output_type": "stream",
     "text": [
      "100%|██████████| 1000/1000 [00:07<00:00, 130.84it/s]\n"
     ]
    },
    {
     "name": "stdout",
     "output_type": "stream",
     "text": [
      "fold0: (0.7891656913559606, 0.126)\n"
     ]
    },
    {
     "name": "stderr",
     "output_type": "stream",
     "text": [
      "100%|██████████| 1000/1000 [00:07<00:00, 141.26it/s]\n"
     ]
    },
    {
     "name": "stdout",
     "output_type": "stream",
     "text": [
      "fold1: (0.7884240006789442, 0.14)\n"
     ]
    },
    {
     "name": "stderr",
     "output_type": "stream",
     "text": [
      "100%|██████████| 1000/1000 [00:06<00:00, 144.30it/s]\n"
     ]
    },
    {
     "name": "stdout",
     "output_type": "stream",
     "text": [
      "fold2: (0.7930131004366814, 0.17200000000000001)\n"
     ]
    },
    {
     "name": "stderr",
     "output_type": "stream",
     "text": [
      "100%|██████████| 1000/1000 [00:06<00:00, 143.14it/s]\n"
     ]
    },
    {
     "name": "stdout",
     "output_type": "stream",
     "text": [
      "fold3: (0.7904802379940501, 0.136)\n"
     ]
    },
    {
     "name": "stderr",
     "output_type": "stream",
     "text": [
      "100%|██████████| 1000/1000 [00:06<00:00, 145.02it/s]\n"
     ]
    },
    {
     "name": "stdout",
     "output_type": "stream",
     "text": [
      "fold4: (0.7885027885027884, 0.145)\n",
      "\u001b[32m====== CV score ======\u001b[0m\n"
     ]
    },
    {
     "name": "stderr",
     "output_type": "stream",
     "text": [
      "100%|██████████| 1000/1000 [00:26<00:00, 38.22it/s]"
     ]
    },
    {
     "name": "stdout",
     "output_type": "stream",
     "text": [
      "\u001b[32m(0.7885262049522774, 0.139)\u001b[0m\n"
     ]
    },
    {
     "name": "stderr",
     "output_type": "stream",
     "text": [
      "\n"
     ]
    }
   ],
   "source": [
    "# ===================================================================\n",
    "#  model\n",
    "# ===================================================================\n",
    "preds, oof_df, feature_importance_df = [], pd.DataFrame(), pd.DataFrame()\n",
    "for fold in range(CFG.n_splits):\n",
    "    X_train = train[train[\"fold\"] != fold].reset_index(drop=True)\n",
    "    X_valid = train[train[\"fold\"] == fold].reset_index(drop=True)\n",
    "    test_df = test.copy()\n",
    "    \n",
    "    # odometerの補正\n",
    "    fillna_map = X_train[(X_train[\"odometer\"] > 100)&(X_train[\"odometer\"] < 400000)].groupby([\"year_map\"])[\"odometer\"].mean().reset_index()\n",
    "    def replace_odometer(df: pd.DataFrame, fillna_map: pd.DataFrame):\n",
    "        df_1 = df[(df[\"odometer\"] < 100)|(df[\"odometer\"] > 400000)].reset_index(drop=True)\n",
    "        df_2 = df[(df[\"odometer\"] >= 100)&(df[\"odometer\"] <= 400000)].reset_index(drop=True)\n",
    "        df_1.drop(\"odometer\", inplace=True, axis=1)\n",
    "        df_1 = pd.merge(df_1, fillna_map, on=\"year_map\", how=\"left\")\n",
    "        df = pd.concat([df_1, df_2])\n",
    "        return df.sort_values(\"id\", ignore_index=True)\n",
    "    X_train = replace_odometer(X_train, fillna_map)\n",
    "    X_valid = replace_odometer(X_valid, fillna_map)\n",
    "    test_df = replace_odometer(test_df, fillna_map)\n",
    "    \n",
    "    \n",
    "    \"\"\"\n",
    "    def add_odometer_per_year(df: pd.DataFrame):\n",
    "        df[\"elapsed_year\"] = 2023 - df[\"year\"]\n",
    "        df[\"odometer_per_year\"] = df[\"odometer\"] / df[\"elapsed_year\"]\n",
    "        return df\n",
    "    X_train = add_odometer_per_year(X_train)\n",
    "    X_valid = add_odometer_per_year(X_valid) \n",
    "    test_df = add_odometer_per_year(test_df)\n",
    "    \"\"\"\n",
    "    \n",
    "    \n",
    "    # CFG.categorical_featuresをcategory型に変換\n",
    "    for col in CFG.categorical_features:\n",
    "        X_train[col] = X_train[col].astype(\"category\")\n",
    "        X_valid[col] = X_valid[col].astype(\"category\")\n",
    "        test_df[col] = test_df[col].astype(\"category\")\n",
    "        \n",
    "        \n",
    "    # params\n",
    "    lgb_param = {\n",
    "        \"objective\": \"binary\",\n",
    "        \"metric\": 'binary_logloss',\n",
    "        \"verbosity\": -1,\n",
    "        \"seed\" : CFG.seed,\n",
    "    }\n",
    "\n",
    "\n",
    "    # train\n",
    "    lgb_train = lgb.Dataset(X_train[CFG.use_features], X_train[\"label\"], categorical_feature = CFG.categorical_features,)\n",
    "    lgb_valid = lgb.Dataset(X_valid[CFG.use_features], X_valid[\"label\"], categorical_feature = CFG.categorical_features,)\n",
    "    model = lgb.train(\n",
    "                    lgb_param, \n",
    "                    lgb_train, \n",
    "                    num_boost_round=CFG.num_boost_round, \n",
    "                    valid_sets=[lgb_valid],\n",
    "                    categorical_feature = CFG.categorical_features,\n",
    "                    callbacks=[lgb.early_stopping(stopping_rounds=CFG.stopping_rounds, verbose=False),],\n",
    "                    )\n",
    "\n",
    "    # feature importance\n",
    "    feature_importance_df[f\"importance_fold{fold}\"] = model.feature_importance(importance_type='gain')\n",
    "\n",
    "    # eval\n",
    "    X_valid[f\"pred\"] = model.predict(X_valid[CFG.use_features], num_iteration=model.best_iteration)\n",
    "    print(f\"fold{fold}:\", get_score(y_true=X_valid[\"label\"], y_pred=X_valid[\"pred\"]))\n",
    "    # concat\n",
    "    oof_df = pd.concat([oof_df, X_valid], ignore_index=True)\n",
    "\n",
    "    # pred test\n",
    "    preds.append(model.predict(test_df[CFG.use_features]))\n",
    "    \n",
    "feature_importance_df[\"feature\"] = CFG.use_features\n",
    "print('\\033[32m'+\"====== CV score ======\"+'\\033[0m')\n",
    "print('\\033[32m'+f'{get_score(oof_df[\"label\"], oof_df[\"pred\"])}'+'\\033[0m')\n",
    "predictions = np.mean(preds, axis=0)"
   ]
  },
  {
   "cell_type": "code",
   "execution_count": 163,
   "metadata": {},
   "outputs": [
    {
     "data": {
      "text/plain": [
       "(9932, 22)"
      ]
     },
     "execution_count": 163,
     "metadata": {},
     "output_type": "execute_result"
    }
   ],
   "source": [
    "oof_df[oof_df[\"label\"] == 1].shape"
   ]
  },
  {
   "cell_type": "code",
   "execution_count": 178,
   "metadata": {},
   "outputs": [
    {
     "name": "stdout",
     "output_type": "stream",
     "text": [
      "Confusion Matrix:\n",
      "[[   0 8637]\n",
      " [   0 9041]]\n"
     ]
    },
    {
     "data": {
      "image/png": "[encoded data removed]",
      "text/plain": [
       "<Figure size 640x480 with 2 Axes>"
      ]
     },
     "metadata": {},
     "output_type": "display_data"
    }
   ],
   "source": [
    "def confusion_matrix(y_true, y_pred):\n",
    "    tp = np.sum(np.logical_and(y_true == 1, y_pred == 1))\n",
    "    fp = np.sum(np.logical_and(y_true == 0, y_pred == 1))\n",
    "    fn = np.sum(np.logical_and(y_true == 1, y_pred == 0))\n",
    "    tn = np.sum(np.logical_and(y_true == 0, y_pred == 0))\n",
    "    \n",
    "    return np.array([[tn, fp], [fn, tp]])\n",
    "\n",
    "# Example usage:\n",
    "threshold = 0.139\n",
    "oof_df[\"pred_class\"] = np.where(oof_df[\"pred\"] >= threshold, 1, 0)\n",
    "cm = confusion_matrix(oof_df[\"label\"], oof_df[\"pred_class\"])\n",
    "\n",
    "print(\"Confusion Matrix:\")\n",
    "print(cm)\n",
    "\n",
    "# Visualize the confusion matrix\n",
    "def plot_confusion_matrix(cm, classes):\n",
    "    plt.imshow(cm, interpolation='nearest', cmap=plt.cm.Blues)\n",
    "    plt.title(\"Confusion Matrix\")\n",
    "    plt.colorbar()\n",
    "    tick_marks = np.arange(len(classes))\n",
    "    plt.xticks(tick_marks, classes)\n",
    "    plt.yticks(tick_marks, classes)\n",
    "    plt.xlabel(\"Predicted\")\n",
    "    plt.ylabel(\"True\")\n",
    "\n",
    "class_names = [\"more over 10000\", \"less than 10000\"]  # Replace with your class names\n",
    "plot_confusion_matrix(cm, class_names)\n",
    "plt.show()"
   ]
  },
  {
   "cell_type": "code",
   "execution_count": 165,
   "metadata": {},
   "outputs": [],
   "source": [
    "train = oof_df.copy()\n",
    "df = oof_df.copy()"
   ]
  },
  {
   "cell_type": "code",
   "execution_count": 166,
   "metadata": {},
   "outputs": [
    {
     "name": "stdout",
     "output_type": "stream",
     "text": [
      "<class 'pandas.core.frame.DataFrame'>\n",
      "RangeIndex: 27532 entries, 0 to 27531\n",
      "Data columns (total 23 columns):\n",
      " #   Column        Non-Null Count  Dtype   \n",
      "---  ------        --------------  -----   \n",
      " 0   id            27532 non-null  int64   \n",
      " 1   region        27532 non-null  object  \n",
      " 2   year          27532 non-null  int64   \n",
      " 3   manufacturer  27532 non-null  object  \n",
      " 4   condition     27532 non-null  category\n",
      " 5   cylinders     27532 non-null  category\n",
      " 6   fuel          27532 non-null  category\n",
      " 7   title_status  27532 non-null  category\n",
      " 8   transmission  27532 non-null  category\n",
      " 9   drive         27532 non-null  category\n",
      " 10  size          27532 non-null  category\n",
      " 11  type          27532 non-null  category\n",
      " 12  paint_color   27532 non-null  category\n",
      " 13  state         27532 non-null  category\n",
      " 14  price         27532 non-null  float64 \n",
      " 15  flag          27532 non-null  object  \n",
      " 16  year_map      27532 non-null  int64   \n",
      " 17  price_map     27532 non-null  int64   \n",
      " 18  fold          27532 non-null  float64 \n",
      " 19  label         27532 non-null  int32   \n",
      " 20  odometer      27532 non-null  float64 \n",
      " 21  pred          27532 non-null  float64 \n",
      " 22  pred_class    27532 non-null  int32   \n",
      "dtypes: category(10), float64(4), int32(2), int64(4), object(3)\n",
      "memory usage: 2.8+ MB\n"
     ]
    }
   ],
   "source": [
    "train.info()"
   ]
  },
  {
   "cell_type": "code",
   "execution_count": 167,
   "metadata": {},
   "outputs": [],
   "source": [
    "def get_score(y_true, y_pred):\n",
    "    \"\"\"get MAPE score\"\"\"\n",
    "    score = mean_absolute_percentage_error(y_true, y_pred)\n",
    "    return score * 100"
   ]
  },
  {
   "cell_type": "code",
   "execution_count": 179,
   "metadata": {},
   "outputs": [],
   "source": [
    "## numerical\n",
    "CFG.numerical_features = ['year', \"odometer\"]\n",
    "\n",
    "## category\n",
    "CFG.categorical_features = ['region','manufacturer', 'condition', 'cylinders','fuel', 'title_status', 'transmission', 'drive', 'size',\n",
    "                            'type', 'paint_color', 'state'\n",
    "                            ]\n",
    "CFG.target_encoding_features = ['manufacturer','condition', 'transmission',]\n",
    "CFG.count_encoding_features = [\"region\",'cylinders',\"state\"]\n",
    "CFG.max_encoding_features = ['cylinders']\n",
    "CFG.std_encoding_features = [\"fuel\"]\n",
    "CFG.min_encoding_features = []\n",
    "CFG.median_encoding_features = [\"manufacturer\", \"condition\"]\n",
    "\n",
    "\n",
    "## use_features\n",
    "CFG.use_features = list(set(CFG.numerical_features) | set(CFG.categorical_features))"
   ]
  },
  {
   "cell_type": "code",
   "execution_count": 180,
   "metadata": {},
   "outputs": [
    {
     "name": "stdout",
     "output_type": "stream",
     "text": [
      "fold0: 42.92541293857751\n",
      "fold1: 44.03498937476718\n",
      "fold2: 42.099175465359316\n",
      "fold3: 42.39449018197828\n",
      "fold4: 42.32271939555295\n",
      "\u001b[32m====== CV score ======\u001b[0m\n",
      "\u001b[32m42.75600132378074\u001b[0m\n"
     ]
    }
   ],
   "source": [
    "# ===================================================================\n",
    "#  model\n",
    "# ===================================================================\n",
    "preds, oof_df, feature_importance_df = [], pd.DataFrame(), pd.DataFrame()\n",
    "for fold in range(CFG.n_splits):\n",
    "    X_train = train[train[\"fold\"] != fold].reset_index(drop=True)\n",
    "    X_valid = train[train[\"fold\"] == fold].reset_index(drop=True)\n",
    "    \n",
    "    X_train = X_train[X_train[\"pred\"] < 0.139].reset_index(drop=True)\n",
    "    X_valid = X_valid[X_valid[\"pred\"] < 0.139].reset_index(drop=True)\n",
    "    \n",
    "    test_df = test.copy()\n",
    "    \n",
    "    # odometerの補正\n",
    "    fillna_map = X_train[(X_train[\"odometer\"] > 100)&(X_train[\"odometer\"] < 400000)].groupby([\"year_map\"])[\"odometer\"].mean().reset_index()\n",
    "    def replace_odometer(df: pd.DataFrame, fillna_map: pd.DataFrame):\n",
    "        df_1 = df[(df[\"odometer\"] < 100)|(df[\"odometer\"] > 400000)].reset_index(drop=True)\n",
    "        df_2 = df[(df[\"odometer\"] >= 100)&(df[\"odometer\"] <= 400000)].reset_index(drop=True)\n",
    "        df_1.drop(\"odometer\", inplace=True, axis=1)\n",
    "        df_1 = pd.merge(df_1, fillna_map, on=\"year_map\", how=\"left\")\n",
    "        df = pd.concat([df_1, df_2])\n",
    "        return df.sort_values(\"id\", ignore_index=True)\n",
    "    X_train = replace_odometer(X_train, fillna_map)\n",
    "    X_valid = replace_odometer(X_valid, fillna_map)\n",
    "    test_df = replace_odometer(test_df, fillna_map)\n",
    "    \n",
    "    \n",
    "    \"\"\"\n",
    "    def add_odometer_per_year(df: pd.DataFrame):\n",
    "        df[\"elapsed_year\"] = 2023 - df[\"year\"]\n",
    "        df[\"odometer_per_year\"] = df[\"odometer\"] / df[\"elapsed_year\"]\n",
    "        return df\n",
    "    X_train = add_odometer_per_year(X_train)\n",
    "    X_valid = add_odometer_per_year(X_valid) \n",
    "    test_df = add_odometer_per_year(test_df)\n",
    "    \"\"\"\n",
    "    \n",
    "    # CFG.categorical_featuresをcategory型に変換\n",
    "    for col in CFG.categorical_features:\n",
    "        try:\n",
    "            X_train[col] = X_train[col].astype(\"category\")\n",
    "            X_valid[col] = X_valid[col].astype(\"category\")\n",
    "            test_df[col] = test_df[col].astype(\"category\")\n",
    "        except:\n",
    "            pass\n",
    "        \n",
    "    # params\n",
    "    lgb_param = {\n",
    "        \"objective\": \"mape\",\n",
    "        \"metric\": 'mape',\n",
    "        \"verbosity\": -1,\n",
    "        \"seed\" : CFG.seed,\n",
    "    }\n",
    "\n",
    "\n",
    "    # train\n",
    "    lgb_train = lgb.Dataset(X_train[CFG.use_features], X_train[\"price\"], categorical_feature = CFG.categorical_features,)\n",
    "    lgb_valid = lgb.Dataset(X_valid[CFG.use_features], X_valid[\"price\"], categorical_feature = CFG.categorical_features,)\n",
    "\n",
    "    model = lgb.train(\n",
    "                    lgb_param, \n",
    "                    lgb_train, \n",
    "                    num_boost_round=CFG.num_boost_round, \n",
    "                    valid_sets=[lgb_valid],\n",
    "                    categorical_feature = CFG.categorical_features,\n",
    "                    callbacks=[lgb.early_stopping(stopping_rounds=CFG.stopping_rounds, verbose=False),],\n",
    "                    )\n",
    "\n",
    "    # feature importance\n",
    "    feature_importance_df[f\"importance_fold{fold}\"] = model.feature_importance(importance_type='gain')\n",
    "\n",
    "    # eval\n",
    "    X_valid[f\"pred\"] = model.predict(X_valid[CFG.use_features], num_iteration=model.best_iteration)\n",
    "    X_valid[\"pred\"] = X_valid[\"pred\"].clip(upper=15000, lower=None)\n",
    "    print(f\"fold{fold}:\", get_score(y_true=X_valid[\"price\"], y_pred=X_valid[\"pred\"]))\n",
    "\n",
    "    # concat\n",
    "    oof_df = pd.concat([oof_df, X_valid], ignore_index=True)\n",
    "\n",
    "    # pred test\n",
    "    preds.append(model.predict(test_df[CFG.use_features]))\n",
    "    \n",
    "feature_importance_df[\"feature\"] = CFG.use_features\n",
    "print('\\033[32m'+\"====== CV score ======\"+'\\033[0m')\n",
    "print('\\033[32m'+f'{get_score(oof_df[\"price\"], oof_df[\"pred\"])}'+'\\033[0m')\n",
    "predictions = np.mean(preds, axis=0)"
   ]
  },
  {
   "cell_type": "code",
   "execution_count": 181,
   "metadata": {},
   "outputs": [
    {
     "data": {
      "text/plain": [
       "(8378, 23)"
      ]
     },
     "execution_count": 181,
     "metadata": {},
     "output_type": "execute_result"
    }
   ],
   "source": [
    "oof_df.shape"
   ]
  },
  {
   "cell_type": "code",
   "execution_count": 185,
   "metadata": {},
   "outputs": [],
   "source": [
    "train = df.copy()"
   ]
  },
  {
   "cell_type": "code",
   "execution_count": 186,
   "metadata": {},
   "outputs": [],
   "source": [
    "## numerical\n",
    "CFG.numerical_features = ['year', \"odometer\"]\n",
    "\n",
    "## category\n",
    "CFG.categorical_features = ['region','manufacturer', 'condition', 'cylinders','fuel', 'title_status', 'transmission', 'drive', 'size',\n",
    "                            'type', 'paint_color', 'state'\n",
    "                            ]\n",
    "CFG.target_encoding_features = ['manufacturer','condition', 'transmission',]\n",
    "CFG.count_encoding_features = [\"region\",'cylinders',\"state\"]\n",
    "CFG.max_encoding_features = ['cylinders']\n",
    "CFG.std_encoding_features = [\"fuel\"]\n",
    "CFG.min_encoding_features = []\n",
    "CFG.median_encoding_features = [\"manufacturer\", \"condition\"]\n",
    "\n",
    "\n",
    "## use_features\n",
    "CFG.use_features = list(set(CFG.numerical_features) | set(CFG.categorical_features))"
   ]
  },
  {
   "cell_type": "code",
   "execution_count": 187,
   "metadata": {},
   "outputs": [
    {
     "name": "stdout",
     "output_type": "stream",
     "text": [
      "fold0: 47.57677122121436\n",
      "fold1: 47.233012467069294\n",
      "fold2: 46.02622493601859\n",
      "fold3: 46.39433474520593\n",
      "fold4: 46.719884451413975\n",
      "\u001b[32m====== CV score ======\u001b[0m\n",
      "\u001b[32m46.78978945841658\u001b[0m\n"
     ]
    }
   ],
   "source": [
    "# ===================================================================\n",
    "#  model\n",
    "# ===================================================================\n",
    "preds, oof_df, feature_importance_df = [], pd.DataFrame(), pd.DataFrame()\n",
    "for fold in range(CFG.n_splits):\n",
    "    X_train = train[train[\"fold\"] != fold].reset_index(drop=True)\n",
    "    X_valid = train[train[\"fold\"] == fold].reset_index(drop=True)\n",
    "    \n",
    "    X_train = X_train[X_train[\"pred\"] > 0.139].reset_index(drop=True)\n",
    "    X_valid = X_valid[X_valid[\"pred\"] > 0.139].reset_index(drop=True)\n",
    "    \n",
    "    test_df = test.copy()\n",
    "    \n",
    "    # odometerの補正\n",
    "    fillna_map = X_train[(X_train[\"odometer\"] > 100)&(X_train[\"odometer\"] < 400000)].groupby([\"year_map\"])[\"odometer\"].mean().reset_index()\n",
    "    def replace_odometer(df: pd.DataFrame, fillna_map: pd.DataFrame):\n",
    "        df_1 = df[(df[\"odometer\"] < 100)|(df[\"odometer\"] > 400000)].reset_index(drop=True)\n",
    "        df_2 = df[(df[\"odometer\"] >= 100)&(df[\"odometer\"] <= 400000)].reset_index(drop=True)\n",
    "        df_1.drop(\"odometer\", inplace=True, axis=1)\n",
    "        df_1 = pd.merge(df_1, fillna_map, on=\"year_map\", how=\"left\")\n",
    "        df = pd.concat([df_1, df_2])\n",
    "        return df.sort_values(\"id\", ignore_index=True)\n",
    "    X_train = replace_odometer(X_train, fillna_map)\n",
    "    X_valid = replace_odometer(X_valid, fillna_map)\n",
    "    test_df = replace_odometer(test_df, fillna_map)\n",
    "    \n",
    "    \n",
    "    \"\"\"\n",
    "    def add_odometer_per_year(df: pd.DataFrame):\n",
    "        df[\"elapsed_year\"] = 2023 - df[\"year\"]\n",
    "        df[\"odometer_per_year\"] = df[\"odometer\"] / df[\"elapsed_year\"]\n",
    "        return df\n",
    "    X_train = add_odometer_per_year(X_train)\n",
    "    X_valid = add_odometer_per_year(X_valid) \n",
    "    test_df = add_odometer_per_year(test_df)\n",
    "    \"\"\"\n",
    "    \n",
    "    # CFG.categorical_featuresをcategory型に変換\n",
    "    for col in CFG.categorical_features:\n",
    "        try:\n",
    "            X_train[col] = X_train[col].astype(\"category\")\n",
    "            X_valid[col] = X_valid[col].astype(\"category\")\n",
    "            test_df[col] = test_df[col].astype(\"category\")\n",
    "        except:\n",
    "            pass\n",
    "        \n",
    "    # params\n",
    "    lgb_param = {\n",
    "        \"objective\": \"mape\",\n",
    "        \"metric\": 'mape',\n",
    "        \"verbosity\": -1,\n",
    "        \"seed\" : CFG.seed,\n",
    "    }\n",
    "\n",
    "\n",
    "    # train\n",
    "    lgb_train = lgb.Dataset(X_train[CFG.use_features], X_train[\"price\"], categorical_feature = CFG.categorical_features,)\n",
    "    lgb_valid = lgb.Dataset(X_valid[CFG.use_features], X_valid[\"price\"], categorical_feature = CFG.categorical_features,)\n",
    "\n",
    "    model = lgb.train(\n",
    "                    lgb_param, \n",
    "                    lgb_train, \n",
    "                    num_boost_round=CFG.num_boost_round, \n",
    "                    valid_sets=[lgb_valid],\n",
    "                    categorical_feature = CFG.categorical_features,\n",
    "                    callbacks=[lgb.early_stopping(stopping_rounds=CFG.stopping_rounds, verbose=False),],\n",
    "                    )\n",
    "\n",
    "    # feature importance\n",
    "    feature_importance_df[f\"importance_fold{fold}\"] = model.feature_importance(importance_type='gain')\n",
    "\n",
    "    # eval\n",
    "    X_valid[f\"pred\"] = model.predict(X_valid[CFG.use_features], num_iteration=model.best_iteration)\n",
    "    #X_valid[\"pred\"] = X_valid[\"pred\"].clip(upper=15000, lower=None)\n",
    "    print(f\"fold{fold}:\", get_score(y_true=X_valid[\"price\"], y_pred=X_valid[\"pred\"]))\n",
    "\n",
    "    # concat\n",
    "    oof_df = pd.concat([oof_df, X_valid], ignore_index=True)\n",
    "\n",
    "    # pred test\n",
    "    preds.append(model.predict(test_df[CFG.use_features]))\n",
    "    \n",
    "feature_importance_df[\"feature\"] = CFG.use_features\n",
    "print('\\033[32m'+\"====== CV score ======\"+'\\033[0m')\n",
    "print('\\033[32m'+f'{get_score(oof_df[\"price\"], oof_df[\"pred\"])}'+'\\033[0m')\n",
    "predictions = np.mean(preds, axis=0)"
   ]
  },
  {
   "cell_type": "code",
   "execution_count": 188,
   "metadata": {},
   "outputs": [
    {
     "data": {
      "text/plain": [
       "(19154, 23)"
      ]
     },
     "execution_count": 188,
     "metadata": {},
     "output_type": "execute_result"
    }
   ],
   "source": [
    "oof_df.shape"
   ]
  },
  {
   "cell_type": "code",
   "execution_count": null,
   "metadata": {},
   "outputs": [],
   "source": []
  }
 ],
 "metadata": {
  "kernelspec": {
   "display_name": "Python 3",
   "language": "python",
   "name": "python3"
  },
  "language_info": {
   "codemirror_mode": {
    "name": "ipython",
    "version": 3
   },
   "file_extension": ".py",
   "mimetype": "text/x-python",
   "name": "python",
   "nbconvert_exporter": "python",
   "pygments_lexer": "ipython3",
   "version": "3.11.4"
  },
  "orig_nbformat": 4
 },
 "nbformat": 4,
 "nbformat_minor": 2
}
