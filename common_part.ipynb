{
 "cells": [
  {
   "cell_type": "markdown",
   "metadata": {},
   "source": [
    "## Library"
   ]
  },
  {
   "cell_type": "code",
   "execution_count": null,
   "metadata": {},
   "outputs": [],
   "source": [
    "import os\n",
    "import glob\n",
    "import pickle\n",
    "import random\n",
    "import numpy as np\n",
    "import pandas as pd\n",
    "import matplotlib.pyplot as plt\n",
    "import seaborn as sns\n",
    "\n",
    "from sklearn.preprocessing import OrdinalEncoder\n",
    "from sklearn.model_selection import StratifiedKFold, KFold\n",
    "from sklearn.metrics import mean_absolute_percentage_error\n",
    "\n",
    "import multiprocessing\n",
    "\n",
    "import warnings\n",
    "warnings.simplefilter(\"ignore\")\n",
    "\n",
    "from tqdm.auto import tqdm\n",
    "import optuna\n",
    "import unicodedata\n",
    "\n",
    "import lightgbm as lgb"
   ]
  },
  {
   "cell_type": "markdown",
   "metadata": {},
   "source": [
    "## CFG"
   ]
  },
  {
   "cell_type": "code",
   "execution_count": null,
   "metadata": {},
   "outputs": [],
   "source": [
    "class CFG:\n",
    "    seed = 42\n",
    "    n_splits = 5\n",
    "    data_dir = \"data/\""
   ]
  },
  {
   "cell_type": "markdown",
   "metadata": {},
   "source": [
    "## Utils"
   ]
  },
  {
   "cell_type": "markdown",
   "metadata": {},
   "source": [
    "$$\n",
    "\\text{MAPE}(y, \\hat{y}) = \\frac{100\\%}{N} \\sum_{i=1}^{N} \\frac{|y_i - \\hat{y}_i|}{y_i}\n",
    "$$"
   ]
  },
  {
   "cell_type": "code",
   "execution_count": null,
   "metadata": {},
   "outputs": [],
   "source": [
    "def get_score(y_true, y_pred):\n",
    "    \"\"\"get MAPE score\"\"\"\n",
    "    score = mean_absolute_percentage_error(y_true, y_pred)\n",
    "    return score * 100\n",
    "\n",
    "get_score(y_true=[2], y_pred=[4]), get_score(y_true=[10000], y_pred=[10002]), get_score(y_true=[10000], y_pred=[20000]), "
   ]
  },
  {
   "cell_type": "markdown",
   "metadata": {},
   "source": [
    "式と簡単な実験より、$|y_i - \\hat{y}_i|$の値が同じでもy_trueが小さいほどMAPEが大きくなりやすいことが分かる"
   ]
  },
  {
   "cell_type": "markdown",
   "metadata": {},
   "source": [
    "## Data Loading"
   ]
  },
  {
   "cell_type": "code",
   "execution_count": null,
   "metadata": {},
   "outputs": [],
   "source": [
    "train = pd.read_csv(CFG.data_dir+\"train.csv\")\n",
    "test = pd.read_csv(CFG.data_dir+\"test.csv\")"
   ]
  },
  {
   "cell_type": "markdown",
   "metadata": {},
   "source": [
    "## Cross Validation"
   ]
  },
  {
   "cell_type": "code",
   "execution_count": null,
   "metadata": {},
   "outputs": [],
   "source": [
    "sns.distplot(train[\"price\"])\n",
    "plt.title(\"Distribution of Prices\")\n",
    "plt.show()"
   ]
  },
  {
   "cell_type": "markdown",
   "metadata": {},
   "source": [
    "\"Distribution of Prices\"が多峰性を持っている。  \n",
    "-> 3つくらいの性質が混ざっている？"
   ]
  },
  {
   "cell_type": "code",
   "execution_count": null,
   "metadata": {},
   "outputs": [],
   "source": [
    "# simpleなKFold\n",
    "train.sort_values(by=\"id\", ignore_index=True, inplace=True)\n",
    "kf = KFold(n_splits=CFG.n_splits, shuffle=True, random_state=CFG.seed)\n",
    "for i, (_, val) in enumerate(kf.split(X=train)):\n",
    "    train.loc[val, \"fold\"] = i\n",
    "print(\"The variance of the mean of the folds: \", train.groupby(\"fold\")[\"price\"].mean().std())"
   ]
  },
  {
   "cell_type": "code",
   "execution_count": null,
   "metadata": {},
   "outputs": [],
   "source": [
    "# priceを層にしてStratifiedKFold    (https://neptune.ai/blog/cross-validation-mistakes)\n",
    "train.sort_values(by=\"id\", ignore_index=True, inplace=True)\n",
    "train[\"price_map\"] = pd.cut(train[\"price\"], bins=20, labels=False)\n",
    "\n",
    "skf = StratifiedKFold(n_splits=CFG.n_splits, shuffle=True, random_state=CFG.seed)\n",
    "for i, (_, val) in enumerate(skf.split(X=train, y=train[\"price_map\"])):\n",
    "    train.loc[val, \"fold\"] = i\n",
    "print(\"The variance of the mean of the folds: \", train.groupby(\"fold\")[\"price\"].mean().std())"
   ]
  },
  {
   "cell_type": "code",
   "execution_count": null,
   "metadata": {},
   "outputs": [],
   "source": [
    "# priceを小さい順に各foldに振り分ける\n",
    "train.sort_values(by=\"price\", ignore_index=True, inplace=True)\n",
    "train[\"fold\"] = [col for col in range(CFG.n_splits)] * (train.shape[0]//CFG.n_splits) \\\n",
    "                + [col for col in range(0, train.shape[0] - len([col for col in range(CFG.n_splits)] * (train.shape[0] //CFG.n_splits)))]\n",
    "train.sort_values(by=\"id\", ignore_index=True, inplace=True)\n",
    "print(\"The variance of the mean of the folds: \", train.groupby(\"fold\")[\"price\"].mean().std())"
   ]
  },
  {
   "cell_type": "markdown",
   "metadata": {},
   "source": [
    "### 一番下を採用する  \n",
    "* **seed = 42, n_splits = 5**   \n",
    "  * 最後にWeighted average, StackingするときにleakageしないようにCross validationのやり方はチーム内で統一しておきたい。  \n",
    "  * n_splitsはもうすこし増やしても良い気がするが、増やすと実験の時間が長くなってしまうのでひとまずは5で固定する。最後に増やす可能性はあり。\n",
    "  * modelのseedは変えても良いが、Cross Validationを作るときのseedは必ず固定する。\n",
    "* **一番下を採用する直感的な説明**\n",
    "  * priceの分布が特殊なので、単純なKFoldではそれぞれのfoldに特殊な分布を再現できない  \n",
    "  * priceを層にしてStratifiedKFoldでは、priceを層にするときpd.cutを用いる。これは最大値と最小値の間でbins個に均等に分割し、要素数を考慮しない。priceの分布が0に寄っているので、要素数を考慮しないのはまずい\n",
    "  * priceを小さい順に各foldに振り分ける、は以上のデメリットを回避することができる"
   ]
  }
 ],
 "metadata": {
  "kernelspec": {
   "display_name": "Python 3",
   "language": "python",
   "name": "python3"
  },
  "language_info": {
   "codemirror_mode": {
    "name": "ipython",
    "version": 3
   },
   "file_extension": ".py",
   "mimetype": "text/x-python",
   "name": "python",
   "nbconvert_exporter": "python",
   "pygments_lexer": "ipython3",
   "version": "3.11.4"
  },
  "orig_nbformat": 4
 },
 "nbformat": 4,
 "nbformat_minor": 2
}
