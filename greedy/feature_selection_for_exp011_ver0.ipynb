{
 "cells": [
  {
   "cell_type": "code",
   "execution_count": 3,
   "metadata": {},
   "outputs": [
    {
     "name": "stdout",
     "output_type": "stream",
     "text": [
      "================================================================================\n",
      "seed: 42\n",
      "greedy_type: simple\n",
      "greedy_seed: 42\n",
      "n_splits: 5\n",
      "filename: exp010\n",
      "data_dir: G:/マイドライブ/signate_StudentCup2023/data/\n",
      "year_bins: 20\n",
      "num_boost_round: 5\n",
      "stopping_rounds: 1\n",
      "save_dir: G:/マイドライブ/signate_StudentCup2023/data/\n",
      "base_features: ['year', 'odometer']\n",
      "debug: True\n",
      "num_cores: 4\n",
      "categorical_features: ['manufacturer']\n",
      "candidate_features: ['manufacturer_category']\n",
      "fold\n",
      "0    5507\n",
      "1    5507\n",
      "3    5506\n",
      "2    5506\n",
      "4    5506\n",
      "Name: count, dtype: int64\n",
      "The variance of the mean of the folds:  4.695908800203918\n",
      "\u001b[32mstart simple selection\u001b[0m\n",
      "base features:  ['year', 'odometer']\n",
      "[0/32]Base Score: 52.205\n",
      "[1/32]Score: 52.20549 -> 52.20644 & unselected: sqrt_elapsed_years*odometer\n",
      "[2/32]Score: 52.20549 -> 52.27495 & unselected: manufacturer_min_elapsed_years_encoding\n",
      "[3/32]Score: 52.20549 -> 52.18429 &   selected: elapsed_years*log_odometer\n",
      "[4/32]Score: 52.18429 -> 52.68752 & unselected: manufacturer_median_odometer_encoding\n",
      "[5/32]Score: 52.18429 -> 52.45665 & unselected: manufacturer_std_odometer_encoding\n",
      "[6/32]Score: 52.18429 -> 52.57301 & unselected: manufacturer_std_elapsed_years_encoding\n",
      "[7/32]Score: 52.18429 -> 52.19014 & unselected: sqrt_elapsed_years*log_odometer\n",
      "[8/32]Score: 52.18429 -> 52.17235 &   selected: elapsed_years*sqrt_odometer\n",
      "[9/32]Score: 52.17235 -> 52.27249 & unselected: manufacturer_max_elapsed_years_encoding\n",
      "[10/32]Score: 52.17235 -> 52.32149 & unselected: manufacturer_category\n",
      "[11/32]Score: 52.17235 -> 52.26203 & unselected: manufacturer_mean_elapsed_years_encoding\n",
      "[12/32]Score: 52.17235 -> 52.13901 &   selected: manufacturer_median_encoding\n",
      "[13/32]Score: 52.13901 -> 52.21980 & unselected: manufacturer_mean_odometer_encoding_diff\n",
      "[14/32]Score: 52.13901 -> 52.13554 &   selected: manufacturer_min_encoding\n",
      "[15/32]Score: 52.13554 -> 52.29178 & unselected: manufacturer_max_odometer_encoding\n",
      "[16/32]Score: 52.13554 -> 51.95039 &   selected: elapsed_years*odometer\n",
      "[17/32]Score: 51.95039 -> 52.07105 & unselected: manufacturer_count_encoding\n",
      "[18/32]Score: 51.95039 -> 52.06044 & unselected: manufacturer_mean_encoding\n",
      "[19/32]Score: 51.95039 -> 52.04223 & unselected: log_elapsed_years*odometer\n",
      "[20/32]Score: 51.95039 -> 52.07115 & unselected: manufacturer_mean_odometer_encoding\n",
      "[21/32]Score: 51.95039 -> 51.95036 &   selected: log_odometer\n",
      "[22/32]Score: 51.95036 -> 52.00164 & unselected: log_elapsed_years*log_odometer\n",
      "[23/32]Score: 51.95036 -> 51.95036 & unselected: sqrt_odometer\n",
      "[24/32]Score: 51.95036 -> 52.09791 & unselected: manufacturer_median_elapsed_years_encoding\n",
      "[25/32]Score: 51.95036 -> 51.95036 & unselected: sqrt_elapsed_years*sqrt_odometer\n",
      "[26/32]Score: 51.95036 -> 52.03011 & unselected: manufacturer_median_elapsed_years_encoding_diff\n",
      "[27/32]Score: 51.95036 -> 52.09004 & unselected: manufacturer_std_encoding\n",
      "[28/32]Score: 51.95036 -> 51.92429 &   selected: manufacturer_max_encoding\n",
      "[29/32]Score: 51.92429 -> 52.05395 & unselected: manufacturer_min_odometer_encoding\n",
      "[30/32]Score: 51.92429 -> 52.14290 & unselected: log_elapsed_years*sqrt_odometer\n",
      "[31/32]Score: 51.92429 -> 51.93647 & unselected: manufacturer_median_odometer_encoding_diff\n",
      "[32/32]Score: 51.92429 -> 52.11763 & unselected: manufacturer_mean_elapsed_years_encoding_diff\n",
      "\u001b[32mselected features: ['manufacturer_max_encoding', 'elapsed_years*log_odometer', 'manufacturer_min_encoding', 'log_odometer', 'elapsed_years*sqrt_odometer', 'manufacturer_median_encoding', 'elapsed_years*odometer', 'year', 'odometer']\u001b[0m\n",
      "\u001b[32mbest_score: 51.924289193714344\u001b[0m\n",
      "Saved to G:/マイドライブ/signate_StudentCup2023/data/selected_features_for_exp010_seed42.pickle!\n"
     ]
    }
   ],
   "source": [
    "!python run.py\\\n",
    "--greedy_seed 42\\\n",
    "--debug"
   ]
  },
  {
   "cell_type": "code",
   "execution_count": null,
   "metadata": {},
   "outputs": [],
   "source": []
  }
 ],
 "metadata": {
  "kernelspec": {
   "display_name": "Python 3",
   "language": "python",
   "name": "python3"
  },
  "language_info": {
   "codemirror_mode": {
    "name": "ipython",
    "version": 3
   },
   "file_extension": ".py",
   "mimetype": "text/x-python",
   "name": "python",
   "nbconvert_exporter": "python",
   "pygments_lexer": "ipython3",
   "version": "3.11.4"
  },
  "orig_nbformat": 4
 },
 "nbformat": 4,
 "nbformat_minor": 2
}
