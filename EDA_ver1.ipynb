{
 "cells": [
  {
   "cell_type": "code",
   "execution_count": 1,
   "metadata": {},
   "outputs": [],
   "source": [
    "\n",
    "import pandas as pd\n",
    "import matplotlib.pyplot as plt\n",
    "import seaborn as sns\n",
    "from sklearn.metrics import mean_absolute_percentage_error\n",
    "from scipy.stats import spearmanr\n",
    "\n",
    "import unicodedata\n",
    "import os\n",
    "import numpy as np\n",
    "import random"
   ]
  },
  {
   "cell_type": "code",
   "execution_count": 2,
   "metadata": {},
   "outputs": [],
   "source": [
    "def get_score(y_true, y_pred):\n",
    "    \"\"\"get MAPE score\"\"\"\n",
    "    score = mean_absolute_percentage_error(y_true, y_pred)\n",
    "    return score * 100\n",
    "\n",
    "def seed_everything(seed):\n",
    "    \"\"\"fix random factors\"\"\"\n",
    "    random.seed(seed)\n",
    "    np.random.seed(seed)\n",
    "    os.environ['PYTHONHASHSEED'] = str(seed)\n",
    "seed_everything(42)"
   ]
  },
  {
   "cell_type": "code",
   "execution_count": 3,
   "metadata": {},
   "outputs": [
    {
     "name": "stdout",
     "output_type": "stream",
     "text": [
      "(27532, 16)\n"
     ]
    },
    {
     "data": {
      "text/html": [
       "<div>\n",
       "<style scoped>\n",
       "    .dataframe tbody tr th:only-of-type {\n",
       "        vertical-align: middle;\n",
       "    }\n",
       "\n",
       "    .dataframe tbody tr th {\n",
       "        vertical-align: top;\n",
       "    }\n",
       "\n",
       "    .dataframe thead th {\n",
       "        text-align: right;\n",
       "    }\n",
       "</style>\n",
       "<table border=\"1\" class=\"dataframe\">\n",
       "  <thead>\n",
       "    <tr style=\"text-align: right;\">\n",
       "      <th></th>\n",
       "      <th>id</th>\n",
       "      <th>year</th>\n",
       "      <th>odometer</th>\n",
       "      <th>price</th>\n",
       "    </tr>\n",
       "  </thead>\n",
       "  <tbody>\n",
       "    <tr>\n",
       "      <th>count</th>\n",
       "      <td>27532.000000</td>\n",
       "      <td>27532.000000</td>\n",
       "      <td>2.753200e+04</td>\n",
       "      <td>27532.000000</td>\n",
       "    </tr>\n",
       "    <tr>\n",
       "      <th>mean</th>\n",
       "      <td>13765.500000</td>\n",
       "      <td>2007.832958</td>\n",
       "      <td>1.160199e+05</td>\n",
       "      <td>13468.724829</td>\n",
       "    </tr>\n",
       "    <tr>\n",
       "      <th>std</th>\n",
       "      <td>7947.948142</td>\n",
       "      <td>15.758976</td>\n",
       "      <td>6.451642e+04</td>\n",
       "      <td>10962.149840</td>\n",
       "    </tr>\n",
       "    <tr>\n",
       "      <th>min</th>\n",
       "      <td>0.000000</td>\n",
       "      <td>1921.000000</td>\n",
       "      <td>-1.318690e+05</td>\n",
       "      <td>1004.000000</td>\n",
       "    </tr>\n",
       "    <tr>\n",
       "      <th>25%</th>\n",
       "      <td>6882.750000</td>\n",
       "      <td>2005.000000</td>\n",
       "      <td>7.836775e+04</td>\n",
       "      <td>5759.000000</td>\n",
       "    </tr>\n",
       "    <tr>\n",
       "      <th>50%</th>\n",
       "      <td>13765.500000</td>\n",
       "      <td>2011.000000</td>\n",
       "      <td>1.114445e+05</td>\n",
       "      <td>9206.000000</td>\n",
       "    </tr>\n",
       "    <tr>\n",
       "      <th>75%</th>\n",
       "      <td>20648.250000</td>\n",
       "      <td>2014.000000</td>\n",
       "      <td>1.508562e+05</td>\n",
       "      <td>19128.000000</td>\n",
       "    </tr>\n",
       "    <tr>\n",
       "      <th>max</th>\n",
       "      <td>27531.000000</td>\n",
       "      <td>3017.000000</td>\n",
       "      <td>2.946000e+06</td>\n",
       "      <td>96818.000000</td>\n",
       "    </tr>\n",
       "  </tbody>\n",
       "</table>\n",
       "</div>"
      ],
      "text/plain": [
       "                 id          year      odometer         price\n",
       "count  27532.000000  27532.000000  2.753200e+04  27532.000000\n",
       "mean   13765.500000   2007.832958  1.160199e+05  13468.724829\n",
       "std     7947.948142     15.758976  6.451642e+04  10962.149840\n",
       "min        0.000000   1921.000000 -1.318690e+05   1004.000000\n",
       "25%     6882.750000   2005.000000  7.836775e+04   5759.000000\n",
       "50%    13765.500000   2011.000000  1.114445e+05   9206.000000\n",
       "75%    20648.250000   2014.000000  1.508562e+05  19128.000000\n",
       "max    27531.000000   3017.000000  2.946000e+06  96818.000000"
      ]
     },
     "metadata": {},
     "output_type": "display_data"
    },
    {
     "name": "stdout",
     "output_type": "stream",
     "text": [
      "id                 0\n",
      "region             0\n",
      "year               0\n",
      "manufacturer       0\n",
      "condition          0\n",
      "cylinders          0\n",
      "fuel            1239\n",
      "odometer           0\n",
      "title_status     456\n",
      "transmission       0\n",
      "drive              0\n",
      "size               0\n",
      "type             456\n",
      "paint_color        0\n",
      "state           3304\n",
      "price              0\n",
      "dtype: int64\n"
     ]
    },
    {
     "data": {
      "text/html": [
       "<div>\n",
       "<style scoped>\n",
       "    .dataframe tbody tr th:only-of-type {\n",
       "        vertical-align: middle;\n",
       "    }\n",
       "\n",
       "    .dataframe tbody tr th {\n",
       "        vertical-align: top;\n",
       "    }\n",
       "\n",
       "    .dataframe thead th {\n",
       "        text-align: right;\n",
       "    }\n",
       "</style>\n",
       "<table border=\"1\" class=\"dataframe\">\n",
       "  <thead>\n",
       "    <tr style=\"text-align: right;\">\n",
       "      <th></th>\n",
       "      <th>id</th>\n",
       "      <th>region</th>\n",
       "      <th>year</th>\n",
       "      <th>manufacturer</th>\n",
       "      <th>condition</th>\n",
       "      <th>cylinders</th>\n",
       "      <th>fuel</th>\n",
       "      <th>odometer</th>\n",
       "      <th>title_status</th>\n",
       "      <th>transmission</th>\n",
       "      <th>drive</th>\n",
       "      <th>size</th>\n",
       "      <th>type</th>\n",
       "      <th>paint_color</th>\n",
       "      <th>state</th>\n",
       "      <th>price</th>\n",
       "    </tr>\n",
       "  </thead>\n",
       "  <tbody>\n",
       "    <tr>\n",
       "      <th>0</th>\n",
       "      <td>0</td>\n",
       "      <td>nashville</td>\n",
       "      <td>1949</td>\n",
       "      <td>bmw</td>\n",
       "      <td>excellent</td>\n",
       "      <td>6 cylinders</td>\n",
       "      <td>gas</td>\n",
       "      <td>115148</td>\n",
       "      <td>clean</td>\n",
       "      <td>manual</td>\n",
       "      <td>rwd</td>\n",
       "      <td>mid-size</td>\n",
       "      <td>convertible</td>\n",
       "      <td>orange</td>\n",
       "      <td>NaN</td>\n",
       "      <td>27587</td>\n",
       "    </tr>\n",
       "    <tr>\n",
       "      <th>1</th>\n",
       "      <td>1</td>\n",
       "      <td>state college</td>\n",
       "      <td>2013</td>\n",
       "      <td>toyota</td>\n",
       "      <td>fair</td>\n",
       "      <td>8 cylinders</td>\n",
       "      <td>gas</td>\n",
       "      <td>172038</td>\n",
       "      <td>clean</td>\n",
       "      <td>automatic</td>\n",
       "      <td>rwd</td>\n",
       "      <td>full-size</td>\n",
       "      <td>sedan</td>\n",
       "      <td>silver</td>\n",
       "      <td>pa</td>\n",
       "      <td>4724</td>\n",
       "    </tr>\n",
       "    <tr>\n",
       "      <th>2</th>\n",
       "      <td>2</td>\n",
       "      <td>wichita</td>\n",
       "      <td>1998</td>\n",
       "      <td>ford</td>\n",
       "      <td>good</td>\n",
       "      <td>6 cylinders</td>\n",
       "      <td>gas</td>\n",
       "      <td>152492</td>\n",
       "      <td>clean</td>\n",
       "      <td>automatic</td>\n",
       "      <td>fwd</td>\n",
       "      <td>full-size</td>\n",
       "      <td>SUV</td>\n",
       "      <td>silver</td>\n",
       "      <td>ks</td>\n",
       "      <td>10931</td>\n",
       "    </tr>\n",
       "    <tr>\n",
       "      <th>3</th>\n",
       "      <td>3</td>\n",
       "      <td>albany</td>\n",
       "      <td>2014</td>\n",
       "      <td>ford</td>\n",
       "      <td>excellent</td>\n",
       "      <td>4 cylinders</td>\n",
       "      <td>gas</td>\n",
       "      <td>104118</td>\n",
       "      <td>clean</td>\n",
       "      <td>manual</td>\n",
       "      <td>fwd</td>\n",
       "      <td>mid-size</td>\n",
       "      <td>SUV</td>\n",
       "      <td>blue</td>\n",
       "      <td>ny</td>\n",
       "      <td>16553</td>\n",
       "    </tr>\n",
       "    <tr>\n",
       "      <th>4</th>\n",
       "      <td>4</td>\n",
       "      <td>redding</td>\n",
       "      <td>2005</td>\n",
       "      <td>ford</td>\n",
       "      <td>excellent</td>\n",
       "      <td>6 cylinders</td>\n",
       "      <td>gas</td>\n",
       "      <td>144554</td>\n",
       "      <td>clean</td>\n",
       "      <td>manual</td>\n",
       "      <td>fwd</td>\n",
       "      <td>mid-size</td>\n",
       "      <td>sedan</td>\n",
       "      <td>red</td>\n",
       "      <td>ca</td>\n",
       "      <td>5158</td>\n",
       "    </tr>\n",
       "  </tbody>\n",
       "</table>\n",
       "</div>"
      ],
      "text/plain": [
       "   id         region  year manufacturer  condition    cylinders fuel  \\\n",
       "0   0      nashville  1949          bmw  excellent  6 cylinders  gas   \n",
       "1   1  state college  2013       toyota       fair  8 cylinders  gas   \n",
       "2   2        wichita  1998         ford       good  6 cylinders  gas   \n",
       "3   3         albany  2014         ford  excellent  4 cylinders  gas   \n",
       "4   4        redding  2005         ford  excellent  6 cylinders  gas   \n",
       "\n",
       "   odometer title_status transmission drive       size         type  \\\n",
       "0    115148        clean       manual   rwd   mid-size  convertible   \n",
       "1    172038        clean    automatic   rwd  full-size        sedan   \n",
       "2    152492        clean    automatic   fwd  full-size          SUV   \n",
       "3    104118        clean       manual   fwd   mid-size          SUV   \n",
       "4    144554        clean       manual   fwd   mid-size        sedan   \n",
       "\n",
       "  paint_color state  price  \n",
       "0      orange   NaN  27587  \n",
       "1      silver    pa   4724  \n",
       "2      silver    ks  10931  \n",
       "3        blue    ny  16553  \n",
       "4         red    ca   5158  "
      ]
     },
     "execution_count": 3,
     "metadata": {},
     "output_type": "execute_result"
    }
   ],
   "source": [
    "train = pd.read_csv(\"data/train.csv\")\n",
    "print(train.shape)\n",
    "display(train.describe())\n",
    "print(train.isnull().sum())\n",
    "train.head()"
   ]
  },
  {
   "cell_type": "code",
   "execution_count": 4,
   "metadata": {},
   "outputs": [
    {
     "name": "stdout",
     "output_type": "stream",
     "text": [
      "(27537, 15)\n"
     ]
    },
    {
     "data": {
      "text/html": [
       "<div>\n",
       "<style scoped>\n",
       "    .dataframe tbody tr th:only-of-type {\n",
       "        vertical-align: middle;\n",
       "    }\n",
       "\n",
       "    .dataframe tbody tr th {\n",
       "        vertical-align: top;\n",
       "    }\n",
       "\n",
       "    .dataframe thead th {\n",
       "        text-align: right;\n",
       "    }\n",
       "</style>\n",
       "<table border=\"1\" class=\"dataframe\">\n",
       "  <thead>\n",
       "    <tr style=\"text-align: right;\">\n",
       "      <th></th>\n",
       "      <th>id</th>\n",
       "      <th>year</th>\n",
       "      <th>odometer</th>\n",
       "    </tr>\n",
       "  </thead>\n",
       "  <tbody>\n",
       "    <tr>\n",
       "      <th>count</th>\n",
       "      <td>27537.000000</td>\n",
       "      <td>27537.000000</td>\n",
       "      <td>27537.000000</td>\n",
       "    </tr>\n",
       "    <tr>\n",
       "      <th>mean</th>\n",
       "      <td>41300.000000</td>\n",
       "      <td>2007.838908</td>\n",
       "      <td>116592.779932</td>\n",
       "    </tr>\n",
       "    <tr>\n",
       "      <th>std</th>\n",
       "      <td>7949.391518</td>\n",
       "      <td>14.558094</td>\n",
       "      <td>59040.921780</td>\n",
       "    </tr>\n",
       "    <tr>\n",
       "      <th>min</th>\n",
       "      <td>27532.000000</td>\n",
       "      <td>1918.000000</td>\n",
       "      <td>-1.000000</td>\n",
       "    </tr>\n",
       "    <tr>\n",
       "      <th>25%</th>\n",
       "      <td>34416.000000</td>\n",
       "      <td>2005.000000</td>\n",
       "      <td>79914.000000</td>\n",
       "    </tr>\n",
       "    <tr>\n",
       "      <th>50%</th>\n",
       "      <td>41300.000000</td>\n",
       "      <td>2011.000000</td>\n",
       "      <td>112436.000000</td>\n",
       "    </tr>\n",
       "    <tr>\n",
       "      <th>75%</th>\n",
       "      <td>48184.000000</td>\n",
       "      <td>2014.000000</td>\n",
       "      <td>150338.000000</td>\n",
       "    </tr>\n",
       "    <tr>\n",
       "      <th>max</th>\n",
       "      <td>55068.000000</td>\n",
       "      <td>3019.000000</td>\n",
       "      <td>394595.000000</td>\n",
       "    </tr>\n",
       "  </tbody>\n",
       "</table>\n",
       "</div>"
      ],
      "text/plain": [
       "                 id          year       odometer\n",
       "count  27537.000000  27537.000000   27537.000000\n",
       "mean   41300.000000   2007.838908  116592.779932\n",
       "std     7949.391518     14.558094   59040.921780\n",
       "min    27532.000000   1918.000000      -1.000000\n",
       "25%    34416.000000   2005.000000   79914.000000\n",
       "50%    41300.000000   2011.000000  112436.000000\n",
       "75%    48184.000000   2014.000000  150338.000000\n",
       "max    55068.000000   3019.000000  394595.000000"
      ]
     },
     "metadata": {},
     "output_type": "display_data"
    },
    {
     "name": "stdout",
     "output_type": "stream",
     "text": [
      "id                 0\n",
      "region             0\n",
      "year               0\n",
      "manufacturer       0\n",
      "condition          0\n",
      "cylinders          0\n",
      "fuel            1495\n",
      "odometer           0\n",
      "title_status     229\n",
      "transmission       0\n",
      "drive              0\n",
      "size               0\n",
      "type             229\n",
      "paint_color        0\n",
      "state           3029\n",
      "dtype: int64\n"
     ]
    },
    {
     "data": {
      "text/html": [
       "<div>\n",
       "<style scoped>\n",
       "    .dataframe tbody tr th:only-of-type {\n",
       "        vertical-align: middle;\n",
       "    }\n",
       "\n",
       "    .dataframe tbody tr th {\n",
       "        vertical-align: top;\n",
       "    }\n",
       "\n",
       "    .dataframe thead th {\n",
       "        text-align: right;\n",
       "    }\n",
       "</style>\n",
       "<table border=\"1\" class=\"dataframe\">\n",
       "  <thead>\n",
       "    <tr style=\"text-align: right;\">\n",
       "      <th></th>\n",
       "      <th>id</th>\n",
       "      <th>region</th>\n",
       "      <th>year</th>\n",
       "      <th>manufacturer</th>\n",
       "      <th>condition</th>\n",
       "      <th>cylinders</th>\n",
       "      <th>fuel</th>\n",
       "      <th>odometer</th>\n",
       "      <th>title_status</th>\n",
       "      <th>transmission</th>\n",
       "      <th>drive</th>\n",
       "      <th>size</th>\n",
       "      <th>type</th>\n",
       "      <th>paint_color</th>\n",
       "      <th>state</th>\n",
       "    </tr>\n",
       "  </thead>\n",
       "  <tbody>\n",
       "    <tr>\n",
       "      <th>0</th>\n",
       "      <td>27532</td>\n",
       "      <td>western slope</td>\n",
       "      <td>2015</td>\n",
       "      <td>chevrolet</td>\n",
       "      <td>excellent</td>\n",
       "      <td>4 cylinders</td>\n",
       "      <td>gas</td>\n",
       "      <td>92553</td>\n",
       "      <td>clean</td>\n",
       "      <td>automatic</td>\n",
       "      <td>fwd</td>\n",
       "      <td>full-size</td>\n",
       "      <td>SUV</td>\n",
       "      <td>red</td>\n",
       "      <td>NaN</td>\n",
       "    </tr>\n",
       "    <tr>\n",
       "      <th>1</th>\n",
       "      <td>27533</td>\n",
       "      <td>roseburg</td>\n",
       "      <td>2013</td>\n",
       "      <td>nissan</td>\n",
       "      <td>like new</td>\n",
       "      <td>4 cylinders</td>\n",
       "      <td>gas</td>\n",
       "      <td>134385</td>\n",
       "      <td>salvage</td>\n",
       "      <td>automatic</td>\n",
       "      <td>fwd</td>\n",
       "      <td>mid-size</td>\n",
       "      <td>sedan</td>\n",
       "      <td>black</td>\n",
       "      <td>or</td>\n",
       "    </tr>\n",
       "    <tr>\n",
       "      <th>2</th>\n",
       "      <td>27534</td>\n",
       "      <td>akron / canton</td>\n",
       "      <td>2011</td>\n",
       "      <td>volkswagen</td>\n",
       "      <td>good</td>\n",
       "      <td>4 cylinders</td>\n",
       "      <td>gas</td>\n",
       "      <td>102489</td>\n",
       "      <td>clean</td>\n",
       "      <td>automatic</td>\n",
       "      <td>fwd</td>\n",
       "      <td>full-size</td>\n",
       "      <td>sedan</td>\n",
       "      <td>black</td>\n",
       "      <td>oh</td>\n",
       "    </tr>\n",
       "    <tr>\n",
       "      <th>3</th>\n",
       "      <td>27535</td>\n",
       "      <td>denver</td>\n",
       "      <td>2016</td>\n",
       "      <td>jeep</td>\n",
       "      <td>excellent</td>\n",
       "      <td>6 cylinders</td>\n",
       "      <td>diesel</td>\n",
       "      <td>64310</td>\n",
       "      <td>clean</td>\n",
       "      <td>automatic</td>\n",
       "      <td>4wd</td>\n",
       "      <td>mid-size</td>\n",
       "      <td>SUV</td>\n",
       "      <td>red</td>\n",
       "      <td>co</td>\n",
       "    </tr>\n",
       "    <tr>\n",
       "      <th>4</th>\n",
       "      <td>27536</td>\n",
       "      <td>hickory / lenoir</td>\n",
       "      <td>1999</td>\n",
       "      <td>honda</td>\n",
       "      <td>excellent</td>\n",
       "      <td>8 cylinders</td>\n",
       "      <td>gas</td>\n",
       "      <td>180839</td>\n",
       "      <td>rebuilt</td>\n",
       "      <td>automatic</td>\n",
       "      <td>4wd</td>\n",
       "      <td>mid-size</td>\n",
       "      <td>SUV</td>\n",
       "      <td>silver</td>\n",
       "      <td>nc</td>\n",
       "    </tr>\n",
       "  </tbody>\n",
       "</table>\n",
       "</div>"
      ],
      "text/plain": [
       "      id            region  year manufacturer  condition    cylinders    fuel  \\\n",
       "0  27532     western slope  2015    chevrolet  excellent  4 cylinders     gas   \n",
       "1  27533          roseburg  2013       nissan   like new  4 cylinders     gas   \n",
       "2  27534    akron / canton  2011   volkswagen       good  4 cylinders     gas   \n",
       "3  27535            denver  2016         jeep  excellent  6 cylinders  diesel   \n",
       "4  27536  hickory / lenoir  1999        honda  excellent  8 cylinders     gas   \n",
       "\n",
       "   odometer title_status transmission drive       size   type paint_color  \\\n",
       "0     92553        clean    automatic   fwd  full-size    SUV         red   \n",
       "1    134385      salvage    automatic   fwd   mid-size  sedan       black   \n",
       "2    102489        clean    automatic   fwd  full-size  sedan       black   \n",
       "3     64310        clean    automatic   4wd   mid-size    SUV         red   \n",
       "4    180839      rebuilt    automatic   4wd   mid-size    SUV      silver   \n",
       "\n",
       "  state  \n",
       "0   NaN  \n",
       "1    or  \n",
       "2    oh  \n",
       "3    co  \n",
       "4    nc  "
      ]
     },
     "execution_count": 4,
     "metadata": {},
     "output_type": "execute_result"
    }
   ],
   "source": [
    "test = pd.read_csv(\"data/test.csv\")\n",
    "print(test.shape)\n",
    "display(test.describe())\n",
    "print(test.isnull().sum())\n",
    "test.head()"
   ]
  },
  {
   "cell_type": "markdown",
   "metadata": {},
   "source": [
    "## region"
   ]
  },
  {
   "cell_type": "markdown",
   "metadata": {},
   "source": [
    "\"/\"があるのでそれを分割する？しかし二つの要素を一つのカラムで表現するのはどうしたらよいかな？"
   ]
  },
  {
   "cell_type": "code",
   "execution_count": 5,
   "metadata": {},
   "outputs": [
    {
     "data": {
      "text/plain": [
       "array(['florence / muscle shoals'], dtype=object)"
      ]
     },
     "execution_count": 5,
     "metadata": {},
     "output_type": "execute_result"
    }
   ],
   "source": [
    "train[train[\"region\"].str.contains(\"muscle shoals\")][\"region\"].unique()"
   ]
  },
  {
   "cell_type": "code",
   "execution_count": 6,
   "metadata": {},
   "outputs": [
    {
     "data": {
      "text/plain": [
       "(region\n",
       " central NJ          1069\n",
       " rhode island         712\n",
       " rochester            522\n",
       " albany               504\n",
       " washington, DC       477\n",
       "                     ... \n",
       " the thumb              1\n",
       " ashtabula              1\n",
       " hanford-corcoran       1\n",
       " baton rouge            1\n",
       " southwest KS           1\n",
       " Name: count, Length: 372, dtype: int64,\n",
       " array(['nashville', 'state college', 'wichita', 'albany', 'redding',\n",
       "        'florence / muscle shoals', 'oregon coast', 'medford-ashland',\n",
       "        'richmond', 'buffalo', 'billings', 'bakersfield', 'central NJ',\n",
       "        'worcester / central MA', 'eau claire', 'greenville / upstate',\n",
       "        'yakima', 'washington, DC', 'palm springs', 'cincinnati',\n",
       "        'rockford', 'rochester', 'lancaster', 'fort wayne', 'toledo',\n",
       "        'wilmington', 'huntsville / decatur', 'orlando',\n",
       "        'sarasota-bradenton', 'las cruces', 'mohave county', 'tulsa',\n",
       "        'indianapolis', 'fresno / madera', 'norfolk / hampton roads',\n",
       "        'duluth / superior', 'san antonio', 'western massachusetts',\n",
       "        'flagstaff / sedona', 'colorado springs', 'dayton / springfield',\n",
       "        'delaware', 'las vegas', 'eastern panhandle', 'santa maria',\n",
       "        'detroit metro', 'knoxville', 'rhode island', 'harrisonburg',\n",
       "        'reading', 'northern michigan', 'bend', 'pueblo', 'houston',\n",
       "        'killeen / temple / ft hood', 'stockton', 'cleveland',\n",
       "        'south jersey', 'salt lake city', 'des moines', 'atlanta',\n",
       "        'syracuse', 'baltimore', 'kansas city, MO', 'columbus', 'boston',\n",
       "        'orange county', 'prescott', 'bowling green', 'jacksonville',\n",
       "        'tucson', 'greensboro', 'san diego', 'corpus christi', 'chicago',\n",
       "        'charlotte', 'anchorage / mat-su', 'st cloud', 'madison', 'boise',\n",
       "        'long island', 'vermont', 'high rockies', 'la crosse',\n",
       "        'los angeles', 'pittsburgh', 'klamath falls', 'milwaukee',\n",
       "        'chattanooga', 'humboldt county', 'new york city', 'northwest CT',\n",
       "        'wyoming', 'youngstown', 'western slope', 'bismarck', 'maine',\n",
       "        'fargo / moorhead', 'omaha / council bluffs', 'winston-salem',\n",
       "        'eugene', 'jersey shore', 'flint', 'little rock', 'oklahoma city',\n",
       "        'philadelphia', 'boulder', 'beaumont / port arthur', 'hawaii',\n",
       "        'winchester', 'reno / tahoe', 'south florida', 'new haven',\n",
       "        'jackson', 'san luis obispo', 'inland empire',\n",
       "        'ft myers / SW florida', \"spokane / coeur d'alene\", 'tallahassee',\n",
       "        'texoma', 'memphis', 'east oregon', 'cape cod / islands',\n",
       "        'rapid city / west SD', 'hickory / lenoir', 'florence',\n",
       "        'raleigh / durham / CH', 'ventura county', 'denver',\n",
       "        'south bend / michiana', 'lansing', 'east idaho', 'salem',\n",
       "        'grand rapids', 'dallas / fort worth', 'olympic peninsula',\n",
       "        'corvallis/albany', 'tuscaloosa', 'laredo', 'huntington-ashland',\n",
       "        'lawton', 'dothan', 'austin', 'tampa bay area', 'SF bay area',\n",
       "        'mcallen / edinburg', 'albuquerque', 'louisville', 'asheville',\n",
       "        'st louis, MO', 'daytona beach', 'monterey bay', 'topeka',\n",
       "        'roswell / carlsbad', 'pensacola', 'kalispell', 'north platte',\n",
       "        'cedar rapids', 'phoenix', 'scranton / wilkes-barre', 'abilene',\n",
       "        'fayetteville', 'odessa / midland', 'bellingham',\n",
       "        'altoona-johnstown', 'columbia', 'okaloosa / walton',\n",
       "        'champaign urbana', 'north jersey', 'lakeland', 'gadsden-anniston',\n",
       "        'wausau', 'north dakota', 'st augustine', 'south coast',\n",
       "        'new hampshire', 'sacramento', 'morgantown', 'danville', 'el paso',\n",
       "        'harrisburg', 'roanoke', 'columbia / jeff city', 'springfield',\n",
       "        'mobile', 'lincoln', 'bozeman', 'myrtle beach', 'la salle co',\n",
       "        'gold country', 'lafayette / west lafayette', 'hartford',\n",
       "        'twin falls', 'hudson valley', 'lexington',\n",
       "        'macon / warner robins', 'green bay', 'akron / canton',\n",
       "        'saginaw-midland-baycity', 'york', 'minneapolis / st paul',\n",
       "        'yuba-sutter', 'athens', 'modesto', 'chico', 'tri-cities',\n",
       "        'kalamazoo', 'grand forks', 'lafayette', 'merced',\n",
       "        'mattoon-charleston', 'fredericksburg', 'santa barbara',\n",
       "        'utica-rome-oneida', 'upper peninsula', 'bloomington-normal',\n",
       "        'muskegon', 'missoula', 'st george', 'eastern NC',\n",
       "        'kennewick-pasco-richland', 'stillwater', 'erie', 'treasure coast',\n",
       "        'evansville', 'space coast', 'gainesville', 'eastern CT',\n",
       "        'western maryland', 'appleton-oshkosh-FDL', 'lubbock', 'jonesboro',\n",
       "        'lima / findlay', 'southeast KS', 'waterloo / cedar falls',\n",
       "        'williamsport', 'new orleans', 'ann arbor', 'fort smith',\n",
       "        'bloomington', 'monroe', 'sierra vista', 'iowa city', 'wenatchee',\n",
       "        'sioux falls / SE SD', 'central michigan', 'charleston',\n",
       "        'lehigh valley', 'watertown', 'college station', 'santa fe / taos',\n",
       "        'new river valley', 'shreveport', 'mansfield', 'birmingham',\n",
       "        'hattiesburg', 'muncie / anderson', 'valdosta', 'wichita falls',\n",
       "        'amarillo', 'yuma', 'annapolis', 'lynchburg',\n",
       "        'plattsburgh-adirondacks', 'susanville', 'south dakota',\n",
       "        'florida keys', 'mankato', 'southwest michigan', 'lawrence',\n",
       "        'poconos', 'brownsville', 'joplin', 'northern WI',\n",
       "        'lewiston / clarkston', 'binghamton', 'tyler / east TX',\n",
       "        'skagit / island / SJI', 'panama city', 'helena',\n",
       "        'fort collins / north CO', 'charlottesville', 'finger lakes',\n",
       "        'seattle-tacoma', 'sandusky', 'texarkana', 'kokomo', 'ocala',\n",
       "        'chautauqua', 'visalia-tulare', 'outer banks', 'waco', 'augusta',\n",
       "        'northwest KS', 'southeast IA', 'northeast SD', 'peoria',\n",
       "        'sheboygan', 'show low', 'pullman / moscow', 'battle creek',\n",
       "        'western KY', 'eastern CO', 'eastern montana',\n",
       "        'zanesville / cambridge', 'eastern kentucky', 'butte',\n",
       "        'kenai peninsula', 'janesville', 'terre haute', 'eastern shore',\n",
       "        'brunswick', 'auburn', 'northern panhandle', 'sioux city',\n",
       "        'potsdam-canton-massena', 'holland', 'elmira-corning',\n",
       "        'grand island', 'great falls', 'southwest VA', 'portland',\n",
       "        'montgomery', 'roseburg', 'port huron', 'dubuque',\n",
       "        'savannah / hinesville', 'boone', 'lake of the ozarks',\n",
       "        'north mississippi', 'mendocino county', 'northwest OK', 'elko',\n",
       "        'ithaca', 'bemidji', 'southern illinois', 'gulfport / biloxi',\n",
       "        'imperial county', 'siskiyou county', 'southwest MN', 'moses lake',\n",
       "        'baton rouge', 'lake charles', 'fairbanks', 'farmington',\n",
       "        'north central FL', 'manhattan', 'deep east texas',\n",
       "        'scottsbluff / panhandle', 'heartland florida', 'ames',\n",
       "        'fort dodge', 'hanford-corcoran', 'san angelo', 'st joseph',\n",
       "        'northwest GA', 'ashtabula', 'the thumb', 'galveston',\n",
       "        'glens falls', 'kenosha-racine', 'del rio / eagle pass',\n",
       "        'clovis / portales', 'mason city', 'victoria',\n",
       "        'southeast missouri', 'brainerd', 'southern WV',\n",
       "        'cumberland valley', 'oneonta', 'southern maryland',\n",
       "        'southwest KS'], dtype=object))"
      ]
     },
     "execution_count": 6,
     "metadata": {},
     "output_type": "execute_result"
    }
   ],
   "source": [
    "train[\"region\"].value_counts(), train[\"region\"].unique()"
   ]
  },
  {
   "cell_type": "code",
   "execution_count": 7,
   "metadata": {},
   "outputs": [
    {
     "data": {
      "text/plain": [
       "(region\n",
       " central NJ              1097\n",
       " rhode island             723\n",
       " rochester                531\n",
       " albany                   530\n",
       " washington, DC           484\n",
       "                         ... \n",
       " kokomo                     1\n",
       " del rio / eagle pass       1\n",
       " fairbanks                  1\n",
       " southern WV                1\n",
       " glens falls                1\n",
       " Name: count, Length: 372, dtype: int64,\n",
       " array(['western slope', 'roseburg', 'akron / canton', 'denver',\n",
       "        'hickory / lenoir', 'eugene', 'new york city', 'salt lake city',\n",
       "        'gulfport / biloxi', 'st cloud', 'sarasota-bradenton',\n",
       "        'central NJ', 'st louis, MO', 'albany', 'rhode island',\n",
       "        'baltimore', 'san antonio', 'kansas city, MO', 'charlotte',\n",
       "        'pittsburgh', 'nashville', 'north jersey', 'charleston',\n",
       "        'los angeles', 'detroit metro', 'humboldt county', 'richmond',\n",
       "        'tampa bay area', 'stockton', 'kennewick-pasco-richland',\n",
       "        'winston-salem', 'jacksonville', 'bakersfield', 'missoula',\n",
       "        'dallas / fort worth', 'tallahassee', 'evansville',\n",
       "        'minneapolis / st paul', 'jersey shore', 'houston', 'el paso',\n",
       "        'plattsburgh-adirondacks', 'indianapolis', 'rockford',\n",
       "        'south jersey', 'harrisburg', 'rochester', 'hawaii', 'buffalo',\n",
       "        'merced', 'greenville / upstate', 'madison', 'new haven',\n",
       "        'wichita', 'seattle-tacoma', 'hattiesburg', 'washington, DC',\n",
       "        'austin', 'boston', 'orlando', 'mendocino county',\n",
       "        'colorado springs', 'lincoln', 'SF bay area', 'louisville',\n",
       "        'vermont', 'utica-rome-oneida', 'boise', 'asheville', 'tucson',\n",
       "        'omaha / council bluffs', 'long island', 'topeka', 'cleveland',\n",
       "        'palm springs', 'greensboro', 'york', 'south coast',\n",
       "        'fredericksburg', 'las vegas', 'raleigh / durham / CH', 'hartford',\n",
       "        'southwest VA', 'syracuse', 'the thumb', 'mcallen / edinburg',\n",
       "        'south florida', 'milwaukee', 'phoenix', 'monterey bay',\n",
       "        'san diego', 'oklahoma city', 'lawrence', 'wilmington',\n",
       "        'inland empire', 'cape cod / islands', 'dubuque', 'gold country',\n",
       "        \"spokane / coeur d'alene\", 'saginaw-midland-baycity', 'sacramento',\n",
       "        'show low', 'albuquerque', 'upper peninsula', 'harrisonburg',\n",
       "        'reno / tahoe', 'knoxville', 'chicago', 'cincinnati',\n",
       "        'rapid city / west SD', 'tulsa', 'san luis obispo',\n",
       "        'huntington-ashland', 'st george', 'ventura county', 'memphis',\n",
       "        'manhattan', 'great falls', 'boulder', 'panama city',\n",
       "        'northern michigan', 'altoona-johnstown', 'prescott', 'des moines',\n",
       "        'sioux falls / SE SD', 'atlanta', 'hudson valley', 'lancaster',\n",
       "        'fayetteville', 'springfield', 'high rockies', 'new hampshire',\n",
       "        'bend', 'wyoming', 'maine', 'bismarck', 'columbus', 'north dakota',\n",
       "        'muskegon', 'grand rapids', 'lubbock', 'shreveport', 'mobile',\n",
       "        'philadelphia', 'worcester / central MA', 'ocala', 'myrtle beach',\n",
       "        'fresno / madera', 'waco', 'treasure coast', 'fort wayne',\n",
       "        'eau claire', 'anchorage / mat-su', 'scranton / wilkes-barre',\n",
       "        'southern illinois', 'norfolk / hampton roads', 'modesto',\n",
       "        'lansing', 'flint', 'williamsport', 'kenai peninsula',\n",
       "        'western massachusetts', 'erie', 'huntsville / decatur',\n",
       "        'gainesville', 'ft myers / SW florida', 'flagstaff / sedona',\n",
       "        'orange county', 'santa barbara', 'south bend / michiana',\n",
       "        'mohave county', 'new orleans', 'birmingham', 'florence',\n",
       "        'okaloosa / walton', 'little rock', 'iowa city', 'reading',\n",
       "        'kalispell', 'wausau', 'holland', 'medford-ashland',\n",
       "        'corvallis/albany', 'athens', 'daytona beach', 'outer banks',\n",
       "        'pueblo', 'charlottesville', 'southern WV', 'bemidji', 'columbia',\n",
       "        'laredo', 'eastern kentucky', 'grand forks', 'billings',\n",
       "        'fargo / moorhead', 'visalia-tulare', 'eastern CT', 'space coast',\n",
       "        'binghamton', 'salem', 'redding', 'savannah / hinesville',\n",
       "        'bozeman', 'chautauqua', 'imperial county', 'toledo',\n",
       "        'potsdam-canton-massena', 'lehigh valley', 'western maryland',\n",
       "        'yuma', 'fort smith', 'cedar rapids', 'st augustine', 'watertown',\n",
       "        'poconos', 'lakeland', 'bloomington', 'chattanooga', 'augusta',\n",
       "        'northern panhandle', 'roanoke', 'corpus christi',\n",
       "        'appleton-oshkosh-FDL', 'jackson', 'ames', 'boone',\n",
       "        'waterloo / cedar falls', 'youngstown', 'yakima', 'mankato',\n",
       "        'twin falls', 'las cruces', 'tuscaloosa', 'dayton / springfield',\n",
       "        'lima / findlay', 'pensacola', 'macon / warner robins',\n",
       "        'eastern panhandle', 'wenatchee', 'delaware', 'southeast KS',\n",
       "        'northwest CT', 'lafayette', 'killeen / temple / ft hood',\n",
       "        'winchester', 'oregon coast', 'tyler / east TX', 'brunswick',\n",
       "        'columbia / jeff city', 'duluth / superior', 'morgantown',\n",
       "        'beaumont / port arthur', 'moses lake', 'bowling green',\n",
       "        'brownsville', 'northwest GA', 'butte', 'sandusky', 'ann arbor',\n",
       "        'eastern shore', 'santa fe / taos', 'portland',\n",
       "        'skagit / island / SJI', 'ashtabula', 'chico', 'sierra vista',\n",
       "        'lynchburg', 'lexington', 'east idaho', 'eastern NC', 'mansfield',\n",
       "        'yuba-sutter', 'state college', 'peoria', 'east oregon',\n",
       "        'north central FL', 'lewiston / clarkston', 'sioux city',\n",
       "        'north mississippi', 'dothan', 'helena', 'fort collins / north CO',\n",
       "        'montgomery', 'northwest OK', 'florence / muscle shoals',\n",
       "        'texarkana', 'la crosse', 'joplin', 'amarillo', 'mason city',\n",
       "        'kalamazoo', 'terre haute', 'texoma', 'bellingham',\n",
       "        'clovis / portales', 'tri-cities', 'zanesville / cambridge',\n",
       "        'wichita falls', 'santa maria', 'grand island', 'monroe',\n",
       "        'northeast SD', 'southeast IA', 'elko', 'champaign urbana',\n",
       "        'battle creek', 'lafayette / west lafayette', 'green bay',\n",
       "        'odessa / midland', 'deep east texas', 'north platte',\n",
       "        'northern WI', 'college station', 'la salle co',\n",
       "        'southeast missouri', 'southwest MN', 'elmira-corning',\n",
       "        'sheboygan', 'south dakota', 'baton rouge', 'annapolis', 'ithaca',\n",
       "        'st joseph', 'kenosha-racine', 'central michigan', 'finger lakes',\n",
       "        'new river valley', 'farmington', 'southwest michigan', 'valdosta',\n",
       "        'pullman / moscow', 'bloomington-normal', 'olympic peninsula',\n",
       "        'western KY', 'stillwater', 'florida keys', 'roswell / carlsbad',\n",
       "        'gadsden-anniston', 'eastern CO', 'san angelo', 'jonesboro',\n",
       "        'danville', 'janesville', 'fort dodge', 'port huron', 'galveston',\n",
       "        'heartland florida', 'oneonta', 'susanville', 'siskiyou county',\n",
       "        'kokomo', 'abilene', 'hanford-corcoran', 'mattoon-charleston',\n",
       "        'victoria', 'brainerd', 'muncie / anderson', 'cumberland valley',\n",
       "        'southwest KS', 'lake charles', 'southern maryland',\n",
       "        'klamath falls', 'auburn', 'lake of the ozarks',\n",
       "        'scottsbluff / panhandle', 'northwest KS', 'del rio / eagle pass',\n",
       "        'fairbanks', 'eastern montana', 'glens falls', 'lawton'],\n",
       "       dtype=object))"
      ]
     },
     "execution_count": 7,
     "metadata": {},
     "output_type": "execute_result"
    }
   ],
   "source": [
    "test[\"region\"].value_counts(), test[\"region\"].unique()"
   ]
  },
  {
   "cell_type": "code",
   "execution_count": 8,
   "metadata": {},
   "outputs": [
    {
     "data": {
      "text/plain": [
       "(set(), set())"
      ]
     },
     "execution_count": 8,
     "metadata": {},
     "output_type": "execute_result"
    }
   ],
   "source": [
    "set(train[\"region\"]) - set(test[\"region\"]), set(test[\"region\"]) - set(train[\"region\"]), "
   ]
  },
  {
   "cell_type": "code",
   "execution_count": 9,
   "metadata": {},
   "outputs": [],
   "source": [
    "\n",
    "def calculate_spearmanr(train_data, test_data, column_name):\n",
    "    \"\"\"\n",
    "    train_data: pandas DataFrame, training dataset\n",
    "    test_data: pandas DataFrame, test dataset\n",
    "    column_name: str, name of the column for which Spearman's rank correlation will be calculated\n",
    "    \"\"\"\n",
    "    # Calculate value counts for the specified column in the training and test datasets\n",
    "    train_counts = train_data[column_name].value_counts().reset_index(name=\"train\")\n",
    "    test_counts = test_data[column_name].value_counts().reset_index(name=\"test\")\n",
    "    \n",
    "    # Merge the two datasets on the column index\n",
    "    merged_data = pd.merge(train_counts, test_counts, on=column_name)\n",
    "    \n",
    "    # Plot the value counts for both training and test datasets\n",
    "    plt.plot(merged_data[\"train\"], label=\"Train\")\n",
    "    plt.plot(merged_data[\"test\"], label=\"Test\")\n",
    "    plt.legend()\n",
    "    plt.xlabel(\"Index\")\n",
    "    plt.ylabel(\"Count\")\n",
    "    plt.title(f\"Value Counts Comparison for '{column_name}'\")\n",
    "    plt.show()\n",
    "\n",
    "    # Calculate Spearman's rank correlation coefficient and p-value\n",
    "    correlation, p_value = spearmanr(merged_data[\"train\"], merged_data[\"test\"])\n",
    "\n",
    "    print(\"順位相関係数:\", correlation)\n",
    "    print(\"p値:\", p_value)\n",
    "    \n",
    "    # 判定基準（通常の有意水準0.05を使用）\n",
    "    alpha = 0.05\n",
    "    if p_value < alpha:\n",
    "        print(\"有意です。\")\n",
    "    else:\n",
    "        print(\"有意ではありません。\")"
   ]
  },
  {
   "cell_type": "code",
   "execution_count": 10,
   "metadata": {},
   "outputs": [
    {
     "data": {
      "image/png": "[encoded data removed]",
      "text/plain": [
       "<Figure size 640x480 with 1 Axes>"
      ]
     },
     "metadata": {},
     "output_type": "display_data"
    },
    {
     "name": "stdout",
     "output_type": "stream",
     "text": [
      "順位相関係数: 0.9801385490806529\n",
      "p値: 4.4352925053454705e-262\n",
      "有意です。\n"
     ]
    }
   ],
   "source": [
    "calculate_spearmanr(train, test, \"region\")"
   ]
  },
  {
   "cell_type": "markdown",
   "metadata": {},
   "source": [
    "## year"
   ]
  },
  {
   "cell_type": "markdown",
   "metadata": {},
   "source": [
    "yearのミスが多いので直す\n",
    "* 3000年代は2000年代に直す\n",
    "* 1922とかは2022じゃないよな"
   ]
  },
  {
   "cell_type": "code",
   "execution_count": 11,
   "metadata": {},
   "outputs": [],
   "source": [
    "def pre_year(df: pd.DataFrame):\n",
    "    year_dict = {\n",
    "        2999:1999,\n",
    "        3008:2008,\n",
    "        3015:2015,\n",
    "        3017:2017,\n",
    "        3011:2011,\n",
    "        3019:2019,\n",
    "    }\n",
    "    df[\"year\"] = df[\"year\"].replace(year_dict)\n",
    "    return df"
   ]
  },
  {
   "cell_type": "code",
   "execution_count": 12,
   "metadata": {},
   "outputs": [
    {
     "data": {
      "text/plain": [
       "(year\n",
       " 2013    2503\n",
       " 2012    2482\n",
       " 2014    2252\n",
       " 2011    2127\n",
       " 2015    1775\n",
       "         ... \n",
       " 1932       1\n",
       " 1931       1\n",
       " 2999       1\n",
       " 1921       1\n",
       " 3015       1\n",
       " Name: count, Length: 101, dtype: int64,\n",
       " [1921,\n",
       "  1922,\n",
       "  1925,\n",
       "  1928,\n",
       "  1929,\n",
       "  1930,\n",
       "  1931,\n",
       "  1932,\n",
       "  1934,\n",
       "  1935,\n",
       "  1936,\n",
       "  1937,\n",
       "  1938,\n",
       "  1939,\n",
       "  1940,\n",
       "  1941,\n",
       "  1942,\n",
       "  1943,\n",
       "  1944,\n",
       "  1945,\n",
       "  1946,\n",
       "  1947,\n",
       "  1948,\n",
       "  1949,\n",
       "  1950,\n",
       "  1951,\n",
       "  1952,\n",
       "  1953,\n",
       "  1954,\n",
       "  1955,\n",
       "  1956,\n",
       "  1957,\n",
       "  1958,\n",
       "  1959,\n",
       "  1960,\n",
       "  1961,\n",
       "  1962,\n",
       "  1963,\n",
       "  1964,\n",
       "  1965,\n",
       "  1966,\n",
       "  1967,\n",
       "  1968,\n",
       "  1969,\n",
       "  1970,\n",
       "  1971,\n",
       "  1972,\n",
       "  1973,\n",
       "  1974,\n",
       "  1975,\n",
       "  1976,\n",
       "  1977,\n",
       "  1978,\n",
       "  1979,\n",
       "  1980,\n",
       "  1981,\n",
       "  1982,\n",
       "  1983,\n",
       "  1984,\n",
       "  1985,\n",
       "  1986,\n",
       "  1987,\n",
       "  1988,\n",
       "  1989,\n",
       "  1990,\n",
       "  1991,\n",
       "  1992,\n",
       "  1993,\n",
       "  1994,\n",
       "  1995,\n",
       "  1996,\n",
       "  1997,\n",
       "  1998,\n",
       "  1999,\n",
       "  2000,\n",
       "  2001,\n",
       "  2002,\n",
       "  2003,\n",
       "  2004,\n",
       "  2005,\n",
       "  2006,\n",
       "  2007,\n",
       "  2008,\n",
       "  2009,\n",
       "  2010,\n",
       "  2011,\n",
       "  2012,\n",
       "  2013,\n",
       "  2014,\n",
       "  2015,\n",
       "  2016,\n",
       "  2017,\n",
       "  2018,\n",
       "  2019,\n",
       "  2020,\n",
       "  2021,\n",
       "  2022,\n",
       "  2999,\n",
       "  3008,\n",
       "  3015,\n",
       "  3017])"
      ]
     },
     "execution_count": 12,
     "metadata": {},
     "output_type": "execute_result"
    }
   ],
   "source": [
    "train[\"year\"].value_counts(), sorted(train[\"year\"].unique())"
   ]
  },
  {
   "cell_type": "code",
   "execution_count": 13,
   "metadata": {},
   "outputs": [
    {
     "data": {
      "text/plain": [
       "(year\n",
       " 2012    2621\n",
       " 2013    2484\n",
       " 2011    2142\n",
       " 2014    2086\n",
       " 2015    1739\n",
       "         ... \n",
       " 1918       1\n",
       " 1942       1\n",
       " 3015       1\n",
       " 1943       1\n",
       " 1933       1\n",
       " Name: count, Length: 103, dtype: int64,\n",
       " [1918,\n",
       "  1920,\n",
       "  1921,\n",
       "  1923,\n",
       "  1926,\n",
       "  1928,\n",
       "  1929,\n",
       "  1930,\n",
       "  1931,\n",
       "  1932,\n",
       "  1933,\n",
       "  1934,\n",
       "  1935,\n",
       "  1936,\n",
       "  1937,\n",
       "  1938,\n",
       "  1939,\n",
       "  1940,\n",
       "  1941,\n",
       "  1942,\n",
       "  1943,\n",
       "  1944,\n",
       "  1945,\n",
       "  1946,\n",
       "  1947,\n",
       "  1948,\n",
       "  1949,\n",
       "  1950,\n",
       "  1951,\n",
       "  1952,\n",
       "  1953,\n",
       "  1954,\n",
       "  1955,\n",
       "  1956,\n",
       "  1957,\n",
       "  1958,\n",
       "  1959,\n",
       "  1960,\n",
       "  1961,\n",
       "  1962,\n",
       "  1963,\n",
       "  1964,\n",
       "  1965,\n",
       "  1966,\n",
       "  1967,\n",
       "  1968,\n",
       "  1969,\n",
       "  1970,\n",
       "  1971,\n",
       "  1972,\n",
       "  1973,\n",
       "  1974,\n",
       "  1975,\n",
       "  1976,\n",
       "  1977,\n",
       "  1978,\n",
       "  1979,\n",
       "  1980,\n",
       "  1981,\n",
       "  1982,\n",
       "  1983,\n",
       "  1984,\n",
       "  1985,\n",
       "  1986,\n",
       "  1987,\n",
       "  1988,\n",
       "  1989,\n",
       "  1990,\n",
       "  1991,\n",
       "  1992,\n",
       "  1993,\n",
       "  1994,\n",
       "  1995,\n",
       "  1996,\n",
       "  1997,\n",
       "  1998,\n",
       "  1999,\n",
       "  2000,\n",
       "  2001,\n",
       "  2002,\n",
       "  2003,\n",
       "  2004,\n",
       "  2005,\n",
       "  2006,\n",
       "  2007,\n",
       "  2008,\n",
       "  2009,\n",
       "  2010,\n",
       "  2011,\n",
       "  2012,\n",
       "  2013,\n",
       "  2014,\n",
       "  2015,\n",
       "  2016,\n",
       "  2017,\n",
       "  2018,\n",
       "  2019,\n",
       "  2020,\n",
       "  2021,\n",
       "  2022,\n",
       "  3011,\n",
       "  3015,\n",
       "  3019])"
      ]
     },
     "execution_count": 13,
     "metadata": {},
     "output_type": "execute_result"
    }
   ],
   "source": [
    "test[\"year\"].value_counts(), sorted(test[\"year\"].unique())"
   ]
  },
  {
   "cell_type": "code",
   "execution_count": 14,
   "metadata": {},
   "outputs": [],
   "source": [
    "train = pre_year(train)\n",
    "test = pre_year(test)"
   ]
  },
  {
   "cell_type": "code",
   "execution_count": 15,
   "metadata": {},
   "outputs": [
    {
     "data": {
      "image/png": "[encoded data removed]",
      "text/plain": [
       "<Figure size 640x480 with 1 Axes>"
      ]
     },
     "metadata": {},
     "output_type": "display_data"
    }
   ],
   "source": [
    "plt.hist(train[\"year\"], alpha=0.5, label=\" train\", bins=50)\n",
    "plt.hist(test[\"year\"], alpha=0.5, label=\" test\", bins=50)\n",
    "plt.xlabel(\"year\")\n",
    "plt.ylabel(\"frequency\")\n",
    "plt.title(\"Distribution of Years in Train and Test Data\")\n",
    "plt.legend()\n",
    "plt.show()"
   ]
  },
  {
   "cell_type": "code",
   "execution_count": 16,
   "metadata": {},
   "outputs": [
    {
     "data": {
      "image/png": "[encoded data removed]",
      "text/plain": [
       "<Figure size 640x480 with 1 Axes>"
      ]
     },
     "metadata": {},
     "output_type": "display_data"
    },
    {
     "name": "stdout",
     "output_type": "stream",
     "text": [
      "順位相関係数: 0.9714226964453537\n",
      "p値: 6.935805475670073e-60\n",
      "有意です。\n"
     ]
    }
   ],
   "source": [
    "calculate_spearmanr(train, test, \"year\")"
   ]
  },
  {
   "cell_type": "markdown",
   "metadata": {},
   "source": [
    "train dataとtest dataの分布はおおよそ一緒？"
   ]
  },
  {
   "cell_type": "markdown",
   "metadata": {},
   "source": [
    "## manufacturer"
   ]
  },
  {
   "cell_type": "markdown",
   "metadata": {},
   "source": [
    "小文字にしても良いかな\n"
   ]
  },
  {
   "cell_type": "code",
   "execution_count": 17,
   "metadata": {},
   "outputs": [],
   "source": [
    "def convert_full_to_half(row):\n",
    "    return unicodedata.normalize('NFKC', row)\n",
    "\n",
    "def pre_manufacture(df: pd.DataFrame):\n",
    "    df[\"manufacturer\"] = df[\"manufacturer\"].apply(convert_full_to_half)\n",
    "    return df\n"
   ]
  },
  {
   "cell_type": "code",
   "execution_count": 18,
   "metadata": {},
   "outputs": [
    {
     "data": {
      "text/plain": [
       "(manufacturer\n",
       " ford             6166\n",
       " chevrolet        3339\n",
       " bmw              2736\n",
       " toyota           1570\n",
       " honda            1526\n",
       "                  ... \n",
       " SΑTURN              1\n",
       " ＤＯＤＧＥ               1\n",
       " ｉｎｆｉｎｉｔｉ            1\n",
       " ｍｅｒｃｅｄｅｓ－ｂｅｎｚ       1\n",
       " ᴄhrysler            1\n",
       " Name: count, Length: 125, dtype: int64,\n",
       " array(['bmw', 'toyota', 'ford', 'nissan', 'volkswagen', 'FORD', 'lexus',\n",
       "        'buick', 'subaru', 'ram', 'TOYOTA', 'dodge', 'ｂｍｗ', 'chevrolet',\n",
       "        'RAM', 'BMW', 'jeep', 'ｃｈｅｖｒｏｌｅｔ', 'honda', 'NISSAN', 'hyundai',\n",
       "        'chrysler', 'gmc', 'mazda', 'audi', 'lincoln', 'kia',\n",
       "        'mercedes-benz', 'mitsubishi', 'CHEVROLET', 'GMC', 'ｆｏｒｄ', 'BUICK',\n",
       "        'saturn', 'infiniti', 'MINI', 'mercury', 'cadillac',\n",
       "        'MERCEDES-BENZ', 'pontiac', 'acura', 'HONDA', 'ACURA', 'KIA',\n",
       "        'fiat', 'jaguar', 'ｒａｍ', 'mini', 'LEXUS', 'VOLKSWAGEN', 'ｋｉａ',\n",
       "        'SUBARU', 'ｎｉｓｓａｎ', 'DODGE', 'volvo', 'HYUNDAI', 'MAZDA', 'ｈｏｎｄａ',\n",
       "        'ｍａｚｄａ', 'INFINITI', 'CADILLAC', 'JEEP', 'LINCOLN', 'ｔｏｙｏｔａ',\n",
       "        'niѕsan', 'AUDI', 'ＶＯＬＫＳＷＡＧＥＮ', 'ＣＨＥＶＲＯＬＥＴ', 'MERCURY', 'ｂｕｉｃｋ',\n",
       "        'ROVER', 'ｄｏｄｇｅ', 'porsche', 'ｖｏｌｖｏ', 'ｖｏｌｋｓｗａｇｅｎ', 'JAGUAR',\n",
       "        'SATURN', 'ｊｅｅｐ', 'rover', 'ｓｕｂａｒｕ', 'CHRYSLER', 'PONTIAC',\n",
       "        'ｍｉｔｓｕｂｉｓｈｉ', 'ＴＯＹＯＴＡ', 'ＢＭＷ', 'ｃｈｒｙｓｌｅｒ', 'nisѕan', 'MITSUBISHI',\n",
       "        'ｈｙｕｎｄａｉ', 'ｇｍｃ', 'ＦＯＲＤ', 'ＨＹＵＮＤＡＩ', 'ＭＡＺＤＡ', 'land rover',\n",
       "        'VOLVO', 'aston-martin', 'ａｃｕｒａ', 'ｌｅｘｕｓ', 'SUBΑRU', 'ｓａｔｕｒｎ',\n",
       "        'alfa-romeo', 'ａｕｄｉ', 'ＳＵＢＡＲＵ', 'ｍｅｒｃｅｄｅｓ－ｂｅｎｚ', 'ｃａｄｉｌｌａｃ',\n",
       "        'ｉｎｆｉｎｉｔｉ', 'toyotа', 'ＤＯＤＧＥ', 'SΑTURN', 'ＣＡＤＩＬＬＡＣ', 'ＲＡＭ',\n",
       "        'ＭＩＴＳＵＢＩＳＨＩ', 'ＢＵＩＣＫ', 'ｐｏｎｔｉａｃ', 'ＡＣＵＲＡ', 'ＪＥＥＰ', 'ＭＩＮＩ', 'аcura',\n",
       "        'vоlkswagen', 'FIAT', 'ｍｅｒｃｕｒｙ', 'lexuѕ', 'ＮＩＳＳＡＮ', 'ＭＥＲＣＵＲＹ',\n",
       "        'ᴄhrysler'], dtype=object))"
      ]
     },
     "execution_count": 18,
     "metadata": {},
     "output_type": "execute_result"
    }
   ],
   "source": [
    "train[\"manufacturer\"].value_counts(), train[\"manufacturer\"].unique()"
   ]
  },
  {
   "cell_type": "code",
   "execution_count": 19,
   "metadata": {},
   "outputs": [
    {
     "data": {
      "text/plain": [
       "(manufacturer\n",
       " ford            6169\n",
       " chevrolet       3316\n",
       " bmw             2865\n",
       " honda           1608\n",
       " toyota          1555\n",
       "                 ... \n",
       " ＮＩＳＳＡＮ             1\n",
       " ＣＡＤＩＬＬＡＣ           1\n",
       " ｓａｔｕｒｎ             1\n",
       " aston-martin       1\n",
       " аcura              1\n",
       " Name: count, Length: 125, dtype: int64,\n",
       " array(['chevrolet', 'nissan', 'volkswagen', 'jeep', 'honda', 'CHEVROLET',\n",
       "        'mercury', 'ram', 'fiat', 'bmw', 'toyota', 'BMW', 'ford', 'HONDA',\n",
       "        'kia', 'ｂｕｉｃｋ', 'buick', 'FORD', 'mercedes-benz', 'lincoln',\n",
       "        'mitsubishi', 'subaru', 'CADILLAC', 'VOLKSWAGEN', 'acura', 'LEXUS',\n",
       "        'JEEP', 'TOYOTA', 'GMC', 'gmc', 'ｆｏｒｄ', 'mazda', 'pontiac',\n",
       "        'JAGUAR', 'ｃｈｅｖｒｏｌｅｔ', 'RAM', 'rover', 'audi', 'hyundai',\n",
       "        'chrysler', 'lexus', 'ACURA', 'ＴＯＹＯＴＡ', 'dodge', 'HYUNDAI', 'mini',\n",
       "        'cadillac', 'infiniti', 'MERCEDES-BENZ', 'KIA', 'PONTIAC',\n",
       "        'NISSAN', 'saturn', 'ｌｅｘｕｓ', 'MITSUBISHI', 'DODGE', 'INFINITI',\n",
       "        'BUICK', 'ｊｅｅｐ', 'ｔｏｙｏｔａ', 'ｈｏｎｄａ', 'AUDI', 'porsche', 'volvo',\n",
       "        'ｃａｄｉｌｌａｃ', 'ｋｉａ', 'CHRYSLER', 'ｍｅｒｃｕｒｙ', 'ｎｉｓｓａｎ', 'ｍａｚｄａ',\n",
       "        'LINCOLN', 'MERCURY', 'lexuѕ', 'ｒａｍ', 'ＦＯＲＤ', 'FIAT', 'SUBARU',\n",
       "        'ｂｍｗ', 'ＢＭＷ', 'MAZDA', 'jaguar', 'ＣＨＥＶＲＯＬＥＴ', 'ｖｏｌｋｓｗａｇｅｎ',\n",
       "        'ｈｙｕｎｄａｉ', 'MINI', 'niѕsan', 'ＭＡＺＤＡ', 'ｓａｔｕｒｎ', 'SATURN',\n",
       "        'ｍｉｔｓｕｂｉｓｈｉ', 'ＲＡＭ', 'aston-martin', 'alfa-romeo', 'ａｕｄｉ',\n",
       "        'ＣＡＤＩＬＬＡＣ', 'ＮＩＳＳＡＮ', 'ｉｎｆｉｎｉｔｉ', 'ｍｅｒｃｅｄｅｓ－ｂｅｎｚ', 'VOLVO', 'ＭＩＮＩ',\n",
       "        'ｓｕｂａｒｕ', 'toyotа', 'ｖｏｌｖｏ', 'ａｃｕｒａ', 'ＶＯＬＫＳＷＡＧＥＮ', 'ｃｈｒｙｓｌｅｒ',\n",
       "        'ＳＵＢＡＲＵ', 'nisѕan', 'ＭＩＴＳＵＢＩＳＨＩ', 'ＨＹＵＮＤＡＩ', 'vоlkswagen',\n",
       "        'ｐｏｎｔｉａｃ', 'ROVER', 'ｇｍｃ', 'ＡＣＵＲＡ', 'ＢＵＩＣＫ', 'SUBΑRU', 'ＪＥＥＰ',\n",
       "        'ᴄhrysler', 'ＭＥＲＣＵＲＹ', 'ｄｏｄｇｅ', 'ＤＯＤＧＥ', 'land rover', 'SΑTURN',\n",
       "        'аcura'], dtype=object))"
      ]
     },
     "execution_count": 19,
     "metadata": {},
     "output_type": "execute_result"
    }
   ],
   "source": [
    "test[\"manufacturer\"].value_counts(), test[\"manufacturer\"].unique()"
   ]
  },
  {
   "cell_type": "code",
   "execution_count": 20,
   "metadata": {},
   "outputs": [],
   "source": [
    "train[\"manufacturer\"] = train[\"manufacturer\"].str.lower().apply(convert_full_to_half)\n",
    "test[\"manufacturer\"] = test[\"manufacturer\"].str.lower().apply(convert_full_to_half)"
   ]
  },
  {
   "cell_type": "code",
   "execution_count": 21,
   "metadata": {},
   "outputs": [
    {
     "data": {
      "text/plain": [
       "(manufacturer\n",
       " ford             6943\n",
       " chevrolet        3807\n",
       " bmw              3044\n",
       " toyota           1782\n",
       " honda            1742\n",
       " ram              1639\n",
       " jeep             1297\n",
       " nissan           1000\n",
       " volkswagen        772\n",
       " buick             678\n",
       " kia               668\n",
       " dodge             433\n",
       " hyundai           391\n",
       " gmc               370\n",
       " audi              329\n",
       " mazda             327\n",
       " subaru            288\n",
       " chrysler          236\n",
       " acura             223\n",
       " mitsubishi        206\n",
       " cadillac          204\n",
       " mercedes-benz     199\n",
       " lexus             186\n",
       " mercury           155\n",
       " lincoln           152\n",
       " pontiac           145\n",
       " infiniti           73\n",
       " volvo              60\n",
       " fiat               43\n",
       " saturn             41\n",
       " mini               37\n",
       " rover              18\n",
       " jaguar             12\n",
       " porsche            12\n",
       " alfa-romeo          4\n",
       " subαru              2\n",
       " toyotа              2\n",
       " land rover          2\n",
       " aston-martin        2\n",
       " niѕsan              2\n",
       " nisѕan              1\n",
       " sαturn              1\n",
       " аcura               1\n",
       " vоlkswagen          1\n",
       " lexuѕ               1\n",
       " ᴄhrysler            1\n",
       " Name: count, dtype: int64,\n",
       " array(['bmw', 'toyota', 'ford', 'nissan', 'volkswagen', 'lexus', 'buick',\n",
       "        'subaru', 'ram', 'dodge', 'chevrolet', 'jeep', 'honda', 'hyundai',\n",
       "        'chrysler', 'gmc', 'mazda', 'audi', 'lincoln', 'kia',\n",
       "        'mercedes-benz', 'mitsubishi', 'saturn', 'infiniti', 'mini',\n",
       "        'mercury', 'cadillac', 'pontiac', 'acura', 'fiat', 'jaguar',\n",
       "        'volvo', 'niѕsan', 'rover', 'porsche', 'nisѕan', 'land rover',\n",
       "        'aston-martin', 'subαru', 'alfa-romeo', 'toyotа', 'sαturn',\n",
       "        'аcura', 'vоlkswagen', 'lexuѕ', 'ᴄhrysler'], dtype=object),\n",
       " 46)"
      ]
     },
     "execution_count": 21,
     "metadata": {},
     "output_type": "execute_result"
    }
   ],
   "source": [
    "train[\"manufacturer\"].value_counts(), train[\"manufacturer\"].unique(), len(train[\"manufacturer\"].unique())"
   ]
  },
  {
   "cell_type": "code",
   "execution_count": 22,
   "metadata": {},
   "outputs": [
    {
     "data": {
      "text/plain": [
       "(manufacturer\n",
       " ford             6947\n",
       " chevrolet        3759\n",
       " bmw              3179\n",
       " honda            1831\n",
       " toyota           1746\n",
       " ram              1606\n",
       " jeep             1273\n",
       " nissan           1017\n",
       " volkswagen        770\n",
       " kia               679\n",
       " buick             665\n",
       " dodge             457\n",
       " audi              360\n",
       " hyundai           329\n",
       " gmc               324\n",
       " mazda             279\n",
       " subaru            271\n",
       " chrysler          266\n",
       " acura             246\n",
       " cadillac          195\n",
       " lexus             195\n",
       " lincoln           170\n",
       " mitsubishi        155\n",
       " mercedes-benz     151\n",
       " pontiac           149\n",
       " mercury           140\n",
       " infiniti          116\n",
       " volvo              67\n",
       " saturn             53\n",
       " mini               44\n",
       " fiat               35\n",
       " rover              27\n",
       " jaguar             10\n",
       " porsche             8\n",
       " lexuѕ               3\n",
       " nisѕan              3\n",
       " alfa-romeo          2\n",
       " vоlkswagen          2\n",
       " niѕsan              1\n",
       " aston-martin        1\n",
       " toyotа              1\n",
       " subαru              1\n",
       " ᴄhrysler            1\n",
       " land rover          1\n",
       " sαturn              1\n",
       " аcura               1\n",
       " Name: count, dtype: int64,\n",
       " array(['chevrolet', 'nissan', 'volkswagen', 'jeep', 'honda', 'mercury',\n",
       "        'ram', 'fiat', 'bmw', 'toyota', 'ford', 'kia', 'buick',\n",
       "        'mercedes-benz', 'lincoln', 'mitsubishi', 'subaru', 'cadillac',\n",
       "        'acura', 'lexus', 'gmc', 'mazda', 'pontiac', 'jaguar', 'rover',\n",
       "        'audi', 'hyundai', 'chrysler', 'dodge', 'mini', 'infiniti',\n",
       "        'saturn', 'porsche', 'volvo', 'lexuѕ', 'niѕsan', 'aston-martin',\n",
       "        'alfa-romeo', 'toyotа', 'nisѕan', 'vоlkswagen', 'subαru',\n",
       "        'ᴄhrysler', 'land rover', 'sαturn', 'аcura'], dtype=object),\n",
       " 46)"
      ]
     },
     "execution_count": 22,
     "metadata": {},
     "output_type": "execute_result"
    }
   ],
   "source": [
    "test[\"manufacturer\"].value_counts(), test[\"manufacturer\"].unique(), len(test[\"manufacturer\"].unique())"
   ]
  },
  {
   "cell_type": "code",
   "execution_count": 23,
   "metadata": {},
   "outputs": [
    {
     "data": {
      "text/plain": [
       "(set(), set())"
      ]
     },
     "execution_count": 23,
     "metadata": {},
     "output_type": "execute_result"
    }
   ],
   "source": [
    "set(train[\"manufacturer\"]) - set(train[\"manufacturer\"]), set(test[\"manufacturer\"]) - set(test[\"manufacturer\"])"
   ]
  },
  {
   "cell_type": "code",
   "execution_count": 24,
   "metadata": {},
   "outputs": [
    {
     "data": {
      "image/png": "[encoded data removed]",
      "text/plain": [
       "<Figure size 640x480 with 1 Axes>"
      ]
     },
     "metadata": {},
     "output_type": "display_data"
    },
    {
     "name": "stdout",
     "output_type": "stream",
     "text": [
      "順位相関係数: 0.9798994822379019\n",
      "p値: 1.9181512884643499e-32\n",
      "有意です。\n"
     ]
    }
   ],
   "source": [
    "calculate_spearmanr(train, test, \"manufacturer\")"
   ]
  },
  {
   "cell_type": "markdown",
   "metadata": {},
   "source": [
    "## condition"
   ]
  },
  {
   "cell_type": "markdown",
   "metadata": {},
   "source": [
    "特に問題なさそう、ラベリングの問題だけかな"
   ]
  },
  {
   "cell_type": "code",
   "execution_count": 25,
   "metadata": {},
   "outputs": [
    {
     "data": {
      "text/plain": [
       "(condition\n",
       " excellent    15219\n",
       " good          6009\n",
       " like new      3810\n",
       " fair          2404\n",
       " new             55\n",
       " salvage         35\n",
       " Name: count, dtype: int64,\n",
       " array(['excellent', 'fair', 'good', 'like new', 'salvage', 'new'],\n",
       "       dtype=object))"
      ]
     },
     "execution_count": 25,
     "metadata": {},
     "output_type": "execute_result"
    }
   ],
   "source": [
    "train[\"condition\"].value_counts(), train[\"condition\"].unique()"
   ]
  },
  {
   "cell_type": "code",
   "execution_count": 26,
   "metadata": {},
   "outputs": [
    {
     "data": {
      "text/plain": [
       "(condition\n",
       " excellent    15221\n",
       " good          6011\n",
       " like new      3837\n",
       " fair          2369\n",
       " new             61\n",
       " salvage         38\n",
       " Name: count, dtype: int64,\n",
       " array(['excellent', 'like new', 'good', 'fair', 'new', 'salvage'],\n",
       "       dtype=object))"
      ]
     },
     "execution_count": 26,
     "metadata": {},
     "output_type": "execute_result"
    }
   ],
   "source": [
    "test[\"condition\"].value_counts(), test[\"condition\"].unique()"
   ]
  },
  {
   "cell_type": "code",
   "execution_count": 27,
   "metadata": {},
   "outputs": [
    {
     "data": {
      "image/png": "[encoded data removed]",
      "text/plain": [
       "<Figure size 640x480 with 1 Axes>"
      ]
     },
     "metadata": {},
     "output_type": "display_data"
    },
    {
     "name": "stdout",
     "output_type": "stream",
     "text": [
      "順位相関係数: 1.0\n",
      "p値: 0.0\n",
      "有意です。\n"
     ]
    }
   ],
   "source": [
    "calculate_spearmanr(train, test, \"condition\")"
   ]
  },
  {
   "cell_type": "markdown",
   "metadata": {},
   "source": [
    "## cylinders"
   ]
  },
  {
   "cell_type": "markdown",
   "metadata": {},
   "source": [
    "問題ないかな～"
   ]
  },
  {
   "cell_type": "code",
   "execution_count": 28,
   "metadata": {},
   "outputs": [
    {
     "data": {
      "text/plain": [
       "(cylinders\n",
       " 6 cylinders     11504\n",
       " 4 cylinders     10071\n",
       " 8 cylinders      5727\n",
       " other              71\n",
       " 10 cylinders       60\n",
       " 5 cylinders        46\n",
       " 3 cylinders        31\n",
       " 12 cylinders       22\n",
       " Name: count, dtype: int64,\n",
       " array(['6 cylinders', '8 cylinders', '4 cylinders', 'other',\n",
       "        '10 cylinders', '12 cylinders', '5 cylinders', '3 cylinders'],\n",
       "       dtype=object))"
      ]
     },
     "execution_count": 28,
     "metadata": {},
     "output_type": "execute_result"
    }
   ],
   "source": [
    "train[\"cylinders\"].value_counts(), train[\"cylinders\"].unique()"
   ]
  },
  {
   "cell_type": "code",
   "execution_count": 29,
   "metadata": {},
   "outputs": [
    {
     "data": {
      "text/plain": [
       "(cylinders\n",
       " 6 cylinders     11697\n",
       " 4 cylinders      9998\n",
       " 8 cylinders      5613\n",
       " other              78\n",
       " 5 cylinders        61\n",
       " 10 cylinders       57\n",
       " 3 cylinders        24\n",
       " 12 cylinders        9\n",
       " Name: count, dtype: int64,\n",
       " array(['4 cylinders', '6 cylinders', '8 cylinders', '10 cylinders',\n",
       "        '5 cylinders', 'other', '12 cylinders', '3 cylinders'],\n",
       "       dtype=object))"
      ]
     },
     "execution_count": 29,
     "metadata": {},
     "output_type": "execute_result"
    }
   ],
   "source": [
    "test[\"cylinders\"].value_counts(), test[\"cylinders\"].unique()"
   ]
  },
  {
   "cell_type": "code",
   "execution_count": 30,
   "metadata": {},
   "outputs": [
    {
     "data": {
      "image/png": "[encoded data removed]",
      "text/plain": [
       "<Figure size 640x480 with 1 Axes>"
      ]
     },
     "metadata": {},
     "output_type": "display_data"
    },
    {
     "name": "stdout",
     "output_type": "stream",
     "text": [
      "順位相関係数: 0.9761904761904763\n",
      "p値: 3.3143960262001043e-05\n",
      "有意です。\n"
     ]
    }
   ],
   "source": [
    "calculate_spearmanr(train, test, \"cylinders\")"
   ]
  },
  {
   "cell_type": "markdown",
   "metadata": {},
   "source": [
    "## fuel"
   ]
  },
  {
   "cell_type": "markdown",
   "metadata": {},
   "source": [
    "欠損値あり"
   ]
  },
  {
   "cell_type": "code",
   "execution_count": 31,
   "metadata": {},
   "outputs": [
    {
     "data": {
      "text/plain": [
       "(fuel\n",
       " gas         23546\n",
       " diesel       2639\n",
       " hybrid         79\n",
       " other          18\n",
       " electric       11\n",
       " Name: count, dtype: int64,\n",
       " array(['gas', nan, 'diesel', 'other', 'hybrid', 'electric'], dtype=object))"
      ]
     },
     "execution_count": 31,
     "metadata": {},
     "output_type": "execute_result"
    }
   ],
   "source": [
    "train[\"fuel\"].value_counts(), train[\"fuel\"].unique()"
   ]
  },
  {
   "cell_type": "code",
   "execution_count": 32,
   "metadata": {},
   "outputs": [
    {
     "data": {
      "text/plain": [
       "(fuel\n",
       " gas         23427\n",
       " diesel       2515\n",
       " hybrid         65\n",
       " other          21\n",
       " electric       14\n",
       " Name: count, dtype: int64,\n",
       " array(['gas', 'diesel', nan, 'hybrid', 'other', 'electric'], dtype=object))"
      ]
     },
     "execution_count": 32,
     "metadata": {},
     "output_type": "execute_result"
    }
   ],
   "source": [
    "test[\"fuel\"].value_counts(), test[\"fuel\"].unique()"
   ]
  },
  {
   "cell_type": "code",
   "execution_count": 33,
   "metadata": {},
   "outputs": [
    {
     "data": {
      "image/png": "[encoded data removed]",
      "text/plain": [
       "<Figure size 640x480 with 1 Axes>"
      ]
     },
     "metadata": {},
     "output_type": "display_data"
    },
    {
     "name": "stdout",
     "output_type": "stream",
     "text": [
      "順位相関係数: 0.9999999999999999\n",
      "p値: 1.4042654220543672e-24\n",
      "有意です。\n"
     ]
    }
   ],
   "source": [
    "calculate_spearmanr(train, test, \"fuel\")"
   ]
  },
  {
   "cell_type": "markdown",
   "metadata": {},
   "source": [
    "## odometer"
   ]
  },
  {
   "cell_type": "markdown",
   "metadata": {},
   "source": [
    "欠損値-1になっている"
   ]
  },
  {
   "cell_type": "code",
   "execution_count": 34,
   "metadata": {},
   "outputs": [
    {
     "data": {
      "image/png": "[encoded data removed]",
      "text/plain": [
       "<Figure size 640x480 with 1 Axes>"
      ]
     },
     "metadata": {},
     "output_type": "display_data"
    }
   ],
   "source": [
    "plt.hist(train[\"odometer\"], alpha=0.5, label=\" train\", bins=50)\n",
    "plt.hist(test[\"odometer\"], alpha=0.5, label=\" test\", bins=50)\n",
    "\n",
    "plt.xlabel(\"odometer\")\n",
    "plt.ylabel(\"frequency\")\n",
    "plt.title(\"Train and Test Data - Odometer Histogram\")\n",
    "plt.legend()\n",
    "\n",
    "plt.show()"
   ]
  },
  {
   "cell_type": "code",
   "execution_count": 35,
   "metadata": {},
   "outputs": [
    {
     "data": {
      "text/plain": [
       "(count    2.753200e+04\n",
       " mean     1.160199e+05\n",
       " std      6.451642e+04\n",
       " min     -1.318690e+05\n",
       " 25%      7.836775e+04\n",
       " 50%      1.114445e+05\n",
       " 75%      1.508562e+05\n",
       " max      2.946000e+06\n",
       " Name: odometer, dtype: float64,\n",
       " count     27537.000000\n",
       " mean     116592.779932\n",
       " std       59040.921780\n",
       " min          -1.000000\n",
       " 25%       79914.000000\n",
       " 50%      112436.000000\n",
       " 75%      150338.000000\n",
       " max      394595.000000\n",
       " Name: odometer, dtype: float64)"
      ]
     },
     "execution_count": 35,
     "metadata": {},
     "output_type": "execute_result"
    }
   ],
   "source": [
    "train[\"odometer\"].describe(), test[\"odometer\"].describe()"
   ]
  },
  {
   "cell_type": "code",
   "execution_count": 36,
   "metadata": {},
   "outputs": [
    {
     "data": {
      "image/png": "[encoded data removed]",
      "text/plain": [
       "<Figure size 640x480 with 1 Axes>"
      ]
     },
     "metadata": {},
     "output_type": "display_data"
    }
   ],
   "source": [
    "def plot_histogram_without_outliers(train, test):\n",
    "    train_without_outliers = train[train[\"odometer\"] < train[\"odometer\"].max()]  # 一番大きな値を取り除く\n",
    "    test_without_outliers = test[test[\"odometer\"] < test[\"odometer\"].max()]  # 一番大きな値を取り除く\n",
    "\n",
    "    plt.hist(train_without_outliers[\"odometer\"], bins=20, alpha=0.5, label=\"Train Data\")\n",
    "    plt.hist(test_without_outliers[\"odometer\"], bins=20, alpha=0.5, label=\"Test Data\")\n",
    "\n",
    "    plt.xlabel(\"Odometer\")\n",
    "    plt.ylabel(\"Frequency\")\n",
    "    plt.title(\"Histogram of Odometer\")\n",
    "    plt.legend()\n",
    "    plt.show()\n",
    "\n",
    "# 使用例\n",
    "plot_histogram_without_outliers(train, test)"
   ]
  },
  {
   "cell_type": "code",
   "execution_count": 37,
   "metadata": {},
   "outputs": [
    {
     "data": {
      "image/png": "[encoded data removed]",
      "text/plain": [
       "<Figure size 1000x600 with 1 Axes>"
      ]
     },
     "metadata": {},
     "output_type": "display_data"
    }
   ],
   "source": [
    "def plot_histogram_with_95_percent_range(train, test):\n",
    "    plt.figure(figsize=(10, 6))\n",
    "\n",
    "    # トレーニングデータのヒストグラムを描画\n",
    "    train_mean = train[\"odometer\"].mean()\n",
    "    train_std = train[\"odometer\"].std()\n",
    "    train_lower_bound = train_mean - 2 * train_std # 正規分布を仮定\n",
    "    train_upper_bound = train_mean + 2 * train_std\n",
    "    train_filtered = train[(train[\"odometer\"] >= train_lower_bound) & (train[\"odometer\"] <= train_upper_bound)]\n",
    "\n",
    "    plt.hist(train_filtered[\"odometer\"], bins=30, alpha=0.5, label=\"Train Data\")\n",
    "\n",
    "    # テストデータのヒストグラムを描画\n",
    "    test_mean = test[\"odometer\"].mean()\n",
    "    test_std = test[\"odometer\"].std()\n",
    "    test_lower_bound = test_mean - 3 * test_std # 正規分布を仮定\n",
    "    test_upper_bound = test_mean + 3 * test_std\n",
    "    test_filtered = test[(test[\"odometer\"] >= test_lower_bound) & (test[\"odometer\"] <= test_upper_bound)]\n",
    "\n",
    "    plt.hist(test_filtered[\"odometer\"], bins=30, alpha=0.5, label=\"Test Data\")\n",
    "\n",
    "    plt.axvline(train_mean, color='blue', linestyle='dashed', linewidth=2, label='Train Mean')\n",
    "    plt.axvline(test_mean, color='orange', linestyle='dashed', linewidth=2, label='Test Mean')\n",
    "\n",
    "    plt.xlabel(\"Odometer\")\n",
    "    plt.ylabel(\"Frequency\")\n",
    "    plt.title(\"Odometer Histogram with 99% Range\")\n",
    "    plt.legend()\n",
    "    plt.grid(True)\n",
    "    plt.show()\n",
    "\n",
    "# 使用例\n",
    "plot_histogram_with_95_percent_range(train, test)"
   ]
  },
  {
   "cell_type": "markdown",
   "metadata": {},
   "source": [
    "## title_status"
   ]
  },
  {
   "cell_type": "markdown",
   "metadata": {},
   "source": [
    "欠損値あり"
   ]
  },
  {
   "cell_type": "code",
   "execution_count": 38,
   "metadata": {},
   "outputs": [
    {
     "data": {
      "text/plain": [
       "(title_status\n",
       " clean         22365\n",
       " rebuilt        3004\n",
       " salvage         985\n",
       " lien            465\n",
       " parts only      133\n",
       " missing         124\n",
       " Name: count, dtype: int64,\n",
       " array(['clean', 'rebuilt', nan, 'parts only', 'salvage', 'missing',\n",
       "        'lien'], dtype=object))"
      ]
     },
     "execution_count": 38,
     "metadata": {},
     "output_type": "execute_result"
    }
   ],
   "source": [
    "train[\"title_status\"].value_counts(), train[\"title_status\"].unique()"
   ]
  },
  {
   "cell_type": "code",
   "execution_count": 39,
   "metadata": {},
   "outputs": [
    {
     "data": {
      "text/plain": [
       "(title_status\n",
       " clean         22716\n",
       " rebuilt        2959\n",
       " salvage         938\n",
       " lien            420\n",
       " parts only      157\n",
       " missing         118\n",
       " Name: count, dtype: int64,\n",
       " array(['clean', 'salvage', 'rebuilt', 'lien', 'missing', nan,\n",
       "        'parts only'], dtype=object))"
      ]
     },
     "execution_count": 39,
     "metadata": {},
     "output_type": "execute_result"
    }
   ],
   "source": [
    "test[\"title_status\"].value_counts(), test[\"title_status\"].unique()"
   ]
  },
  {
   "cell_type": "code",
   "execution_count": 40,
   "metadata": {},
   "outputs": [
    {
     "data": {
      "image/png": "[encoded data removed]",
      "text/plain": [
       "<Figure size 640x480 with 1 Axes>"
      ]
     },
     "metadata": {},
     "output_type": "display_data"
    },
    {
     "name": "stdout",
     "output_type": "stream",
     "text": [
      "順位相関係数: 1.0\n",
      "p値: 0.0\n",
      "有意です。\n"
     ]
    }
   ],
   "source": [
    "calculate_spearmanr(train, test, \"title_status\")"
   ]
  },
  {
   "cell_type": "markdown",
   "metadata": {},
   "source": [
    "## transmission"
   ]
  },
  {
   "cell_type": "markdown",
   "metadata": {},
   "source": [
    "問題なさそう"
   ]
  },
  {
   "cell_type": "code",
   "execution_count": 41,
   "metadata": {},
   "outputs": [
    {
     "data": {
      "text/plain": [
       "(transmission\n",
       " automatic    20497\n",
       " manual        6156\n",
       " other          879\n",
       " Name: count, dtype: int64,\n",
       " array(['manual', 'automatic', 'other'], dtype=object))"
      ]
     },
     "execution_count": 41,
     "metadata": {},
     "output_type": "execute_result"
    }
   ],
   "source": [
    "train[\"transmission\"].value_counts(), train[\"transmission\"].unique()"
   ]
  },
  {
   "cell_type": "code",
   "execution_count": 42,
   "metadata": {},
   "outputs": [
    {
     "data": {
      "text/plain": [
       "(transmission\n",
       " automatic    20493\n",
       " manual        6176\n",
       " other          868\n",
       " Name: count, dtype: int64,\n",
       " array(['automatic', 'manual', 'other'], dtype=object))"
      ]
     },
     "execution_count": 42,
     "metadata": {},
     "output_type": "execute_result"
    }
   ],
   "source": [
    "test[\"transmission\"].value_counts(), test[\"transmission\"].unique()"
   ]
  },
  {
   "cell_type": "code",
   "execution_count": 43,
   "metadata": {},
   "outputs": [
    {
     "data": {
      "image/png": "[encoded data removed]",
      "text/plain": [
       "<Figure size 640x480 with 1 Axes>"
      ]
     },
     "metadata": {},
     "output_type": "display_data"
    },
    {
     "name": "stdout",
     "output_type": "stream",
     "text": [
      "順位相関係数: 1.0\n",
      "p値: 0.0\n",
      "有意です。\n"
     ]
    }
   ],
   "source": [
    "calculate_spearmanr(train, test, \"transmission\")"
   ]
  },
  {
   "cell_type": "markdown",
   "metadata": {},
   "source": [
    "## drive"
   ]
  },
  {
   "cell_type": "markdown",
   "metadata": {},
   "source": [
    "問題なさそう"
   ]
  },
  {
   "cell_type": "code",
   "execution_count": 44,
   "metadata": {},
   "outputs": [
    {
     "data": {
      "text/plain": [
       "(drive\n",
       " fwd    14602\n",
       " 4wd     8096\n",
       " rwd     4834\n",
       " Name: count, dtype: int64,\n",
       " array(['rwd', 'fwd', '4wd'], dtype=object))"
      ]
     },
     "execution_count": 44,
     "metadata": {},
     "output_type": "execute_result"
    }
   ],
   "source": [
    "train[\"drive\"].value_counts(), train[\"drive\"].unique()"
   ]
  },
  {
   "cell_type": "code",
   "execution_count": 45,
   "metadata": {},
   "outputs": [
    {
     "data": {
      "text/plain": [
       "(drive\n",
       " fwd    14611\n",
       " 4wd     8006\n",
       " rwd     4920\n",
       " Name: count, dtype: int64,\n",
       " array(['fwd', '4wd', 'rwd'], dtype=object))"
      ]
     },
     "execution_count": 45,
     "metadata": {},
     "output_type": "execute_result"
    }
   ],
   "source": [
    "test[\"drive\"].value_counts(), test[\"drive\"].unique()"
   ]
  },
  {
   "cell_type": "code",
   "execution_count": 46,
   "metadata": {},
   "outputs": [
    {
     "data": {
      "image/png": "[encoded data removed]",
      "text/plain": [
       "<Figure size 640x480 with 1 Axes>"
      ]
     },
     "metadata": {},
     "output_type": "display_data"
    },
    {
     "name": "stdout",
     "output_type": "stream",
     "text": [
      "順位相関係数: 1.0\n",
      "p値: 0.0\n",
      "有意です。\n"
     ]
    }
   ],
   "source": [
    "calculate_spearmanr(train, test, \"drive\")"
   ]
  },
  {
   "cell_type": "markdown",
   "metadata": {},
   "source": [
    "## size"
   ]
  },
  {
   "cell_type": "markdown",
   "metadata": {},
   "source": [
    "sub--compact, full--size, mid--sizeってミスかな"
   ]
  },
  {
   "cell_type": "code",
   "execution_count": 47,
   "metadata": {},
   "outputs": [],
   "source": [
    "def pre_size(df: pd.DataFrame):\n",
    "    size_dict = {\n",
    "        \"fullーsize\":\"full-size\",\n",
    "        \"midーsize\":\"mid-size\",\n",
    "        \"subーcompact\":\"sub-compact\",\n",
    "        \"full−size\":\"full-size\",\n",
    "        \"mid−size\":\"mid-size\"\n",
    "    }\n",
    "    df[\"size\"] = df[\"size\"].replace(size_dict)\n",
    "    return df"
   ]
  },
  {
   "cell_type": "code",
   "execution_count": 48,
   "metadata": {},
   "outputs": [
    {
     "data": {
      "text/plain": [
       "(size\n",
       " full-size      14585\n",
       " mid-size        9371\n",
       " compact         3352\n",
       " sub-compact      132\n",
       " fullーsize         42\n",
       " midーsize          35\n",
       " full−size          9\n",
       " mid−size           5\n",
       " subーcompact        1\n",
       " Name: count, dtype: int64,\n",
       " array(['mid-size', 'full-size', 'sub-compact', 'compact', 'full−size',\n",
       "        'fullーsize', 'mid−size', 'midーsize', 'subーcompact'], dtype=object))"
      ]
     },
     "execution_count": 48,
     "metadata": {},
     "output_type": "execute_result"
    }
   ],
   "source": [
    "train[\"size\"].value_counts(), train[\"size\"].unique()"
   ]
  },
  {
   "cell_type": "code",
   "execution_count": 49,
   "metadata": {},
   "outputs": [
    {
     "data": {
      "text/plain": [
       "(size\n",
       " full-size      14663\n",
       " mid-size        9338\n",
       " compact         3297\n",
       " sub-compact      148\n",
       " fullーsize         41\n",
       " midーsize          28\n",
       " full−size         16\n",
       " mid−size           5\n",
       " subーcompact        1\n",
       " Name: count, dtype: int64,\n",
       " array(['full-size', 'mid-size', 'compact', 'sub-compact', 'midーsize',\n",
       "        'fullーsize', 'mid−size', 'full−size', 'subーcompact'], dtype=object))"
      ]
     },
     "execution_count": 49,
     "metadata": {},
     "output_type": "execute_result"
    }
   ],
   "source": [
    "test[\"size\"].value_counts(), test[\"size\"].unique()"
   ]
  },
  {
   "cell_type": "code",
   "execution_count": 50,
   "metadata": {},
   "outputs": [],
   "source": [
    "train = pre_size(train)\n",
    "test = pre_size(test)"
   ]
  },
  {
   "cell_type": "code",
   "execution_count": 51,
   "metadata": {},
   "outputs": [
    {
     "data": {
      "text/plain": [
       "(size\n",
       " full-size      14636\n",
       " mid-size        9411\n",
       " compact         3352\n",
       " sub-compact      133\n",
       " Name: count, dtype: int64,\n",
       " array(['mid-size', 'full-size', 'sub-compact', 'compact'], dtype=object))"
      ]
     },
     "execution_count": 51,
     "metadata": {},
     "output_type": "execute_result"
    }
   ],
   "source": [
    "train[\"size\"].value_counts(), train[\"size\"].unique()"
   ]
  },
  {
   "cell_type": "code",
   "execution_count": 52,
   "metadata": {},
   "outputs": [
    {
     "data": {
      "text/plain": [
       "(size\n",
       " full-size      14720\n",
       " mid-size        9371\n",
       " compact         3297\n",
       " sub-compact      149\n",
       " Name: count, dtype: int64,\n",
       " array(['full-size', 'mid-size', 'compact', 'sub-compact'], dtype=object))"
      ]
     },
     "execution_count": 52,
     "metadata": {},
     "output_type": "execute_result"
    }
   ],
   "source": [
    "test[\"size\"].value_counts(), test[\"size\"].unique()"
   ]
  },
  {
   "cell_type": "code",
   "execution_count": 53,
   "metadata": {},
   "outputs": [
    {
     "data": {
      "text/plain": [
       "(set(), set())"
      ]
     },
     "execution_count": 53,
     "metadata": {},
     "output_type": "execute_result"
    }
   ],
   "source": [
    "set(train[\"size\"]) - set(test[\"size\"]), set(test[\"size\"]) - set(train[\"size\"])"
   ]
  },
  {
   "cell_type": "code",
   "execution_count": 54,
   "metadata": {},
   "outputs": [
    {
     "data": {
      "image/png": "[encoded data removed]",
      "text/plain": [
       "<Figure size 640x480 with 1 Axes>"
      ]
     },
     "metadata": {},
     "output_type": "display_data"
    },
    {
     "name": "stdout",
     "output_type": "stream",
     "text": [
      "順位相関係数: 1.0\n",
      "p値: 0.0\n",
      "有意です。\n"
     ]
    }
   ],
   "source": [
    "calculate_spearmanr(train, test, \"size\")"
   ]
  },
  {
   "cell_type": "markdown",
   "metadata": {},
   "source": [
    "## type"
   ]
  },
  {
   "cell_type": "markdown",
   "metadata": {},
   "source": [
    "欠損値あり"
   ]
  },
  {
   "cell_type": "code",
   "execution_count": 55,
   "metadata": {},
   "outputs": [
    {
     "data": {
      "text/plain": [
       "(type\n",
       " sedan          9259\n",
       " SUV            7311\n",
       " truck          3837\n",
       " coupe          2255\n",
       " pickup         2118\n",
       " hatchback       665\n",
       " van             537\n",
       " convertible     418\n",
       " mini-van        229\n",
       " wagon           210\n",
       " other           139\n",
       " offroad          79\n",
       " bus              19\n",
       " Name: count, dtype: int64,\n",
       " array(['convertible', 'sedan', 'SUV', 'coupe', nan, 'mini-van', 'pickup',\n",
       "        'truck', 'van', 'hatchback', 'wagon', 'offroad', 'other', 'bus'],\n",
       "       dtype=object))"
      ]
     },
     "execution_count": 55,
     "metadata": {},
     "output_type": "execute_result"
    }
   ],
   "source": [
    "train[\"type\"].value_counts(), train[\"type\"].unique()"
   ]
  },
  {
   "cell_type": "code",
   "execution_count": 56,
   "metadata": {},
   "outputs": [
    {
     "data": {
      "text/plain": [
       "(type\n",
       " sedan          9476\n",
       " SUV            7255\n",
       " truck          3788\n",
       " coupe          2334\n",
       " pickup         2131\n",
       " hatchback       669\n",
       " van             543\n",
       " convertible     461\n",
       " mini-van        245\n",
       " wagon           202\n",
       " other           112\n",
       " offroad          76\n",
       " bus              16\n",
       " Name: count, dtype: int64,\n",
       " array(['SUV', 'sedan', 'truck', 'coupe', 'hatchback', 'pickup', 'van',\n",
       "        nan, 'mini-van', 'wagon', 'other', 'convertible', 'bus', 'offroad'],\n",
       "       dtype=object))"
      ]
     },
     "execution_count": 56,
     "metadata": {},
     "output_type": "execute_result"
    }
   ],
   "source": [
    "test[\"type\"].value_counts(), test[\"type\"].unique()"
   ]
  },
  {
   "cell_type": "code",
   "execution_count": 57,
   "metadata": {},
   "outputs": [
    {
     "data": {
      "text/plain": [
       "(set(), set())"
      ]
     },
     "execution_count": 57,
     "metadata": {},
     "output_type": "execute_result"
    }
   ],
   "source": [
    "set(train[\"type\"]) - set(test[\"type\"]), set(test[\"type\"]) - set(train[\"type\"])"
   ]
  },
  {
   "cell_type": "code",
   "execution_count": 58,
   "metadata": {},
   "outputs": [
    {
     "data": {
      "image/png": "[encoded data removed]",
      "text/plain": [
       "<Figure size 640x480 with 1 Axes>"
      ]
     },
     "metadata": {},
     "output_type": "display_data"
    },
    {
     "name": "stdout",
     "output_type": "stream",
     "text": [
      "順位相関係数: 1.0\n",
      "p値: 0.0\n",
      "有意です。\n"
     ]
    }
   ],
   "source": [
    "calculate_spearmanr(train, test, \"type\")"
   ]
  },
  {
   "cell_type": "markdown",
   "metadata": {},
   "source": [
    "## paint_color"
   ]
  },
  {
   "cell_type": "code",
   "execution_count": 59,
   "metadata": {},
   "outputs": [
    {
     "data": {
      "text/plain": [
       "(paint_color\n",
       " black     10143\n",
       " silver     4300\n",
       " blue       3765\n",
       " white      3624\n",
       " green      2385\n",
       " red        1419\n",
       " grey       1136\n",
       " brown       365\n",
       " custom      197\n",
       " orange      144\n",
       " yellow       30\n",
       " purple       24\n",
       " Name: count, dtype: int64,\n",
       " array(['orange', 'silver', 'blue', 'red', 'black', 'white', 'green',\n",
       "        'brown', 'grey', 'purple', 'custom', 'yellow'], dtype=object))"
      ]
     },
     "execution_count": 59,
     "metadata": {},
     "output_type": "execute_result"
    }
   ],
   "source": [
    "train[\"paint_color\"].value_counts(), train[\"paint_color\"].unique()"
   ]
  },
  {
   "cell_type": "code",
   "execution_count": 60,
   "metadata": {},
   "outputs": [
    {
     "data": {
      "text/plain": [
       "(paint_color\n",
       " black     10081\n",
       " silver     4369\n",
       " blue       3858\n",
       " white      3639\n",
       " green      2285\n",
       " red        1413\n",
       " grey       1120\n",
       " brown       387\n",
       " custom      202\n",
       " orange      125\n",
       " yellow       34\n",
       " purple       24\n",
       " Name: count, dtype: int64,\n",
       " array(['red', 'black', 'silver', 'green', 'yellow', 'blue', 'brown',\n",
       "        'white', 'orange', 'grey', 'custom', 'purple'], dtype=object))"
      ]
     },
     "execution_count": 60,
     "metadata": {},
     "output_type": "execute_result"
    }
   ],
   "source": [
    "test[\"paint_color\"].value_counts(), test[\"paint_color\"].unique()"
   ]
  },
  {
   "cell_type": "code",
   "execution_count": 61,
   "metadata": {},
   "outputs": [
    {
     "data": {
      "text/plain": [
       "(set(), set())"
      ]
     },
     "execution_count": 61,
     "metadata": {},
     "output_type": "execute_result"
    }
   ],
   "source": [
    "set(train[\"paint_color\"]) - set(test[\"paint_color\"]), set(test[\"paint_color\"]) - set(train[\"paint_color\"])"
   ]
  },
  {
   "cell_type": "code",
   "execution_count": 62,
   "metadata": {},
   "outputs": [
    {
     "data": {
      "image/png": "[encoded data removed]",
      "text/plain": [
       "<Figure size 640x480 with 1 Axes>"
      ]
     },
     "metadata": {},
     "output_type": "display_data"
    },
    {
     "name": "stdout",
     "output_type": "stream",
     "text": [
      "順位相関係数: 1.0\n",
      "p値: 0.0\n",
      "有意です。\n"
     ]
    }
   ],
   "source": [
    "calculate_spearmanr(train, test, \"paint_color\")"
   ]
  },
  {
   "cell_type": "markdown",
   "metadata": {},
   "source": [
    "## state"
   ]
  },
  {
   "cell_type": "markdown",
   "metadata": {},
   "source": [
    "欠損値あり、アメリカかな"
   ]
  },
  {
   "cell_type": "code",
   "execution_count": 63,
   "metadata": {},
   "outputs": [
    {
     "data": {
      "text/plain": [
       "(state\n",
       " ca    2702\n",
       " ny    1841\n",
       " fl    1650\n",
       " nj    1413\n",
       " tx    1274\n",
       " pa     983\n",
       " oh     849\n",
       " va     766\n",
       " mi     739\n",
       " az     706\n",
       " co     705\n",
       " nc     636\n",
       " ri     631\n",
       " wi     626\n",
       " tn     595\n",
       " or     577\n",
       " mn     521\n",
       " dc     427\n",
       " id     425\n",
       " il     409\n",
       " ma     389\n",
       " nv     369\n",
       " ia     366\n",
       " in     345\n",
       " wa     317\n",
       " nm     287\n",
       " ct     278\n",
       " md     274\n",
       " ok     267\n",
       " mo     262\n",
       " ks     252\n",
       " ga     251\n",
       " mt     249\n",
       " sc     244\n",
       " ky     229\n",
       " al     152\n",
       " vt     138\n",
       " hi     123\n",
       " ne     115\n",
       " ut     111\n",
       " ak     108\n",
       " de     101\n",
       " nd      98\n",
       " la      85\n",
       " nh      85\n",
       " sd      77\n",
       " me      68\n",
       " ar      37\n",
       " wv      36\n",
       " wy      24\n",
       " ms      16\n",
       " Name: count, dtype: int64,\n",
       " array([nan, 'pa', 'ks', 'ny', 'ca', 'al', 'or', 'va', 'mt', 'nj', 'ma',\n",
       "        'wi', 'sc', 'wa', 'dc', 'oh', 'in', 'de', 'fl', 'nm', 'az', 'ok',\n",
       "        'mn', 'co', 'nv', 'wv', 'tn', 'mi', 'ri', 'il', 'tx', 'ut', 'ia',\n",
       "        'ga', 'md', 'mo', 'ky', 'nc', 'ak', 'id', 'ct', 'wy', 'nd', 'me',\n",
       "        'ar', 'hi', 'sd', 'ne', 'nh', 'vt', 'la', 'ms'], dtype=object),\n",
       " 52)"
      ]
     },
     "execution_count": 63,
     "metadata": {},
     "output_type": "execute_result"
    }
   ],
   "source": [
    "train[\"state\"].value_counts(), train[\"state\"].unique(), len(train[\"state\"].unique())"
   ]
  },
  {
   "cell_type": "code",
   "execution_count": 64,
   "metadata": {},
   "outputs": [
    {
     "data": {
      "text/plain": [
       "(state\n",
       " ca    2639\n",
       " ny    1960\n",
       " fl    1651\n",
       " nj    1479\n",
       " tx    1205\n",
       " pa     992\n",
       " oh     831\n",
       " mi     819\n",
       " az     719\n",
       " va     716\n",
       " co     678\n",
       " ri     653\n",
       " nc     649\n",
       " or     607\n",
       " wi     559\n",
       " mn     534\n",
       " tn     515\n",
       " id     443\n",
       " dc     433\n",
       " ma     429\n",
       " nv     419\n",
       " ia     389\n",
       " il     385\n",
       " wa     349\n",
       " in     347\n",
       " nm     298\n",
       " mo     289\n",
       " ct     288\n",
       " mt     279\n",
       " ks     275\n",
       " ga     273\n",
       " sc     263\n",
       " ok     262\n",
       " md     250\n",
       " ky     208\n",
       " al     182\n",
       " vt     157\n",
       " hi     118\n",
       " ne     115\n",
       " ut     102\n",
       " de     101\n",
       " nd      91\n",
       " nh      90\n",
       " la      87\n",
       " sd      84\n",
       " ak      83\n",
       " me      71\n",
       " ar      53\n",
       " wv      36\n",
       " ms      30\n",
       " wy      23\n",
       " Name: count, dtype: int64,\n",
       " array([nan, 'or', 'oh', 'co', 'nc', 'ny', 'ut', 'ms', 'mn', 'fl', 'nj',\n",
       "        'mo', 'ri', 'md', 'tx', 'pa', 'tn', 'ca', 'mi', 'va', 'wa', 'mt',\n",
       "        'in', 'il', 'hi', 'sc', 'wi', 'ct', 'ks', 'dc', 'ma', 'ne', 'ky',\n",
       "        'vt', 'id', 'az', 'ia', 'nv', 'ok', 'de', 'nm', 'sd', 'ga', 'nh',\n",
       "        'me', 'nd', 'la', 'al', 'ak', 'ar', 'wv', 'wy'], dtype=object),\n",
       " 52)"
      ]
     },
     "execution_count": 64,
     "metadata": {},
     "output_type": "execute_result"
    }
   ],
   "source": [
    "test[\"state\"].value_counts(), test[\"state\"].unique(), len(test[\"state\"].unique())"
   ]
  },
  {
   "cell_type": "code",
   "execution_count": 65,
   "metadata": {},
   "outputs": [
    {
     "data": {
      "image/png": "[encoded data removed]",
      "text/plain": [
       "<Figure size 640x480 with 1 Axes>"
      ]
     },
     "metadata": {},
     "output_type": "display_data"
    },
    {
     "name": "stdout",
     "output_type": "stream",
     "text": [
      "順位相関係数: 0.9931898914282096\n",
      "p値: 2.0356046316047743e-47\n",
      "有意です。\n"
     ]
    }
   ],
   "source": [
    "calculate_spearmanr(train, test, \"state\")"
   ]
  },
  {
   "cell_type": "markdown",
   "metadata": {},
   "source": [
    "## price"
   ]
  },
  {
   "cell_type": "code",
   "execution_count": 66,
   "metadata": {},
   "outputs": [
    {
     "data": {
      "image/png": "[encoded data removed]",
      "text/plain": [
       "<Figure size 1000x600 with 1 Axes>"
      ]
     },
     "metadata": {},
     "output_type": "display_data"
    }
   ],
   "source": [
    "def plot_price_histogram(train):\n",
    "    plt.figure(figsize=(10, 6))\n",
    "\n",
    "    plt.hist(train[\"price\"], bins=30, alpha=0.5, color='skyblue', edgecolor='black')\n",
    "\n",
    "    plt.xlabel(\"Price\")\n",
    "    plt.ylabel(\"Frequency\")\n",
    "    plt.title(\"Price Histogram\")\n",
    "    plt.grid(True)\n",
    "    plt.show()\n",
    "\n",
    "# 使用例\n",
    "plot_price_histogram(train)"
   ]
  },
  {
   "cell_type": "code",
   "execution_count": 83,
   "metadata": {},
   "outputs": [
    {
     "name": "stderr",
     "output_type": "stream",
     "text": [
      "c:\\Users\\Komiyama Yuji\\AppData\\Local\\Programs\\Python\\Python311\\Lib\\site-packages\\seaborn\\axisgrid.py:118: UserWarning: The figure layout has changed to tight\n",
      "  self._figure.tight_layout(*args, **kwargs)\n"
     ]
    },
    {
     "data": {
      "text/plain": [
       "<Figure size 1000x600 with 0 Axes>"
      ]
     },
     "metadata": {},
     "output_type": "display_data"
    },
    {
     "data": {
      "image/png": "[encoded data removed]",
      "text/plain": [
       "<Figure size 500x500 with 1 Axes>"
      ]
     },
     "metadata": {},
     "output_type": "display_data"
    }
   ],
   "source": [
    "def plot_price_histogram(train):\n",
    "    plt.figure(figsize=(10, 6))\n",
    "\n",
    "    sns.displot(train[\"price\"])\n",
    "\n",
    "    plt.xlabel(\"Price\")\n",
    "    plt.ylabel(\"Frequency\")\n",
    "    plt.title(\"Kernel density\")\n",
    "    plt.grid(True)\n",
    "    plt.show()\n",
    "\n",
    "# 使用例\n",
    "plot_price_histogram(train)"
   ]
  },
  {
   "cell_type": "code",
   "execution_count": 68,
   "metadata": {},
   "outputs": [],
   "source": [
    "class CFG:\n",
    "    n_splits = 5\n",
    "    target_bins = 20\n",
    "    seed = 42"
   ]
  },
  {
   "cell_type": "code",
   "execution_count": 69,
   "metadata": {},
   "outputs": [
    {
     "name": "stdout",
     "output_type": "stream",
     "text": [
      "fold\n",
      "1.0    5507\n",
      "0.0    5507\n",
      "2.0    5506\n",
      "4.0    5506\n",
      "3.0    5506\n",
      "Name: count, dtype: int64\n",
      "8.784566908616718\n"
     ]
    },
    {
     "name": "stderr",
     "output_type": "stream",
     "text": [
      "c:\\Users\\Komiyama Yuji\\AppData\\Local\\Programs\\Python\\Python311\\Lib\\site-packages\\sklearn\\model_selection\\_split.py:725: UserWarning: The least populated class in y has only 1 members, which is less than n_splits=5.\n",
      "  warnings.warn(\n"
     ]
    }
   ],
   "source": [
    "train.sort_values(by=\"id\", ignore_index=True, inplace=True)\n",
    "\n",
    "train[\"year_map\"], bins = pd.cut(train[\"year\"], bins=20, labels=False, retbins=True)\n",
    "test[\"year_map\"] = pd.cut(test[\"year\"], bins=bins, labels=False)\n",
    "train[\"price_map\"] = pd.cut(train[\"price\"], bins=CFG.target_bins, labels=False)\n",
    "\n",
    "from sklearn.model_selection import StratifiedKFold\n",
    "skf = StratifiedKFold(n_splits=CFG.n_splits, shuffle=True, random_state=CFG.seed)\n",
    "for i, (_, val) in enumerate(skf.split(X=train, y=train[\"price_map\"])):\n",
    "    train.loc[val, \"fold\"] = i\n",
    "print(train[\"fold\"].value_counts())\n",
    "print(train.groupby(\"fold\")[\"price\"].mean().std())"
   ]
  },
  {
   "cell_type": "code",
   "execution_count": 70,
   "metadata": {},
   "outputs": [
    {
     "data": {
      "text/plain": [
       "array([2013, 2005, 2014, 2006, 2012, 2010, 1999, 1995, 1996, 2008, 2015,\n",
       "       2003, 2009, 1992, 1988, 2004, 2016, 1998, 2007, 2002, 1989, 2011,\n",
       "       2001, 1990, 1994, 1987, 1953, 1978, 1973, 1983, 1984, 2017, 1997,\n",
       "       1993, 2000, 1967, 1976, 1974, 2019, 1980, 1982, 1986, 1971, 1991,\n",
       "       1985, 1957, 1962, 1968, 1970, 2018, 1956, 2020, 1972, 1979, 1966,\n",
       "       1963, 1942, 1981, 1955, 1965, 2021, 1952, 1961, 1964, 1969, 1922,\n",
       "       1975, 1946, 1928, 1977, 1960, 1950, 1937, 1958, 1935, 1938, 1948,\n",
       "       1930, 1954], dtype=int64)"
      ]
     },
     "execution_count": 70,
     "metadata": {},
     "output_type": "execute_result"
    }
   ],
   "source": [
    "train[train[\"price\"] < 10000][\"year\"].unique()"
   ]
  },
  {
   "cell_type": "code",
   "execution_count": 71,
   "metadata": {},
   "outputs": [
    {
     "data": {
      "text/plain": [
       "count    27532.000000\n",
       "mean     13468.724829\n",
       "std      10962.149840\n",
       "min       1004.000000\n",
       "25%       5759.000000\n",
       "50%       9206.000000\n",
       "75%      19128.000000\n",
       "max      96818.000000\n",
       "Name: price, dtype: float64"
      ]
     },
     "execution_count": 71,
     "metadata": {},
     "output_type": "execute_result"
    }
   ],
   "source": [
    "train[\"price\"].describe()"
   ]
  },
  {
   "cell_type": "code",
   "execution_count": 72,
   "metadata": {},
   "outputs": [
    {
     "data": {
      "text/plain": [
       "(100.0, 0.2, 100.0)"
      ]
     },
     "execution_count": 72,
     "metadata": {},
     "output_type": "execute_result"
    }
   ],
   "source": [
    "get_score(y_true=[2], y_pred=[4]), get_score(y_true=[2000], y_pred=[2004]), get_score(y_true=[2000], y_pred=[4000])"
   ]
  },
  {
   "cell_type": "markdown",
   "metadata": {},
   "source": [
    "価格が安いものをしっかりと安いと評価できるようなモデルにすると評価指標に合う"
   ]
  },
  {
   "cell_type": "code",
   "execution_count": 73,
   "metadata": {},
   "outputs": [
    {
     "data": {
      "text/plain": [
       "Index(['id', 'region', 'year', 'manufacturer', 'condition', 'cylinders',\n",
       "       'fuel', 'odometer', 'title_status', 'transmission', 'drive', 'size',\n",
       "       'type', 'paint_color', 'state', 'price', 'year_map', 'price_map',\n",
       "       'fold'],\n",
       "      dtype='object')"
      ]
     },
     "execution_count": 73,
     "metadata": {},
     "output_type": "execute_result"
    }
   ],
   "source": [
    "train.columns"
   ]
  },
  {
   "cell_type": "code",
   "execution_count": 74,
   "metadata": {},
   "outputs": [
    {
     "data": {
      "text/plain": [
       "((20845, 19), (6687, 19))"
      ]
     },
     "execution_count": 74,
     "metadata": {},
     "output_type": "execute_result"
    }
   ],
   "source": [
    "train[train[\"price\"] <  train[\"price\"].max() * 0.2].shape, train[train[\"price\"] >  train[\"price\"].max() * 0.2].shape"
   ]
  },
  {
   "cell_type": "code",
   "execution_count": 75,
   "metadata": {},
   "outputs": [
    {
     "data": {
      "text/plain": [
       "(96818, 1004)"
      ]
     },
     "execution_count": 75,
     "metadata": {},
     "output_type": "execute_result"
    }
   ],
   "source": [
    "train[\"price\"].max(), train[\"price\"].min()"
   ]
  },
  {
   "cell_type": "code",
   "execution_count": 76,
   "metadata": {},
   "outputs": [
    {
     "data": {
      "text/html": [
       "<div>\n",
       "<style scoped>\n",
       "    .dataframe tbody tr th:only-of-type {\n",
       "        vertical-align: middle;\n",
       "    }\n",
       "\n",
       "    .dataframe tbody tr th {\n",
       "        vertical-align: top;\n",
       "    }\n",
       "\n",
       "    .dataframe thead th {\n",
       "        text-align: right;\n",
       "    }\n",
       "</style>\n",
       "<table border=\"1\" class=\"dataframe\">\n",
       "  <thead>\n",
       "    <tr style=\"text-align: right;\">\n",
       "      <th></th>\n",
       "      <th>id</th>\n",
       "      <th>region</th>\n",
       "      <th>year</th>\n",
       "      <th>manufacturer</th>\n",
       "      <th>condition</th>\n",
       "      <th>cylinders</th>\n",
       "      <th>fuel</th>\n",
       "      <th>odometer</th>\n",
       "      <th>title_status</th>\n",
       "      <th>transmission</th>\n",
       "      <th>drive</th>\n",
       "      <th>size</th>\n",
       "      <th>type</th>\n",
       "      <th>paint_color</th>\n",
       "      <th>state</th>\n",
       "      <th>price</th>\n",
       "      <th>year_map</th>\n",
       "      <th>price_map</th>\n",
       "      <th>fold</th>\n",
       "    </tr>\n",
       "  </thead>\n",
       "  <tbody>\n",
       "    <tr>\n",
       "      <th>16550</th>\n",
       "      <td>16550</td>\n",
       "      <td>lakeland</td>\n",
       "      <td>2016</td>\n",
       "      <td>chevrolet</td>\n",
       "      <td>excellent</td>\n",
       "      <td>8 cylinders</td>\n",
       "      <td>diesel</td>\n",
       "      <td>62997</td>\n",
       "      <td>clean</td>\n",
       "      <td>automatic</td>\n",
       "      <td>4wd</td>\n",
       "      <td>full-size</td>\n",
       "      <td>SUV</td>\n",
       "      <td>red</td>\n",
       "      <td>fl</td>\n",
       "      <td>96818</td>\n",
       "      <td>18</td>\n",
       "      <td>19</td>\n",
       "      <td>4.0</td>\n",
       "    </tr>\n",
       "    <tr>\n",
       "      <th>23907</th>\n",
       "      <td>23907</td>\n",
       "      <td>harrisburg</td>\n",
       "      <td>2000</td>\n",
       "      <td>ford</td>\n",
       "      <td>good</td>\n",
       "      <td>6 cylinders</td>\n",
       "      <td>gas</td>\n",
       "      <td>105228</td>\n",
       "      <td>clean</td>\n",
       "      <td>automatic</td>\n",
       "      <td>fwd</td>\n",
       "      <td>mid-size</td>\n",
       "      <td>SUV</td>\n",
       "      <td>green</td>\n",
       "      <td>pa</td>\n",
       "      <td>1004</td>\n",
       "      <td>15</td>\n",
       "      <td>0</td>\n",
       "      <td>3.0</td>\n",
       "    </tr>\n",
       "  </tbody>\n",
       "</table>\n",
       "</div>"
      ],
      "text/plain": [
       "          id      region  year manufacturer  condition    cylinders    fuel  \\\n",
       "16550  16550    lakeland  2016    chevrolet  excellent  8 cylinders  diesel   \n",
       "23907  23907  harrisburg  2000         ford       good  6 cylinders     gas   \n",
       "\n",
       "       odometer title_status transmission drive       size type paint_color  \\\n",
       "16550     62997        clean    automatic   4wd  full-size  SUV         red   \n",
       "23907    105228        clean    automatic   fwd   mid-size  SUV       green   \n",
       "\n",
       "      state  price  year_map  price_map  fold  \n",
       "16550    fl  96818        18         19   4.0  \n",
       "23907    pa   1004        15          0   3.0  "
      ]
     },
     "execution_count": 76,
     "metadata": {},
     "output_type": "execute_result"
    }
   ],
   "source": [
    "train[(train[\"price\"] == train[\"price\"].max())|(train[\"price\"] == train[\"price\"].min())]"
   ]
  },
  {
   "cell_type": "markdown",
   "metadata": {},
   "source": [
    "## train_test_split"
   ]
  },
  {
   "cell_type": "code",
   "execution_count": 77,
   "metadata": {},
   "outputs": [],
   "source": [
    "categorical_features = ['region', 'manufacturer', 'condition', 'cylinders', 'fuel', 'title_status', 'transmission', \n",
    "                        'drive', 'size', 'type', 'paint_color', 'state', \"year_map\"]"
   ]
  },
  {
   "cell_type": "code",
   "execution_count": 78,
   "metadata": {},
   "outputs": [],
   "source": [
    "def calculate_spearmanr(train_data, test_data, column_name, plot = False):\n",
    "    \"\"\"\n",
    "    train_data: pandas DataFrame, training dataset\n",
    "    test_data: pandas DataFrame, test dataset\n",
    "    column_name: str, name of the column for which Spearman's rank correlation will be calculated\n",
    "    \"\"\"\n",
    "    # Calculate value counts for the specified column in the training and test datasets\n",
    "    train_counts = train_data[column_name].value_counts().reset_index(name=\"train\")\n",
    "    test_counts = test_data[column_name].value_counts().reset_index(name=\"test\")\n",
    "    \n",
    "    # Merge the two datasets on the column index\n",
    "    merged_data = pd.merge(train_counts, test_counts, on=\"index\")\n",
    "    if plot:\n",
    "        # Plot the value counts for both training and test datasets\n",
    "        plt.plot(merged_data[\"train\"], label=\"Train\")\n",
    "        plt.plot(merged_data[\"test\"], label=\"Test\")\n",
    "        plt.legend()\n",
    "        plt.xlabel(\"Index\")\n",
    "        plt.ylabel(\"Count\")\n",
    "        plt.title(f\"Value Counts Comparison for '{column_name}'\")\n",
    "        plt.show()\n",
    "\n",
    "    # Calculate Spearman's rank correlation coefficient and p-value\n",
    "    correlation, p_value = spearmanr(merged_data[\"train\"], merged_data[\"test\"])\n",
    "\n",
    "    print(\"順位相関係数:\", correlation)"
   ]
  },
  {
   "cell_type": "code",
   "execution_count": 79,
   "metadata": {},
   "outputs": [
    {
     "name": "stdout",
     "output_type": "stream",
     "text": [
      "fold\n",
      "1.0    2754\n",
      "0.0    2754\n",
      "3.0    2753\n",
      "7.0    2753\n",
      "6.0    2753\n",
      "4.0    2753\n",
      "2.0    2753\n",
      "9.0    2753\n",
      "5.0    2753\n",
      "8.0    2753\n",
      "Name: count, dtype: int64\n",
      "273.28259606982635\n"
     ]
    }
   ],
   "source": [
    "# ===================================================================\n",
    "#  train test split\n",
    "# ===================================================================\n",
    "from sklearn.model_selection import KFold, StratifiedKFold\n",
    "train.fillna(value=\"-1\", inplace=True)\n",
    "train.sort_values(by=\"id\", ignore_index=True, inplace=True)\n",
    "train[\"price_map\"] = pd.cut(train[\"price\"], bins=10, labels=False)\n",
    "train[\"year_map\"] = pd.cut(train[\"year\"], bins=10, labels=False)\n",
    "kf = KFold(n_splits=10, shuffle=True, random_state=42)\n",
    "for i, (_, val) in enumerate(kf.split(X=train)):\n",
    "    train.loc[val, \"fold\"] = i\n",
    "    \n",
    "print(train[\"fold\"].value_counts())\n",
    "print(train.groupby(\"fold\")[\"price\"].mean().std())"
   ]
  },
  {
   "cell_type": "code",
   "execution_count": 80,
   "metadata": {},
   "outputs": [
    {
     "name": "stdout",
     "output_type": "stream",
     "text": [
      "fold\n",
      "1.0    2754\n",
      "0.0    2754\n",
      "2.0    2753\n",
      "4.0    2753\n",
      "6.0    2753\n",
      "3.0    2753\n",
      "7.0    2753\n",
      "8.0    2753\n",
      "5.0    2753\n",
      "9.0    2753\n",
      "Name: count, dtype: int64\n",
      "34.38316956667607\n"
     ]
    },
    {
     "name": "stderr",
     "output_type": "stream",
     "text": [
      "c:\\Users\\Komiyama Yuji\\AppData\\Local\\Programs\\Python\\Python311\\Lib\\site-packages\\sklearn\\model_selection\\_split.py:725: UserWarning: The least populated class in y has only 3 members, which is less than n_splits=10.\n",
      "  warnings.warn(\n"
     ]
    }
   ],
   "source": [
    "\n",
    "train.fillna(value=\"-1\", inplace=True)\n",
    "train.sort_values(by=\"id\", ignore_index=True, inplace=True)\n",
    "train[\"year_map\"] = pd.cut(train[\"year\"], bins=10, labels=False)\n",
    "train[\"price_map\"] = pd.cut(train[\"price\"], bins=10, labels=False)\n",
    "kf = StratifiedKFold(n_splits=10, shuffle=True, random_state=42)\n",
    "for i, (_, val) in enumerate(kf.split(X=train, y=train[\"price_map\"])):\n",
    "    train.loc[val, \"fold\"] = i\n",
    "    \n",
    "print(train[\"fold\"].value_counts())\n",
    "print(train.groupby(\"fold\")[\"price\"].mean().std())"
   ]
  },
  {
   "cell_type": "code",
   "execution_count": 81,
   "metadata": {},
   "outputs": [
    {
     "name": "stdout",
     "output_type": "stream",
     "text": [
      "\u001b[32m ========== fold0 vs fold1 ==========\u001b[0m\n",
      "region\n"
     ]
    },
    {
     "ename": "KeyError",
     "evalue": "'index'",
     "output_type": "error",
     "traceback": [
      "\u001b[1;31m---------------------------------------------------------------------------\u001b[0m",
      "\u001b[1;31mKeyError\u001b[0m                                  Traceback (most recent call last)",
      "Cell \u001b[1;32mIn[81], line 5\u001b[0m\n\u001b[0;32m      3\u001b[0m \u001b[39mfor\u001b[39;00m col \u001b[39min\u001b[39;00m categorical_features:\n\u001b[0;32m      4\u001b[0m     \u001b[39mprint\u001b[39m(col)\n\u001b[1;32m----> 5\u001b[0m     calculate_spearmanr(train[train[\u001b[39m\"\u001b[39;49m\u001b[39mfold\u001b[39;49m\u001b[39m\"\u001b[39;49m] \u001b[39m==\u001b[39;49m \u001b[39m0\u001b[39;49m], train[train[\u001b[39m\"\u001b[39;49m\u001b[39mfold\u001b[39;49m\u001b[39m\"\u001b[39;49m] \u001b[39m==\u001b[39;49m fold], column_name\u001b[39m=\u001b[39;49mcol, plot \u001b[39m=\u001b[39;49m \u001b[39mFalse\u001b[39;49;00m)\n",
      "Cell \u001b[1;32mIn[78], line 12\u001b[0m, in \u001b[0;36mcalculate_spearmanr\u001b[1;34m(train_data, test_data, column_name, plot)\u001b[0m\n\u001b[0;32m      9\u001b[0m test_counts \u001b[39m=\u001b[39m test_data[column_name]\u001b[39m.\u001b[39mvalue_counts()\u001b[39m.\u001b[39mreset_index(name\u001b[39m=\u001b[39m\u001b[39m\"\u001b[39m\u001b[39mtest\u001b[39m\u001b[39m\"\u001b[39m)\n\u001b[0;32m     11\u001b[0m \u001b[39m# Merge the two datasets on the column index\u001b[39;00m\n\u001b[1;32m---> 12\u001b[0m merged_data \u001b[39m=\u001b[39m pd\u001b[39m.\u001b[39;49mmerge(train_counts, test_counts, on\u001b[39m=\u001b[39;49m\u001b[39m\"\u001b[39;49m\u001b[39mindex\u001b[39;49m\u001b[39m\"\u001b[39;49m)\n\u001b[0;32m     13\u001b[0m \u001b[39mif\u001b[39;00m plot:\n\u001b[0;32m     14\u001b[0m     \u001b[39m# Plot the value counts for both training and test datasets\u001b[39;00m\n\u001b[0;32m     15\u001b[0m     plt\u001b[39m.\u001b[39mplot(merged_data[\u001b[39m\"\u001b[39m\u001b[39mtrain\u001b[39m\u001b[39m\"\u001b[39m], label\u001b[39m=\u001b[39m\u001b[39m\"\u001b[39m\u001b[39mTrain\u001b[39m\u001b[39m\"\u001b[39m)\n",
      "File \u001b[1;32mc:\\Users\\Komiyama Yuji\\AppData\\Local\\Programs\\Python\\Python311\\Lib\\site-packages\\pandas\\core\\reshape\\merge.py:148\u001b[0m, in \u001b[0;36mmerge\u001b[1;34m(left, right, how, on, left_on, right_on, left_index, right_index, sort, suffixes, copy, indicator, validate)\u001b[0m\n\u001b[0;32m    131\u001b[0m \u001b[39m@Substitution\u001b[39m(\u001b[39m\"\u001b[39m\u001b[39m\\n\u001b[39;00m\u001b[39mleft : DataFrame or named Series\u001b[39m\u001b[39m\"\u001b[39m)\n\u001b[0;32m    132\u001b[0m \u001b[39m@Appender\u001b[39m(_merge_doc, indents\u001b[39m=\u001b[39m\u001b[39m0\u001b[39m)\n\u001b[0;32m    133\u001b[0m \u001b[39mdef\u001b[39;00m \u001b[39mmerge\u001b[39m(\n\u001b[1;32m   (...)\u001b[0m\n\u001b[0;32m    146\u001b[0m     validate: \u001b[39mstr\u001b[39m \u001b[39m|\u001b[39m \u001b[39mNone\u001b[39;00m \u001b[39m=\u001b[39m \u001b[39mNone\u001b[39;00m,\n\u001b[0;32m    147\u001b[0m ) \u001b[39m-\u001b[39m\u001b[39m>\u001b[39m DataFrame:\n\u001b[1;32m--> 148\u001b[0m     op \u001b[39m=\u001b[39m _MergeOperation(\n\u001b[0;32m    149\u001b[0m         left,\n\u001b[0;32m    150\u001b[0m         right,\n\u001b[0;32m    151\u001b[0m         how\u001b[39m=\u001b[39;49mhow,\n\u001b[0;32m    152\u001b[0m         on\u001b[39m=\u001b[39;49mon,\n\u001b[0;32m    153\u001b[0m         left_on\u001b[39m=\u001b[39;49mleft_on,\n\u001b[0;32m    154\u001b[0m         right_on\u001b[39m=\u001b[39;49mright_on,\n\u001b[0;32m    155\u001b[0m         left_index\u001b[39m=\u001b[39;49mleft_index,\n\u001b[0;32m    156\u001b[0m         right_index\u001b[39m=\u001b[39;49mright_index,\n\u001b[0;32m    157\u001b[0m         sort\u001b[39m=\u001b[39;49msort,\n\u001b[0;32m    158\u001b[0m         suffixes\u001b[39m=\u001b[39;49msuffixes,\n\u001b[0;32m    159\u001b[0m         indicator\u001b[39m=\u001b[39;49mindicator,\n\u001b[0;32m    160\u001b[0m         validate\u001b[39m=\u001b[39;49mvalidate,\n\u001b[0;32m    161\u001b[0m     )\n\u001b[0;32m    162\u001b[0m     \u001b[39mreturn\u001b[39;00m op\u001b[39m.\u001b[39mget_result(copy\u001b[39m=\u001b[39mcopy)\n",
      "File \u001b[1;32mc:\\Users\\Komiyama Yuji\\AppData\\Local\\Programs\\Python\\Python311\\Lib\\site-packages\\pandas\\core\\reshape\\merge.py:737\u001b[0m, in \u001b[0;36m_MergeOperation.__init__\u001b[1;34m(self, left, right, how, on, left_on, right_on, axis, left_index, right_index, sort, suffixes, indicator, validate)\u001b[0m\n\u001b[0;32m    730\u001b[0m \u001b[39mself\u001b[39m\u001b[39m.\u001b[39m_cross \u001b[39m=\u001b[39m cross_col\n\u001b[0;32m    732\u001b[0m \u001b[39m# note this function has side effects\u001b[39;00m\n\u001b[0;32m    733\u001b[0m (\n\u001b[0;32m    734\u001b[0m     \u001b[39mself\u001b[39m\u001b[39m.\u001b[39mleft_join_keys,\n\u001b[0;32m    735\u001b[0m     \u001b[39mself\u001b[39m\u001b[39m.\u001b[39mright_join_keys,\n\u001b[0;32m    736\u001b[0m     \u001b[39mself\u001b[39m\u001b[39m.\u001b[39mjoin_names,\n\u001b[1;32m--> 737\u001b[0m ) \u001b[39m=\u001b[39m \u001b[39mself\u001b[39;49m\u001b[39m.\u001b[39;49m_get_merge_keys()\n\u001b[0;32m    739\u001b[0m \u001b[39m# validate the merge keys dtypes. We may need to coerce\u001b[39;00m\n\u001b[0;32m    740\u001b[0m \u001b[39m# to avoid incompatible dtypes\u001b[39;00m\n\u001b[0;32m    741\u001b[0m \u001b[39mself\u001b[39m\u001b[39m.\u001b[39m_maybe_coerce_merge_keys()\n",
      "File \u001b[1;32mc:\\Users\\Komiyama Yuji\\AppData\\Local\\Programs\\Python\\Python311\\Lib\\site-packages\\pandas\\core\\reshape\\merge.py:1203\u001b[0m, in \u001b[0;36m_MergeOperation._get_merge_keys\u001b[1;34m(self)\u001b[0m\n\u001b[0;32m   1201\u001b[0m rk \u001b[39m=\u001b[39m cast(Hashable, rk)\n\u001b[0;32m   1202\u001b[0m \u001b[39mif\u001b[39;00m rk \u001b[39mis\u001b[39;00m \u001b[39mnot\u001b[39;00m \u001b[39mNone\u001b[39;00m:\n\u001b[1;32m-> 1203\u001b[0m     right_keys\u001b[39m.\u001b[39mappend(right\u001b[39m.\u001b[39;49m_get_label_or_level_values(rk))\n\u001b[0;32m   1204\u001b[0m \u001b[39melse\u001b[39;00m:\n\u001b[0;32m   1205\u001b[0m     \u001b[39m# work-around for merge_asof(right_index=True)\u001b[39;00m\n\u001b[0;32m   1206\u001b[0m     right_keys\u001b[39m.\u001b[39mappend(right\u001b[39m.\u001b[39mindex)\n",
      "File \u001b[1;32mc:\\Users\\Komiyama Yuji\\AppData\\Local\\Programs\\Python\\Python311\\Lib\\site-packages\\pandas\\core\\generic.py:1778\u001b[0m, in \u001b[0;36mNDFrame._get_label_or_level_values\u001b[1;34m(self, key, axis)\u001b[0m\n\u001b[0;32m   1776\u001b[0m     values \u001b[39m=\u001b[39m \u001b[39mself\u001b[39m\u001b[39m.\u001b[39maxes[axis]\u001b[39m.\u001b[39mget_level_values(key)\u001b[39m.\u001b[39m_values\n\u001b[0;32m   1777\u001b[0m \u001b[39melse\u001b[39;00m:\n\u001b[1;32m-> 1778\u001b[0m     \u001b[39mraise\u001b[39;00m \u001b[39mKeyError\u001b[39;00m(key)\n\u001b[0;32m   1780\u001b[0m \u001b[39m# Check for duplicates\u001b[39;00m\n\u001b[0;32m   1781\u001b[0m \u001b[39mif\u001b[39;00m values\u001b[39m.\u001b[39mndim \u001b[39m>\u001b[39m \u001b[39m1\u001b[39m:\n",
      "\u001b[1;31mKeyError\u001b[0m: 'index'"
     ]
    }
   ],
   "source": [
    "for fold in range(1, 10):\n",
    "    print('\\033[32m'+f\" ========== fold0 vs fold{fold} ==========\"+'\\033[0m')\n",
    "    for col in categorical_features:\n",
    "        print(col)\n",
    "        calculate_spearmanr(train[train[\"fold\"] == 0], train[train[\"fold\"] == fold], column_name=col, plot = False)"
   ]
  },
  {
   "cell_type": "code",
   "execution_count": null,
   "metadata": {},
   "outputs": [
    {
     "data": {
      "text/html": [
       "<div>\n",
       "<style scoped>\n",
       "    .dataframe tbody tr th:only-of-type {\n",
       "        vertical-align: middle;\n",
       "    }\n",
       "\n",
       "    .dataframe tbody tr th {\n",
       "        vertical-align: top;\n",
       "    }\n",
       "\n",
       "    .dataframe thead th {\n",
       "        text-align: right;\n",
       "    }\n",
       "</style>\n",
       "<table border=\"1\" class=\"dataframe\">\n",
       "  <thead>\n",
       "    <tr style=\"text-align: right;\">\n",
       "      <th></th>\n",
       "      <th>feature</th>\n",
       "      <th>std</th>\n",
       "      <th>len</th>\n",
       "    </tr>\n",
       "  </thead>\n",
       "  <tbody>\n",
       "    <tr>\n",
       "      <th>0</th>\n",
       "      <td>fuel</td>\n",
       "      <td>5413.273688</td>\n",
       "      <td>6</td>\n",
       "    </tr>\n",
       "    <tr>\n",
       "      <th>1</th>\n",
       "      <td>year_map</td>\n",
       "      <td>5394.883994</td>\n",
       "      <td>10</td>\n",
       "    </tr>\n",
       "    <tr>\n",
       "      <th>2</th>\n",
       "      <td>manufacturer</td>\n",
       "      <td>5143.337572</td>\n",
       "      <td>46</td>\n",
       "    </tr>\n",
       "    <tr>\n",
       "      <th>3</th>\n",
       "      <td>drive</td>\n",
       "      <td>4516.169195</td>\n",
       "      <td>3</td>\n",
       "    </tr>\n",
       "    <tr>\n",
       "      <th>4</th>\n",
       "      <td>condition</td>\n",
       "      <td>3999.853493</td>\n",
       "      <td>6</td>\n",
       "    </tr>\n",
       "    <tr>\n",
       "      <th>5</th>\n",
       "      <td>region</td>\n",
       "      <td>3598.950969</td>\n",
       "      <td>372</td>\n",
       "    </tr>\n",
       "    <tr>\n",
       "      <th>6</th>\n",
       "      <td>type</td>\n",
       "      <td>3539.821715</td>\n",
       "      <td>14</td>\n",
       "    </tr>\n",
       "    <tr>\n",
       "      <th>7</th>\n",
       "      <td>size</td>\n",
       "      <td>2866.425386</td>\n",
       "      <td>4</td>\n",
       "    </tr>\n",
       "    <tr>\n",
       "      <th>8</th>\n",
       "      <td>cylinders</td>\n",
       "      <td>2820.953658</td>\n",
       "      <td>8</td>\n",
       "    </tr>\n",
       "    <tr>\n",
       "      <th>9</th>\n",
       "      <td>title_status</td>\n",
       "      <td>2485.028366</td>\n",
       "      <td>7</td>\n",
       "    </tr>\n",
       "    <tr>\n",
       "      <th>10</th>\n",
       "      <td>paint_color</td>\n",
       "      <td>2252.399078</td>\n",
       "      <td>12</td>\n",
       "    </tr>\n",
       "    <tr>\n",
       "      <th>11</th>\n",
       "      <td>state</td>\n",
       "      <td>1995.830412</td>\n",
       "      <td>52</td>\n",
       "    </tr>\n",
       "    <tr>\n",
       "      <th>12</th>\n",
       "      <td>transmission</td>\n",
       "      <td>1037.939257</td>\n",
       "      <td>3</td>\n",
       "    </tr>\n",
       "  </tbody>\n",
       "</table>\n",
       "</div>"
      ],
      "text/plain": [
       "         feature          std  len\n",
       "0           fuel  5413.273688    6\n",
       "1       year_map  5394.883994   10\n",
       "2   manufacturer  5143.337572   46\n",
       "3          drive  4516.169195    3\n",
       "4      condition  3999.853493    6\n",
       "5         region  3598.950969  372\n",
       "6           type  3539.821715   14\n",
       "7           size  2866.425386    4\n",
       "8      cylinders  2820.953658    8\n",
       "9   title_status  2485.028366    7\n",
       "10   paint_color  2252.399078   12\n",
       "11         state  1995.830412   52\n",
       "12  transmission  1037.939257    3"
      ]
     },
     "execution_count": 1531,
     "metadata": {},
     "output_type": "execute_result"
    }
   ],
   "source": [
    "tmp = []\n",
    "# categorical_features is the list of the first two categorical features\n",
    "for col in categorical_features:\n",
    "    mean_odometer_by_category = train.groupby(col)[\"price\"].mean()\n",
    "    tmp.append(train.groupby(col)[\"price\"].mean().std())\n",
    "df_2 = pd.DataFrame(zip(categorical_features, tmp, [len(train[col].unique()) for col in categorical_features]), columns=[\"feature\", \"std\", \"len\"],)\n",
    "df_2.sort_values(\"std\", ascending=False, ignore_index=True)"
   ]
  },
  {
   "cell_type": "code",
   "execution_count": null,
   "metadata": {},
   "outputs": [
    {
     "name": "stdout",
     "output_type": "stream",
     "text": [
      "0.0    2755\n",
      "6.0    2754\n",
      "8.0    2754\n",
      "1.0    2753\n",
      "2.0    2753\n",
      "7.0    2753\n",
      "9.0    2753\n",
      "5.0    2753\n",
      "3.0    2752\n",
      "4.0    2752\n",
      "Name: fold, dtype: int64\n",
      "103.45628134809876\n"
     ]
    }
   ],
   "source": [
    "# ===================================================================\n",
    "#  train test split\n",
    "# ===================================================================\n",
    "from iterstrat.ml_stratifiers import MultilabelStratifiedKFold\n",
    "\n",
    "train.fillna(value=\"-1\", inplace=True)\n",
    "\n",
    "train.sort_values(by=\"id\", ignore_index=True, inplace=True)\n",
    "train[\"year_map\"] = pd.cut(train[\"year\"], bins=10, labels=False)\n",
    "train[\"price_map\"] = pd.cut(train[\"price\"], bins=10, labels=False)\n",
    "train[\"price_map_\"] = pd.cut(train[\"price\"], bins=20, labels=False)\n",
    "\n",
    "kf = MultilabelStratifiedKFold(n_splits=10, shuffle=True, random_state=42)\n",
    "for i, (_, val) in enumerate(kf.split(X=train, y=train[[\"year_map\", \"price_map\", 'region', 'manufacturer', 'condition', 'cylinders','fuel',\n",
    "                                                        'title_status', 'transmission', 'drive', 'size', 'type', 'paint_color',\n",
    "                                                        'state', \"price_map_\"]])):\n",
    "    train.loc[val, \"fold\"] = i\n",
    "    \n",
    "print(train[\"fold\"].value_counts())\n",
    "print(train.groupby(\"fold\")[\"price\"].mean().std())\n"
   ]
  },
  {
   "cell_type": "code",
   "execution_count": null,
   "metadata": {},
   "outputs": [
    {
     "data": {
      "text/html": [
       "<div>\n",
       "<style scoped>\n",
       "    .dataframe tbody tr th:only-of-type {\n",
       "        vertical-align: middle;\n",
       "    }\n",
       "\n",
       "    .dataframe tbody tr th {\n",
       "        vertical-align: top;\n",
       "    }\n",
       "\n",
       "    .dataframe thead th {\n",
       "        text-align: right;\n",
       "    }\n",
       "</style>\n",
       "<table border=\"1\" class=\"dataframe\">\n",
       "  <thead>\n",
       "    <tr style=\"text-align: right;\">\n",
       "      <th></th>\n",
       "      <th>feature</th>\n",
       "      <th>std</th>\n",
       "      <th>len</th>\n",
       "    </tr>\n",
       "  </thead>\n",
       "  <tbody>\n",
       "    <tr>\n",
       "      <th>0</th>\n",
       "      <td>fuel</td>\n",
       "      <td>5413.273688</td>\n",
       "      <td>6</td>\n",
       "    </tr>\n",
       "    <tr>\n",
       "      <th>1</th>\n",
       "      <td>year_map</td>\n",
       "      <td>5394.883994</td>\n",
       "      <td>10</td>\n",
       "    </tr>\n",
       "    <tr>\n",
       "      <th>2</th>\n",
       "      <td>manufacturer</td>\n",
       "      <td>5143.337572</td>\n",
       "      <td>46</td>\n",
       "    </tr>\n",
       "    <tr>\n",
       "      <th>3</th>\n",
       "      <td>drive</td>\n",
       "      <td>4516.169195</td>\n",
       "      <td>3</td>\n",
       "    </tr>\n",
       "    <tr>\n",
       "      <th>4</th>\n",
       "      <td>condition</td>\n",
       "      <td>3999.853493</td>\n",
       "      <td>6</td>\n",
       "    </tr>\n",
       "    <tr>\n",
       "      <th>5</th>\n",
       "      <td>region</td>\n",
       "      <td>3598.950969</td>\n",
       "      <td>372</td>\n",
       "    </tr>\n",
       "    <tr>\n",
       "      <th>6</th>\n",
       "      <td>type</td>\n",
       "      <td>3539.821715</td>\n",
       "      <td>14</td>\n",
       "    </tr>\n",
       "    <tr>\n",
       "      <th>7</th>\n",
       "      <td>size</td>\n",
       "      <td>2866.425386</td>\n",
       "      <td>4</td>\n",
       "    </tr>\n",
       "    <tr>\n",
       "      <th>8</th>\n",
       "      <td>cylinders</td>\n",
       "      <td>2820.953658</td>\n",
       "      <td>8</td>\n",
       "    </tr>\n",
       "    <tr>\n",
       "      <th>9</th>\n",
       "      <td>title_status</td>\n",
       "      <td>2485.028366</td>\n",
       "      <td>7</td>\n",
       "    </tr>\n",
       "    <tr>\n",
       "      <th>10</th>\n",
       "      <td>paint_color</td>\n",
       "      <td>2252.399078</td>\n",
       "      <td>12</td>\n",
       "    </tr>\n",
       "    <tr>\n",
       "      <th>11</th>\n",
       "      <td>state</td>\n",
       "      <td>1995.830412</td>\n",
       "      <td>52</td>\n",
       "    </tr>\n",
       "    <tr>\n",
       "      <th>12</th>\n",
       "      <td>transmission</td>\n",
       "      <td>1037.939257</td>\n",
       "      <td>3</td>\n",
       "    </tr>\n",
       "  </tbody>\n",
       "</table>\n",
       "</div>"
      ],
      "text/plain": [
       "         feature          std  len\n",
       "0           fuel  5413.273688    6\n",
       "1       year_map  5394.883994   10\n",
       "2   manufacturer  5143.337572   46\n",
       "3          drive  4516.169195    3\n",
       "4      condition  3999.853493    6\n",
       "5         region  3598.950969  372\n",
       "6           type  3539.821715   14\n",
       "7           size  2866.425386    4\n",
       "8      cylinders  2820.953658    8\n",
       "9   title_status  2485.028366    7\n",
       "10   paint_color  2252.399078   12\n",
       "11         state  1995.830412   52\n",
       "12  transmission  1037.939257    3"
      ]
     },
     "execution_count": 1533,
     "metadata": {},
     "output_type": "execute_result"
    }
   ],
   "source": [
    "tmp = []\n",
    "# categorical_features is the list of the first two categorical features\n",
    "for col in categorical_features:\n",
    "    mean_odometer_by_category = train.groupby(col)[\"price\"].mean()\n",
    "    tmp.append(train.groupby(col)[\"price\"].mean().std())\n",
    "df_3 = pd.DataFrame(zip(categorical_features, tmp, [len(train[col].unique()) for col in categorical_features]), columns=[\"feature\", \"std\", \"len\"],)\n",
    "df_3.sort_values(\"std\", ascending=False, ignore_index=True)"
   ]
  },
  {
   "cell_type": "code",
   "execution_count": null,
   "metadata": {},
   "outputs": [],
   "source": [
    "df = pd.merge(df_1[[\"feature\", \"std\"]].rename(columns={\"std\":\"KFold_std\"}), df_2[[\"feature\", \"std\"]].rename(columns={\"std\":\"StratifiedKFold_std\"}), on=\"feature\")\n",
    "df = pd.merge(df, df_3[[\"feature\", \"std\"]].rename(columns={\"std\":\"MultiLabelStratifiedKFold_std\"}), on=\"feature\")"
   ]
  },
  {
   "cell_type": "code",
   "execution_count": null,
   "metadata": {},
   "outputs": [
    {
     "data": {
      "text/html": [
       "<div>\n",
       "<style scoped>\n",
       "    .dataframe tbody tr th:only-of-type {\n",
       "        vertical-align: middle;\n",
       "    }\n",
       "\n",
       "    .dataframe tbody tr th {\n",
       "        vertical-align: top;\n",
       "    }\n",
       "\n",
       "    .dataframe thead th {\n",
       "        text-align: right;\n",
       "    }\n",
       "</style>\n",
       "<table border=\"1\" class=\"dataframe\">\n",
       "  <thead>\n",
       "    <tr style=\"text-align: right;\">\n",
       "      <th></th>\n",
       "      <th>feature</th>\n",
       "      <th>KFold_std</th>\n",
       "      <th>StratifiedKFold_std</th>\n",
       "      <th>MultiLabelStratifiedKFold_std</th>\n",
       "    </tr>\n",
       "  </thead>\n",
       "  <tbody>\n",
       "    <tr>\n",
       "      <th>0</th>\n",
       "      <td>region</td>\n",
       "      <td>3598.950969</td>\n",
       "      <td>3598.950969</td>\n",
       "      <td>3598.950969</td>\n",
       "    </tr>\n",
       "    <tr>\n",
       "      <th>1</th>\n",
       "      <td>manufacturer</td>\n",
       "      <td>5143.337572</td>\n",
       "      <td>5143.337572</td>\n",
       "      <td>5143.337572</td>\n",
       "    </tr>\n",
       "    <tr>\n",
       "      <th>2</th>\n",
       "      <td>condition</td>\n",
       "      <td>3999.853493</td>\n",
       "      <td>3999.853493</td>\n",
       "      <td>3999.853493</td>\n",
       "    </tr>\n",
       "    <tr>\n",
       "      <th>3</th>\n",
       "      <td>cylinders</td>\n",
       "      <td>2820.953658</td>\n",
       "      <td>2820.953658</td>\n",
       "      <td>2820.953658</td>\n",
       "    </tr>\n",
       "    <tr>\n",
       "      <th>4</th>\n",
       "      <td>fuel</td>\n",
       "      <td>5413.273688</td>\n",
       "      <td>5413.273688</td>\n",
       "      <td>5413.273688</td>\n",
       "    </tr>\n",
       "    <tr>\n",
       "      <th>5</th>\n",
       "      <td>title_status</td>\n",
       "      <td>2485.028366</td>\n",
       "      <td>2485.028366</td>\n",
       "      <td>2485.028366</td>\n",
       "    </tr>\n",
       "    <tr>\n",
       "      <th>6</th>\n",
       "      <td>transmission</td>\n",
       "      <td>1037.939257</td>\n",
       "      <td>1037.939257</td>\n",
       "      <td>1037.939257</td>\n",
       "    </tr>\n",
       "    <tr>\n",
       "      <th>7</th>\n",
       "      <td>drive</td>\n",
       "      <td>4516.169195</td>\n",
       "      <td>4516.169195</td>\n",
       "      <td>4516.169195</td>\n",
       "    </tr>\n",
       "    <tr>\n",
       "      <th>8</th>\n",
       "      <td>size</td>\n",
       "      <td>2866.425386</td>\n",
       "      <td>2866.425386</td>\n",
       "      <td>2866.425386</td>\n",
       "    </tr>\n",
       "    <tr>\n",
       "      <th>9</th>\n",
       "      <td>type</td>\n",
       "      <td>3539.821715</td>\n",
       "      <td>3539.821715</td>\n",
       "      <td>3539.821715</td>\n",
       "    </tr>\n",
       "    <tr>\n",
       "      <th>10</th>\n",
       "      <td>paint_color</td>\n",
       "      <td>2252.399078</td>\n",
       "      <td>2252.399078</td>\n",
       "      <td>2252.399078</td>\n",
       "    </tr>\n",
       "    <tr>\n",
       "      <th>11</th>\n",
       "      <td>state</td>\n",
       "      <td>1995.830412</td>\n",
       "      <td>1995.830412</td>\n",
       "      <td>1995.830412</td>\n",
       "    </tr>\n",
       "    <tr>\n",
       "      <th>12</th>\n",
       "      <td>year_map</td>\n",
       "      <td>5394.883994</td>\n",
       "      <td>5394.883994</td>\n",
       "      <td>5394.883994</td>\n",
       "    </tr>\n",
       "  </tbody>\n",
       "</table>\n",
       "</div>"
      ],
      "text/plain": [
       "         feature    KFold_std  StratifiedKFold_std  \\\n",
       "0         region  3598.950969          3598.950969   \n",
       "1   manufacturer  5143.337572          5143.337572   \n",
       "2      condition  3999.853493          3999.853493   \n",
       "3      cylinders  2820.953658          2820.953658   \n",
       "4           fuel  5413.273688          5413.273688   \n",
       "5   title_status  2485.028366          2485.028366   \n",
       "6   transmission  1037.939257          1037.939257   \n",
       "7          drive  4516.169195          4516.169195   \n",
       "8           size  2866.425386          2866.425386   \n",
       "9           type  3539.821715          3539.821715   \n",
       "10   paint_color  2252.399078          2252.399078   \n",
       "11         state  1995.830412          1995.830412   \n",
       "12      year_map  5394.883994          5394.883994   \n",
       "\n",
       "    MultiLabelStratifiedKFold_std  \n",
       "0                     3598.950969  \n",
       "1                     5143.337572  \n",
       "2                     3999.853493  \n",
       "3                     2820.953658  \n",
       "4                     5413.273688  \n",
       "5                     2485.028366  \n",
       "6                     1037.939257  \n",
       "7                     4516.169195  \n",
       "8                     2866.425386  \n",
       "9                     3539.821715  \n",
       "10                    2252.399078  \n",
       "11                    1995.830412  \n",
       "12                    5394.883994  "
      ]
     },
     "execution_count": 1535,
     "metadata": {},
     "output_type": "execute_result"
    }
   ],
   "source": [
    "df"
   ]
  },
  {
   "cell_type": "code",
   "execution_count": null,
   "metadata": {},
   "outputs": [
    {
     "name": "stdout",
     "output_type": "stream",
     "text": [
      "1.0    2754\n",
      "0.0    2754\n",
      "2.0    2753\n",
      "4.0    2753\n",
      "6.0    2753\n",
      "3.0    2753\n",
      "7.0    2753\n",
      "8.0    2753\n",
      "5.0    2753\n",
      "9.0    2753\n",
      "Name: fold, dtype: int64\n",
      "34.38316956667607\n"
     ]
    },
    {
     "name": "stderr",
     "output_type": "stream",
     "text": [
      "c:\\Users\\Komiyama Yuji\\AppData\\Local\\Programs\\Python\\Python310\\lib\\site-packages\\sklearn\\model_selection\\_split.py:676: UserWarning: The least populated class in y has only 3 members, which is less than n_splits=10.\n",
      "  warnings.warn(\n"
     ]
    }
   ],
   "source": [
    "train.fillna(value=\"-1\", inplace=True)\n",
    "train.sort_values(by=\"id\", ignore_index=True, inplace=True)\n",
    "train[\"year_map\"] = pd.cut(train[\"year\"], bins=10, labels=False)\n",
    "train[\"price_map\"] = pd.cut(train[\"price\"], bins=10, labels=False)\n",
    "kf = StratifiedKFold(n_splits=10, shuffle=True, random_state=42)\n",
    "for i, (_, val) in enumerate(kf.split(X=train, y=train[\"price_map\"])):\n",
    "    train.loc[val, \"fold\"] = i\n",
    "    \n",
    "print(train[\"fold\"].value_counts())\n",
    "print(train.groupby(\"fold\")[\"price\"].mean().std())"
   ]
  },
  {
   "cell_type": "markdown",
   "metadata": {},
   "source": [
    "## odometerの修正"
   ]
  },
  {
   "cell_type": "code",
   "execution_count": null,
   "metadata": {},
   "outputs": [],
   "source": [
    "train = train[(train[\"odometer\"] > 100)&(train[\"odometer\"] < 400000)].reset_index(drop=True)"
   ]
  },
  {
   "cell_type": "code",
   "execution_count": null,
   "metadata": {},
   "outputs": [
    {
     "data": {
      "text/html": [
       "<div>\n",
       "<style scoped>\n",
       "    .dataframe tbody tr th:only-of-type {\n",
       "        vertical-align: middle;\n",
       "    }\n",
       "\n",
       "    .dataframe tbody tr th {\n",
       "        vertical-align: top;\n",
       "    }\n",
       "\n",
       "    .dataframe thead th {\n",
       "        text-align: right;\n",
       "    }\n",
       "</style>\n",
       "<table border=\"1\" class=\"dataframe\">\n",
       "  <thead>\n",
       "    <tr style=\"text-align: right;\">\n",
       "      <th></th>\n",
       "      <th>feature</th>\n",
       "      <th>std</th>\n",
       "      <th>len</th>\n",
       "    </tr>\n",
       "  </thead>\n",
       "  <tbody>\n",
       "    <tr>\n",
       "      <th>12</th>\n",
       "      <td>year_map</td>\n",
       "      <td>31781.158448</td>\n",
       "      <td>10</td>\n",
       "    </tr>\n",
       "    <tr>\n",
       "      <th>4</th>\n",
       "      <td>fuel</td>\n",
       "      <td>29617.927026</td>\n",
       "      <td>6</td>\n",
       "    </tr>\n",
       "    <tr>\n",
       "      <th>2</th>\n",
       "      <td>condition</td>\n",
       "      <td>26189.870015</td>\n",
       "      <td>6</td>\n",
       "    </tr>\n",
       "    <tr>\n",
       "      <th>1</th>\n",
       "      <td>manufacturer</td>\n",
       "      <td>23019.170311</td>\n",
       "      <td>46</td>\n",
       "    </tr>\n",
       "    <tr>\n",
       "      <th>0</th>\n",
       "      <td>region</td>\n",
       "      <td>21126.085990</td>\n",
       "      <td>372</td>\n",
       "    </tr>\n",
       "    <tr>\n",
       "      <th>9</th>\n",
       "      <td>type</td>\n",
       "      <td>18606.445907</td>\n",
       "      <td>14</td>\n",
       "    </tr>\n",
       "    <tr>\n",
       "      <th>10</th>\n",
       "      <td>paint_color</td>\n",
       "      <td>17499.838479</td>\n",
       "      <td>12</td>\n",
       "    </tr>\n",
       "    <tr>\n",
       "      <th>7</th>\n",
       "      <td>drive</td>\n",
       "      <td>13320.597407</td>\n",
       "      <td>3</td>\n",
       "    </tr>\n",
       "    <tr>\n",
       "      <th>5</th>\n",
       "      <td>title_status</td>\n",
       "      <td>12292.031506</td>\n",
       "      <td>7</td>\n",
       "    </tr>\n",
       "    <tr>\n",
       "      <th>3</th>\n",
       "      <td>cylinders</td>\n",
       "      <td>12220.892044</td>\n",
       "      <td>8</td>\n",
       "    </tr>\n",
       "    <tr>\n",
       "      <th>6</th>\n",
       "      <td>transmission</td>\n",
       "      <td>9481.478224</td>\n",
       "      <td>3</td>\n",
       "    </tr>\n",
       "    <tr>\n",
       "      <th>11</th>\n",
       "      <td>state</td>\n",
       "      <td>8925.037057</td>\n",
       "      <td>52</td>\n",
       "    </tr>\n",
       "    <tr>\n",
       "      <th>8</th>\n",
       "      <td>size</td>\n",
       "      <td>1685.146408</td>\n",
       "      <td>4</td>\n",
       "    </tr>\n",
       "  </tbody>\n",
       "</table>\n",
       "</div>"
      ],
      "text/plain": [
       "         feature           std  len\n",
       "12      year_map  31781.158448   10\n",
       "4           fuel  29617.927026    6\n",
       "2      condition  26189.870015    6\n",
       "1   manufacturer  23019.170311   46\n",
       "0         region  21126.085990  372\n",
       "9           type  18606.445907   14\n",
       "10   paint_color  17499.838479   12\n",
       "7          drive  13320.597407    3\n",
       "5   title_status  12292.031506    7\n",
       "3      cylinders  12220.892044    8\n",
       "6   transmission   9481.478224    3\n",
       "11         state   8925.037057   52\n",
       "8           size   1685.146408    4"
      ]
     },
     "execution_count": 1538,
     "metadata": {},
     "output_type": "execute_result"
    }
   ],
   "source": [
    "tmp = []\n",
    "# categorical_features is the list of the first two categorical features\n",
    "for col in categorical_features:\n",
    "    mean_odometer_by_category = train.groupby(col)[\"odometer\"].mean()\n",
    "    tmp.append(train.groupby(col)[\"odometer\"].mean().std())\n",
    "df = pd.DataFrame(zip(categorical_features, tmp, [len(train[col].unique()) for col in categorical_features]), columns=[\"feature\", \"std\", \"len\"],)\n",
    "df.sort_values(\"std\", ascending=False)"
   ]
  }
 ],
 "metadata": {
  "kernelspec": {
   "display_name": "Python 3",
   "language": "python",
   "name": "python3"
  },
  "language_info": {
   "codemirror_mode": {
    "name": "ipython",
    "version": 3
   },
   "file_extension": ".py",
   "mimetype": "text/x-python",
   "name": "python",
   "nbconvert_exporter": "python",
   "pygments_lexer": "ipython3",
   "version": "3.11.4"
  },
  "orig_nbformat": 4
 },
 "nbformat": 4,
 "nbformat_minor": 2
}
